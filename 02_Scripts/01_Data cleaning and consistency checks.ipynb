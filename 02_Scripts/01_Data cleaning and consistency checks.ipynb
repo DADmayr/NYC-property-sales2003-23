{
 "cells": [
  {
   "cell_type": "markdown",
   "id": "70564c18",
   "metadata": {},
   "source": [
    "# Contents\n",
    "\n",
    "## 01 Import libraries and data\n",
    "\n",
    "## 02 Check data\n",
    "\n",
    "### 02.1 Initial consistency checks for data population flow\n",
    "\n",
    "### 02.2 Check df_p1\n",
    "\n",
    "### 02.3 Remarks for cleaning on df_p1\n",
    "\n",
    "### 02.4 Check df_p2\n",
    "\n",
    "### 02.5 Remarks for cleaning on df_p2\n",
    "\n",
    "### 02.6 Check df_p3\n",
    "\n",
    "### 02.7 Remarks for cleaning on df_p3\n",
    "\n",
    "### 02.8 Check df_p4\n",
    "\n",
    "### 02.9 Remarks for cleaning on df_p4\n",
    "\n",
    "### 02.10 Check df_roll\n",
    "\n",
    "### 02.11 Remarks for cleaning on df_roll\n",
    "\n",
    "## 03 Data cleaning – individual dataframes\n",
    "\n",
    "### 03.1 Address mixed-type columns in df_p1\n",
    "\n",
    "### 03.2 Address mixed-type columns in df_roll\n",
    "\n",
    "### 03.3 Address column sale_price in all dataframes\n",
    "\n",
    "### 03.4 Address column sale_date in all dataframes\n",
    "\n",
    "### 03.5 Harmonise column datatypes in df_p1\n",
    "\n",
    "### 03.6 Harmonise column datatypes in df_p2\n",
    "\n",
    "### 03.7 Harmonise column datatypes in df_p3\n",
    "\n",
    "### 03.8 Harmonise column datatypes in df_p4\n",
    "\n",
    "### 03.9 Harmonise column datatypes in df_roll\n",
    "\n",
    "## 04 Final check for mixed-type columns before merging\n",
    "\n",
    "## 05 Merging all dataframes into one\n",
    "\n",
    "## 06 Data cleaning - merged dataframe\n",
    "\n",
    "### 06.1 Address duplicates\n",
    "\n",
    "### 06.2 Check for missing values\n",
    "\n",
    "### 06.3 Get descriptive statistics for columns with missing values\n",
    "\n",
    "### 06.7 Create subsets with missing values\n",
    "\n",
    "### 06.8 Address missing values\n",
    "\n",
    "## 07 Creating flags\n",
    "\n",
    "### 07.1 Sale prices == 0\n",
    "\n",
    "### 07.2 Imputing borough names\n",
    "\n",
    "## 08 Data consistency checks\n",
    "\n",
    "### 08.1 Further cleaning to address inconsistencies\n",
    "\n",
    "## 09 Basic descriptive statistics I\n",
    "\n",
    "### 09.1 Further cleaning I based on insights from descriptive statistics\n",
    "\n",
    "## 10 Basic descriptive statistics II\n",
    "\n",
    "## 11 Drop columns that are irrelevant for the analysis\n",
    "\n",
    "## 12 Export dataframes"
   ]
  },
  {
   "cell_type": "markdown",
   "id": "7f7ce9b6",
   "metadata": {},
   "source": [
    "# 01 Import libraries and data"
   ]
  },
  {
   "cell_type": "code",
   "execution_count": 256,
   "id": "05ce1028",
   "metadata": {},
   "outputs": [],
   "source": [
    "# Import pandas, numpy, os\n",
    "import pandas as pd\n",
    "import numpy as np\n",
    "import os"
   ]
  },
  {
   "cell_type": "code",
   "execution_count": 257,
   "id": "bcd8644b",
   "metadata": {},
   "outputs": [],
   "source": [
    "# Define path variable\n",
    "path = r'/Users/DanielaDietmayr/Library/CloudStorage/OneDrive-Personal/2023-05-07_NYC property sales/02_Data/02_Prepared data/01_Ready for import'"
   ]
  },
  {
   "cell_type": "code",
   "execution_count": 258,
   "id": "9465994a",
   "metadata": {},
   "outputs": [],
   "source": [
    "# Change options to display all columns\n",
    "pd.options.display.max_columns = None"
   ]
  },
  {
   "cell_type": "code",
   "execution_count": 259,
   "id": "2f322def",
   "metadata": {},
   "outputs": [
    {
     "name": "stderr",
     "output_type": "stream",
     "text": [
      "/var/folders/xf/prw7mx913rn2xzxlywvr1_jc0000gn/T/ipykernel_44932/2658094689.py:6: DtypeWarning: Columns (1,2,3,7,8,9,18,19,20) have mixed types. Specify dtype option on import or set low_memory=False.\n",
      "  df_roll = pd.read_csv(os.path.join(path, '2023-05-07_NYC prop sales rolling.csv'), index_col = False)\n"
     ]
    }
   ],
   "source": [
    "# Import data\n",
    "df_p1 = pd.read_csv(os.path.join(path, '2023-05-07_NYC prop sales 2003-23_P1.csv'), index_col = False)\n",
    "df_p2 = pd.read_csv(os.path.join(path, '2023-05-07_NYC prop sales 2003-23_P2.csv'), index_col = False)\n",
    "df_p3 = pd.read_csv(os.path.join(path, '2023-05-07_NYC prop sales 2003-23_P3.csv'), index_col = False)\n",
    "df_p4 = pd.read_csv(os.path.join(path, '2023-05-07_NYC prop sales 2003-23_P4.csv'), index_col = False)\n",
    "df_roll = pd.read_csv(os.path.join(path, '2023-05-07_NYC prop sales rolling.csv'), index_col = False)"
   ]
  },
  {
   "cell_type": "markdown",
   "id": "abbaa709",
   "metadata": {},
   "source": [
    "# 02 Check data"
   ]
  },
  {
   "cell_type": "markdown",
   "id": "6a153c99",
   "metadata": {},
   "source": [
    "## 02.1 Initial consistency checks for data population flow"
   ]
  },
  {
   "cell_type": "markdown",
   "id": "188aab54",
   "metadata": {},
   "source": [
    "According to original data retrieved from NYC Depeartment of Finance website, no data is missing for column sale_date. The numbers of non-missing values for the five dataframes are expected to be as follows:\n",
    "df_p1: 428903 (Jan 2018 - Dec 2022)\n",
    "df_p2: 448573 (Jan 2013 - Dec 2017)\n",
    "df_p3: 499739 (Jan 2007 - Dec 2012)\n",
    "df_p4: 484134 (Jan 2003 - Dec 2006)\n",
    "df_roll: 84391 (Apr 2022 - Mar 2023)\n",
    "\n",
    "Shape of dataframes should hence be 21 columns and rows as indicated above."
   ]
  },
  {
   "cell_type": "code",
   "execution_count": 260,
   "id": "e5e4dde2",
   "metadata": {},
   "outputs": [
    {
     "data": {
      "text/plain": [
       "(428903, 21)"
      ]
     },
     "execution_count": 260,
     "metadata": {},
     "output_type": "execute_result"
    }
   ],
   "source": [
    "# Get shape of df_p1\n",
    "df_p1.shape"
   ]
  },
  {
   "cell_type": "code",
   "execution_count": 261,
   "id": "8092d518",
   "metadata": {},
   "outputs": [
    {
     "data": {
      "text/plain": [
       "(448573, 21)"
      ]
     },
     "execution_count": 261,
     "metadata": {},
     "output_type": "execute_result"
    }
   ],
   "source": [
    "# Get shape of df_p2\n",
    "df_p2.shape"
   ]
  },
  {
   "cell_type": "code",
   "execution_count": 262,
   "id": "56abacbe",
   "metadata": {},
   "outputs": [
    {
     "data": {
      "text/plain": [
       "(499793, 21)"
      ]
     },
     "execution_count": 262,
     "metadata": {},
     "output_type": "execute_result"
    }
   ],
   "source": [
    "# Get shape of df_p3\n",
    "df_p3.shape"
   ]
  },
  {
   "cell_type": "code",
   "execution_count": 263,
   "id": "3b4ca101",
   "metadata": {},
   "outputs": [
    {
     "data": {
      "text/plain": [
       "(484134, 21)"
      ]
     },
     "execution_count": 263,
     "metadata": {},
     "output_type": "execute_result"
    }
   ],
   "source": [
    "# Get shape of df_p4\n",
    "df_p4.shape"
   ]
  },
  {
   "cell_type": "code",
   "execution_count": 264,
   "id": "353a8c3f",
   "metadata": {},
   "outputs": [
    {
     "data": {
      "text/plain": [
       "(359913, 21)"
      ]
     },
     "execution_count": 264,
     "metadata": {},
     "output_type": "execute_result"
    }
   ],
   "source": [
    "# Get shape of df_roll\n",
    "df_roll.shape"
   ]
  },
  {
   "cell_type": "markdown",
   "id": "de50894e",
   "metadata": {},
   "source": [
    "Dimensions of df_p1 - p4 are ok. Dimensions of df_roll point to 275522 unexpected rows."
   ]
  },
  {
   "cell_type": "code",
   "execution_count": 265,
   "id": "ed57bdba",
   "metadata": {},
   "outputs": [
    {
     "data": {
      "text/plain": [
       "NaN         275522\n",
       "30.06.22       700\n",
       "28.04.22       589\n",
       "21.06.22       567\n",
       "12.07.22       563\n",
       "             ...  \n",
       "22.01.23         2\n",
       "06.11.22         2\n",
       "03.07.22         2\n",
       "16.10.22         2\n",
       "17.04.22         2\n",
       "Name: sale_date, Length: 366, dtype: int64"
      ]
     },
     "execution_count": 265,
     "metadata": {},
     "output_type": "execute_result"
    }
   ],
   "source": [
    "# Check for missing values in sale_date in df_roll\n",
    "df_roll['sale_date'].value_counts(dropna=False)"
   ]
  },
  {
   "cell_type": "code",
   "execution_count": 266,
   "id": "99df2052",
   "metadata": {},
   "outputs": [
    {
     "data": {
      "text/plain": [
       "275522"
      ]
     },
     "execution_count": 266,
     "metadata": {},
     "output_type": "execute_result"
    }
   ],
   "source": [
    "# Confirm number of missing values in sale_date\n",
    "df_roll['sale_date'].isna().sum()"
   ]
  },
  {
   "cell_type": "code",
   "execution_count": 267,
   "id": "de68e52a",
   "metadata": {},
   "outputs": [],
   "source": [
    "# Drop rows with missing values in sale_date\n",
    "df_roll.dropna(subset=['sale_date'], inplace=True)"
   ]
  },
  {
   "cell_type": "code",
   "execution_count": 268,
   "id": "6e1c6cad",
   "metadata": {},
   "outputs": [
    {
     "data": {
      "text/plain": [
       "0"
      ]
     },
     "execution_count": 268,
     "metadata": {},
     "output_type": "execute_result"
    }
   ],
   "source": [
    "# Confirm dropping of rows\n",
    "df_roll['sale_date'].isna().sum()"
   ]
  },
  {
   "cell_type": "code",
   "execution_count": 269,
   "id": "3292094e",
   "metadata": {},
   "outputs": [
    {
     "data": {
      "text/plain": [
       "(84391, 21)"
      ]
     },
     "execution_count": 269,
     "metadata": {},
     "output_type": "execute_result"
    }
   ],
   "source": [
    "df_roll.shape"
   ]
  },
  {
   "cell_type": "markdown",
   "id": "c16bdae5",
   "metadata": {},
   "source": [
    "Initial consistency check complete. Dimensions of five dataframes are now as expected according to original data provided by NYC Department of Finance. "
   ]
  },
  {
   "cell_type": "markdown",
   "id": "490bb205",
   "metadata": {},
   "source": [
    "## 02.2 Check df_p1"
   ]
  },
  {
   "cell_type": "code",
   "execution_count": 270,
   "id": "0dd970c2",
   "metadata": {},
   "outputs": [
    {
     "name": "stdout",
     "output_type": "stream",
     "text": [
      "<class 'pandas.core.frame.DataFrame'>\n",
      "RangeIndex: 428903 entries, 0 to 428902\n",
      "Data columns (total 21 columns):\n",
      " #   Column                          Non-Null Count   Dtype  \n",
      "---  ------                          --------------   -----  \n",
      " 0   borough                         428903 non-null  int64  \n",
      " 1   neighborhood                    428903 non-null  object \n",
      " 2   building_class_category         428903 non-null  object \n",
      " 3   tax_class_at_present            428336 non-null  object \n",
      " 4   block                           428903 non-null  int64  \n",
      " 5   lot                             428903 non-null  int64  \n",
      " 6   easement                        0 non-null       float64\n",
      " 7   building_class_at_present       428336 non-null  object \n",
      " 8   address                         428903 non-null  object \n",
      " 9   apartment_number                100295 non-null  object \n",
      " 10  zip_code                        428868 non-null  float64\n",
      " 11  residential_units               352121 non-null  float64\n",
      " 12  commercial_units                315265 non-null  float64\n",
      " 13  total_units                     358141 non-null  float64\n",
      " 14  land_square_feet                309244 non-null  float64\n",
      " 15  gross_square_feet               309245 non-null  float64\n",
      " 16  year_built                      404878 non-null  float64\n",
      " 17  tax_class_at_time_of_sale       428903 non-null  int64  \n",
      " 18  building_class_at_time_of_sale  428903 non-null  object \n",
      " 19  sale_price                      428903 non-null  object \n",
      " 20  sale_date                       428903 non-null  object \n",
      "dtypes: float64(8), int64(4), object(9)\n",
      "memory usage: 68.7+ MB\n"
     ]
    }
   ],
   "source": [
    "# Get info on df_p1\n",
    "df_p1.info()"
   ]
  },
  {
   "cell_type": "code",
   "execution_count": 271,
   "id": "0e34b450",
   "metadata": {},
   "outputs": [
    {
     "data": {
      "text/html": [
       "<div>\n",
       "<style scoped>\n",
       "    .dataframe tbody tr th:only-of-type {\n",
       "        vertical-align: middle;\n",
       "    }\n",
       "\n",
       "    .dataframe tbody tr th {\n",
       "        vertical-align: top;\n",
       "    }\n",
       "\n",
       "    .dataframe thead th {\n",
       "        text-align: right;\n",
       "    }\n",
       "</style>\n",
       "<table border=\"1\" class=\"dataframe\">\n",
       "  <thead>\n",
       "    <tr style=\"text-align: right;\">\n",
       "      <th></th>\n",
       "      <th>borough</th>\n",
       "      <th>neighborhood</th>\n",
       "      <th>building_class_category</th>\n",
       "      <th>tax_class_at_present</th>\n",
       "      <th>block</th>\n",
       "      <th>lot</th>\n",
       "      <th>easement</th>\n",
       "      <th>building_class_at_present</th>\n",
       "      <th>address</th>\n",
       "      <th>apartment_number</th>\n",
       "      <th>zip_code</th>\n",
       "      <th>residential_units</th>\n",
       "      <th>commercial_units</th>\n",
       "      <th>total_units</th>\n",
       "      <th>land_square_feet</th>\n",
       "      <th>gross_square_feet</th>\n",
       "      <th>year_built</th>\n",
       "      <th>tax_class_at_time_of_sale</th>\n",
       "      <th>building_class_at_time_of_sale</th>\n",
       "      <th>sale_price</th>\n",
       "      <th>sale_date</th>\n",
       "    </tr>\n",
       "  </thead>\n",
       "  <tbody>\n",
       "    <tr>\n",
       "      <th>0</th>\n",
       "      <td>5</td>\n",
       "      <td>ANNADALE</td>\n",
       "      <td>01 ONE FAMILY DWELLINGS</td>\n",
       "      <td>1</td>\n",
       "      <td>5391</td>\n",
       "      <td>7</td>\n",
       "      <td>NaN</td>\n",
       "      <td>A5</td>\n",
       "      <td>4732 AMBOY ROAD</td>\n",
       "      <td>NaN</td>\n",
       "      <td>10,312.00</td>\n",
       "      <td>1.00</td>\n",
       "      <td>0.00</td>\n",
       "      <td>1.00</td>\n",
       "      <td>3,654.00</td>\n",
       "      <td>910.00</td>\n",
       "      <td>2,002.00</td>\n",
       "      <td>1</td>\n",
       "      <td>A5</td>\n",
       "      <td>764,000.00</td>\n",
       "      <td>30.06.22</td>\n",
       "    </tr>\n",
       "    <tr>\n",
       "      <th>1</th>\n",
       "      <td>5</td>\n",
       "      <td>ANNADALE</td>\n",
       "      <td>01 ONE FAMILY DWELLINGS</td>\n",
       "      <td>1</td>\n",
       "      <td>5395</td>\n",
       "      <td>4</td>\n",
       "      <td>NaN</td>\n",
       "      <td>A1</td>\n",
       "      <td>26 EDWIN STREET</td>\n",
       "      <td>NaN</td>\n",
       "      <td>10,312.00</td>\n",
       "      <td>1.00</td>\n",
       "      <td>0.00</td>\n",
       "      <td>1.00</td>\n",
       "      <td>7,654.00</td>\n",
       "      <td>2,277.00</td>\n",
       "      <td>1,980.00</td>\n",
       "      <td>1</td>\n",
       "      <td>A1</td>\n",
       "      <td>1,098,000.00</td>\n",
       "      <td>19.08.22</td>\n",
       "    </tr>\n",
       "    <tr>\n",
       "      <th>2</th>\n",
       "      <td>5</td>\n",
       "      <td>ANNADALE</td>\n",
       "      <td>01 ONE FAMILY DWELLINGS</td>\n",
       "      <td>1</td>\n",
       "      <td>5395</td>\n",
       "      <td>32</td>\n",
       "      <td>NaN</td>\n",
       "      <td>A1</td>\n",
       "      <td>541 SYCAMORE STREET</td>\n",
       "      <td>NaN</td>\n",
       "      <td>10,312.00</td>\n",
       "      <td>1.00</td>\n",
       "      <td>0.00</td>\n",
       "      <td>1.00</td>\n",
       "      <td>13,320.00</td>\n",
       "      <td>4,696.00</td>\n",
       "      <td>1,985.00</td>\n",
       "      <td>1</td>\n",
       "      <td>A1</td>\n",
       "      <td>0.00</td>\n",
       "      <td>20.04.22</td>\n",
       "    </tr>\n",
       "    <tr>\n",
       "      <th>3</th>\n",
       "      <td>5</td>\n",
       "      <td>ANNADALE</td>\n",
       "      <td>01 ONE FAMILY DWELLINGS</td>\n",
       "      <td>1</td>\n",
       "      <td>5399</td>\n",
       "      <td>37</td>\n",
       "      <td>NaN</td>\n",
       "      <td>A2</td>\n",
       "      <td>255 KOCH BOULEVARD</td>\n",
       "      <td>NaN</td>\n",
       "      <td>10,312.00</td>\n",
       "      <td>1.00</td>\n",
       "      <td>0.00</td>\n",
       "      <td>1.00</td>\n",
       "      <td>8,190.00</td>\n",
       "      <td>1,528.00</td>\n",
       "      <td>1,970.00</td>\n",
       "      <td>1</td>\n",
       "      <td>A2</td>\n",
       "      <td>890,000.00</td>\n",
       "      <td>03.01.22</td>\n",
       "    </tr>\n",
       "    <tr>\n",
       "      <th>4</th>\n",
       "      <td>5</td>\n",
       "      <td>ANNADALE</td>\n",
       "      <td>01 ONE FAMILY DWELLINGS</td>\n",
       "      <td>1</td>\n",
       "      <td>5402</td>\n",
       "      <td>17</td>\n",
       "      <td>NaN</td>\n",
       "      <td>A2</td>\n",
       "      <td>6 WEAVER STREET</td>\n",
       "      <td>NaN</td>\n",
       "      <td>10,312.00</td>\n",
       "      <td>1.00</td>\n",
       "      <td>0.00</td>\n",
       "      <td>1.00</td>\n",
       "      <td>10,500.00</td>\n",
       "      <td>2,278.00</td>\n",
       "      <td>1,980.00</td>\n",
       "      <td>1</td>\n",
       "      <td>A2</td>\n",
       "      <td>0.00</td>\n",
       "      <td>27.12.22</td>\n",
       "    </tr>\n",
       "  </tbody>\n",
       "</table>\n",
       "</div>"
      ],
      "text/plain": [
       "   borough neighborhood  building_class_category tax_class_at_present  block  \\\n",
       "0        5     ANNADALE  01 ONE FAMILY DWELLINGS                    1   5391   \n",
       "1        5     ANNADALE  01 ONE FAMILY DWELLINGS                    1   5395   \n",
       "2        5     ANNADALE  01 ONE FAMILY DWELLINGS                    1   5395   \n",
       "3        5     ANNADALE  01 ONE FAMILY DWELLINGS                    1   5399   \n",
       "4        5     ANNADALE  01 ONE FAMILY DWELLINGS                    1   5402   \n",
       "\n",
       "   lot  easement building_class_at_present              address  \\\n",
       "0    7       NaN                        A5      4732 AMBOY ROAD   \n",
       "1    4       NaN                        A1      26 EDWIN STREET   \n",
       "2   32       NaN                        A1  541 SYCAMORE STREET   \n",
       "3   37       NaN                        A2   255 KOCH BOULEVARD   \n",
       "4   17       NaN                        A2      6 WEAVER STREET   \n",
       "\n",
       "  apartment_number             zip_code    residential_units  \\\n",
       "0              NaN            10,312.00                 1.00   \n",
       "1              NaN            10,312.00                 1.00   \n",
       "2              NaN            10,312.00                 1.00   \n",
       "3              NaN            10,312.00                 1.00   \n",
       "4              NaN            10,312.00                 1.00   \n",
       "\n",
       "      commercial_units          total_units     land_square_feet  \\\n",
       "0                 0.00                 1.00             3,654.00   \n",
       "1                 0.00                 1.00             7,654.00   \n",
       "2                 0.00                 1.00            13,320.00   \n",
       "3                 0.00                 1.00             8,190.00   \n",
       "4                 0.00                 1.00            10,500.00   \n",
       "\n",
       "     gross_square_feet           year_built  tax_class_at_time_of_sale  \\\n",
       "0               910.00             2,002.00                          1   \n",
       "1             2,277.00             1,980.00                          1   \n",
       "2             4,696.00             1,985.00                          1   \n",
       "3             1,528.00             1,970.00                          1   \n",
       "4             2,278.00             1,980.00                          1   \n",
       "\n",
       "  building_class_at_time_of_sale      sale_price sale_date  \n",
       "0                             A5    764,000.00    30.06.22  \n",
       "1                             A1  1,098,000.00    19.08.22  \n",
       "2                             A1          0.00    20.04.22  \n",
       "3                             A2    890,000.00    03.01.22  \n",
       "4                             A2          0.00    27.12.22  "
      ]
     },
     "execution_count": 271,
     "metadata": {},
     "output_type": "execute_result"
    }
   ],
   "source": [
    "# Inspect head of df_p1\n",
    "df_p1.head(5)"
   ]
  },
  {
   "cell_type": "code",
   "execution_count": 272,
   "id": "afe925a1",
   "metadata": {},
   "outputs": [
    {
     "name": "stdout",
     "output_type": "stream",
     "text": [
      "tax_class_at_present\n",
      "building_class_at_present\n",
      "apartment_number\n"
     ]
    }
   ],
   "source": [
    "# Check for mixed-type columns in df_p1\n",
    "for col in df_p1.columns.tolist():\n",
    "  weird = (df_p1[[col]].applymap(type) != df_p1[[col]].iloc[0].apply(type)).any(axis = 1)\n",
    "  if len (df_p1[weird]) > 0:\n",
    "    print (col)"
   ]
  },
  {
   "cell_type": "markdown",
   "id": "9c53dda1",
   "metadata": {},
   "source": [
    "## 02.3 Remarks for cleaning on df_p1\n",
    "21 columns, 428903 rows.\n",
    "\n",
    "Only borough number (not name) included.\n",
    "\n",
    "Missing values imported as NaN. Missing values in columns: easement, building_class_at_present, apartment_number, zip_code, residential_units, commercial_units, total_units, land_square_feet, gross_square_feet, year_built.\n",
    "\n",
    "ZIP code imported as floating point number.\n",
    "Residential units imported as floating point number.\n",
    "Commercial units imported as floating point number.\n",
    "Total units imported as floating point number.\n",
    "Year_built imported as floating point number.\n",
    "Sale_price imported as string.\n",
    "Sale_date imported as string.\n",
    "\n",
    "Mixed-type columns are tax class at present, building class at present, and apartment number."
   ]
  },
  {
   "cell_type": "markdown",
   "id": "622239f3",
   "metadata": {},
   "source": [
    "## 02.4 Check df_p2"
   ]
  },
  {
   "cell_type": "code",
   "execution_count": 273,
   "id": "db6b6756",
   "metadata": {},
   "outputs": [
    {
     "name": "stdout",
     "output_type": "stream",
     "text": [
      "<class 'pandas.core.frame.DataFrame'>\n",
      "RangeIndex: 448573 entries, 0 to 448572\n",
      "Data columns (total 21 columns):\n",
      " #   Column                          Non-Null Count   Dtype  \n",
      "---  ------                          --------------   -----  \n",
      " 0   borough                         448573 non-null  int64  \n",
      " 1   neighborhood                    448573 non-null  object \n",
      " 2   building_class_category         448573 non-null  object \n",
      " 3   tax_class_at_present            448573 non-null  object \n",
      " 4   block                           448573 non-null  int64  \n",
      " 5   lot                             448573 non-null  int64  \n",
      " 6   easement                        448573 non-null  object \n",
      " 7   building_class_at_present       448573 non-null  object \n",
      " 8   address                         448573 non-null  object \n",
      " 9   apartment_number                448573 non-null  object \n",
      " 10  zip_code                        448573 non-null  int64  \n",
      " 11  residential_units               448573 non-null  int64  \n",
      " 12  commercial_units                448573 non-null  int64  \n",
      " 13  total_units                     448573 non-null  int64  \n",
      " 14  land_square_feet                448573 non-null  float64\n",
      " 15  gross_square_feet               448573 non-null  float64\n",
      " 16  year_built                      448573 non-null  int64  \n",
      " 17  tax_class_at_time_of_sale       448573 non-null  int64  \n",
      " 18  building_class_at_time_of_sale  448573 non-null  object \n",
      " 19  sale_price                      448573 non-null  object \n",
      " 20  sale_date                       448573 non-null  object \n",
      "dtypes: float64(2), int64(9), object(10)\n",
      "memory usage: 71.9+ MB\n"
     ]
    }
   ],
   "source": [
    "# Get info on df_p2\n",
    "df_p2.info()"
   ]
  },
  {
   "cell_type": "code",
   "execution_count": 274,
   "id": "3de2cdc1",
   "metadata": {},
   "outputs": [
    {
     "data": {
      "text/html": [
       "<div>\n",
       "<style scoped>\n",
       "    .dataframe tbody tr th:only-of-type {\n",
       "        vertical-align: middle;\n",
       "    }\n",
       "\n",
       "    .dataframe tbody tr th {\n",
       "        vertical-align: top;\n",
       "    }\n",
       "\n",
       "    .dataframe thead th {\n",
       "        text-align: right;\n",
       "    }\n",
       "</style>\n",
       "<table border=\"1\" class=\"dataframe\">\n",
       "  <thead>\n",
       "    <tr style=\"text-align: right;\">\n",
       "      <th></th>\n",
       "      <th>borough</th>\n",
       "      <th>neighborhood</th>\n",
       "      <th>building_class_category</th>\n",
       "      <th>tax_class_at_present</th>\n",
       "      <th>block</th>\n",
       "      <th>lot</th>\n",
       "      <th>easement</th>\n",
       "      <th>building_class_at_present</th>\n",
       "      <th>address</th>\n",
       "      <th>apartment_number</th>\n",
       "      <th>zip_code</th>\n",
       "      <th>residential_units</th>\n",
       "      <th>commercial_units</th>\n",
       "      <th>total_units</th>\n",
       "      <th>land_square_feet</th>\n",
       "      <th>gross_square_feet</th>\n",
       "      <th>year_built</th>\n",
       "      <th>tax_class_at_time_of_sale</th>\n",
       "      <th>building_class_at_time_of_sale</th>\n",
       "      <th>sale_price</th>\n",
       "      <th>sale_date</th>\n",
       "    </tr>\n",
       "  </thead>\n",
       "  <tbody>\n",
       "    <tr>\n",
       "      <th>0</th>\n",
       "      <td>5</td>\n",
       "      <td>ANNADALE</td>\n",
       "      <td>01  ONE FAMILY DWELLINGS</td>\n",
       "      <td>1</td>\n",
       "      <td>5391</td>\n",
       "      <td>9</td>\n",
       "      <td></td>\n",
       "      <td>A5</td>\n",
       "      <td>4726 AMBOY ROAD</td>\n",
       "      <td></td>\n",
       "      <td>10312</td>\n",
       "      <td>1</td>\n",
       "      <td>0</td>\n",
       "      <td>1</td>\n",
       "      <td>3,067.00</td>\n",
       "      <td>1,110.00</td>\n",
       "      <td>2002</td>\n",
       "      <td>1</td>\n",
       "      <td>A5</td>\n",
       "      <td>520,000.00</td>\n",
       "      <td>21.04.16</td>\n",
       "    </tr>\n",
       "    <tr>\n",
       "      <th>1</th>\n",
       "      <td>5</td>\n",
       "      <td>ANNADALE</td>\n",
       "      <td>01  ONE FAMILY DWELLINGS</td>\n",
       "      <td>1</td>\n",
       "      <td>5391</td>\n",
       "      <td>30</td>\n",
       "      <td></td>\n",
       "      <td>A1</td>\n",
       "      <td>1306 ARDEN AVENUE</td>\n",
       "      <td></td>\n",
       "      <td>10312</td>\n",
       "      <td>1</td>\n",
       "      <td>0</td>\n",
       "      <td>1</td>\n",
       "      <td>7,500.00</td>\n",
       "      <td>1,890.00</td>\n",
       "      <td>1952</td>\n",
       "      <td>1</td>\n",
       "      <td>A1</td>\n",
       "      <td>0.00</td>\n",
       "      <td>04.05.16</td>\n",
       "    </tr>\n",
       "    <tr>\n",
       "      <th>2</th>\n",
       "      <td>5</td>\n",
       "      <td>ANNADALE</td>\n",
       "      <td>01  ONE FAMILY DWELLINGS</td>\n",
       "      <td>1</td>\n",
       "      <td>5395</td>\n",
       "      <td>15</td>\n",
       "      <td></td>\n",
       "      <td>A1</td>\n",
       "      <td>10 EDWIN STREET</td>\n",
       "      <td></td>\n",
       "      <td>10312</td>\n",
       "      <td>1</td>\n",
       "      <td>0</td>\n",
       "      <td>1</td>\n",
       "      <td>7,000.00</td>\n",
       "      <td>2,200.00</td>\n",
       "      <td>1980</td>\n",
       "      <td>1</td>\n",
       "      <td>A1</td>\n",
       "      <td>10.00</td>\n",
       "      <td>21.04.16</td>\n",
       "    </tr>\n",
       "    <tr>\n",
       "      <th>3</th>\n",
       "      <td>5</td>\n",
       "      <td>ANNADALE</td>\n",
       "      <td>01  ONE FAMILY DWELLINGS</td>\n",
       "      <td>1</td>\n",
       "      <td>5397</td>\n",
       "      <td>60</td>\n",
       "      <td></td>\n",
       "      <td>A1</td>\n",
       "      <td>33 EYLANDT STREET</td>\n",
       "      <td></td>\n",
       "      <td>10312</td>\n",
       "      <td>1</td>\n",
       "      <td>0</td>\n",
       "      <td>1</td>\n",
       "      <td>10,120.00</td>\n",
       "      <td>3,516.00</td>\n",
       "      <td>1984</td>\n",
       "      <td>1</td>\n",
       "      <td>A1</td>\n",
       "      <td>0.00</td>\n",
       "      <td>10.08.16</td>\n",
       "    </tr>\n",
       "    <tr>\n",
       "      <th>4</th>\n",
       "      <td>5</td>\n",
       "      <td>ANNADALE</td>\n",
       "      <td>01  ONE FAMILY DWELLINGS</td>\n",
       "      <td>1</td>\n",
       "      <td>5399</td>\n",
       "      <td>26</td>\n",
       "      <td></td>\n",
       "      <td>A1</td>\n",
       "      <td>235 KOCH BOULEVARD</td>\n",
       "      <td></td>\n",
       "      <td>10312</td>\n",
       "      <td>1</td>\n",
       "      <td>0</td>\n",
       "      <td>1</td>\n",
       "      <td>9,555.00</td>\n",
       "      <td>1,528.00</td>\n",
       "      <td>1960</td>\n",
       "      <td>1</td>\n",
       "      <td>A1</td>\n",
       "      <td>0.00</td>\n",
       "      <td>11.02.16</td>\n",
       "    </tr>\n",
       "  </tbody>\n",
       "</table>\n",
       "</div>"
      ],
      "text/plain": [
       "   borough               neighborhood  \\\n",
       "0        5  ANNADALE                    \n",
       "1        5  ANNADALE                    \n",
       "2        5  ANNADALE                    \n",
       "3        5  ANNADALE                    \n",
       "4        5  ANNADALE                    \n",
       "\n",
       "                        building_class_category tax_class_at_present  block  \\\n",
       "0  01  ONE FAMILY DWELLINGS                                        1   5391   \n",
       "1  01  ONE FAMILY DWELLINGS                                        1   5391   \n",
       "2  01  ONE FAMILY DWELLINGS                                        1   5395   \n",
       "3  01  ONE FAMILY DWELLINGS                                        1   5397   \n",
       "4  01  ONE FAMILY DWELLINGS                                        1   5399   \n",
       "\n",
       "   lot easement building_class_at_present  \\\n",
       "0    9                                 A5   \n",
       "1   30                                 A1   \n",
       "2   15                                 A1   \n",
       "3   60                                 A1   \n",
       "4   26                                 A1   \n",
       "\n",
       "                                     address apartment_number  zip_code  \\\n",
       "0  4726 AMBOY ROAD                                                10312   \n",
       "1  1306 ARDEN AVENUE                                              10312   \n",
       "2  10 EDWIN STREET                                                10312   \n",
       "3  33 EYLANDT STREET                                              10312   \n",
       "4  235 KOCH BOULEVARD                                             10312   \n",
       "\n",
       "   residential_units  commercial_units  total_units     land_square_feet  \\\n",
       "0                  1                 0            1             3,067.00   \n",
       "1                  1                 0            1             7,500.00   \n",
       "2                  1                 0            1             7,000.00   \n",
       "3                  1                 0            1            10,120.00   \n",
       "4                  1                 0            1             9,555.00   \n",
       "\n",
       "     gross_square_feet  year_built  tax_class_at_time_of_sale  \\\n",
       "0             1,110.00        2002                          1   \n",
       "1             1,890.00        1952                          1   \n",
       "2             2,200.00        1980                          1   \n",
       "3             3,516.00        1984                          1   \n",
       "4             1,528.00        1960                          1   \n",
       "\n",
       "  building_class_at_time_of_sale    sale_price sale_date  \n",
       "0                             A5  520,000.00    21.04.16  \n",
       "1                             A1        0.00    04.05.16  \n",
       "2                             A1       10.00    21.04.16  \n",
       "3                             A1        0.00    10.08.16  \n",
       "4                             A1        0.00    11.02.16  "
      ]
     },
     "execution_count": 274,
     "metadata": {},
     "output_type": "execute_result"
    }
   ],
   "source": [
    "# Inspect head of df_p2\n",
    "df_p2.head(5)"
   ]
  },
  {
   "cell_type": "code",
   "execution_count": 275,
   "id": "6fddc9a6",
   "metadata": {},
   "outputs": [],
   "source": [
    "# Check for mixed-type columns in df_p2\n",
    "for col in df_p2.columns.tolist():\n",
    "  weird = (df_p2[[col]].applymap(type) != df_p2[[col]].iloc[0].apply(type)).any(axis = 1)\n",
    "  if len (df_p2[weird]) > 0:\n",
    "    print (col)"
   ]
  },
  {
   "cell_type": "markdown",
   "id": "ead0edbf",
   "metadata": {},
   "source": [
    "## 02.5 Remarks for cleaning on df_p2\n",
    "21 columns, 448573 rows.\n",
    "\n",
    "Only borough number (not name) included.\n",
    "\n",
    "Missing values remain missing (not imported as NaN, but also identified as non-null).\n",
    "\n",
    "Sale_price imported as string. Sale_date imported as string.\n",
    "\n",
    "No mixed-type columns."
   ]
  },
  {
   "cell_type": "markdown",
   "id": "fdf1a20b",
   "metadata": {},
   "source": [
    "## 02.6 Check df_p3"
   ]
  },
  {
   "cell_type": "code",
   "execution_count": 276,
   "id": "7941b99e",
   "metadata": {},
   "outputs": [
    {
     "name": "stdout",
     "output_type": "stream",
     "text": [
      "<class 'pandas.core.frame.DataFrame'>\n",
      "RangeIndex: 499793 entries, 0 to 499792\n",
      "Data columns (total 21 columns):\n",
      " #   Column                          Non-Null Count   Dtype  \n",
      "---  ------                          --------------   -----  \n",
      " 0   borough                         499793 non-null  int64  \n",
      " 1   neighborhood                    499793 non-null  object \n",
      " 2   building_class_category         499793 non-null  object \n",
      " 3   tax_class_at_present            499793 non-null  object \n",
      " 4   block                           499793 non-null  int64  \n",
      " 5   lot                             499793 non-null  int64  \n",
      " 6   easement                        499793 non-null  object \n",
      " 7   building_class_at_present       499793 non-null  object \n",
      " 8   address                         499793 non-null  object \n",
      " 9   apartment_number                499793 non-null  object \n",
      " 10  zip_code                        499793 non-null  int64  \n",
      " 11  residential_units               499793 non-null  int64  \n",
      " 12  commercial_units                499793 non-null  int64  \n",
      " 13  total_units                     499793 non-null  int64  \n",
      " 14  land_square_feet                499793 non-null  float64\n",
      " 15  gross_square_feet               499793 non-null  float64\n",
      " 16  year_built                      499793 non-null  int64  \n",
      " 17  tax_class_at_time_of_sale       499793 non-null  int64  \n",
      " 18  building_class_at_time_of_sale  499793 non-null  object \n",
      " 19  sale_price                      499793 non-null  object \n",
      " 20  sale_date                       499793 non-null  object \n",
      "dtypes: float64(2), int64(9), object(10)\n",
      "memory usage: 80.1+ MB\n"
     ]
    }
   ],
   "source": [
    "# Get info on df_p3\n",
    "df_p3.info()"
   ]
  },
  {
   "cell_type": "code",
   "execution_count": 277,
   "id": "91aa6fc8",
   "metadata": {},
   "outputs": [
    {
     "data": {
      "text/html": [
       "<div>\n",
       "<style scoped>\n",
       "    .dataframe tbody tr th:only-of-type {\n",
       "        vertical-align: middle;\n",
       "    }\n",
       "\n",
       "    .dataframe tbody tr th {\n",
       "        vertical-align: top;\n",
       "    }\n",
       "\n",
       "    .dataframe thead th {\n",
       "        text-align: right;\n",
       "    }\n",
       "</style>\n",
       "<table border=\"1\" class=\"dataframe\">\n",
       "  <thead>\n",
       "    <tr style=\"text-align: right;\">\n",
       "      <th></th>\n",
       "      <th>borough</th>\n",
       "      <th>neighborhood</th>\n",
       "      <th>building_class_category</th>\n",
       "      <th>tax_class_at_present</th>\n",
       "      <th>block</th>\n",
       "      <th>lot</th>\n",
       "      <th>easement</th>\n",
       "      <th>building_class_at_present</th>\n",
       "      <th>address</th>\n",
       "      <th>apartment_number</th>\n",
       "      <th>zip_code</th>\n",
       "      <th>residential_units</th>\n",
       "      <th>commercial_units</th>\n",
       "      <th>total_units</th>\n",
       "      <th>land_square_feet</th>\n",
       "      <th>gross_square_feet</th>\n",
       "      <th>year_built</th>\n",
       "      <th>tax_class_at_time_of_sale</th>\n",
       "      <th>building_class_at_time_of_sale</th>\n",
       "      <th>sale_price</th>\n",
       "      <th>sale_date</th>\n",
       "    </tr>\n",
       "  </thead>\n",
       "  <tbody>\n",
       "    <tr>\n",
       "      <th>0</th>\n",
       "      <td>5</td>\n",
       "      <td>ANNADALE</td>\n",
       "      <td>01  ONE FAMILY HOMES</td>\n",
       "      <td>1</td>\n",
       "      <td>5395</td>\n",
       "      <td>32</td>\n",
       "      <td></td>\n",
       "      <td>A1</td>\n",
       "      <td>541 SYCAMORE STREET</td>\n",
       "      <td></td>\n",
       "      <td>10312</td>\n",
       "      <td>1</td>\n",
       "      <td>0</td>\n",
       "      <td>1</td>\n",
       "      <td>13,320.00</td>\n",
       "      <td>4,696.00</td>\n",
       "      <td>1985</td>\n",
       "      <td>1</td>\n",
       "      <td>A1</td>\n",
       "      <td>1,200,000.00</td>\n",
       "      <td>15.08.12</td>\n",
       "    </tr>\n",
       "    <tr>\n",
       "      <th>1</th>\n",
       "      <td>5</td>\n",
       "      <td>ANNADALE</td>\n",
       "      <td>01  ONE FAMILY HOMES</td>\n",
       "      <td>1</td>\n",
       "      <td>5401</td>\n",
       "      <td>38</td>\n",
       "      <td></td>\n",
       "      <td>A1</td>\n",
       "      <td>27 WEAVER STREET</td>\n",
       "      <td></td>\n",
       "      <td>10312</td>\n",
       "      <td>1</td>\n",
       "      <td>0</td>\n",
       "      <td>1</td>\n",
       "      <td>10,833.00</td>\n",
       "      <td>2,128.00</td>\n",
       "      <td>1980</td>\n",
       "      <td>1</td>\n",
       "      <td>A1</td>\n",
       "      <td>127,500.00</td>\n",
       "      <td>26.09.12</td>\n",
       "    </tr>\n",
       "    <tr>\n",
       "      <th>2</th>\n",
       "      <td>5</td>\n",
       "      <td>ANNADALE</td>\n",
       "      <td>01  ONE FAMILY HOMES</td>\n",
       "      <td>1</td>\n",
       "      <td>5402</td>\n",
       "      <td>43</td>\n",
       "      <td></td>\n",
       "      <td>A1</td>\n",
       "      <td>295 HAROLD AVENUE</td>\n",
       "      <td></td>\n",
       "      <td>10312</td>\n",
       "      <td>1</td>\n",
       "      <td>0</td>\n",
       "      <td>1</td>\n",
       "      <td>6,700.00</td>\n",
       "      <td>3,348.00</td>\n",
       "      <td>1980</td>\n",
       "      <td>1</td>\n",
       "      <td>A1</td>\n",
       "      <td>600,000.00</td>\n",
       "      <td>31.05.12</td>\n",
       "    </tr>\n",
       "    <tr>\n",
       "      <th>3</th>\n",
       "      <td>5</td>\n",
       "      <td>ANNADALE</td>\n",
       "      <td>01  ONE FAMILY HOMES</td>\n",
       "      <td>1</td>\n",
       "      <td>5407</td>\n",
       "      <td>11</td>\n",
       "      <td></td>\n",
       "      <td>A1</td>\n",
       "      <td>24 ELMBANK STREET</td>\n",
       "      <td></td>\n",
       "      <td>10312</td>\n",
       "      <td>1</td>\n",
       "      <td>0</td>\n",
       "      <td>1</td>\n",
       "      <td>5,000.00</td>\n",
       "      <td>1,520.00</td>\n",
       "      <td>1910</td>\n",
       "      <td>1</td>\n",
       "      <td>A1</td>\n",
       "      <td>237,276.00</td>\n",
       "      <td>29.11.12</td>\n",
       "    </tr>\n",
       "    <tr>\n",
       "      <th>4</th>\n",
       "      <td>5</td>\n",
       "      <td>ANNADALE</td>\n",
       "      <td>01  ONE FAMILY HOMES</td>\n",
       "      <td>1</td>\n",
       "      <td>6205</td>\n",
       "      <td>23</td>\n",
       "      <td></td>\n",
       "      <td>A5</td>\n",
       "      <td>81 EAGAN AVENUE</td>\n",
       "      <td></td>\n",
       "      <td>10312</td>\n",
       "      <td>1</td>\n",
       "      <td>0</td>\n",
       "      <td>1</td>\n",
       "      <td>1,546.00</td>\n",
       "      <td>1,579.00</td>\n",
       "      <td>1986</td>\n",
       "      <td>1</td>\n",
       "      <td>A5</td>\n",
       "      <td>322,500.00</td>\n",
       "      <td>19.03.12</td>\n",
       "    </tr>\n",
       "  </tbody>\n",
       "</table>\n",
       "</div>"
      ],
      "text/plain": [
       "   borough               neighborhood  \\\n",
       "0        5  ANNADALE                    \n",
       "1        5  ANNADALE                    \n",
       "2        5  ANNADALE                    \n",
       "3        5  ANNADALE                    \n",
       "4        5  ANNADALE                    \n",
       "\n",
       "                        building_class_category tax_class_at_present  block  \\\n",
       "0  01  ONE FAMILY HOMES                                            1   5395   \n",
       "1  01  ONE FAMILY HOMES                                            1   5401   \n",
       "2  01  ONE FAMILY HOMES                                            1   5402   \n",
       "3  01  ONE FAMILY HOMES                                            1   5407   \n",
       "4  01  ONE FAMILY HOMES                                            1   6205   \n",
       "\n",
       "   lot easement building_class_at_present  \\\n",
       "0   32                                 A1   \n",
       "1   38                                 A1   \n",
       "2   43                                 A1   \n",
       "3   11                                 A1   \n",
       "4   23                                 A5   \n",
       "\n",
       "                                     address apartment_number  zip_code  \\\n",
       "0  541 SYCAMORE STREET                                            10312   \n",
       "1  27 WEAVER STREET                                               10312   \n",
       "2  295 HAROLD AVENUE                                              10312   \n",
       "3  24 ELMBANK STREET                                              10312   \n",
       "4  81 EAGAN AVENUE                                                10312   \n",
       "\n",
       "   residential_units  commercial_units  total_units     land_square_feet  \\\n",
       "0                  1                 0            1            13,320.00   \n",
       "1                  1                 0            1            10,833.00   \n",
       "2                  1                 0            1             6,700.00   \n",
       "3                  1                 0            1             5,000.00   \n",
       "4                  1                 0            1             1,546.00   \n",
       "\n",
       "     gross_square_feet  year_built  tax_class_at_time_of_sale  \\\n",
       "0             4,696.00        1985                          1   \n",
       "1             2,128.00        1980                          1   \n",
       "2             3,348.00        1980                          1   \n",
       "3             1,520.00        1910                          1   \n",
       "4             1,579.00        1986                          1   \n",
       "\n",
       "  building_class_at_time_of_sale      sale_price sale_date  \n",
       "0                             A1  1,200,000.00    15.08.12  \n",
       "1                             A1    127,500.00    26.09.12  \n",
       "2                             A1    600,000.00    31.05.12  \n",
       "3                             A1    237,276.00    29.11.12  \n",
       "4                             A5    322,500.00    19.03.12  "
      ]
     },
     "execution_count": 277,
     "metadata": {},
     "output_type": "execute_result"
    }
   ],
   "source": [
    "# Inspect head of df_p3\n",
    "df_p3.head(5)"
   ]
  },
  {
   "cell_type": "code",
   "execution_count": 278,
   "id": "e82af3e7",
   "metadata": {},
   "outputs": [],
   "source": [
    "# Check for mixed-type columns in df_p3\n",
    "for col in df_p3.columns.tolist():\n",
    "  weird = (df_p3[[col]].applymap(type) != df_p3[[col]].iloc[0].apply(type)).any(axis = 1)\n",
    "  if len (df_p3[weird]) > 0:\n",
    "    print (col)"
   ]
  },
  {
   "cell_type": "markdown",
   "id": "d4efc16b",
   "metadata": {},
   "source": [
    "## 02.7 Remarks for cleaning on df_p3\n",
    "21 columns, 499793 rows.\n",
    "\n",
    "Only borough number (not name) included.\n",
    "\n",
    "Missing values remain missing (not imported as NaN, but also identified as non-null).\n",
    "\n",
    "Sale_price imported as string. Sale_date imported as string.\n",
    "\n",
    "No mixed-type columns."
   ]
  },
  {
   "cell_type": "markdown",
   "id": "52e535fe",
   "metadata": {},
   "source": [
    "## 02.8 Check df_p4"
   ]
  },
  {
   "cell_type": "code",
   "execution_count": 279,
   "id": "f17b944d",
   "metadata": {},
   "outputs": [
    {
     "name": "stdout",
     "output_type": "stream",
     "text": [
      "<class 'pandas.core.frame.DataFrame'>\n",
      "RangeIndex: 484134 entries, 0 to 484133\n",
      "Data columns (total 21 columns):\n",
      " #   Column                          Non-Null Count   Dtype  \n",
      "---  ------                          --------------   -----  \n",
      " 0   borough                         484134 non-null  int64  \n",
      " 1   neighborhood                    484134 non-null  object \n",
      " 2   building_class_category         484134 non-null  object \n",
      " 3   tax_class_at_present            484134 non-null  object \n",
      " 4   block                           484134 non-null  int64  \n",
      " 5   lot                             484134 non-null  int64  \n",
      " 6   easement                        484134 non-null  object \n",
      " 7   building_class_at_present       484134 non-null  object \n",
      " 8   address                         484134 non-null  object \n",
      " 9   apartment_number                484134 non-null  object \n",
      " 10  zip_code                        484134 non-null  int64  \n",
      " 11  residential_units               484134 non-null  int64  \n",
      " 12  commercial_units                484134 non-null  int64  \n",
      " 13  total_units                     484134 non-null  int64  \n",
      " 14  land_square_feet                484134 non-null  float64\n",
      " 15  gross_square_feet               484134 non-null  float64\n",
      " 16  year_built                      484134 non-null  int64  \n",
      " 17  tax_class_at_time_of_sale       484134 non-null  int64  \n",
      " 18  building_class_at_time_of_sale  484134 non-null  object \n",
      " 19  sale_price                      484134 non-null  object \n",
      " 20  sale_date                       484134 non-null  object \n",
      "dtypes: float64(2), int64(9), object(10)\n",
      "memory usage: 77.6+ MB\n"
     ]
    }
   ],
   "source": [
    "# Get info on df_p4\n",
    "df_p4.info()"
   ]
  },
  {
   "cell_type": "code",
   "execution_count": 280,
   "id": "58ef067e",
   "metadata": {},
   "outputs": [
    {
     "data": {
      "text/html": [
       "<div>\n",
       "<style scoped>\n",
       "    .dataframe tbody tr th:only-of-type {\n",
       "        vertical-align: middle;\n",
       "    }\n",
       "\n",
       "    .dataframe tbody tr th {\n",
       "        vertical-align: top;\n",
       "    }\n",
       "\n",
       "    .dataframe thead th {\n",
       "        text-align: right;\n",
       "    }\n",
       "</style>\n",
       "<table border=\"1\" class=\"dataframe\">\n",
       "  <thead>\n",
       "    <tr style=\"text-align: right;\">\n",
       "      <th></th>\n",
       "      <th>borough</th>\n",
       "      <th>neighborhood</th>\n",
       "      <th>building_class_category</th>\n",
       "      <th>tax_class_at_present</th>\n",
       "      <th>block</th>\n",
       "      <th>lot</th>\n",
       "      <th>easement</th>\n",
       "      <th>building_class_at_present</th>\n",
       "      <th>address</th>\n",
       "      <th>apartment_number</th>\n",
       "      <th>zip_code</th>\n",
       "      <th>residential_units</th>\n",
       "      <th>commercial_units</th>\n",
       "      <th>total_units</th>\n",
       "      <th>land_square_feet</th>\n",
       "      <th>gross_square_feet</th>\n",
       "      <th>year_built</th>\n",
       "      <th>tax_class_at_time_of_sale</th>\n",
       "      <th>building_class_at_time_of_sale</th>\n",
       "      <th>sale_price</th>\n",
       "      <th>sale_date</th>\n",
       "    </tr>\n",
       "  </thead>\n",
       "  <tbody>\n",
       "    <tr>\n",
       "      <th>0</th>\n",
       "      <td>5</td>\n",
       "      <td>ANNADALE</td>\n",
       "      <td>01  ONE FAMILY HOMES</td>\n",
       "      <td>1</td>\n",
       "      <td>5394</td>\n",
       "      <td>8</td>\n",
       "      <td></td>\n",
       "      <td>A1</td>\n",
       "      <td>16 FINGAL STREET</td>\n",
       "      <td></td>\n",
       "      <td>10312</td>\n",
       "      <td>1</td>\n",
       "      <td>0</td>\n",
       "      <td>1</td>\n",
       "      <td>10,000.00</td>\n",
       "      <td>5,163.00</td>\n",
       "      <td>1985</td>\n",
       "      <td>1</td>\n",
       "      <td>A1</td>\n",
       "      <td>1,360,000.00</td>\n",
       "      <td>21.07.06</td>\n",
       "    </tr>\n",
       "    <tr>\n",
       "      <th>1</th>\n",
       "      <td>5</td>\n",
       "      <td>ANNADALE</td>\n",
       "      <td>01  ONE FAMILY HOMES</td>\n",
       "      <td>1</td>\n",
       "      <td>5395</td>\n",
       "      <td>4</td>\n",
       "      <td></td>\n",
       "      <td>A1</td>\n",
       "      <td>26 EDWIN STREET</td>\n",
       "      <td></td>\n",
       "      <td>10312</td>\n",
       "      <td>1</td>\n",
       "      <td>0</td>\n",
       "      <td>1</td>\n",
       "      <td>7,654.00</td>\n",
       "      <td>2,277.00</td>\n",
       "      <td>1980</td>\n",
       "      <td>1</td>\n",
       "      <td>A1</td>\n",
       "      <td>900,000.00</td>\n",
       "      <td>05.09.06</td>\n",
       "    </tr>\n",
       "    <tr>\n",
       "      <th>2</th>\n",
       "      <td>5</td>\n",
       "      <td>ANNADALE</td>\n",
       "      <td>01  ONE FAMILY HOMES</td>\n",
       "      <td>1</td>\n",
       "      <td>5395</td>\n",
       "      <td>19</td>\n",
       "      <td></td>\n",
       "      <td>A1</td>\n",
       "      <td>4 EDWIN STREET</td>\n",
       "      <td></td>\n",
       "      <td>10312</td>\n",
       "      <td>1</td>\n",
       "      <td>0</td>\n",
       "      <td>1</td>\n",
       "      <td>7,258.00</td>\n",
       "      <td>2,230.00</td>\n",
       "      <td>1980</td>\n",
       "      <td>1</td>\n",
       "      <td>A1</td>\n",
       "      <td>785,000.00</td>\n",
       "      <td>21.07.06</td>\n",
       "    </tr>\n",
       "    <tr>\n",
       "      <th>3</th>\n",
       "      <td>5</td>\n",
       "      <td>ANNADALE</td>\n",
       "      <td>01  ONE FAMILY HOMES</td>\n",
       "      <td>1</td>\n",
       "      <td>5396</td>\n",
       "      <td>46</td>\n",
       "      <td></td>\n",
       "      <td>A1</td>\n",
       "      <td>31 TALLMAN STREET</td>\n",
       "      <td></td>\n",
       "      <td>10312</td>\n",
       "      <td>1</td>\n",
       "      <td>0</td>\n",
       "      <td>1</td>\n",
       "      <td>10,080.00</td>\n",
       "      <td>4,400.00</td>\n",
       "      <td>1991</td>\n",
       "      <td>1</td>\n",
       "      <td>A1</td>\n",
       "      <td>1,200,000.00</td>\n",
       "      <td>27.09.06</td>\n",
       "    </tr>\n",
       "    <tr>\n",
       "      <th>4</th>\n",
       "      <td>5</td>\n",
       "      <td>ANNADALE</td>\n",
       "      <td>01  ONE FAMILY HOMES</td>\n",
       "      <td>1</td>\n",
       "      <td>5397</td>\n",
       "      <td>7</td>\n",
       "      <td></td>\n",
       "      <td>A1</td>\n",
       "      <td>20 TALLMAN STREET</td>\n",
       "      <td></td>\n",
       "      <td>10312</td>\n",
       "      <td>1</td>\n",
       "      <td>0</td>\n",
       "      <td>1</td>\n",
       "      <td>10,800.00</td>\n",
       "      <td>4,157.00</td>\n",
       "      <td>1984</td>\n",
       "      <td>1</td>\n",
       "      <td>A1</td>\n",
       "      <td>1,094,500.00</td>\n",
       "      <td>12.05.06</td>\n",
       "    </tr>\n",
       "  </tbody>\n",
       "</table>\n",
       "</div>"
      ],
      "text/plain": [
       "   borough               neighborhood  \\\n",
       "0        5  ANNADALE                    \n",
       "1        5  ANNADALE                    \n",
       "2        5  ANNADALE                    \n",
       "3        5  ANNADALE                    \n",
       "4        5  ANNADALE                    \n",
       "\n",
       "                        building_class_category tax_class_at_present  block  \\\n",
       "0  01  ONE FAMILY HOMES                                            1   5394   \n",
       "1  01  ONE FAMILY HOMES                                            1   5395   \n",
       "2  01  ONE FAMILY HOMES                                            1   5395   \n",
       "3  01  ONE FAMILY HOMES                                            1   5396   \n",
       "4  01  ONE FAMILY HOMES                                            1   5397   \n",
       "\n",
       "   lot easement building_class_at_present  \\\n",
       "0    8                                 A1   \n",
       "1    4                                 A1   \n",
       "2   19                                 A1   \n",
       "3   46                                 A1   \n",
       "4    7                                 A1   \n",
       "\n",
       "                                     address apartment_number  zip_code  \\\n",
       "0  16 FINGAL STREET                                               10312   \n",
       "1  26 EDWIN STREET                                                10312   \n",
       "2  4 EDWIN STREET                                                 10312   \n",
       "3  31 TALLMAN STREET                                              10312   \n",
       "4  20 TALLMAN STREET                                              10312   \n",
       "\n",
       "   residential_units  commercial_units  total_units     land_square_feet  \\\n",
       "0                  1                 0            1            10,000.00   \n",
       "1                  1                 0            1             7,654.00   \n",
       "2                  1                 0            1             7,258.00   \n",
       "3                  1                 0            1            10,080.00   \n",
       "4                  1                 0            1            10,800.00   \n",
       "\n",
       "     gross_square_feet  year_built  tax_class_at_time_of_sale  \\\n",
       "0             5,163.00        1985                          1   \n",
       "1             2,277.00        1980                          1   \n",
       "2             2,230.00        1980                          1   \n",
       "3             4,400.00        1991                          1   \n",
       "4             4,157.00        1984                          1   \n",
       "\n",
       "  building_class_at_time_of_sale      sale_price sale_date  \n",
       "0                             A1  1,360,000.00    21.07.06  \n",
       "1                             A1    900,000.00    05.09.06  \n",
       "2                             A1    785,000.00    21.07.06  \n",
       "3                             A1  1,200,000.00    27.09.06  \n",
       "4                             A1  1,094,500.00    12.05.06  "
      ]
     },
     "execution_count": 280,
     "metadata": {},
     "output_type": "execute_result"
    }
   ],
   "source": [
    "# Inspect head of df_p4\n",
    "df_p4.head(5)"
   ]
  },
  {
   "cell_type": "code",
   "execution_count": 281,
   "id": "ffdfdae9",
   "metadata": {},
   "outputs": [],
   "source": [
    "# Check for mixed-type columns in df_p4\n",
    "for col in df_p4.columns.tolist():\n",
    "  weird = (df_p4[[col]].applymap(type) != df_p4[[col]].iloc[0].apply(type)).any(axis = 1)\n",
    "  if len (df_p4[weird]) > 0:\n",
    "    print (col)"
   ]
  },
  {
   "cell_type": "markdown",
   "id": "aef25902",
   "metadata": {},
   "source": [
    "## 02.9 Remarks for cleaning on df_p4\n",
    "21 columns, 484134 rows.\n",
    "\n",
    "Only borough number (not name) included.\n",
    "\n",
    "Missing values remain missing (not imported as NaN, but also identified as non-null).\n",
    "\n",
    "Sale_price imported as string. Sale_date imported as string.\n",
    "\n",
    "No mixed-type columns."
   ]
  },
  {
   "cell_type": "markdown",
   "id": "2fc66eb8",
   "metadata": {},
   "source": [
    "## 02.10 Check df_roll"
   ]
  },
  {
   "cell_type": "code",
   "execution_count": 282,
   "id": "6bd4655c",
   "metadata": {},
   "outputs": [
    {
     "name": "stdout",
     "output_type": "stream",
     "text": [
      "<class 'pandas.core.frame.DataFrame'>\n",
      "Int64Index: 84391 entries, 0 to 84390\n",
      "Data columns (total 21 columns):\n",
      " #   Column                          Non-Null Count  Dtype  \n",
      "---  ------                          --------------  -----  \n",
      " 0   borough                         84391 non-null  float64\n",
      " 1   neighborhood                    84391 non-null  object \n",
      " 2   building_class_category         84391 non-null  object \n",
      " 3   tax_class_at_present            84310 non-null  object \n",
      " 4   block                           84391 non-null  float64\n",
      " 5   lot                             84391 non-null  float64\n",
      " 6   easement                        0 non-null      float64\n",
      " 7   building_class_at_present       84310 non-null  object \n",
      " 8   address                         84391 non-null  object \n",
      " 9   apartment_number                21338 non-null  object \n",
      " 10  zip_code                        84384 non-null  float64\n",
      " 11  residential_units               63144 non-null  float64\n",
      " 12  commercial_units                47138 non-null  float64\n",
      " 13  total_units                     65877 non-null  float64\n",
      " 14  land_square_feet                44405 non-null  float64\n",
      " 15  gross_square_feet               44405 non-null  float64\n",
      " 16  year_built                      78883 non-null  float64\n",
      " 17  tax_class_at_time_of_sale       84391 non-null  float64\n",
      " 18  building_class_at_time_of_sale  84391 non-null  object \n",
      " 19  sale_price                      84391 non-null  object \n",
      " 20  sale_date                       84391 non-null  object \n",
      "dtypes: float64(12), object(9)\n",
      "memory usage: 14.2+ MB\n"
     ]
    }
   ],
   "source": [
    "# Get info on df_roll\n",
    "df_roll.info()"
   ]
  },
  {
   "cell_type": "code",
   "execution_count": 283,
   "id": "e025c88b",
   "metadata": {},
   "outputs": [
    {
     "data": {
      "text/html": [
       "<div>\n",
       "<style scoped>\n",
       "    .dataframe tbody tr th:only-of-type {\n",
       "        vertical-align: middle;\n",
       "    }\n",
       "\n",
       "    .dataframe tbody tr th {\n",
       "        vertical-align: top;\n",
       "    }\n",
       "\n",
       "    .dataframe thead th {\n",
       "        text-align: right;\n",
       "    }\n",
       "</style>\n",
       "<table border=\"1\" class=\"dataframe\">\n",
       "  <thead>\n",
       "    <tr style=\"text-align: right;\">\n",
       "      <th></th>\n",
       "      <th>borough</th>\n",
       "      <th>neighborhood</th>\n",
       "      <th>building_class_category</th>\n",
       "      <th>tax_class_at_present</th>\n",
       "      <th>block</th>\n",
       "      <th>lot</th>\n",
       "      <th>easement</th>\n",
       "      <th>building_class_at_present</th>\n",
       "      <th>address</th>\n",
       "      <th>apartment_number</th>\n",
       "      <th>zip_code</th>\n",
       "      <th>residential_units</th>\n",
       "      <th>commercial_units</th>\n",
       "      <th>total_units</th>\n",
       "      <th>land_square_feet</th>\n",
       "      <th>gross_square_feet</th>\n",
       "      <th>year_built</th>\n",
       "      <th>tax_class_at_time_of_sale</th>\n",
       "      <th>building_class_at_time_of_sale</th>\n",
       "      <th>sale_price</th>\n",
       "      <th>sale_date</th>\n",
       "    </tr>\n",
       "  </thead>\n",
       "  <tbody>\n",
       "    <tr>\n",
       "      <th>0</th>\n",
       "      <td>5.00</td>\n",
       "      <td>ANNADALE</td>\n",
       "      <td>01 ONE FAMILY DWELLINGS</td>\n",
       "      <td>1</td>\n",
       "      <td>5,391.00</td>\n",
       "      <td>7.00</td>\n",
       "      <td>NaN</td>\n",
       "      <td>A5</td>\n",
       "      <td>4732 AMBOY ROAD</td>\n",
       "      <td>NaN</td>\n",
       "      <td>10,312.00</td>\n",
       "      <td>1.00</td>\n",
       "      <td>0.00</td>\n",
       "      <td>1.00</td>\n",
       "      <td>3,655.00</td>\n",
       "      <td>910.00</td>\n",
       "      <td>2,002.00</td>\n",
       "      <td>1.00</td>\n",
       "      <td>A5</td>\n",
       "      <td>764,000.00</td>\n",
       "      <td>30.06.22</td>\n",
       "    </tr>\n",
       "    <tr>\n",
       "      <th>1</th>\n",
       "      <td>5.00</td>\n",
       "      <td>ANNADALE</td>\n",
       "      <td>01 ONE FAMILY DWELLINGS</td>\n",
       "      <td>1</td>\n",
       "      <td>5,395.00</td>\n",
       "      <td>4.00</td>\n",
       "      <td>NaN</td>\n",
       "      <td>A1</td>\n",
       "      <td>26 EDWIN STREET</td>\n",
       "      <td>NaN</td>\n",
       "      <td>10,312.00</td>\n",
       "      <td>1.00</td>\n",
       "      <td>0.00</td>\n",
       "      <td>1.00</td>\n",
       "      <td>7,654.00</td>\n",
       "      <td>2,277.00</td>\n",
       "      <td>1,980.00</td>\n",
       "      <td>1.00</td>\n",
       "      <td>A1</td>\n",
       "      <td>1,098,000.00</td>\n",
       "      <td>19.08.22</td>\n",
       "    </tr>\n",
       "    <tr>\n",
       "      <th>2</th>\n",
       "      <td>5.00</td>\n",
       "      <td>ANNADALE</td>\n",
       "      <td>01 ONE FAMILY DWELLINGS</td>\n",
       "      <td>1</td>\n",
       "      <td>5,395.00</td>\n",
       "      <td>32.00</td>\n",
       "      <td>NaN</td>\n",
       "      <td>A1</td>\n",
       "      <td>541 SYCAMORE STREET</td>\n",
       "      <td>NaN</td>\n",
       "      <td>10,312.00</td>\n",
       "      <td>1.00</td>\n",
       "      <td>0.00</td>\n",
       "      <td>1.00</td>\n",
       "      <td>13,320.00</td>\n",
       "      <td>4,696.00</td>\n",
       "      <td>1,985.00</td>\n",
       "      <td>1.00</td>\n",
       "      <td>A1</td>\n",
       "      <td>0.00</td>\n",
       "      <td>20.04.22</td>\n",
       "    </tr>\n",
       "    <tr>\n",
       "      <th>3</th>\n",
       "      <td>5.00</td>\n",
       "      <td>ANNADALE</td>\n",
       "      <td>01 ONE FAMILY DWELLINGS</td>\n",
       "      <td>1</td>\n",
       "      <td>5,396.00</td>\n",
       "      <td>41.00</td>\n",
       "      <td>NaN</td>\n",
       "      <td>A1</td>\n",
       "      <td>21 TALLMAN STREET</td>\n",
       "      <td>NaN</td>\n",
       "      <td>10,312.00</td>\n",
       "      <td>1.00</td>\n",
       "      <td>0.00</td>\n",
       "      <td>1.00</td>\n",
       "      <td>9,968.00</td>\n",
       "      <td>3,940.00</td>\n",
       "      <td>1,990.00</td>\n",
       "      <td>1.00</td>\n",
       "      <td>A1</td>\n",
       "      <td>1,275,000.00</td>\n",
       "      <td>17.03.23</td>\n",
       "    </tr>\n",
       "    <tr>\n",
       "      <th>4</th>\n",
       "      <td>5.00</td>\n",
       "      <td>ANNADALE</td>\n",
       "      <td>01 ONE FAMILY DWELLINGS</td>\n",
       "      <td>1</td>\n",
       "      <td>5,401.00</td>\n",
       "      <td>42.00</td>\n",
       "      <td>NaN</td>\n",
       "      <td>A2</td>\n",
       "      <td>265 HAROLD AVENUE</td>\n",
       "      <td>NaN</td>\n",
       "      <td>10,312.00</td>\n",
       "      <td>1.00</td>\n",
       "      <td>0.00</td>\n",
       "      <td>1.00</td>\n",
       "      <td>8,190.00</td>\n",
       "      <td>2,100.00</td>\n",
       "      <td>1,980.00</td>\n",
       "      <td>1.00</td>\n",
       "      <td>A2</td>\n",
       "      <td>385,000.00</td>\n",
       "      <td>16.02.23</td>\n",
       "    </tr>\n",
       "  </tbody>\n",
       "</table>\n",
       "</div>"
      ],
      "text/plain": [
       "               borough neighborhood  building_class_category  \\\n",
       "0                 5.00     ANNADALE  01 ONE FAMILY DWELLINGS   \n",
       "1                 5.00     ANNADALE  01 ONE FAMILY DWELLINGS   \n",
       "2                 5.00     ANNADALE  01 ONE FAMILY DWELLINGS   \n",
       "3                 5.00     ANNADALE  01 ONE FAMILY DWELLINGS   \n",
       "4                 5.00     ANNADALE  01 ONE FAMILY DWELLINGS   \n",
       "\n",
       "  tax_class_at_present                block                  lot  easement  \\\n",
       "0                    1             5,391.00                 7.00       NaN   \n",
       "1                    1             5,395.00                 4.00       NaN   \n",
       "2                    1             5,395.00                32.00       NaN   \n",
       "3                    1             5,396.00                41.00       NaN   \n",
       "4                    1             5,401.00                42.00       NaN   \n",
       "\n",
       "  building_class_at_present              address apartment_number  \\\n",
       "0                        A5      4732 AMBOY ROAD              NaN   \n",
       "1                        A1      26 EDWIN STREET              NaN   \n",
       "2                        A1  541 SYCAMORE STREET              NaN   \n",
       "3                        A1    21 TALLMAN STREET              NaN   \n",
       "4                        A2    265 HAROLD AVENUE              NaN   \n",
       "\n",
       "              zip_code    residential_units     commercial_units  \\\n",
       "0            10,312.00                 1.00                 0.00   \n",
       "1            10,312.00                 1.00                 0.00   \n",
       "2            10,312.00                 1.00                 0.00   \n",
       "3            10,312.00                 1.00                 0.00   \n",
       "4            10,312.00                 1.00                 0.00   \n",
       "\n",
       "           total_units     land_square_feet    gross_square_feet  \\\n",
       "0                 1.00             3,655.00               910.00   \n",
       "1                 1.00             7,654.00             2,277.00   \n",
       "2                 1.00            13,320.00             4,696.00   \n",
       "3                 1.00             9,968.00             3,940.00   \n",
       "4                 1.00             8,190.00             2,100.00   \n",
       "\n",
       "            year_built  tax_class_at_time_of_sale  \\\n",
       "0             2,002.00                       1.00   \n",
       "1             1,980.00                       1.00   \n",
       "2             1,985.00                       1.00   \n",
       "3             1,990.00                       1.00   \n",
       "4             1,980.00                       1.00   \n",
       "\n",
       "  building_class_at_time_of_sale      sale_price sale_date  \n",
       "0                             A5    764,000.00    30.06.22  \n",
       "1                             A1  1,098,000.00    19.08.22  \n",
       "2                             A1          0.00    20.04.22  \n",
       "3                             A1  1,275,000.00    17.03.23  \n",
       "4                             A2    385,000.00    16.02.23  "
      ]
     },
     "execution_count": 283,
     "metadata": {},
     "output_type": "execute_result"
    }
   ],
   "source": [
    "# Inspect head of df_roll\n",
    "df_roll.head(5)"
   ]
  },
  {
   "cell_type": "code",
   "execution_count": 284,
   "id": "37a0d4ba",
   "metadata": {},
   "outputs": [
    {
     "name": "stdout",
     "output_type": "stream",
     "text": [
      "tax_class_at_present\n",
      "building_class_at_present\n",
      "apartment_number\n"
     ]
    }
   ],
   "source": [
    "# Check for mixed-type columns in df_roll\n",
    "for col in df_roll.columns.tolist():\n",
    "  weird = (df_roll[[col]].applymap(type) != df_roll[[col]].iloc[0].apply(type)).any(axis = 1)\n",
    "  if len (df_roll[weird]) > 0:\n",
    "    print (col)"
   ]
  },
  {
   "cell_type": "markdown",
   "id": "be1a1c96",
   "metadata": {},
   "source": [
    "## 02.11 Remarks for cleaning on df_roll\n",
    "21 columns, 84391 rows.\n",
    "\n",
    "Missing values imported as NaN. Missing values in: tax_class_at_present, easement, building_class_at_present, apartment_number, zip_code, residential_units, commercial_units, total_units, land_square_feet, cross_square_feet, year_built\n",
    "\n",
    "Borough imported as floating point number.\n",
    "Only borough number (not name) included.\n",
    "Block imported as floating point number.\n",
    "Lot imported as floating point number.\n",
    "ZIP code imported as floating point number.\n",
    "Residential units imported as floating point number.\n",
    "Commercial units imported as floating point number.\n",
    "Total units imported as floating point number.\n",
    "Year built imported as floating point number.\n",
    "Tax class at time of sale imported as floating point number.\n",
    "Sale_price imported as string. \n",
    "Sale_date imported as string.\n",
    "\n",
    "Mixed type columns are tax class at present, building class at present, apartment number. "
   ]
  },
  {
   "cell_type": "markdown",
   "id": "d621700b",
   "metadata": {},
   "source": [
    "# 03 Data cleaning - individual dataframes"
   ]
  },
  {
   "cell_type": "markdown",
   "id": "51f4c3aa",
   "metadata": {},
   "source": [
    "## 03.1 Address mixed-type columns in df_p1"
   ]
  },
  {
   "cell_type": "code",
   "execution_count": 285,
   "id": "307713da",
   "metadata": {},
   "outputs": [],
   "source": [
    "# Fix mixed data types in df_p1\n",
    "df_p1['tax_class_at_present'] = df_p1['tax_class_at_present'].astype('str')\n",
    "df_p1['building_class_at_present'] = df_p1['building_class_at_present'].astype('str')\n",
    "df_p1['apartment_number'] = df_p1['apartment_number'].astype('str')"
   ]
  },
  {
   "cell_type": "code",
   "execution_count": 286,
   "id": "3bdf58b9",
   "metadata": {},
   "outputs": [],
   "source": [
    "# Check for fixing mixed-type columns in df_p1\n",
    "for col in df_p1.columns.tolist():\n",
    "  weird = (df_p1[[col]].applymap(type) != df_p1[[col]].iloc[0].apply(type)).any(axis = 1)\n",
    "  if len (df_p1[weird]) > 0:\n",
    "    print (col)"
   ]
  },
  {
   "cell_type": "markdown",
   "id": "e4ec18aa",
   "metadata": {},
   "source": [
    "No mixed-type columns remain in df_p1."
   ]
  },
  {
   "cell_type": "markdown",
   "id": "e96585ea",
   "metadata": {},
   "source": [
    "## 03.2 Address mixed-type columns in df_roll"
   ]
  },
  {
   "cell_type": "code",
   "execution_count": 287,
   "id": "dc3ba19d",
   "metadata": {},
   "outputs": [],
   "source": [
    "# Fix mixed data types in df_roll\n",
    "df_roll['tax_class_at_present'] = df_roll['tax_class_at_present'].astype('str')\n",
    "df_roll['building_class_at_present'] = df_roll['building_class_at_present'].astype('str')\n",
    "df_roll['apartment_number'] = df_roll['apartment_number'].astype('str')"
   ]
  },
  {
   "cell_type": "code",
   "execution_count": 288,
   "id": "f4dee9de",
   "metadata": {},
   "outputs": [],
   "source": [
    "# Check again for mixed-type columns in df_roll\n",
    "for col in df_roll.columns.tolist():\n",
    "  weird = (df_roll[[col]].applymap(type) != df_roll[[col]].iloc[0].apply(type)).any(axis = 1)\n",
    "  if len (df_roll[weird]) > 0:\n",
    "    print (col)"
   ]
  },
  {
   "cell_type": "markdown",
   "id": "e8637eda",
   "metadata": {},
   "source": [
    "No mixed-type columns remain in df_roll."
   ]
  },
  {
   "cell_type": "markdown",
   "id": "6ee2f955",
   "metadata": {},
   "source": [
    "## 03.3 Address column sale_price in all dataframes"
   ]
  },
  {
   "cell_type": "code",
   "execution_count": 289,
   "id": "d0d9665a",
   "metadata": {},
   "outputs": [],
   "source": [
    "# Remove commas from column sale_price to prepare for conversion to floating point number\n",
    "df_p1['sale_price'] = df_p1['sale_price'].str.replace(',','')\n",
    "df_p2['sale_price'] = df_p2['sale_price'].str.replace(',','')\n",
    "df_p3['sale_price'] = df_p3['sale_price'].str.replace(',','')\n",
    "df_p4['sale_price'] = df_p4['sale_price'].str.replace(',','')\n",
    "df_roll['sale_price'] = df_roll['sale_price'].str.replace(',','')"
   ]
  },
  {
   "cell_type": "code",
   "execution_count": 290,
   "id": "5932a27f",
   "metadata": {},
   "outputs": [],
   "source": [
    "# Convert sale_price to floating point number\n",
    "df_p1['sale_price'] = df_p1['sale_price'].astype('float')\n",
    "df_p2['sale_price'] = df_p2['sale_price'].astype('float')\n",
    "df_p3['sale_price'] = df_p3['sale_price'].astype('float')\n",
    "df_p4['sale_price'] = df_p4['sale_price'].astype('float')\n",
    "df_roll['sale_price'] = df_roll['sale_price'].astype('float')"
   ]
  },
  {
   "cell_type": "code",
   "execution_count": 291,
   "id": "4c49c985",
   "metadata": {},
   "outputs": [
    {
     "data": {
      "text/plain": [
       "dtype('float64')"
      ]
     },
     "execution_count": 291,
     "metadata": {},
     "output_type": "execute_result"
    }
   ],
   "source": [
    "# Check whether data type for sale_price was converted for df_p1\n",
    "df_p1['sale_price'].dtype"
   ]
  },
  {
   "cell_type": "code",
   "execution_count": 292,
   "id": "6d57a379",
   "metadata": {},
   "outputs": [
    {
     "data": {
      "text/plain": [
       "dtype('float64')"
      ]
     },
     "execution_count": 292,
     "metadata": {},
     "output_type": "execute_result"
    }
   ],
   "source": [
    "# Check whether data type for sale_price was converted for df_p2\n",
    "df_p2['sale_price'].dtype"
   ]
  },
  {
   "cell_type": "code",
   "execution_count": 293,
   "id": "b6991489",
   "metadata": {},
   "outputs": [
    {
     "data": {
      "text/plain": [
       "dtype('float64')"
      ]
     },
     "execution_count": 293,
     "metadata": {},
     "output_type": "execute_result"
    }
   ],
   "source": [
    "# Check whether data type for sale_price was converted for df_p3\n",
    "df_p3['sale_price'].dtype"
   ]
  },
  {
   "cell_type": "code",
   "execution_count": 294,
   "id": "4dacd746",
   "metadata": {},
   "outputs": [
    {
     "data": {
      "text/plain": [
       "dtype('float64')"
      ]
     },
     "execution_count": 294,
     "metadata": {},
     "output_type": "execute_result"
    }
   ],
   "source": [
    "# Check whether data type for sale_price was converted for df_p4\n",
    "df_p4['sale_price'].dtype"
   ]
  },
  {
   "cell_type": "code",
   "execution_count": 295,
   "id": "5ba6c8e0",
   "metadata": {},
   "outputs": [
    {
     "data": {
      "text/plain": [
       "dtype('float64')"
      ]
     },
     "execution_count": 295,
     "metadata": {},
     "output_type": "execute_result"
    }
   ],
   "source": [
    "# Check whether data type for sale_price was converted for df_roll\n",
    "df_roll['sale_price'].dtype"
   ]
  },
  {
   "cell_type": "code",
   "execution_count": 296,
   "id": "c70c61c7",
   "metadata": {},
   "outputs": [
    {
     "data": {
      "text/html": [
       "<div>\n",
       "<style scoped>\n",
       "    .dataframe tbody tr th:only-of-type {\n",
       "        vertical-align: middle;\n",
       "    }\n",
       "\n",
       "    .dataframe tbody tr th {\n",
       "        vertical-align: top;\n",
       "    }\n",
       "\n",
       "    .dataframe thead th {\n",
       "        text-align: right;\n",
       "    }\n",
       "</style>\n",
       "<table border=\"1\" class=\"dataframe\">\n",
       "  <thead>\n",
       "    <tr style=\"text-align: right;\">\n",
       "      <th></th>\n",
       "      <th>borough</th>\n",
       "      <th>neighborhood</th>\n",
       "      <th>building_class_category</th>\n",
       "      <th>tax_class_at_present</th>\n",
       "      <th>block</th>\n",
       "      <th>lot</th>\n",
       "      <th>easement</th>\n",
       "      <th>building_class_at_present</th>\n",
       "      <th>address</th>\n",
       "      <th>apartment_number</th>\n",
       "      <th>zip_code</th>\n",
       "      <th>residential_units</th>\n",
       "      <th>commercial_units</th>\n",
       "      <th>total_units</th>\n",
       "      <th>land_square_feet</th>\n",
       "      <th>gross_square_feet</th>\n",
       "      <th>year_built</th>\n",
       "      <th>tax_class_at_time_of_sale</th>\n",
       "      <th>building_class_at_time_of_sale</th>\n",
       "      <th>sale_price</th>\n",
       "      <th>sale_date</th>\n",
       "    </tr>\n",
       "  </thead>\n",
       "  <tbody>\n",
       "    <tr>\n",
       "      <th>0</th>\n",
       "      <td>5</td>\n",
       "      <td>ANNADALE</td>\n",
       "      <td>01 ONE FAMILY DWELLINGS</td>\n",
       "      <td>1</td>\n",
       "      <td>5391</td>\n",
       "      <td>7</td>\n",
       "      <td>NaN</td>\n",
       "      <td>A5</td>\n",
       "      <td>4732 AMBOY ROAD</td>\n",
       "      <td>nan</td>\n",
       "      <td>10,312.00</td>\n",
       "      <td>1.00</td>\n",
       "      <td>0.00</td>\n",
       "      <td>1.00</td>\n",
       "      <td>3,654.00</td>\n",
       "      <td>910.00</td>\n",
       "      <td>2,002.00</td>\n",
       "      <td>1</td>\n",
       "      <td>A5</td>\n",
       "      <td>764,000.00</td>\n",
       "      <td>30.06.22</td>\n",
       "    </tr>\n",
       "    <tr>\n",
       "      <th>1</th>\n",
       "      <td>5</td>\n",
       "      <td>ANNADALE</td>\n",
       "      <td>01 ONE FAMILY DWELLINGS</td>\n",
       "      <td>1</td>\n",
       "      <td>5395</td>\n",
       "      <td>4</td>\n",
       "      <td>NaN</td>\n",
       "      <td>A1</td>\n",
       "      <td>26 EDWIN STREET</td>\n",
       "      <td>nan</td>\n",
       "      <td>10,312.00</td>\n",
       "      <td>1.00</td>\n",
       "      <td>0.00</td>\n",
       "      <td>1.00</td>\n",
       "      <td>7,654.00</td>\n",
       "      <td>2,277.00</td>\n",
       "      <td>1,980.00</td>\n",
       "      <td>1</td>\n",
       "      <td>A1</td>\n",
       "      <td>1,098,000.00</td>\n",
       "      <td>19.08.22</td>\n",
       "    </tr>\n",
       "  </tbody>\n",
       "</table>\n",
       "</div>"
      ],
      "text/plain": [
       "   borough neighborhood  building_class_category tax_class_at_present  block  \\\n",
       "0        5     ANNADALE  01 ONE FAMILY DWELLINGS                    1   5391   \n",
       "1        5     ANNADALE  01 ONE FAMILY DWELLINGS                    1   5395   \n",
       "\n",
       "   lot  easement building_class_at_present          address apartment_number  \\\n",
       "0    7       NaN                        A5  4732 AMBOY ROAD              nan   \n",
       "1    4       NaN                        A1  26 EDWIN STREET              nan   \n",
       "\n",
       "              zip_code    residential_units     commercial_units  \\\n",
       "0            10,312.00                 1.00                 0.00   \n",
       "1            10,312.00                 1.00                 0.00   \n",
       "\n",
       "           total_units     land_square_feet    gross_square_feet  \\\n",
       "0                 1.00             3,654.00               910.00   \n",
       "1                 1.00             7,654.00             2,277.00   \n",
       "\n",
       "            year_built  tax_class_at_time_of_sale  \\\n",
       "0             2,002.00                          1   \n",
       "1             1,980.00                          1   \n",
       "\n",
       "  building_class_at_time_of_sale           sale_price sale_date  \n",
       "0                             A5           764,000.00  30.06.22  \n",
       "1                             A1         1,098,000.00  19.08.22  "
      ]
     },
     "execution_count": 296,
     "metadata": {},
     "output_type": "execute_result"
    }
   ],
   "source": [
    "# Check how values in df_p1 look after conversion of sale_price\n",
    "df_p1.head(2)"
   ]
  },
  {
   "cell_type": "code",
   "execution_count": 297,
   "id": "0dbdd384",
   "metadata": {},
   "outputs": [
    {
     "data": {
      "text/html": [
       "<div>\n",
       "<style scoped>\n",
       "    .dataframe tbody tr th:only-of-type {\n",
       "        vertical-align: middle;\n",
       "    }\n",
       "\n",
       "    .dataframe tbody tr th {\n",
       "        vertical-align: top;\n",
       "    }\n",
       "\n",
       "    .dataframe thead th {\n",
       "        text-align: right;\n",
       "    }\n",
       "</style>\n",
       "<table border=\"1\" class=\"dataframe\">\n",
       "  <thead>\n",
       "    <tr style=\"text-align: right;\">\n",
       "      <th></th>\n",
       "      <th>borough</th>\n",
       "      <th>neighborhood</th>\n",
       "      <th>building_class_category</th>\n",
       "      <th>tax_class_at_present</th>\n",
       "      <th>block</th>\n",
       "      <th>lot</th>\n",
       "      <th>easement</th>\n",
       "      <th>building_class_at_present</th>\n",
       "      <th>address</th>\n",
       "      <th>apartment_number</th>\n",
       "      <th>zip_code</th>\n",
       "      <th>residential_units</th>\n",
       "      <th>commercial_units</th>\n",
       "      <th>total_units</th>\n",
       "      <th>land_square_feet</th>\n",
       "      <th>gross_square_feet</th>\n",
       "      <th>year_built</th>\n",
       "      <th>tax_class_at_time_of_sale</th>\n",
       "      <th>building_class_at_time_of_sale</th>\n",
       "      <th>sale_price</th>\n",
       "      <th>sale_date</th>\n",
       "    </tr>\n",
       "  </thead>\n",
       "  <tbody>\n",
       "    <tr>\n",
       "      <th>0</th>\n",
       "      <td>5</td>\n",
       "      <td>ANNADALE</td>\n",
       "      <td>01  ONE FAMILY DWELLINGS</td>\n",
       "      <td>1</td>\n",
       "      <td>5391</td>\n",
       "      <td>9</td>\n",
       "      <td></td>\n",
       "      <td>A5</td>\n",
       "      <td>4726 AMBOY ROAD</td>\n",
       "      <td></td>\n",
       "      <td>10312</td>\n",
       "      <td>1</td>\n",
       "      <td>0</td>\n",
       "      <td>1</td>\n",
       "      <td>3,067.00</td>\n",
       "      <td>1,110.00</td>\n",
       "      <td>2002</td>\n",
       "      <td>1</td>\n",
       "      <td>A5</td>\n",
       "      <td>520,000.00</td>\n",
       "      <td>21.04.16</td>\n",
       "    </tr>\n",
       "    <tr>\n",
       "      <th>1</th>\n",
       "      <td>5</td>\n",
       "      <td>ANNADALE</td>\n",
       "      <td>01  ONE FAMILY DWELLINGS</td>\n",
       "      <td>1</td>\n",
       "      <td>5391</td>\n",
       "      <td>30</td>\n",
       "      <td></td>\n",
       "      <td>A1</td>\n",
       "      <td>1306 ARDEN AVENUE</td>\n",
       "      <td></td>\n",
       "      <td>10312</td>\n",
       "      <td>1</td>\n",
       "      <td>0</td>\n",
       "      <td>1</td>\n",
       "      <td>7,500.00</td>\n",
       "      <td>1,890.00</td>\n",
       "      <td>1952</td>\n",
       "      <td>1</td>\n",
       "      <td>A1</td>\n",
       "      <td>0.00</td>\n",
       "      <td>04.05.16</td>\n",
       "    </tr>\n",
       "  </tbody>\n",
       "</table>\n",
       "</div>"
      ],
      "text/plain": [
       "   borough               neighborhood  \\\n",
       "0        5  ANNADALE                    \n",
       "1        5  ANNADALE                    \n",
       "\n",
       "                        building_class_category tax_class_at_present  block  \\\n",
       "0  01  ONE FAMILY DWELLINGS                                        1   5391   \n",
       "1  01  ONE FAMILY DWELLINGS                                        1   5391   \n",
       "\n",
       "   lot easement building_class_at_present  \\\n",
       "0    9                                 A5   \n",
       "1   30                                 A1   \n",
       "\n",
       "                                     address apartment_number  zip_code  \\\n",
       "0  4726 AMBOY ROAD                                                10312   \n",
       "1  1306 ARDEN AVENUE                                              10312   \n",
       "\n",
       "   residential_units  commercial_units  total_units     land_square_feet  \\\n",
       "0                  1                 0            1             3,067.00   \n",
       "1                  1                 0            1             7,500.00   \n",
       "\n",
       "     gross_square_feet  year_built  tax_class_at_time_of_sale  \\\n",
       "0             1,110.00        2002                          1   \n",
       "1             1,890.00        1952                          1   \n",
       "\n",
       "  building_class_at_time_of_sale           sale_price sale_date  \n",
       "0                             A5           520,000.00  21.04.16  \n",
       "1                             A1                 0.00  04.05.16  "
      ]
     },
     "execution_count": 297,
     "metadata": {},
     "output_type": "execute_result"
    }
   ],
   "source": [
    "# Check how values in df_p2 look after conversion of sale_price\n",
    "df_p2.head(2)"
   ]
  },
  {
   "cell_type": "code",
   "execution_count": 298,
   "id": "371cf501",
   "metadata": {},
   "outputs": [
    {
     "data": {
      "text/html": [
       "<div>\n",
       "<style scoped>\n",
       "    .dataframe tbody tr th:only-of-type {\n",
       "        vertical-align: middle;\n",
       "    }\n",
       "\n",
       "    .dataframe tbody tr th {\n",
       "        vertical-align: top;\n",
       "    }\n",
       "\n",
       "    .dataframe thead th {\n",
       "        text-align: right;\n",
       "    }\n",
       "</style>\n",
       "<table border=\"1\" class=\"dataframe\">\n",
       "  <thead>\n",
       "    <tr style=\"text-align: right;\">\n",
       "      <th></th>\n",
       "      <th>borough</th>\n",
       "      <th>neighborhood</th>\n",
       "      <th>building_class_category</th>\n",
       "      <th>tax_class_at_present</th>\n",
       "      <th>block</th>\n",
       "      <th>lot</th>\n",
       "      <th>easement</th>\n",
       "      <th>building_class_at_present</th>\n",
       "      <th>address</th>\n",
       "      <th>apartment_number</th>\n",
       "      <th>zip_code</th>\n",
       "      <th>residential_units</th>\n",
       "      <th>commercial_units</th>\n",
       "      <th>total_units</th>\n",
       "      <th>land_square_feet</th>\n",
       "      <th>gross_square_feet</th>\n",
       "      <th>year_built</th>\n",
       "      <th>tax_class_at_time_of_sale</th>\n",
       "      <th>building_class_at_time_of_sale</th>\n",
       "      <th>sale_price</th>\n",
       "      <th>sale_date</th>\n",
       "    </tr>\n",
       "  </thead>\n",
       "  <tbody>\n",
       "    <tr>\n",
       "      <th>0</th>\n",
       "      <td>5</td>\n",
       "      <td>ANNADALE</td>\n",
       "      <td>01  ONE FAMILY HOMES</td>\n",
       "      <td>1</td>\n",
       "      <td>5395</td>\n",
       "      <td>32</td>\n",
       "      <td></td>\n",
       "      <td>A1</td>\n",
       "      <td>541 SYCAMORE STREET</td>\n",
       "      <td></td>\n",
       "      <td>10312</td>\n",
       "      <td>1</td>\n",
       "      <td>0</td>\n",
       "      <td>1</td>\n",
       "      <td>13,320.00</td>\n",
       "      <td>4,696.00</td>\n",
       "      <td>1985</td>\n",
       "      <td>1</td>\n",
       "      <td>A1</td>\n",
       "      <td>1,200,000.00</td>\n",
       "      <td>15.08.12</td>\n",
       "    </tr>\n",
       "    <tr>\n",
       "      <th>1</th>\n",
       "      <td>5</td>\n",
       "      <td>ANNADALE</td>\n",
       "      <td>01  ONE FAMILY HOMES</td>\n",
       "      <td>1</td>\n",
       "      <td>5401</td>\n",
       "      <td>38</td>\n",
       "      <td></td>\n",
       "      <td>A1</td>\n",
       "      <td>27 WEAVER STREET</td>\n",
       "      <td></td>\n",
       "      <td>10312</td>\n",
       "      <td>1</td>\n",
       "      <td>0</td>\n",
       "      <td>1</td>\n",
       "      <td>10,833.00</td>\n",
       "      <td>2,128.00</td>\n",
       "      <td>1980</td>\n",
       "      <td>1</td>\n",
       "      <td>A1</td>\n",
       "      <td>127,500.00</td>\n",
       "      <td>26.09.12</td>\n",
       "    </tr>\n",
       "  </tbody>\n",
       "</table>\n",
       "</div>"
      ],
      "text/plain": [
       "   borough               neighborhood  \\\n",
       "0        5  ANNADALE                    \n",
       "1        5  ANNADALE                    \n",
       "\n",
       "                        building_class_category tax_class_at_present  block  \\\n",
       "0  01  ONE FAMILY HOMES                                            1   5395   \n",
       "1  01  ONE FAMILY HOMES                                            1   5401   \n",
       "\n",
       "   lot easement building_class_at_present  \\\n",
       "0   32                                 A1   \n",
       "1   38                                 A1   \n",
       "\n",
       "                                     address apartment_number  zip_code  \\\n",
       "0  541 SYCAMORE STREET                                            10312   \n",
       "1  27 WEAVER STREET                                               10312   \n",
       "\n",
       "   residential_units  commercial_units  total_units     land_square_feet  \\\n",
       "0                  1                 0            1            13,320.00   \n",
       "1                  1                 0            1            10,833.00   \n",
       "\n",
       "     gross_square_feet  year_built  tax_class_at_time_of_sale  \\\n",
       "0             4,696.00        1985                          1   \n",
       "1             2,128.00        1980                          1   \n",
       "\n",
       "  building_class_at_time_of_sale           sale_price sale_date  \n",
       "0                             A1         1,200,000.00  15.08.12  \n",
       "1                             A1           127,500.00  26.09.12  "
      ]
     },
     "execution_count": 298,
     "metadata": {},
     "output_type": "execute_result"
    }
   ],
   "source": [
    "# Check how values in df_p3 look after conversion of sale_price\n",
    "df_p3.head(2)"
   ]
  },
  {
   "cell_type": "code",
   "execution_count": 299,
   "id": "cd198146",
   "metadata": {},
   "outputs": [
    {
     "data": {
      "text/html": [
       "<div>\n",
       "<style scoped>\n",
       "    .dataframe tbody tr th:only-of-type {\n",
       "        vertical-align: middle;\n",
       "    }\n",
       "\n",
       "    .dataframe tbody tr th {\n",
       "        vertical-align: top;\n",
       "    }\n",
       "\n",
       "    .dataframe thead th {\n",
       "        text-align: right;\n",
       "    }\n",
       "</style>\n",
       "<table border=\"1\" class=\"dataframe\">\n",
       "  <thead>\n",
       "    <tr style=\"text-align: right;\">\n",
       "      <th></th>\n",
       "      <th>borough</th>\n",
       "      <th>neighborhood</th>\n",
       "      <th>building_class_category</th>\n",
       "      <th>tax_class_at_present</th>\n",
       "      <th>block</th>\n",
       "      <th>lot</th>\n",
       "      <th>easement</th>\n",
       "      <th>building_class_at_present</th>\n",
       "      <th>address</th>\n",
       "      <th>apartment_number</th>\n",
       "      <th>zip_code</th>\n",
       "      <th>residential_units</th>\n",
       "      <th>commercial_units</th>\n",
       "      <th>total_units</th>\n",
       "      <th>land_square_feet</th>\n",
       "      <th>gross_square_feet</th>\n",
       "      <th>year_built</th>\n",
       "      <th>tax_class_at_time_of_sale</th>\n",
       "      <th>building_class_at_time_of_sale</th>\n",
       "      <th>sale_price</th>\n",
       "      <th>sale_date</th>\n",
       "    </tr>\n",
       "  </thead>\n",
       "  <tbody>\n",
       "    <tr>\n",
       "      <th>0</th>\n",
       "      <td>5</td>\n",
       "      <td>ANNADALE</td>\n",
       "      <td>01  ONE FAMILY HOMES</td>\n",
       "      <td>1</td>\n",
       "      <td>5394</td>\n",
       "      <td>8</td>\n",
       "      <td></td>\n",
       "      <td>A1</td>\n",
       "      <td>16 FINGAL STREET</td>\n",
       "      <td></td>\n",
       "      <td>10312</td>\n",
       "      <td>1</td>\n",
       "      <td>0</td>\n",
       "      <td>1</td>\n",
       "      <td>10,000.00</td>\n",
       "      <td>5,163.00</td>\n",
       "      <td>1985</td>\n",
       "      <td>1</td>\n",
       "      <td>A1</td>\n",
       "      <td>1,360,000.00</td>\n",
       "      <td>21.07.06</td>\n",
       "    </tr>\n",
       "    <tr>\n",
       "      <th>1</th>\n",
       "      <td>5</td>\n",
       "      <td>ANNADALE</td>\n",
       "      <td>01  ONE FAMILY HOMES</td>\n",
       "      <td>1</td>\n",
       "      <td>5395</td>\n",
       "      <td>4</td>\n",
       "      <td></td>\n",
       "      <td>A1</td>\n",
       "      <td>26 EDWIN STREET</td>\n",
       "      <td></td>\n",
       "      <td>10312</td>\n",
       "      <td>1</td>\n",
       "      <td>0</td>\n",
       "      <td>1</td>\n",
       "      <td>7,654.00</td>\n",
       "      <td>2,277.00</td>\n",
       "      <td>1980</td>\n",
       "      <td>1</td>\n",
       "      <td>A1</td>\n",
       "      <td>900,000.00</td>\n",
       "      <td>05.09.06</td>\n",
       "    </tr>\n",
       "  </tbody>\n",
       "</table>\n",
       "</div>"
      ],
      "text/plain": [
       "   borough               neighborhood  \\\n",
       "0        5  ANNADALE                    \n",
       "1        5  ANNADALE                    \n",
       "\n",
       "                        building_class_category tax_class_at_present  block  \\\n",
       "0  01  ONE FAMILY HOMES                                            1   5394   \n",
       "1  01  ONE FAMILY HOMES                                            1   5395   \n",
       "\n",
       "   lot easement building_class_at_present  \\\n",
       "0    8                                 A1   \n",
       "1    4                                 A1   \n",
       "\n",
       "                                     address apartment_number  zip_code  \\\n",
       "0  16 FINGAL STREET                                               10312   \n",
       "1  26 EDWIN STREET                                                10312   \n",
       "\n",
       "   residential_units  commercial_units  total_units     land_square_feet  \\\n",
       "0                  1                 0            1            10,000.00   \n",
       "1                  1                 0            1             7,654.00   \n",
       "\n",
       "     gross_square_feet  year_built  tax_class_at_time_of_sale  \\\n",
       "0             5,163.00        1985                          1   \n",
       "1             2,277.00        1980                          1   \n",
       "\n",
       "  building_class_at_time_of_sale           sale_price sale_date  \n",
       "0                             A1         1,360,000.00  21.07.06  \n",
       "1                             A1           900,000.00  05.09.06  "
      ]
     },
     "execution_count": 299,
     "metadata": {},
     "output_type": "execute_result"
    }
   ],
   "source": [
    "# Check how values in df_p4 look after conversion of sale_price\n",
    "df_p4.head(2)"
   ]
  },
  {
   "cell_type": "code",
   "execution_count": 300,
   "id": "c55dcffc",
   "metadata": {},
   "outputs": [
    {
     "data": {
      "text/html": [
       "<div>\n",
       "<style scoped>\n",
       "    .dataframe tbody tr th:only-of-type {\n",
       "        vertical-align: middle;\n",
       "    }\n",
       "\n",
       "    .dataframe tbody tr th {\n",
       "        vertical-align: top;\n",
       "    }\n",
       "\n",
       "    .dataframe thead th {\n",
       "        text-align: right;\n",
       "    }\n",
       "</style>\n",
       "<table border=\"1\" class=\"dataframe\">\n",
       "  <thead>\n",
       "    <tr style=\"text-align: right;\">\n",
       "      <th></th>\n",
       "      <th>borough</th>\n",
       "      <th>neighborhood</th>\n",
       "      <th>building_class_category</th>\n",
       "      <th>tax_class_at_present</th>\n",
       "      <th>block</th>\n",
       "      <th>lot</th>\n",
       "      <th>easement</th>\n",
       "      <th>building_class_at_present</th>\n",
       "      <th>address</th>\n",
       "      <th>apartment_number</th>\n",
       "      <th>zip_code</th>\n",
       "      <th>residential_units</th>\n",
       "      <th>commercial_units</th>\n",
       "      <th>total_units</th>\n",
       "      <th>land_square_feet</th>\n",
       "      <th>gross_square_feet</th>\n",
       "      <th>year_built</th>\n",
       "      <th>tax_class_at_time_of_sale</th>\n",
       "      <th>building_class_at_time_of_sale</th>\n",
       "      <th>sale_price</th>\n",
       "      <th>sale_date</th>\n",
       "    </tr>\n",
       "  </thead>\n",
       "  <tbody>\n",
       "    <tr>\n",
       "      <th>0</th>\n",
       "      <td>5.00</td>\n",
       "      <td>ANNADALE</td>\n",
       "      <td>01 ONE FAMILY DWELLINGS</td>\n",
       "      <td>1</td>\n",
       "      <td>5,391.00</td>\n",
       "      <td>7.00</td>\n",
       "      <td>NaN</td>\n",
       "      <td>A5</td>\n",
       "      <td>4732 AMBOY ROAD</td>\n",
       "      <td>nan</td>\n",
       "      <td>10,312.00</td>\n",
       "      <td>1.00</td>\n",
       "      <td>0.00</td>\n",
       "      <td>1.00</td>\n",
       "      <td>3,655.00</td>\n",
       "      <td>910.00</td>\n",
       "      <td>2,002.00</td>\n",
       "      <td>1.00</td>\n",
       "      <td>A5</td>\n",
       "      <td>764,000.00</td>\n",
       "      <td>30.06.22</td>\n",
       "    </tr>\n",
       "    <tr>\n",
       "      <th>1</th>\n",
       "      <td>5.00</td>\n",
       "      <td>ANNADALE</td>\n",
       "      <td>01 ONE FAMILY DWELLINGS</td>\n",
       "      <td>1</td>\n",
       "      <td>5,395.00</td>\n",
       "      <td>4.00</td>\n",
       "      <td>NaN</td>\n",
       "      <td>A1</td>\n",
       "      <td>26 EDWIN STREET</td>\n",
       "      <td>nan</td>\n",
       "      <td>10,312.00</td>\n",
       "      <td>1.00</td>\n",
       "      <td>0.00</td>\n",
       "      <td>1.00</td>\n",
       "      <td>7,654.00</td>\n",
       "      <td>2,277.00</td>\n",
       "      <td>1,980.00</td>\n",
       "      <td>1.00</td>\n",
       "      <td>A1</td>\n",
       "      <td>1,098,000.00</td>\n",
       "      <td>19.08.22</td>\n",
       "    </tr>\n",
       "  </tbody>\n",
       "</table>\n",
       "</div>"
      ],
      "text/plain": [
       "               borough neighborhood  building_class_category  \\\n",
       "0                 5.00     ANNADALE  01 ONE FAMILY DWELLINGS   \n",
       "1                 5.00     ANNADALE  01 ONE FAMILY DWELLINGS   \n",
       "\n",
       "  tax_class_at_present                block                  lot  easement  \\\n",
       "0                    1             5,391.00                 7.00       NaN   \n",
       "1                    1             5,395.00                 4.00       NaN   \n",
       "\n",
       "  building_class_at_present          address apartment_number  \\\n",
       "0                        A5  4732 AMBOY ROAD              nan   \n",
       "1                        A1  26 EDWIN STREET              nan   \n",
       "\n",
       "              zip_code    residential_units     commercial_units  \\\n",
       "0            10,312.00                 1.00                 0.00   \n",
       "1            10,312.00                 1.00                 0.00   \n",
       "\n",
       "           total_units     land_square_feet    gross_square_feet  \\\n",
       "0                 1.00             3,655.00               910.00   \n",
       "1                 1.00             7,654.00             2,277.00   \n",
       "\n",
       "            year_built  tax_class_at_time_of_sale  \\\n",
       "0             2,002.00                       1.00   \n",
       "1             1,980.00                       1.00   \n",
       "\n",
       "  building_class_at_time_of_sale           sale_price sale_date  \n",
       "0                             A5           764,000.00  30.06.22  \n",
       "1                             A1         1,098,000.00  19.08.22  "
      ]
     },
     "execution_count": 300,
     "metadata": {},
     "output_type": "execute_result"
    }
   ],
   "source": [
    "# Check how values in df_roll look after conversion of sale_price\n",
    "df_roll.head(2)"
   ]
  },
  {
   "cell_type": "markdown",
   "id": "a6a918aa",
   "metadata": {},
   "source": [
    "Columns sale_price in all dataframes converted."
   ]
  },
  {
   "cell_type": "markdown",
   "id": "5dddf4ad",
   "metadata": {},
   "source": [
    "## 03.4 Address column sale_date in all dataframes"
   ]
  },
  {
   "cell_type": "code",
   "execution_count": 301,
   "id": "00464849",
   "metadata": {},
   "outputs": [],
   "source": [
    "# Convert sale_date to datetime\n",
    "df_p1['sale_date'] = pd.to_datetime(df_p1['sale_date'], format='%d.%m.%y')\n",
    "df_p2['sale_date'] = pd.to_datetime(df_p2['sale_date'], format='%d.%m.%y')\n",
    "df_p3['sale_date'] = pd.to_datetime(df_p3['sale_date'], format='%d.%m.%y')\n",
    "df_p4['sale_date'] = pd.to_datetime(df_p4['sale_date'], format='%d.%m.%y')\n",
    "df_roll['sale_date'] = pd.to_datetime(df_roll['sale_date'], format='%d.%m.%y')"
   ]
  },
  {
   "cell_type": "code",
   "execution_count": 302,
   "id": "b4c1b152",
   "metadata": {},
   "outputs": [
    {
     "data": {
      "text/plain": [
       "Timestamp('2018-01-01 00:00:00')"
      ]
     },
     "execution_count": 302,
     "metadata": {},
     "output_type": "execute_result"
    }
   ],
   "source": [
    "# Get minimum sale_date in df_p1 (expected: 01/01/2018)\n",
    "df_p1['sale_date'].min()"
   ]
  },
  {
   "cell_type": "code",
   "execution_count": 303,
   "id": "003e5cec",
   "metadata": {},
   "outputs": [
    {
     "data": {
      "text/plain": [
       "Timestamp('2022-12-31 00:00:00')"
      ]
     },
     "execution_count": 303,
     "metadata": {},
     "output_type": "execute_result"
    }
   ],
   "source": [
    "# Get maximum sale_date in df_p1 (expected: 31/12/2022)\n",
    "df_p1['sale_date'].max()"
   ]
  },
  {
   "cell_type": "code",
   "execution_count": 304,
   "id": "cef2e238",
   "metadata": {},
   "outputs": [
    {
     "data": {
      "text/plain": [
       "Timestamp('2013-01-01 00:00:00')"
      ]
     },
     "execution_count": 304,
     "metadata": {},
     "output_type": "execute_result"
    }
   ],
   "source": [
    "# Get minimum sale_date in df_p2 (expected: 01/01/2013)\n",
    "df_p2['sale_date'].min()"
   ]
  },
  {
   "cell_type": "code",
   "execution_count": 305,
   "id": "f8230ab8",
   "metadata": {},
   "outputs": [
    {
     "data": {
      "text/plain": [
       "Timestamp('2017-12-31 00:00:00')"
      ]
     },
     "execution_count": 305,
     "metadata": {},
     "output_type": "execute_result"
    }
   ],
   "source": [
    "# Get maximum sale_date in df_p2 (expected: 31/12/2017)\n",
    "df_p2['sale_date'].max()"
   ]
  },
  {
   "cell_type": "code",
   "execution_count": 306,
   "id": "2c7b38a4",
   "metadata": {},
   "outputs": [
    {
     "data": {
      "text/plain": [
       "Timestamp('2007-01-01 00:00:00')"
      ]
     },
     "execution_count": 306,
     "metadata": {},
     "output_type": "execute_result"
    }
   ],
   "source": [
    "# Get minimum sale_date in df_p3 (expected: 01/01/2007)\n",
    "df_p3['sale_date'].min()"
   ]
  },
  {
   "cell_type": "code",
   "execution_count": 307,
   "id": "0bba6df0",
   "metadata": {},
   "outputs": [
    {
     "data": {
      "text/plain": [
       "Timestamp('2012-12-31 00:00:00')"
      ]
     },
     "execution_count": 307,
     "metadata": {},
     "output_type": "execute_result"
    }
   ],
   "source": [
    "# Get maximum sale_date in df_p3 (expected: 31/12/2012)\n",
    "df_p3['sale_date'].max()"
   ]
  },
  {
   "cell_type": "code",
   "execution_count": 308,
   "id": "08e72f6f",
   "metadata": {},
   "outputs": [
    {
     "data": {
      "text/plain": [
       "Timestamp('2003-01-01 00:00:00')"
      ]
     },
     "execution_count": 308,
     "metadata": {},
     "output_type": "execute_result"
    }
   ],
   "source": [
    "# Get minimum sale_date in df_p4 (expected: 01/01/2003)\n",
    "df_p4['sale_date'].min()"
   ]
  },
  {
   "cell_type": "code",
   "execution_count": 309,
   "id": "21323d3e",
   "metadata": {},
   "outputs": [
    {
     "data": {
      "text/plain": [
       "Timestamp('2006-12-31 00:00:00')"
      ]
     },
     "execution_count": 309,
     "metadata": {},
     "output_type": "execute_result"
    }
   ],
   "source": [
    "# Get maximum sale_date in df_p4 (expected: 31/12/2006)\n",
    "df_p4['sale_date'].max()"
   ]
  },
  {
   "cell_type": "code",
   "execution_count": 310,
   "id": "5a979f88",
   "metadata": {},
   "outputs": [
    {
     "data": {
      "text/plain": [
       "Timestamp('2022-04-01 00:00:00')"
      ]
     },
     "execution_count": 310,
     "metadata": {},
     "output_type": "execute_result"
    }
   ],
   "source": [
    "# Get minimum sale_date in df_roll (expected: 01/04/2022)\n",
    "df_roll['sale_date'].min()"
   ]
  },
  {
   "cell_type": "code",
   "execution_count": 311,
   "id": "a43b64d6",
   "metadata": {},
   "outputs": [
    {
     "data": {
      "text/plain": [
       "Timestamp('2023-03-31 00:00:00')"
      ]
     },
     "execution_count": 311,
     "metadata": {},
     "output_type": "execute_result"
    }
   ],
   "source": [
    "# Get maximum sale_date in df_roll (expected: 31/03/2023)\n",
    "df_roll['sale_date'].max()"
   ]
  },
  {
   "cell_type": "code",
   "execution_count": 312,
   "id": "fbec830b",
   "metadata": {},
   "outputs": [
    {
     "data": {
      "text/plain": [
       "dtype('<M8[ns]')"
      ]
     },
     "execution_count": 312,
     "metadata": {},
     "output_type": "execute_result"
    }
   ],
   "source": [
    "# Get sale_date datatype in df_p1\n",
    "df_p1['sale_date'].dtypes"
   ]
  },
  {
   "cell_type": "code",
   "execution_count": 313,
   "id": "706f62aa",
   "metadata": {},
   "outputs": [
    {
     "data": {
      "text/plain": [
       "dtype('<M8[ns]')"
      ]
     },
     "execution_count": 313,
     "metadata": {},
     "output_type": "execute_result"
    }
   ],
   "source": [
    "# Get sale_date datatype in df_p2\n",
    "df_p2['sale_date'].dtypes"
   ]
  },
  {
   "cell_type": "code",
   "execution_count": 314,
   "id": "5dd3c3b8",
   "metadata": {},
   "outputs": [
    {
     "data": {
      "text/plain": [
       "dtype('<M8[ns]')"
      ]
     },
     "execution_count": 314,
     "metadata": {},
     "output_type": "execute_result"
    }
   ],
   "source": [
    "# Get sale_date datatype in df_p3\n",
    "df_p3['sale_date'].dtypes"
   ]
  },
  {
   "cell_type": "code",
   "execution_count": 315,
   "id": "40e009d7",
   "metadata": {},
   "outputs": [
    {
     "data": {
      "text/plain": [
       "dtype('<M8[ns]')"
      ]
     },
     "execution_count": 315,
     "metadata": {},
     "output_type": "execute_result"
    }
   ],
   "source": [
    "# Get sale_date datatype in df_p4\n",
    "df_p4['sale_date'].dtypes"
   ]
  },
  {
   "cell_type": "code",
   "execution_count": 316,
   "id": "8424aff3",
   "metadata": {},
   "outputs": [
    {
     "data": {
      "text/plain": [
       "dtype('<M8[ns]')"
      ]
     },
     "execution_count": 316,
     "metadata": {},
     "output_type": "execute_result"
    }
   ],
   "source": [
    "# Get sale_date datatype in df_roll\n",
    "df_roll['sale_date'].dtypes"
   ]
  },
  {
   "cell_type": "markdown",
   "id": "dea23f37",
   "metadata": {},
   "source": [
    "Columns sale_date in all dataframes converted, minimum and maximum dates as expected."
   ]
  },
  {
   "cell_type": "markdown",
   "id": "a3372294",
   "metadata": {},
   "source": [
    "## 03.5 Harmonise column datatypes in df_p1"
   ]
  },
  {
   "cell_type": "code",
   "execution_count": 317,
   "id": "3f6fc398",
   "metadata": {},
   "outputs": [
    {
     "data": {
      "text/plain": [
       "borough                                    int64\n",
       "neighborhood                              object\n",
       "building_class_category                   object\n",
       "tax_class_at_present                      object\n",
       "block                                      int64\n",
       "lot                                        int64\n",
       "easement                                 float64\n",
       "building_class_at_present                 object\n",
       "address                                   object\n",
       "apartment_number                          object\n",
       "zip_code                                 float64\n",
       "residential_units                        float64\n",
       "commercial_units                         float64\n",
       "total_units                              float64\n",
       "land_square_feet                         float64\n",
       "gross_square_feet                        float64\n",
       "year_built                               float64\n",
       "tax_class_at_time_of_sale                  int64\n",
       "building_class_at_time_of_sale            object\n",
       "sale_price                               float64\n",
       "sale_date                         datetime64[ns]\n",
       "dtype: object"
      ]
     },
     "execution_count": 317,
     "metadata": {},
     "output_type": "execute_result"
    }
   ],
   "source": [
    "# Recall datatypes in df_p1\n",
    "df_p1.dtypes"
   ]
  },
  {
   "cell_type": "code",
   "execution_count": 318,
   "id": "75c4e3a3",
   "metadata": {},
   "outputs": [],
   "source": [
    "# Convert borough, block and lot to string\n",
    "df_p1['borough'] = df_p1['borough'].astype('str')\n",
    "df_p1['block'] = df_p1['block'].astype('str')\n",
    "df_p1['lot'] = df_p1['lot'].astype('str')\n",
    "\n",
    "# Convert easement to string\n",
    "df_p1['easement'] = df_p1['easement'].astype('str').str[:-2]\n",
    "\n",
    "# Convert zip_code to int\n",
    "df_p1['zip_code'] = df_p1['zip_code'].astype(int, errors='ignore')\n",
    "\n",
    "# Convert columns on numbers of units to int\n",
    "df_p1['residential_units'] = df_p1['residential_units'].astype(int, errors='ignore')\n",
    "df_p1['commercial_units'] = df_p1['commercial_units'].astype(int, errors='ignore')\n",
    "df_p1['total_units'] = df_p1['total_units'].astype(int, errors='ignore')\n",
    "\n",
    "# Convert year_built to int\n",
    "df_p1['year_built'] = df_p1['year_built'].astype(int, errors='ignore')\n",
    "\n",
    "# Convert tax_class_at_time_of_sale to string\n",
    "df_p1['tax_class_at_time_of_sale'] = df_p1['tax_class_at_time_of_sale'].astype('str')"
   ]
  },
  {
   "cell_type": "code",
   "execution_count": 319,
   "id": "ed9edc44",
   "metadata": {},
   "outputs": [
    {
     "data": {
      "text/plain": [
       "borough                                   object\n",
       "neighborhood                              object\n",
       "building_class_category                   object\n",
       "tax_class_at_present                      object\n",
       "block                                     object\n",
       "lot                                       object\n",
       "easement                                  object\n",
       "building_class_at_present                 object\n",
       "address                                   object\n",
       "apartment_number                          object\n",
       "zip_code                                 float64\n",
       "residential_units                        float64\n",
       "commercial_units                         float64\n",
       "total_units                              float64\n",
       "land_square_feet                         float64\n",
       "gross_square_feet                        float64\n",
       "year_built                               float64\n",
       "tax_class_at_time_of_sale                 object\n",
       "building_class_at_time_of_sale            object\n",
       "sale_price                               float64\n",
       "sale_date                         datetime64[ns]\n",
       "dtype: object"
      ]
     },
     "execution_count": 319,
     "metadata": {},
     "output_type": "execute_result"
    }
   ],
   "source": [
    "# Check whether conversion has worked\n",
    "df_p1.dtypes"
   ]
  },
  {
   "cell_type": "markdown",
   "id": "a2354bd6",
   "metadata": {},
   "source": [
    "Conversion has not worked for zip_code, residential_units, commercial_units, total_units and year_built. "
   ]
  },
  {
   "cell_type": "code",
   "execution_count": 320,
   "id": "3af86563",
   "metadata": {},
   "outputs": [
    {
     "data": {
      "text/plain": [
       "35"
      ]
     },
     "execution_count": 320,
     "metadata": {},
     "output_type": "execute_result"
    }
   ],
   "source": [
    "# Check zip_code for missing values\n",
    "df_p1['zip_code'].isna().sum()"
   ]
  },
  {
   "cell_type": "code",
   "execution_count": 321,
   "id": "a8b44000",
   "metadata": {},
   "outputs": [],
   "source": [
    "# Change options to display 10+ rows when printing a dataframe\n",
    "pd.options.display.max_rows = None"
   ]
  },
  {
   "cell_type": "code",
   "execution_count": 322,
   "id": "e541968d",
   "metadata": {},
   "outputs": [
    {
     "name": "stdout",
     "output_type": "stream",
     "text": [
      "       borough              neighborhood            building_class_category  \\\n",
      "591          5                BLOOMFIELD          31 COMMERCIAL VACANT LAND   \n",
      "5479         5             OAKWOOD-BEACH         05 TAX CLASS 1 VACANT LAND   \n",
      "8869         4                   ARVERNE              29 COMMERCIAL GARAGES   \n",
      "83458        3              SPRING CREEK         05 TAX CLASS 1 VACANT LAND   \n",
      "83459        3              SPRING CREEK         05 TAX CLASS 1 VACANT LAND   \n",
      "83460        3              SPRING CREEK         05 TAX CLASS 1 VACANT LAND   \n",
      "83461        3              SPRING CREEK         05 TAX CLASS 1 VACANT LAND   \n",
      "99726        5             OAKWOOD-BEACH         05 TAX CLASS 1 VACANT LAND   \n",
      "193328       5                BULLS HEAD         05 TAX CLASS 1 VACANT LAND   \n",
      "193329       5                BULLS HEAD         05 TAX CLASS 1 VACANT LAND   \n",
      "193330       5                BULLS HEAD         05 TAX CLASS 1 VACANT LAND   \n",
      "193331       5                BULLS HEAD         05 TAX CLASS 1 VACANT LAND   \n",
      "193332       5                BULLS HEAD         05 TAX CLASS 1 VACANT LAND   \n",
      "193333       5                BULLS HEAD         05 TAX CLASS 1 VACANT LAND   \n",
      "193334       5                BULLS HEAD         05 TAX CLASS 1 VACANT LAND   \n",
      "193335       5                BULLS HEAD         05 TAX CLASS 1 VACANT LAND   \n",
      "197369       5           PLEASANT PLAINS         05 TAX CLASS 1 VACANT LAND   \n",
      "197765       5               PRINCES BAY         05 TAX CLASS 1 VACANT LAND   \n",
      "249531       3                OCEAN HILL              29 COMMERCIAL GARAGES   \n",
      "266344       5             OAKWOOD-BEACH         05 TAX CLASS 1 VACANT LAND   \n",
      "266345       5             OAKWOOD-BEACH         05 TAX CLASS 1 VACANT LAND   \n",
      "267936       5               SOUTH BEACH         05 TAX CLASS 1 VACANT LAND   \n",
      "268539       5               TOTTENVILLE          31 COMMERCIAL VACANT LAND   \n",
      "268540       5               TOTTENVILLE          31 COMMERCIAL VACANT LAND   \n",
      "268541       5               TOTTENVILLE          31 COMMERCIAL VACANT LAND   \n",
      "269785       4                   ARVERNE         05 TAX CLASS 1 VACANT LAND   \n",
      "269786       4                   ARVERNE         05 TAX CLASS 1 VACANT LAND   \n",
      "269787       4                   ARVERNE         05 TAX CLASS 1 VACANT LAND   \n",
      "269788       4                   ARVERNE         05 TAX CLASS 1 VACANT LAND   \n",
      "269790       4                   ARVERNE         05 TAX CLASS 1 VACANT LAND   \n",
      "269791       4                   ARVERNE         05 TAX CLASS 1 VACANT LAND   \n",
      "293795       4       SPRINGFIELD GARDENS                21 OFFICE BUILDINGS   \n",
      "339338       2  KINGSBRIDGE HTS/UNIV HTS         05 TAX CLASS 1 VACANT LAND   \n",
      "399782       3        BEDFORD STUYVESANT  15 CONDOS - 2-10 UNIT RESIDENTIAL   \n",
      "399783       3        BEDFORD STUYVESANT  15 CONDOS - 2-10 UNIT RESIDENTIAL   \n",
      "\n",
      "       tax_class_at_present  block   lot easement building_class_at_present  \\\n",
      "591                       4   1790   120        n                        V1   \n",
      "5479                     1B   4785     1        n                        V0   \n",
      "8869                      4  16013     1        n                        G7   \n",
      "83458                    1B   4585   165        n                        V0   \n",
      "83459                    1B   4585   167        n                        V0   \n",
      "83460                    1B   4585   205        n                        V0   \n",
      "83461                    1B   4585   225        n                        V0   \n",
      "99726                    1B   4787     2        n                        V3   \n",
      "193328                   1B   1547     1        n                        V0   \n",
      "193329                   1B   1547     1        n                        V0   \n",
      "193330                   1B   1547     2        n                        V0   \n",
      "193331                   1B   1547     2        n                        V0   \n",
      "193332                   1B   1547     3        n                        V0   \n",
      "193333                   1B   1547     3        n                        V0   \n",
      "193334                   1B   1547     4        n                        V0   \n",
      "193335                   1B   1547     4        n                        V0   \n",
      "197369                   1B   7757     4        n                        V0   \n",
      "197765                   1B   6660     1        n                        V0   \n",
      "249531                    4   1555    19        n                        G7   \n",
      "266344                   1B   4693     9        n                        V0   \n",
      "266345                   1B   4693     9        n                        V0   \n",
      "267936                   1B   3414    30        n                        V0   \n",
      "268539                    4   7987     1        n                        V1   \n",
      "268540                    4   7987     5        n                        V1   \n",
      "268541                    4   7987    15        n                        V1   \n",
      "269785                   1B  15970    24        n                        V0   \n",
      "269786                   1B  15970    25        n                        V0   \n",
      "269787                   1B  15970    27        n                        V0   \n",
      "269788                   1B  15970    32        n                        V0   \n",
      "269790                   1B  16014     1        n                        V0   \n",
      "269791                   1B  16014    22        n                        V0   \n",
      "293795                    4  15007    80        n                        O5   \n",
      "339338                   1B   3231   265        n                        V0   \n",
      "399782                  nan   1803  1002        n                       nan   \n",
      "399783                  nan   1803  1007        n                       nan   \n",
      "\n",
      "                        address apartment_number  zip_code  \\\n",
      "591             N/A GULF AVENUE              nan       NaN   \n",
      "5479       N/A PROMENADE AVENUE              nan       NaN   \n",
      "8869    N/A BEACH CHANNEL DRIVE              nan       NaN   \n",
      "83458       N/A VANDALIA AVENUE              nan       NaN   \n",
      "83459       N/A VANDALIA AVENUE              nan       NaN   \n",
      "83460           N/A DREW STREET              nan       NaN   \n",
      "83461           N/A DREW STREET              nan       NaN   \n",
      "99726      N/A GREAT KILLS LANE              nan       NaN   \n",
      "193328     N/A CROCHERON AVENUE              nan       NaN   \n",
      "193329     N/A CROCHERON AVENUE              nan       NaN   \n",
      "193330     N/A CROCHERON AVENUE              nan       NaN   \n",
      "193331     N/A CROCHERON AVENUE              nan       NaN   \n",
      "193332     N/A CROCHERON AVENUE              nan       NaN   \n",
      "193333     N/A CROCHERON AVENUE              nan       NaN   \n",
      "193334     N/A CROCHERON AVENUE              nan       NaN   \n",
      "193335     N/A CROCHERON AVENUE              nan       NaN   \n",
      "197369         N/A DAMON STREET              nan       NaN   \n",
      "197765        N/A HOLTEN AVENUE              nan       NaN   \n",
      "249531      N/A HERKIMER STREET              nan       NaN   \n",
      "266344       N/A DUGDALE STREET              nan       NaN   \n",
      "266345       N/A DUGDALE STREET              nan       NaN   \n",
      "267936        N/A QUINCY AVENUE              nan       NaN   \n",
      "268539         N/A ELLIS STREET              nan       NaN   \n",
      "268540         N/A ELLIS STREET              nan       NaN   \n",
      "268541         N/A ELLIS STREET              nan       NaN   \n",
      "269785        N/A NORTON AVENUE              nan       NaN   \n",
      "269786        N/A NORTON AVENUE              nan       NaN   \n",
      "269787        N/A NORTON AVENUE              nan       NaN   \n",
      "269788        N/A NORTON AVENUE              nan       NaN   \n",
      "269790  N/A BEACH CHANNEL DRIVE              nan       NaN   \n",
      "269791  N/A BEACH CHANNEL DRIVE              nan       NaN   \n",
      "293795       154-06 145TH DRIVE              nan       NaN   \n",
      "339338    N/A WEST FORDHAM ROAD              nan       NaN   \n",
      "399782     762 MARCY AVENUE; 1B              nan       NaN   \n",
      "399783      762 MARCY AVENUE; 4              nan       NaN   \n",
      "\n",
      "          residential_units     commercial_units          total_units  \\\n",
      "591                    0.00                 0.00                 0.00   \n",
      "5479                   0.00                 0.00                 0.00   \n",
      "8869                   0.00                 0.00                 0.00   \n",
      "83458                  0.00                 0.00                 0.00   \n",
      "83459                  0.00                 0.00                 0.00   \n",
      "83460                  0.00                 0.00                 0.00   \n",
      "83461                  0.00                 0.00                 0.00   \n",
      "99726                  0.00                 0.00                 0.00   \n",
      "193328                 0.00                 0.00                 0.00   \n",
      "193329                 0.00                 0.00                 0.00   \n",
      "193330                 0.00                 0.00                 0.00   \n",
      "193331                 0.00                 0.00                 0.00   \n",
      "193332                 0.00                 0.00                 0.00   \n",
      "193333                 0.00                 0.00                 0.00   \n",
      "193334                 0.00                 0.00                 0.00   \n",
      "193335                 0.00                 0.00                 0.00   \n",
      "197369                 0.00                 0.00                 0.00   \n",
      "197765                 0.00                 0.00                 0.00   \n",
      "249531                 0.00                 0.00                 0.00   \n",
      "266344                 0.00                 0.00                 0.00   \n",
      "266345                 0.00                 0.00                 0.00   \n",
      "267936                 0.00                 0.00                 0.00   \n",
      "268539                 0.00                 0.00                 0.00   \n",
      "268540                 0.00                 0.00                 0.00   \n",
      "268541                 0.00                 0.00                 0.00   \n",
      "269785                 0.00                 0.00                 0.00   \n",
      "269786                 0.00                 0.00                 0.00   \n",
      "269787                 0.00                 0.00                 0.00   \n",
      "269788                 0.00                 0.00                 0.00   \n",
      "269790                 0.00                 0.00                 0.00   \n",
      "269791                 0.00                 0.00                 0.00   \n",
      "293795                 0.00                 1.00                 1.00   \n",
      "339338                 0.00                 0.00                 0.00   \n",
      "399782                  NaN                  NaN                  NaN   \n",
      "399783                  NaN                  NaN                  NaN   \n",
      "\n",
      "           land_square_feet    gross_square_feet           year_built  \\\n",
      "591               17,808.00                 0.00                  NaN   \n",
      "5479              28,979.00                 0.00                  NaN   \n",
      "8869              32,938.00                 0.00                  NaN   \n",
      "83458             81,867.00                 0.00                  NaN   \n",
      "83459              6,439.00                 0.00                  NaN   \n",
      "83460              1,639.00                 0.00                  NaN   \n",
      "83461              2,582.00                 0.00                  NaN   \n",
      "99726                180.00                 0.00                  NaN   \n",
      "193328               410.00                 0.00                  NaN   \n",
      "193329               410.00                 0.00                  NaN   \n",
      "193330             1,050.00                 0.00                  NaN   \n",
      "193331             1,050.00                 0.00                  NaN   \n",
      "193332             1,209.00                 0.00                  NaN   \n",
      "193333             1,209.00                 0.00                  NaN   \n",
      "193334             1,417.00                 0.00                  NaN   \n",
      "193335             1,417.00                 0.00                  NaN   \n",
      "197369             4,000.00                 0.00                  NaN   \n",
      "197765           751,666.00                 0.00                  NaN   \n",
      "249531             4,900.00                 0.00                  NaN   \n",
      "266344             3,015.00                 0.00                  NaN   \n",
      "266345             3,015.00                 0.00                  NaN   \n",
      "267936             7,140.00                 0.00                  NaN   \n",
      "268539           154,240.00                 0.00                  NaN   \n",
      "268540           208,533.00                 0.00                  NaN   \n",
      "268541           189,321.00                 0.00                  NaN   \n",
      "269785             3,125.00                 0.00                  NaN   \n",
      "269786             5,946.00                 0.00                  NaN   \n",
      "269787            11,892.00                 0.00                  NaN   \n",
      "269788            11,892.00                 0.00                  NaN   \n",
      "269790            75,266.00                 0.00                  NaN   \n",
      "269791            10,298.00                 0.00                  NaN   \n",
      "293795            33,862.00            45,400.00             1,991.00   \n",
      "339338           162,200.00                 0.00                  NaN   \n",
      "399782                  NaN                  NaN                  NaN   \n",
      "399783                  NaN                  NaN                  NaN   \n",
      "\n",
      "       tax_class_at_time_of_sale building_class_at_time_of_sale  \\\n",
      "591                            4                             V1   \n",
      "5479                           1                             V0   \n",
      "8869                           4                             G7   \n",
      "83458                          1                             V0   \n",
      "83459                          1                             V0   \n",
      "83460                          1                             V0   \n",
      "83461                          1                             V0   \n",
      "99726                          1                             V3   \n",
      "193328                         1                             V0   \n",
      "193329                         1                             V0   \n",
      "193330                         1                             V0   \n",
      "193331                         1                             V0   \n",
      "193332                         1                             V0   \n",
      "193333                         1                             V0   \n",
      "193334                         1                             V0   \n",
      "193335                         1                             V0   \n",
      "197369                         1                             V0   \n",
      "197765                         1                             V0   \n",
      "249531                         4                             G7   \n",
      "266344                         1                             V0   \n",
      "266345                         1                             V0   \n",
      "267936                         1                             V0   \n",
      "268539                         4                             V1   \n",
      "268540                         4                             V1   \n",
      "268541                         4                             V1   \n",
      "269785                         1                             V0   \n",
      "269786                         1                             V0   \n",
      "269787                         1                             V0   \n",
      "269788                         1                             V0   \n",
      "269790                         1                             V0   \n",
      "269791                         1                             V0   \n",
      "293795                         4                             O5   \n",
      "339338                         1                             V0   \n",
      "399782                         2                             R1   \n",
      "399783                         2                             R1   \n",
      "\n",
      "                 sale_price  sale_date  \n",
      "591                3,333.00 2022-03-25  \n",
      "5479                   0.00 2022-11-10  \n",
      "8869           4,000,000.00 2022-07-18  \n",
      "83458            163,500.00 2022-10-06  \n",
      "83459            163,500.00 2022-10-06  \n",
      "83460             44,000.00 2022-06-28  \n",
      "83461            163,500.00 2022-10-06  \n",
      "99726                  0.00 2021-12-15  \n",
      "193328                 0.00 2020-12-23  \n",
      "193329                 0.00 2020-12-24  \n",
      "193330                 0.00 2020-12-23  \n",
      "193331                 0.00 2020-12-24  \n",
      "193332                 0.00 2020-12-23  \n",
      "193333                 0.00 2020-12-24  \n",
      "193334                 0.00 2020-12-23  \n",
      "193335                 0.00 2020-12-24  \n",
      "197369                 0.00 2020-12-31  \n",
      "197765                 0.00 2020-12-23  \n",
      "249531         1,300,000.00 2020-11-24  \n",
      "266344            27,500.00 2019-09-10  \n",
      "266345            24,034.00 2019-01-09  \n",
      "267936           264,000.00 2019-05-13  \n",
      "268539         3,500,000.00 2019-04-01  \n",
      "268540         3,500,000.00 2019-04-01  \n",
      "268541         3,500,000.00 2019-04-01  \n",
      "269785           106,000.00 2019-06-18  \n",
      "269786           491,000.00 2019-06-18  \n",
      "269787           491,000.00 2019-06-18  \n",
      "269788           561,000.00 2019-06-18  \n",
      "269790                 0.00 2019-06-14  \n",
      "269791                 0.00 2019-06-14  \n",
      "293795        48,602,987.00 2019-08-29  \n",
      "339338        31,550,000.00 2019-04-02  \n",
      "399782           850,000.00 2018-12-18  \n",
      "399783           875,000.00 2018-12-27  \n"
     ]
    }
   ],
   "source": [
    "# Inspect rows with missing values for zip_code\n",
    "print(df_p1.loc[df_p1['zip_code'].isna()])"
   ]
  },
  {
   "cell_type": "markdown",
   "id": "78a676f1",
   "metadata": {},
   "source": [
    "Theoretically, missing zip codes could be imputed by deducing the correct zip code from the address. However, this is only possible in cases where the full address is available (only 3/35 cases). Furthermore, zip codes won't be crucial for gaining insights (instead neighborhoods and boroughs are crucial). Therefore, missing values will be imputed as 0."
   ]
  },
  {
   "cell_type": "code",
   "execution_count": 323,
   "id": "118bfcaf",
   "metadata": {},
   "outputs": [],
   "source": [
    "# Imputing 0 for missing values in zip_code\n",
    "df_p1['zip_code'].fillna(0, inplace=True)"
   ]
  },
  {
   "cell_type": "code",
   "execution_count": 324,
   "id": "cd6e63cb",
   "metadata": {},
   "outputs": [
    {
     "data": {
      "text/plain": [
       "0"
      ]
     },
     "execution_count": 324,
     "metadata": {},
     "output_type": "execute_result"
    }
   ],
   "source": [
    "# Check whether missing values were imputed\n",
    "df_p1['zip_code'].isna().sum()"
   ]
  },
  {
   "cell_type": "code",
   "execution_count": 325,
   "id": "d91e4635",
   "metadata": {},
   "outputs": [
    {
     "data": {
      "text/plain": [
       "76782"
      ]
     },
     "execution_count": 325,
     "metadata": {},
     "output_type": "execute_result"
    }
   ],
   "source": [
    "# Check residential_units for missing values\n",
    "df_p1['residential_units'].isna().sum()"
   ]
  },
  {
   "cell_type": "code",
   "execution_count": 326,
   "id": "d5da1f7d",
   "metadata": {},
   "outputs": [],
   "source": [
    "# Change options to display max rows when printing a dataframe\n",
    "pd.options.display.max_rows = 30"
   ]
  },
  {
   "cell_type": "code",
   "execution_count": 327,
   "id": "7d8b5312",
   "metadata": {},
   "outputs": [
    {
     "name": "stdout",
     "output_type": "stream",
     "text": [
      "       borough          neighborhood            building_class_category  \\\n",
      "199          5              ANNADALE           46 CONDO STORE BUILDINGS   \n",
      "200          5              ANNADALE           46 CONDO STORE BUILDINGS   \n",
      "573          5  ARROCHAR-SHORE ACRES     10 COOPS - ELEVATOR APARTMENTS   \n",
      "574          5  ARROCHAR-SHORE ACRES     10 COOPS - ELEVATOR APARTMENTS   \n",
      "575          5  ARROCHAR-SHORE ACRES     10 COOPS - ELEVATOR APARTMENTS   \n",
      "...        ...                   ...                                ...   \n",
      "401843       3          BOROUGH PARK  15 CONDOS - 2-10 UNIT RESIDENTIAL   \n",
      "402413       3        BRIGHTON BEACH  15 CONDOS - 2-10 UNIT RESIDENTIAL   \n",
      "402414       3        BRIGHTON BEACH  15 CONDOS - 2-10 UNIT RESIDENTIAL   \n",
      "419658       3  WILLIAMSBURG-CENTRAL    13 CONDOS - ELEVATOR APARTMENTS   \n",
      "420166       3    WILLIAMSBURG-NORTH                  11A CONDO-RENTALS   \n",
      "\n",
      "       tax_class_at_present block   lot easement building_class_at_present  \\\n",
      "199                       4  6244  1001        n                        RK   \n",
      "200                       4  6244  1002        n                        RK   \n",
      "573                       2  2833    31        n                        D4   \n",
      "574                       2  2833    31        n                        D4   \n",
      "575                       2  2833    31        n                        D4   \n",
      "...                     ...   ...   ...      ...                       ...   \n",
      "401843                  nan  5430  1502        n                       nan   \n",
      "402413                  nan  8661  1401        n                       nan   \n",
      "402414                  nan  8661  1402        n                       nan   \n",
      "419658                  nan  2264  3110        n                       nan   \n",
      "420166                  nan  2358  1304        n                       nan   \n",
      "\n",
      "                         address apartment_number             zip_code  \\\n",
      "199         885 ANNADALE ROAD; 1                1            10,312.00   \n",
      "200         885 ANNADALE ROAD; 2                2            10,312.00   \n",
      "573          20 CLIFF STREET; 3B              nan            10,305.00   \n",
      "574          20 CLIFF STREET; 7M              nan            10,305.00   \n",
      "575          20 CLIFF STREET; 8D              nan            10,305.00   \n",
      "...                          ...              ...                  ...   \n",
      "401843          4320 16TH AVENUE                2            11,204.00   \n",
      "402413        2955 OCEAN PARKWAY               BF            11,235.00   \n",
      "402414        2955 OCEAN PARKWAY               BR            11,235.00   \n",
      "419658  242 WALLABOUT STREET; 7A               7A            11,206.00   \n",
      "420166       94 NORTH 3RD STREET              AFF            11,249.00   \n",
      "\n",
      "        residential_units     commercial_units          total_units  \\\n",
      "199                   NaN                 1.00                 1.00   \n",
      "200                   NaN                 1.00                 1.00   \n",
      "573                   NaN                  NaN                  NaN   \n",
      "574                   NaN                  NaN                  NaN   \n",
      "575                   NaN                  NaN                  NaN   \n",
      "...                   ...                  ...                  ...   \n",
      "401843                NaN                  NaN                  NaN   \n",
      "402413                NaN                  NaN                  NaN   \n",
      "402414                NaN                  NaN                  NaN   \n",
      "419658                NaN                  NaN                  NaN   \n",
      "420166                NaN                  NaN                  NaN   \n",
      "\n",
      "        land_square_feet  gross_square_feet           year_built  \\\n",
      "199                  NaN                NaN             1,975.00   \n",
      "200                  NaN                NaN             1,975.00   \n",
      "573                  NaN                NaN             1,964.00   \n",
      "574                  NaN                NaN             1,964.00   \n",
      "575                  NaN                NaN             1,964.00   \n",
      "...                  ...                ...                  ...   \n",
      "401843               NaN                NaN             1,920.00   \n",
      "402413               NaN                NaN             1,938.00   \n",
      "402414               NaN                NaN             1,938.00   \n",
      "419658               NaN                NaN             2,014.00   \n",
      "420166               NaN                NaN             2,017.00   \n",
      "\n",
      "       tax_class_at_time_of_sale building_class_at_time_of_sale  \\\n",
      "199                            4                             RK   \n",
      "200                            4                             RK   \n",
      "573                            2                             D4   \n",
      "574                            2                             D4   \n",
      "575                            2                             D4   \n",
      "...                          ...                            ...   \n",
      "401843                         2                             R1   \n",
      "402413                         2                             R1   \n",
      "402414                         2                             R1   \n",
      "419658                         2                             R4   \n",
      "420166                         2                             RR   \n",
      "\n",
      "                 sale_price  sale_date  \n",
      "199              150,000.00 2022-01-10  \n",
      "200              440,000.00 2022-10-24  \n",
      "573                   10.00 2022-03-17  \n",
      "574                   10.00 2022-07-08  \n",
      "575              249,900.00 2022-11-02  \n",
      "...                     ...        ...  \n",
      "401843           200,000.00 2018-05-30  \n",
      "402413           253,500.00 2018-05-24  \n",
      "402414           294,060.00 2018-05-30  \n",
      "419658           752,894.00 2018-01-07  \n",
      "420166                 0.00 2018-05-15  \n",
      "\n",
      "[76782 rows x 21 columns]\n"
     ]
    }
   ],
   "source": [
    "# Inspect some rows with missing values for residential_units\n",
    "print(df_p1.loc[df_p1['residential_units'].isna()])"
   ]
  },
  {
   "cell_type": "code",
   "execution_count": 328,
   "id": "bd3942fc",
   "metadata": {},
   "outputs": [
    {
     "data": {
      "text/plain": [
       "count             352,121.00\n",
       "mean                    2.65\n",
       "std                    23.76\n",
       "min                     0.00\n",
       "25%                     1.00\n",
       "50%                     1.00\n",
       "75%                     2.00\n",
       "max                 8,764.00\n",
       "Name: residential_units, dtype: float64"
      ]
     },
     "execution_count": 328,
     "metadata": {},
     "output_type": "execute_result"
    }
   ],
   "source": [
    "# Get basic descriptive statistics on residential_units\n",
    "df_p1['residential_units'].describe()"
   ]
  },
  {
   "cell_type": "code",
   "execution_count": 329,
   "id": "9b01a22a",
   "metadata": {},
   "outputs": [
    {
     "data": {
      "text/plain": [
       "156.56594874472592"
      ]
     },
     "execution_count": 329,
     "metadata": {},
     "output_type": "execute_result"
    }
   ],
   "source": [
    "# Check skewness of residential_units\n",
    "df_p1['residential_units'].skew()"
   ]
  },
  {
   "cell_type": "markdown",
   "id": "10ebfad0",
   "metadata": {},
   "source": [
    "As distribution in residential_units is highly skewed and the number of missing values is high (ca. 17% of all rows) and dropping them might delete valuable information in other columns, missing values will be imputed with median. "
   ]
  },
  {
   "cell_type": "code",
   "execution_count": 330,
   "id": "1097175d",
   "metadata": {},
   "outputs": [],
   "source": [
    "# Impute missing values in residential_units with median\n",
    "df_p1['residential_units'].fillna(df_p1['residential_units'].median(), inplace=True)"
   ]
  },
  {
   "cell_type": "code",
   "execution_count": 331,
   "id": "ae190504",
   "metadata": {},
   "outputs": [
    {
     "data": {
      "text/plain": [
       "0"
      ]
     },
     "execution_count": 331,
     "metadata": {},
     "output_type": "execute_result"
    }
   ],
   "source": [
    "# Check whether missing values were imputed\n",
    "df_p1['residential_units'].isna().sum()"
   ]
  },
  {
   "cell_type": "code",
   "execution_count": 332,
   "id": "977f91ed",
   "metadata": {},
   "outputs": [
    {
     "data": {
      "text/plain": [
       "113638"
      ]
     },
     "execution_count": 332,
     "metadata": {},
     "output_type": "execute_result"
    }
   ],
   "source": [
    "# Check commercial_units for missing values\n",
    "df_p1['commercial_units'].isna().sum()"
   ]
  },
  {
   "cell_type": "code",
   "execution_count": 333,
   "id": "18d565f8",
   "metadata": {},
   "outputs": [
    {
     "name": "stdout",
     "output_type": "stream",
     "text": [
      "       borough          neighborhood            building_class_category  \\\n",
      "180          5              ANNADALE              04 TAX CLASS 1 CONDOS   \n",
      "468          5         ARDEN HEIGHTS              04 TAX CLASS 1 CONDOS   \n",
      "469          5         ARDEN HEIGHTS              04 TAX CLASS 1 CONDOS   \n",
      "470          5         ARDEN HEIGHTS              04 TAX CLASS 1 CONDOS   \n",
      "471          5         ARDEN HEIGHTS              04 TAX CLASS 1 CONDOS   \n",
      "...        ...                   ...                                ...   \n",
      "401843       3          BOROUGH PARK  15 CONDOS - 2-10 UNIT RESIDENTIAL   \n",
      "402413       3        BRIGHTON BEACH  15 CONDOS - 2-10 UNIT RESIDENTIAL   \n",
      "402414       3        BRIGHTON BEACH  15 CONDOS - 2-10 UNIT RESIDENTIAL   \n",
      "419658       3  WILLIAMSBURG-CENTRAL    13 CONDOS - ELEVATOR APARTMENTS   \n",
      "420166       3    WILLIAMSBURG-NORTH                  11A CONDO-RENTALS   \n",
      "\n",
      "       tax_class_at_present block   lot easement building_class_at_present  \\\n",
      "180                      1C  6226  1101        n                        R6   \n",
      "468                      1A  6017  1003        n                        R3   \n",
      "469                      1A  6017  1037        n                        R3   \n",
      "470                      1A  6017  1053        n                        R3   \n",
      "471                      1A  6017  1085        n                        R3   \n",
      "...                     ...   ...   ...      ...                       ...   \n",
      "401843                  nan  5430  1502        n                       nan   \n",
      "402413                  nan  8661  1401        n                       nan   \n",
      "402414                  nan  8661  1402        n                       nan   \n",
      "419658                  nan  2264  3110        n                       nan   \n",
      "420166                  nan  2358  1304        n                       nan   \n",
      "\n",
      "                            address apartment_number             zip_code  \\\n",
      "180            736 ANNADALE ROAD; B                B            10,312.00   \n",
      "468           55 ROLLING HILL GREEN              nan            10,312.00   \n",
      "469      60 ROLLING HILL GREEN; N/A              nan            10,312.00   \n",
      "470      96 ROLLING HILL GREEN; N/A              nan            10,312.00   \n",
      "471     221 ROLLING HILL GREEN; N/A              nan            10,312.00   \n",
      "...                             ...              ...                  ...   \n",
      "401843             4320 16TH AVENUE                2            11,204.00   \n",
      "402413           2955 OCEAN PARKWAY               BF            11,235.00   \n",
      "402414           2955 OCEAN PARKWAY               BR            11,235.00   \n",
      "419658     242 WALLABOUT STREET; 7A               7A            11,206.00   \n",
      "420166          94 NORTH 3RD STREET              AFF            11,249.00   \n",
      "\n",
      "          residential_units  commercial_units          total_units  \\\n",
      "180                    1.00               NaN                 1.00   \n",
      "468                    1.00               NaN                 1.00   \n",
      "469                    1.00               NaN                 1.00   \n",
      "470                    1.00               NaN                 1.00   \n",
      "471                    1.00               NaN                 1.00   \n",
      "...                     ...               ...                  ...   \n",
      "401843                 1.00               NaN                  NaN   \n",
      "402413                 1.00               NaN                  NaN   \n",
      "402414                 1.00               NaN                  NaN   \n",
      "419658                 1.00               NaN                  NaN   \n",
      "420166                 1.00               NaN                  NaN   \n",
      "\n",
      "        land_square_feet  gross_square_feet           year_built  \\\n",
      "180                  NaN                NaN             2,012.00   \n",
      "468                  NaN                NaN             1,979.00   \n",
      "469                  NaN                NaN             1,979.00   \n",
      "470                  NaN                NaN             1,979.00   \n",
      "471                  NaN                NaN             1,979.00   \n",
      "...                  ...                ...                  ...   \n",
      "401843               NaN                NaN             1,920.00   \n",
      "402413               NaN                NaN             1,938.00   \n",
      "402414               NaN                NaN             1,938.00   \n",
      "419658               NaN                NaN             2,014.00   \n",
      "420166               NaN                NaN             2,017.00   \n",
      "\n",
      "       tax_class_at_time_of_sale building_class_at_time_of_sale  \\\n",
      "180                            1                             R6   \n",
      "468                            1                             R3   \n",
      "469                            1                             R3   \n",
      "470                            1                             R3   \n",
      "471                            1                             R3   \n",
      "...                          ...                            ...   \n",
      "401843                         2                             R1   \n",
      "402413                         2                             R1   \n",
      "402414                         2                             R1   \n",
      "419658                         2                             R4   \n",
      "420166                         2                             RR   \n",
      "\n",
      "                 sale_price  sale_date  \n",
      "180              810,000.00 2022-01-12  \n",
      "468                    0.00 2022-03-23  \n",
      "469              480,000.00 2022-12-08  \n",
      "470              550,000.00 2022-06-29  \n",
      "471              454,272.00 2022-06-08  \n",
      "...                     ...        ...  \n",
      "401843           200,000.00 2018-05-30  \n",
      "402413           253,500.00 2018-05-24  \n",
      "402414           294,060.00 2018-05-30  \n",
      "419658           752,894.00 2018-01-07  \n",
      "420166                 0.00 2018-05-15  \n",
      "\n",
      "[113638 rows x 21 columns]\n"
     ]
    }
   ],
   "source": [
    "# Inspect some rows with missing values for commercial_units\n",
    "print(df_p1.loc[df_p1['commercial_units'].isna()])"
   ]
  },
  {
   "cell_type": "code",
   "execution_count": 334,
   "id": "ad3d8147",
   "metadata": {},
   "outputs": [
    {
     "data": {
      "text/plain": [
       "count             315,265.00\n",
       "mean                    0.30\n",
       "std                     7.02\n",
       "min                     0.00\n",
       "25%                     0.00\n",
       "50%                     0.00\n",
       "75%                     0.00\n",
       "max                 2,261.00\n",
       "Name: commercial_units, dtype: float64"
      ]
     },
     "execution_count": 334,
     "metadata": {},
     "output_type": "execute_result"
    }
   ],
   "source": [
    "# Get basic descriptive statistics on commercial_units\n",
    "df_p1['commercial_units'].describe()"
   ]
  },
  {
   "cell_type": "code",
   "execution_count": 335,
   "id": "f84fa9de",
   "metadata": {},
   "outputs": [
    {
     "data": {
      "text/plain": [
       "155.87936242235176"
      ]
     },
     "execution_count": 335,
     "metadata": {},
     "output_type": "execute_result"
    }
   ],
   "source": [
    "# Check skewness of commercial_units\n",
    "df_p1['commercial_units'].skew()"
   ]
  },
  {
   "cell_type": "markdown",
   "id": "8d8c8503",
   "metadata": {},
   "source": [
    "As distribution in residential_units is highly skewed and the number of missing values is high (ca. 26% of all rows) and dropping them might delete valuable information in other columns, missing values will be imputed with median. "
   ]
  },
  {
   "cell_type": "code",
   "execution_count": 336,
   "id": "6bc1b886",
   "metadata": {},
   "outputs": [],
   "source": [
    "# Impute missing values in commercial_units with median\n",
    "df_p1['commercial_units'].fillna(df_p1['commercial_units'].median(), inplace=True)"
   ]
  },
  {
   "cell_type": "code",
   "execution_count": 337,
   "id": "c46eb627",
   "metadata": {},
   "outputs": [
    {
     "data": {
      "text/plain": [
       "0"
      ]
     },
     "execution_count": 337,
     "metadata": {},
     "output_type": "execute_result"
    }
   ],
   "source": [
    "# Check whether missing values were imputed\n",
    "df_p1['commercial_units'].isna().sum()"
   ]
  },
  {
   "cell_type": "code",
   "execution_count": 338,
   "id": "ff9606c7",
   "metadata": {},
   "outputs": [
    {
     "data": {
      "text/plain": [
       "70762"
      ]
     },
     "execution_count": 338,
     "metadata": {},
     "output_type": "execute_result"
    }
   ],
   "source": [
    "# Check total_units for missing values\n",
    "df_p1['total_units'].isna().sum()"
   ]
  },
  {
   "cell_type": "code",
   "execution_count": 339,
   "id": "725a8dc6",
   "metadata": {},
   "outputs": [
    {
     "name": "stdout",
     "output_type": "stream",
     "text": [
      "       borough          neighborhood            building_class_category  \\\n",
      "573          5  ARROCHAR-SHORE ACRES     10 COOPS - ELEVATOR APARTMENTS   \n",
      "574          5  ARROCHAR-SHORE ACRES     10 COOPS - ELEVATOR APARTMENTS   \n",
      "575          5  ARROCHAR-SHORE ACRES     10 COOPS - ELEVATOR APARTMENTS   \n",
      "576          5  ARROCHAR-SHORE ACRES     10 COOPS - ELEVATOR APARTMENTS   \n",
      "577          5  ARROCHAR-SHORE ACRES     10 COOPS - ELEVATOR APARTMENTS   \n",
      "...        ...                   ...                                ...   \n",
      "401843       3          BOROUGH PARK  15 CONDOS - 2-10 UNIT RESIDENTIAL   \n",
      "402413       3        BRIGHTON BEACH  15 CONDOS - 2-10 UNIT RESIDENTIAL   \n",
      "402414       3        BRIGHTON BEACH  15 CONDOS - 2-10 UNIT RESIDENTIAL   \n",
      "419658       3  WILLIAMSBURG-CENTRAL    13 CONDOS - ELEVATOR APARTMENTS   \n",
      "420166       3    WILLIAMSBURG-NORTH                  11A CONDO-RENTALS   \n",
      "\n",
      "       tax_class_at_present block   lot easement building_class_at_present  \\\n",
      "573                       2  2833    31        n                        D4   \n",
      "574                       2  2833    31        n                        D4   \n",
      "575                       2  2833    31        n                        D4   \n",
      "576                       2  2833    31        n                        D4   \n",
      "577                       2  2833    31        n                        D4   \n",
      "...                     ...   ...   ...      ...                       ...   \n",
      "401843                  nan  5430  1502        n                       nan   \n",
      "402413                  nan  8661  1401        n                       nan   \n",
      "402414                  nan  8661  1402        n                       nan   \n",
      "419658                  nan  2264  3110        n                       nan   \n",
      "420166                  nan  2358  1304        n                       nan   \n",
      "\n",
      "                         address apartment_number             zip_code  \\\n",
      "573          20 CLIFF STREET; 3B              nan            10,305.00   \n",
      "574          20 CLIFF STREET; 7M              nan            10,305.00   \n",
      "575          20 CLIFF STREET; 8D              nan            10,305.00   \n",
      "576          20 CLIFF STREET; 8M              nan            10,305.00   \n",
      "577          20 CLIFF STREET; 8N              nan            10,305.00   \n",
      "...                          ...              ...                  ...   \n",
      "401843          4320 16TH AVENUE                2            11,204.00   \n",
      "402413        2955 OCEAN PARKWAY               BF            11,235.00   \n",
      "402414        2955 OCEAN PARKWAY               BR            11,235.00   \n",
      "419658  242 WALLABOUT STREET; 7A               7A            11,206.00   \n",
      "420166       94 NORTH 3RD STREET              AFF            11,249.00   \n",
      "\n",
      "          residential_units     commercial_units  total_units  \\\n",
      "573                    1.00                 0.00          NaN   \n",
      "574                    1.00                 0.00          NaN   \n",
      "575                    1.00                 0.00          NaN   \n",
      "576                    1.00                 0.00          NaN   \n",
      "577                    1.00                 0.00          NaN   \n",
      "...                     ...                  ...          ...   \n",
      "401843                 1.00                 0.00          NaN   \n",
      "402413                 1.00                 0.00          NaN   \n",
      "402414                 1.00                 0.00          NaN   \n",
      "419658                 1.00                 0.00          NaN   \n",
      "420166                 1.00                 0.00          NaN   \n",
      "\n",
      "        land_square_feet  gross_square_feet           year_built  \\\n",
      "573                  NaN                NaN             1,964.00   \n",
      "574                  NaN                NaN             1,964.00   \n",
      "575                  NaN                NaN             1,964.00   \n",
      "576                  NaN                NaN             1,964.00   \n",
      "577                  NaN                NaN             1,964.00   \n",
      "...                  ...                ...                  ...   \n",
      "401843               NaN                NaN             1,920.00   \n",
      "402413               NaN                NaN             1,938.00   \n",
      "402414               NaN                NaN             1,938.00   \n",
      "419658               NaN                NaN             2,014.00   \n",
      "420166               NaN                NaN             2,017.00   \n",
      "\n",
      "       tax_class_at_time_of_sale building_class_at_time_of_sale  \\\n",
      "573                            2                             D4   \n",
      "574                            2                             D4   \n",
      "575                            2                             D4   \n",
      "576                            2                             D4   \n",
      "577                            2                             D4   \n",
      "...                          ...                            ...   \n",
      "401843                         2                             R1   \n",
      "402413                         2                             R1   \n",
      "402414                         2                             R1   \n",
      "419658                         2                             R4   \n",
      "420166                         2                             RR   \n",
      "\n",
      "                 sale_price  sale_date  \n",
      "573                   10.00 2022-03-17  \n",
      "574                   10.00 2022-07-08  \n",
      "575              249,900.00 2022-11-02  \n",
      "576              365,000.00 2022-10-14  \n",
      "577              379,000.00 2022-11-14  \n",
      "...                     ...        ...  \n",
      "401843           200,000.00 2018-05-30  \n",
      "402413           253,500.00 2018-05-24  \n",
      "402414           294,060.00 2018-05-30  \n",
      "419658           752,894.00 2018-01-07  \n",
      "420166                 0.00 2018-05-15  \n",
      "\n",
      "[70762 rows x 21 columns]\n"
     ]
    }
   ],
   "source": [
    "# Inspect some rows with missing values for total_units\n",
    "print(df_p1.loc[df_p1['total_units'].isna()])"
   ]
  },
  {
   "cell_type": "markdown",
   "id": "b2657f67",
   "metadata": {},
   "source": [
    "Missing values for total_units will be deduced from residential_units + commercial_units."
   ]
  },
  {
   "cell_type": "code",
   "execution_count": 340,
   "id": "4b71fb36",
   "metadata": {},
   "outputs": [],
   "source": [
    "# Impute missing values in total_units\n",
    "df_p1['total_units'].fillna((df_p1['residential_units']+df_p1['commercial_units']), inplace=True)"
   ]
  },
  {
   "cell_type": "code",
   "execution_count": 341,
   "id": "ca9c2a79",
   "metadata": {},
   "outputs": [
    {
     "data": {
      "text/plain": [
       "0"
      ]
     },
     "execution_count": 341,
     "metadata": {},
     "output_type": "execute_result"
    }
   ],
   "source": [
    "# Check whether missing values were imputed\n",
    "df_p1['total_units'].isna().sum()"
   ]
  },
  {
   "cell_type": "code",
   "execution_count": 342,
   "id": "17b6d66d",
   "metadata": {},
   "outputs": [
    {
     "name": "stdout",
     "output_type": "stream",
     "text": [
      "       borough        neighborhood building_class_category  \\\n",
      "420166       3  WILLIAMSBURG-NORTH       11A CONDO-RENTALS   \n",
      "\n",
      "       tax_class_at_present block   lot easement building_class_at_present  \\\n",
      "420166                  nan  2358  1304        n                       nan   \n",
      "\n",
      "                    address apartment_number             zip_code  \\\n",
      "420166  94 NORTH 3RD STREET              AFF            11,249.00   \n",
      "\n",
      "          residential_units     commercial_units          total_units  \\\n",
      "420166                 1.00                 0.00                 1.00   \n",
      "\n",
      "        land_square_feet  gross_square_feet           year_built  \\\n",
      "420166               NaN                NaN             2,017.00   \n",
      "\n",
      "       tax_class_at_time_of_sale building_class_at_time_of_sale  \\\n",
      "420166                         2                             RR   \n",
      "\n",
      "                 sale_price  sale_date  \n",
      "420166                 0.00 2018-05-15  \n"
     ]
    }
   ],
   "source": [
    "# Print row at index 420166 to check whether correct value was imputed (expected value is 1.0)\n",
    "print(df_p1.iloc[[420166]])"
   ]
  },
  {
   "cell_type": "code",
   "execution_count": 343,
   "id": "9e341dc9",
   "metadata": {},
   "outputs": [
    {
     "data": {
      "text/plain": [
       "24025"
      ]
     },
     "execution_count": 343,
     "metadata": {},
     "output_type": "execute_result"
    }
   ],
   "source": [
    "# Check year_built for missing values\n",
    "df_p1['year_built'].isna().sum()"
   ]
  },
  {
   "cell_type": "code",
   "execution_count": 344,
   "id": "63c830e5",
   "metadata": {},
   "outputs": [
    {
     "name": "stdout",
     "output_type": "stream",
     "text": [
      "       borough        neighborhood            building_class_category  \\\n",
      "181          5            ANNADALE         05 TAX CLASS 1 VACANT LAND   \n",
      "184          5            ANNADALE         05 TAX CLASS 1 VACANT LAND   \n",
      "185          5            ANNADALE         05 TAX CLASS 1 VACANT LAND   \n",
      "186          5            ANNADALE         05 TAX CLASS 1 VACANT LAND   \n",
      "188          5            ANNADALE         05 TAX CLASS 1 VACANT LAND   \n",
      "...        ...                 ...                                ...   \n",
      "345025       2      WILLIAMSBRIDGE              29 COMMERCIAL GARAGES   \n",
      "345027       2      WILLIAMSBRIDGE          31 COMMERCIAL VACANT LAND   \n",
      "347874       5         GREAT KILLS            01 ONE FAMILY DWELLINGS   \n",
      "399782       3  BEDFORD STUYVESANT  15 CONDOS - 2-10 UNIT RESIDENTIAL   \n",
      "399783       3  BEDFORD STUYVESANT  15 CONDOS - 2-10 UNIT RESIDENTIAL   \n",
      "\n",
      "       tax_class_at_present block   lot easement building_class_at_present  \\\n",
      "181                      1B  6242    17        n                        V0   \n",
      "184                      1B  6261    56        n                        V0   \n",
      "185                      1B  6266    66        n                        V0   \n",
      "186                      1B  6273    30        n                        V0   \n",
      "188                      1B  6277    96        n                        V0   \n",
      "...                     ...   ...   ...      ...                       ...   \n",
      "345025                    4  4824    25        n                        G7   \n",
      "345027                    4  4667    51        n                        V1   \n",
      "347874                   1B  5511    50        n                        V0   \n",
      "399782                  nan  1803  1002        n                       nan   \n",
      "399783                  nan  1803  1007        n                       nan   \n",
      "\n",
      "                       address apartment_number             zip_code  \\\n",
      "181          N/A MOSELY AVENUE              nan            10,312.00   \n",
      "184       N/A EDGEGROVE AVENUE              nan            10,312.00   \n",
      "185          N/A RENSSELAER AV              nan            10,312.00   \n",
      "186           N/A CROWN AVENUE              nan            10,312.00   \n",
      "188       N/A EDGEGROVE AVENUE              nan            10,312.00   \n",
      "...                        ...              ...                  ...   \n",
      "345025   659 EAST 222ND STREET              nan            10,467.00   \n",
      "345027  3806 WHITE PLAINS ROAD              nan            10,467.00   \n",
      "347874    9 BARTLETT AVENUE; 0              nan            10,312.00   \n",
      "399782    762 MARCY AVENUE; 1B              nan                 0.00   \n",
      "399783     762 MARCY AVENUE; 4              nan                 0.00   \n",
      "\n",
      "          residential_units     commercial_units          total_units  \\\n",
      "181                    0.00                 0.00                 0.00   \n",
      "184                    0.00                 0.00                 0.00   \n",
      "185                    0.00                 0.00                 0.00   \n",
      "186                    0.00                 0.00                 0.00   \n",
      "188                    0.00                 0.00                 0.00   \n",
      "...                     ...                  ...                  ...   \n",
      "345025                 0.00                 0.00                 0.00   \n",
      "345027                 0.00                 0.00                 0.00   \n",
      "347874                 0.00                 0.00                 0.00   \n",
      "399782                 1.00                 0.00                 1.00   \n",
      "399783                 1.00                 0.00                 1.00   \n",
      "\n",
      "           land_square_feet    gross_square_feet  year_built  \\\n",
      "181                5,500.00                 0.00         NaN   \n",
      "184                4,999.00                 0.00         NaN   \n",
      "185                3,920.00                 0.00         NaN   \n",
      "186                5,999.00                 0.00         NaN   \n",
      "188                3,999.00                 0.00         NaN   \n",
      "...                     ...                  ...         ...   \n",
      "345025             2,500.00                 0.00         NaN   \n",
      "345027             2,755.00                 0.00         NaN   \n",
      "347874             4,273.00                 0.00         NaN   \n",
      "399782                  NaN                  NaN         NaN   \n",
      "399783                  NaN                  NaN         NaN   \n",
      "\n",
      "       tax_class_at_time_of_sale building_class_at_time_of_sale  \\\n",
      "181                            1                             V0   \n",
      "184                            1                             V0   \n",
      "185                            1                             V0   \n",
      "186                            1                             V0   \n",
      "188                            1                             V0   \n",
      "...                          ...                            ...   \n",
      "345025                         4                             G7   \n",
      "345027                         4                             V1   \n",
      "347874                         1                             A2   \n",
      "399782                         2                             R1   \n",
      "399783                         2                             R1   \n",
      "\n",
      "                 sale_price  sale_date  \n",
      "181              960,000.00 2022-09-07  \n",
      "184              435,000.00 2022-09-13  \n",
      "185                    0.00 2022-03-16  \n",
      "186                    0.00 2022-06-24  \n",
      "188                    0.00 2022-06-10  \n",
      "...                     ...        ...  \n",
      "345025           375,000.00 2019-08-07  \n",
      "345027                 0.00 2019-07-01  \n",
      "347874           153,295.00 2018-12-27  \n",
      "399782           850,000.00 2018-12-18  \n",
      "399783           875,000.00 2018-12-27  \n",
      "\n",
      "[24025 rows x 21 columns]\n"
     ]
    }
   ],
   "source": [
    "# Inspect some rows with missing values for year_built\n",
    "print(df_p1.loc[df_p1['year_built'].isna()])"
   ]
  },
  {
   "cell_type": "markdown",
   "id": "00801b67",
   "metadata": {},
   "source": [
    "In some cases, missing values in year_built could point towards empty land (cf. building class category). However, this does not apply to all rows with missing values, so it is unclear how missing values in year_built can be reasonably imputed. Imputing mean or median does not make sense either in the case of year figures as it is unclear whether they are missing at random or with a pattern. Missing values make up ca. 5,6% of all rows. They will be dropped. "
   ]
  },
  {
   "cell_type": "code",
   "execution_count": 345,
   "id": "94af4b76",
   "metadata": {},
   "outputs": [],
   "source": [
    "# Drop rows with missing values in year_built\n",
    "df_p1.dropna(subset=['year_built'], inplace=True)"
   ]
  },
  {
   "cell_type": "code",
   "execution_count": 346,
   "id": "e84bf8fd",
   "metadata": {},
   "outputs": [
    {
     "data": {
      "text/plain": [
       "0"
      ]
     },
     "execution_count": 346,
     "metadata": {},
     "output_type": "execute_result"
    }
   ],
   "source": [
    "# Check whether missing values were dropped\n",
    "df_p1['year_built'].isna().sum()"
   ]
  },
  {
   "cell_type": "markdown",
   "id": "14e9d112",
   "metadata": {},
   "source": [
    "No missing values remain in the columns not converted to integers. "
   ]
  },
  {
   "cell_type": "code",
   "execution_count": 347,
   "id": "f403d24c",
   "metadata": {},
   "outputs": [],
   "source": [
    "# Convert zip_code to int\n",
    "df_p1['zip_code'] = df_p1['zip_code'].astype(int, errors='ignore')\n",
    "\n",
    "# Convert columns on numbers of units to int\n",
    "df_p1['residential_units'] = df_p1['residential_units'].astype(int, errors='ignore')\n",
    "df_p1['commercial_units'] = df_p1['commercial_units'].astype(int, errors='ignore')\n",
    "df_p1['total_units'] = df_p1['total_units'].astype(int, errors='ignore')\n",
    "\n",
    "# Convert year_built to int\n",
    "df_p1['year_built'] = df_p1['year_built'].astype(int, errors='ignore')"
   ]
  },
  {
   "cell_type": "code",
   "execution_count": 348,
   "id": "7fe822c5",
   "metadata": {},
   "outputs": [
    {
     "data": {
      "text/plain": [
       "borough                                   object\n",
       "neighborhood                              object\n",
       "building_class_category                   object\n",
       "tax_class_at_present                      object\n",
       "block                                     object\n",
       "lot                                       object\n",
       "easement                                  object\n",
       "building_class_at_present                 object\n",
       "address                                   object\n",
       "apartment_number                          object\n",
       "zip_code                                   int64\n",
       "residential_units                          int64\n",
       "commercial_units                           int64\n",
       "total_units                                int64\n",
       "land_square_feet                         float64\n",
       "gross_square_feet                        float64\n",
       "year_built                                 int64\n",
       "tax_class_at_time_of_sale                 object\n",
       "building_class_at_time_of_sale            object\n",
       "sale_price                               float64\n",
       "sale_date                         datetime64[ns]\n",
       "dtype: object"
      ]
     },
     "execution_count": 348,
     "metadata": {},
     "output_type": "execute_result"
    }
   ],
   "source": [
    "# Check datatypes in df_p1\n",
    "df_p1.dtypes"
   ]
  },
  {
   "cell_type": "code",
   "execution_count": 349,
   "id": "212bcb9e",
   "metadata": {},
   "outputs": [
    {
     "data": {
      "text/html": [
       "<div>\n",
       "<style scoped>\n",
       "    .dataframe tbody tr th:only-of-type {\n",
       "        vertical-align: middle;\n",
       "    }\n",
       "\n",
       "    .dataframe tbody tr th {\n",
       "        vertical-align: top;\n",
       "    }\n",
       "\n",
       "    .dataframe thead th {\n",
       "        text-align: right;\n",
       "    }\n",
       "</style>\n",
       "<table border=\"1\" class=\"dataframe\">\n",
       "  <thead>\n",
       "    <tr style=\"text-align: right;\">\n",
       "      <th></th>\n",
       "      <th>borough</th>\n",
       "      <th>neighborhood</th>\n",
       "      <th>building_class_category</th>\n",
       "      <th>tax_class_at_present</th>\n",
       "      <th>block</th>\n",
       "      <th>lot</th>\n",
       "      <th>easement</th>\n",
       "      <th>building_class_at_present</th>\n",
       "      <th>address</th>\n",
       "      <th>apartment_number</th>\n",
       "      <th>zip_code</th>\n",
       "      <th>residential_units</th>\n",
       "      <th>commercial_units</th>\n",
       "      <th>total_units</th>\n",
       "      <th>land_square_feet</th>\n",
       "      <th>gross_square_feet</th>\n",
       "      <th>year_built</th>\n",
       "      <th>tax_class_at_time_of_sale</th>\n",
       "      <th>building_class_at_time_of_sale</th>\n",
       "      <th>sale_price</th>\n",
       "      <th>sale_date</th>\n",
       "    </tr>\n",
       "  </thead>\n",
       "  <tbody>\n",
       "    <tr>\n",
       "      <th>0</th>\n",
       "      <td>5</td>\n",
       "      <td>ANNADALE</td>\n",
       "      <td>01 ONE FAMILY DWELLINGS</td>\n",
       "      <td>1</td>\n",
       "      <td>5391</td>\n",
       "      <td>7</td>\n",
       "      <td>n</td>\n",
       "      <td>A5</td>\n",
       "      <td>4732 AMBOY ROAD</td>\n",
       "      <td>nan</td>\n",
       "      <td>10312</td>\n",
       "      <td>1</td>\n",
       "      <td>0</td>\n",
       "      <td>1</td>\n",
       "      <td>3,654.00</td>\n",
       "      <td>910.00</td>\n",
       "      <td>2002</td>\n",
       "      <td>1</td>\n",
       "      <td>A5</td>\n",
       "      <td>764,000.00</td>\n",
       "      <td>2022-06-30</td>\n",
       "    </tr>\n",
       "    <tr>\n",
       "      <th>1</th>\n",
       "      <td>5</td>\n",
       "      <td>ANNADALE</td>\n",
       "      <td>01 ONE FAMILY DWELLINGS</td>\n",
       "      <td>1</td>\n",
       "      <td>5395</td>\n",
       "      <td>4</td>\n",
       "      <td>n</td>\n",
       "      <td>A1</td>\n",
       "      <td>26 EDWIN STREET</td>\n",
       "      <td>nan</td>\n",
       "      <td>10312</td>\n",
       "      <td>1</td>\n",
       "      <td>0</td>\n",
       "      <td>1</td>\n",
       "      <td>7,654.00</td>\n",
       "      <td>2,277.00</td>\n",
       "      <td>1980</td>\n",
       "      <td>1</td>\n",
       "      <td>A1</td>\n",
       "      <td>1,098,000.00</td>\n",
       "      <td>2022-08-19</td>\n",
       "    </tr>\n",
       "    <tr>\n",
       "      <th>2</th>\n",
       "      <td>5</td>\n",
       "      <td>ANNADALE</td>\n",
       "      <td>01 ONE FAMILY DWELLINGS</td>\n",
       "      <td>1</td>\n",
       "      <td>5395</td>\n",
       "      <td>32</td>\n",
       "      <td>n</td>\n",
       "      <td>A1</td>\n",
       "      <td>541 SYCAMORE STREET</td>\n",
       "      <td>nan</td>\n",
       "      <td>10312</td>\n",
       "      <td>1</td>\n",
       "      <td>0</td>\n",
       "      <td>1</td>\n",
       "      <td>13,320.00</td>\n",
       "      <td>4,696.00</td>\n",
       "      <td>1985</td>\n",
       "      <td>1</td>\n",
       "      <td>A1</td>\n",
       "      <td>0.00</td>\n",
       "      <td>2022-04-20</td>\n",
       "    </tr>\n",
       "    <tr>\n",
       "      <th>3</th>\n",
       "      <td>5</td>\n",
       "      <td>ANNADALE</td>\n",
       "      <td>01 ONE FAMILY DWELLINGS</td>\n",
       "      <td>1</td>\n",
       "      <td>5399</td>\n",
       "      <td>37</td>\n",
       "      <td>n</td>\n",
       "      <td>A2</td>\n",
       "      <td>255 KOCH BOULEVARD</td>\n",
       "      <td>nan</td>\n",
       "      <td>10312</td>\n",
       "      <td>1</td>\n",
       "      <td>0</td>\n",
       "      <td>1</td>\n",
       "      <td>8,190.00</td>\n",
       "      <td>1,528.00</td>\n",
       "      <td>1970</td>\n",
       "      <td>1</td>\n",
       "      <td>A2</td>\n",
       "      <td>890,000.00</td>\n",
       "      <td>2022-01-03</td>\n",
       "    </tr>\n",
       "    <tr>\n",
       "      <th>4</th>\n",
       "      <td>5</td>\n",
       "      <td>ANNADALE</td>\n",
       "      <td>01 ONE FAMILY DWELLINGS</td>\n",
       "      <td>1</td>\n",
       "      <td>5402</td>\n",
       "      <td>17</td>\n",
       "      <td>n</td>\n",
       "      <td>A2</td>\n",
       "      <td>6 WEAVER STREET</td>\n",
       "      <td>nan</td>\n",
       "      <td>10312</td>\n",
       "      <td>1</td>\n",
       "      <td>0</td>\n",
       "      <td>1</td>\n",
       "      <td>10,500.00</td>\n",
       "      <td>2,278.00</td>\n",
       "      <td>1980</td>\n",
       "      <td>1</td>\n",
       "      <td>A2</td>\n",
       "      <td>0.00</td>\n",
       "      <td>2022-12-27</td>\n",
       "    </tr>\n",
       "  </tbody>\n",
       "</table>\n",
       "</div>"
      ],
      "text/plain": [
       "  borough neighborhood  building_class_category tax_class_at_present block  \\\n",
       "0       5     ANNADALE  01 ONE FAMILY DWELLINGS                    1  5391   \n",
       "1       5     ANNADALE  01 ONE FAMILY DWELLINGS                    1  5395   \n",
       "2       5     ANNADALE  01 ONE FAMILY DWELLINGS                    1  5395   \n",
       "3       5     ANNADALE  01 ONE FAMILY DWELLINGS                    1  5399   \n",
       "4       5     ANNADALE  01 ONE FAMILY DWELLINGS                    1  5402   \n",
       "\n",
       "  lot easement building_class_at_present              address  \\\n",
       "0   7        n                        A5      4732 AMBOY ROAD   \n",
       "1   4        n                        A1      26 EDWIN STREET   \n",
       "2  32        n                        A1  541 SYCAMORE STREET   \n",
       "3  37        n                        A2   255 KOCH BOULEVARD   \n",
       "4  17        n                        A2      6 WEAVER STREET   \n",
       "\n",
       "  apartment_number  zip_code  residential_units  commercial_units  \\\n",
       "0              nan     10312                  1                 0   \n",
       "1              nan     10312                  1                 0   \n",
       "2              nan     10312                  1                 0   \n",
       "3              nan     10312                  1                 0   \n",
       "4              nan     10312                  1                 0   \n",
       "\n",
       "   total_units     land_square_feet    gross_square_feet  year_built  \\\n",
       "0            1             3,654.00               910.00        2002   \n",
       "1            1             7,654.00             2,277.00        1980   \n",
       "2            1            13,320.00             4,696.00        1985   \n",
       "3            1             8,190.00             1,528.00        1970   \n",
       "4            1            10,500.00             2,278.00        1980   \n",
       "\n",
       "  tax_class_at_time_of_sale building_class_at_time_of_sale  \\\n",
       "0                         1                             A5   \n",
       "1                         1                             A1   \n",
       "2                         1                             A1   \n",
       "3                         1                             A2   \n",
       "4                         1                             A2   \n",
       "\n",
       "            sale_price  sale_date  \n",
       "0           764,000.00 2022-06-30  \n",
       "1         1,098,000.00 2022-08-19  \n",
       "2                 0.00 2022-04-20  \n",
       "3           890,000.00 2022-01-03  \n",
       "4                 0.00 2022-12-27  "
      ]
     },
     "execution_count": 349,
     "metadata": {},
     "output_type": "execute_result"
    }
   ],
   "source": [
    "# Check head of df_p1\n",
    "df_p1.head()"
   ]
  },
  {
   "cell_type": "markdown",
   "id": "35707824",
   "metadata": {},
   "source": [
    "## 03.6 Harmonise column datatypes in df_p2"
   ]
  },
  {
   "cell_type": "code",
   "execution_count": 350,
   "id": "7618b945",
   "metadata": {},
   "outputs": [
    {
     "data": {
      "text/plain": [
       "borough                                    int64\n",
       "neighborhood                              object\n",
       "building_class_category                   object\n",
       "tax_class_at_present                      object\n",
       "block                                      int64\n",
       "lot                                        int64\n",
       "easement                                  object\n",
       "building_class_at_present                 object\n",
       "address                                   object\n",
       "apartment_number                          object\n",
       "zip_code                                   int64\n",
       "residential_units                          int64\n",
       "commercial_units                           int64\n",
       "total_units                                int64\n",
       "land_square_feet                         float64\n",
       "gross_square_feet                        float64\n",
       "year_built                                 int64\n",
       "tax_class_at_time_of_sale                  int64\n",
       "building_class_at_time_of_sale            object\n",
       "sale_price                               float64\n",
       "sale_date                         datetime64[ns]\n",
       "dtype: object"
      ]
     },
     "execution_count": 350,
     "metadata": {},
     "output_type": "execute_result"
    }
   ],
   "source": [
    "# Recall datatypes in df_p2\n",
    "df_p2.dtypes"
   ]
  },
  {
   "cell_type": "code",
   "execution_count": 351,
   "id": "deb2ac43",
   "metadata": {},
   "outputs": [],
   "source": [
    "# Convert borough, block, lot and tax_class_at_time_of_sale to string\n",
    "df_p2['borough'] = df_p2['borough'].astype('str')\n",
    "df_p2['block'] = df_p2['block'].astype('str')\n",
    "df_p2['lot'] = df_p2['lot'].astype('str')\n",
    "df_p2['tax_class_at_time_of_sale'] = df_p2['tax_class_at_time_of_sale'].astype('str')"
   ]
  },
  {
   "cell_type": "code",
   "execution_count": 352,
   "id": "637e32a1",
   "metadata": {},
   "outputs": [
    {
     "data": {
      "text/plain": [
       "borough                                   object\n",
       "neighborhood                              object\n",
       "building_class_category                   object\n",
       "tax_class_at_present                      object\n",
       "block                                     object\n",
       "lot                                       object\n",
       "easement                                  object\n",
       "building_class_at_present                 object\n",
       "address                                   object\n",
       "apartment_number                          object\n",
       "zip_code                                   int64\n",
       "residential_units                          int64\n",
       "commercial_units                           int64\n",
       "total_units                                int64\n",
       "land_square_feet                         float64\n",
       "gross_square_feet                        float64\n",
       "year_built                                 int64\n",
       "tax_class_at_time_of_sale                 object\n",
       "building_class_at_time_of_sale            object\n",
       "sale_price                               float64\n",
       "sale_date                         datetime64[ns]\n",
       "dtype: object"
      ]
     },
     "execution_count": 352,
     "metadata": {},
     "output_type": "execute_result"
    }
   ],
   "source": [
    "# Check whether conversion has worked\n",
    "df_p2.dtypes"
   ]
  },
  {
   "cell_type": "markdown",
   "id": "f92d854e",
   "metadata": {},
   "source": [
    "## 03.7 Harmonise column datatypes in df_p3"
   ]
  },
  {
   "cell_type": "code",
   "execution_count": 353,
   "id": "fcb0c9d0",
   "metadata": {},
   "outputs": [
    {
     "data": {
      "text/plain": [
       "borough                                    int64\n",
       "neighborhood                              object\n",
       "building_class_category                   object\n",
       "tax_class_at_present                      object\n",
       "block                                      int64\n",
       "lot                                        int64\n",
       "easement                                  object\n",
       "building_class_at_present                 object\n",
       "address                                   object\n",
       "apartment_number                          object\n",
       "zip_code                                   int64\n",
       "residential_units                          int64\n",
       "commercial_units                           int64\n",
       "total_units                                int64\n",
       "land_square_feet                         float64\n",
       "gross_square_feet                        float64\n",
       "year_built                                 int64\n",
       "tax_class_at_time_of_sale                  int64\n",
       "building_class_at_time_of_sale            object\n",
       "sale_price                               float64\n",
       "sale_date                         datetime64[ns]\n",
       "dtype: object"
      ]
     },
     "execution_count": 353,
     "metadata": {},
     "output_type": "execute_result"
    }
   ],
   "source": [
    "# Recall datatypes in df_p3\n",
    "df_p3.dtypes"
   ]
  },
  {
   "cell_type": "code",
   "execution_count": 354,
   "id": "b60253e9",
   "metadata": {},
   "outputs": [],
   "source": [
    "# Convert borough, block, lot and tax_class_at_time_of_sale to string\n",
    "df_p3['borough'] = df_p3['borough'].astype('str')\n",
    "df_p3['block'] = df_p3['block'].astype('str')\n",
    "df_p3['lot'] = df_p3['lot'].astype('str')\n",
    "df_p3['tax_class_at_time_of_sale'] = df_p3['tax_class_at_time_of_sale'].astype('str')"
   ]
  },
  {
   "cell_type": "code",
   "execution_count": 355,
   "id": "b00b6abd",
   "metadata": {},
   "outputs": [
    {
     "data": {
      "text/plain": [
       "borough                                   object\n",
       "neighborhood                              object\n",
       "building_class_category                   object\n",
       "tax_class_at_present                      object\n",
       "block                                     object\n",
       "lot                                       object\n",
       "easement                                  object\n",
       "building_class_at_present                 object\n",
       "address                                   object\n",
       "apartment_number                          object\n",
       "zip_code                                   int64\n",
       "residential_units                          int64\n",
       "commercial_units                           int64\n",
       "total_units                                int64\n",
       "land_square_feet                         float64\n",
       "gross_square_feet                        float64\n",
       "year_built                                 int64\n",
       "tax_class_at_time_of_sale                 object\n",
       "building_class_at_time_of_sale            object\n",
       "sale_price                               float64\n",
       "sale_date                         datetime64[ns]\n",
       "dtype: object"
      ]
     },
     "execution_count": 355,
     "metadata": {},
     "output_type": "execute_result"
    }
   ],
   "source": [
    "# Check whether conversion has worked\n",
    "df_p3.dtypes"
   ]
  },
  {
   "cell_type": "markdown",
   "id": "b307575b",
   "metadata": {},
   "source": [
    "## 03.8 Harmonise column datatypes in df_p4"
   ]
  },
  {
   "cell_type": "code",
   "execution_count": 356,
   "id": "6b8c9457",
   "metadata": {},
   "outputs": [
    {
     "data": {
      "text/plain": [
       "borough                                    int64\n",
       "neighborhood                              object\n",
       "building_class_category                   object\n",
       "tax_class_at_present                      object\n",
       "block                                      int64\n",
       "lot                                        int64\n",
       "easement                                  object\n",
       "building_class_at_present                 object\n",
       "address                                   object\n",
       "apartment_number                          object\n",
       "zip_code                                   int64\n",
       "residential_units                          int64\n",
       "commercial_units                           int64\n",
       "total_units                                int64\n",
       "land_square_feet                         float64\n",
       "gross_square_feet                        float64\n",
       "year_built                                 int64\n",
       "tax_class_at_time_of_sale                  int64\n",
       "building_class_at_time_of_sale            object\n",
       "sale_price                               float64\n",
       "sale_date                         datetime64[ns]\n",
       "dtype: object"
      ]
     },
     "execution_count": 356,
     "metadata": {},
     "output_type": "execute_result"
    }
   ],
   "source": [
    "# Recall datatypes in df_p4\n",
    "df_p4.dtypes"
   ]
  },
  {
   "cell_type": "code",
   "execution_count": 357,
   "id": "5316f16e",
   "metadata": {},
   "outputs": [],
   "source": [
    "# Convert borough, block, lot and tax_class_at_time_of_sale to string\n",
    "df_p4['borough'] = df_p4['borough'].astype('str')\n",
    "df_p4['block'] = df_p4['block'].astype('str')\n",
    "df_p4['lot'] = df_p4['lot'].astype('str')\n",
    "df_p4['tax_class_at_time_of_sale'] = df_p4['tax_class_at_time_of_sale'].astype('str')"
   ]
  },
  {
   "cell_type": "code",
   "execution_count": 358,
   "id": "e5d2dcfd",
   "metadata": {},
   "outputs": [
    {
     "data": {
      "text/plain": [
       "borough                                   object\n",
       "neighborhood                              object\n",
       "building_class_category                   object\n",
       "tax_class_at_present                      object\n",
       "block                                     object\n",
       "lot                                       object\n",
       "easement                                  object\n",
       "building_class_at_present                 object\n",
       "address                                   object\n",
       "apartment_number                          object\n",
       "zip_code                                   int64\n",
       "residential_units                          int64\n",
       "commercial_units                           int64\n",
       "total_units                                int64\n",
       "land_square_feet                         float64\n",
       "gross_square_feet                        float64\n",
       "year_built                                 int64\n",
       "tax_class_at_time_of_sale                 object\n",
       "building_class_at_time_of_sale            object\n",
       "sale_price                               float64\n",
       "sale_date                         datetime64[ns]\n",
       "dtype: object"
      ]
     },
     "execution_count": 358,
     "metadata": {},
     "output_type": "execute_result"
    }
   ],
   "source": [
    "# Check whether conversion has worked\n",
    "df_p4.dtypes"
   ]
  },
  {
   "cell_type": "markdown",
   "id": "f0bb2737",
   "metadata": {},
   "source": [
    "## 03.9 Harmonise column datatypes in df_roll"
   ]
  },
  {
   "cell_type": "code",
   "execution_count": 359,
   "id": "f005dcbc",
   "metadata": {},
   "outputs": [
    {
     "data": {
      "text/plain": [
       "borough                                  float64\n",
       "neighborhood                              object\n",
       "building_class_category                   object\n",
       "tax_class_at_present                      object\n",
       "block                                    float64\n",
       "lot                                      float64\n",
       "easement                                 float64\n",
       "building_class_at_present                 object\n",
       "address                                   object\n",
       "apartment_number                          object\n",
       "zip_code                                 float64\n",
       "residential_units                        float64\n",
       "commercial_units                         float64\n",
       "total_units                              float64\n",
       "land_square_feet                         float64\n",
       "gross_square_feet                        float64\n",
       "year_built                               float64\n",
       "tax_class_at_time_of_sale                float64\n",
       "building_class_at_time_of_sale            object\n",
       "sale_price                               float64\n",
       "sale_date                         datetime64[ns]\n",
       "dtype: object"
      ]
     },
     "execution_count": 359,
     "metadata": {},
     "output_type": "execute_result"
    }
   ],
   "source": [
    "# Recall datatypes in df_roll\n",
    "df_roll.dtypes"
   ]
  },
  {
   "cell_type": "code",
   "execution_count": 360,
   "id": "52e1aff8",
   "metadata": {},
   "outputs": [],
   "source": [
    "# Convert borough, block, lot, easement and tax_class_at_time_of_sale to string\n",
    "df_roll['borough'] = df_roll['borough'].astype('str').str[:-2]\n",
    "df_roll['block'] = df_roll['block'].astype('str').str[:-2]\n",
    "df_roll['lot'] = df_roll['lot'].astype('str').str[:-2]\n",
    "df_roll['easement'] = df_roll['easement'].astype('str').str[:-2]\n",
    "df_roll['tax_class_at_time_of_sale'] = df_roll['tax_class_at_time_of_sale'].astype('str').str[:-2]\n",
    "\n",
    "# Convert zip_code to int\n",
    "df_roll['zip_code'] = df_roll['zip_code'].astype(int, errors='ignore')\n",
    "\n",
    "# Convert columns on numbers of units to int\n",
    "df_roll['residential_units'] = df_roll['residential_units'].astype(int, errors='ignore')\n",
    "df_roll['commercial_units'] = df_roll['commercial_units'].astype(int, errors='ignore')\n",
    "df_roll['total_units'] = df_roll['total_units'].astype(int, errors='ignore')\n",
    "\n",
    "# Convert year_built to int\n",
    "df_roll['year_built'] = df_roll['year_built'].astype(int, errors='ignore')"
   ]
  },
  {
   "cell_type": "code",
   "execution_count": 361,
   "id": "bec4a8b9",
   "metadata": {},
   "outputs": [
    {
     "data": {
      "text/plain": [
       "borough                                   object\n",
       "neighborhood                              object\n",
       "building_class_category                   object\n",
       "tax_class_at_present                      object\n",
       "block                                     object\n",
       "lot                                       object\n",
       "easement                                  object\n",
       "building_class_at_present                 object\n",
       "address                                   object\n",
       "apartment_number                          object\n",
       "zip_code                                 float64\n",
       "residential_units                        float64\n",
       "commercial_units                         float64\n",
       "total_units                              float64\n",
       "land_square_feet                         float64\n",
       "gross_square_feet                        float64\n",
       "year_built                               float64\n",
       "tax_class_at_time_of_sale                 object\n",
       "building_class_at_time_of_sale            object\n",
       "sale_price                               float64\n",
       "sale_date                         datetime64[ns]\n",
       "dtype: object"
      ]
     },
     "execution_count": 361,
     "metadata": {},
     "output_type": "execute_result"
    }
   ],
   "source": [
    "# Check whether conversion has worked\n",
    "df_roll.dtypes"
   ]
  },
  {
   "cell_type": "markdown",
   "id": "f0e85d8e",
   "metadata": {},
   "source": [
    "Conversion has not worked for zip_code, residential_units, commercial_units, total_units and year_built. "
   ]
  },
  {
   "cell_type": "code",
   "execution_count": 362,
   "id": "a3ebd390",
   "metadata": {},
   "outputs": [
    {
     "data": {
      "text/plain": [
       "7"
      ]
     },
     "execution_count": 362,
     "metadata": {},
     "output_type": "execute_result"
    }
   ],
   "source": [
    "# Check zip_code for missing values\n",
    "df_roll['zip_code'].isna().sum()"
   ]
  },
  {
   "cell_type": "code",
   "execution_count": 363,
   "id": "e5f8d614",
   "metadata": {},
   "outputs": [
    {
     "name": "stdout",
     "output_type": "stream",
     "text": [
      "      borough   neighborhood     building_class_category tax_class_at_present  \\\n",
      "4753        5  OAKWOOD-BEACH  05 TAX CLASS 1 VACANT LAND                   1B   \n",
      "7742        4        ARVERNE       29 COMMERCIAL GARAGES                    4   \n",
      "7743        4        ARVERNE       29 COMMERCIAL GARAGES                    4   \n",
      "75362       3   SPRING CREEK  05 TAX CLASS 1 VACANT LAND                   1B   \n",
      "75363       3   SPRING CREEK  05 TAX CLASS 1 VACANT LAND                   1B   \n",
      "75364       3   SPRING CREEK  05 TAX CLASS 1 VACANT LAND                   1B   \n",
      "75365       3   SPRING CREEK  05 TAX CLASS 1 VACANT LAND                   1B   \n",
      "\n",
      "       block  lot easement building_class_at_present                  address  \\\n",
      "4753    4785    1        n                        V0     N/A PROMENADE AVENUE   \n",
      "7742   16013    1        n                        G7  N/A BEACH CHANNEL DRIVE   \n",
      "7743   16013    1        n                        G7  N/A BEACH CHANNEL DRIVE   \n",
      "75362   4585  165        n                        V0      N/A VANDALIA AVENUE   \n",
      "75363   4585  167        n                        V0      N/A VANDALIA AVENUE   \n",
      "75364   4585  205        n                        V0          N/A DREW STREET   \n",
      "75365   4585  225        n                        V0          N/A DREW STREET   \n",
      "\n",
      "      apartment_number  zip_code    residential_units     commercial_units  \\\n",
      "4753               nan       NaN                 0.00                 0.00   \n",
      "7742               nan       NaN                 0.00                 0.00   \n",
      "7743               nan       NaN                 0.00                 0.00   \n",
      "75362              nan       NaN                 0.00                 0.00   \n",
      "75363              nan       NaN                 0.00                 0.00   \n",
      "75364              nan       NaN                 0.00                 0.00   \n",
      "75365              nan       NaN                 0.00                 0.00   \n",
      "\n",
      "               total_units     land_square_feet    gross_square_feet  \\\n",
      "4753                  0.00            28,980.00                 0.00   \n",
      "7742                  0.00            32,939.00                 0.00   \n",
      "7743                  0.00            32,939.00                 0.00   \n",
      "75362                 0.00            81,867.00                 0.00   \n",
      "75363                 0.00             6,440.00                 0.00   \n",
      "75364                 0.00             1,640.00                 0.00   \n",
      "75365                 0.00             2,582.00                 0.00   \n",
      "\n",
      "       year_built tax_class_at_time_of_sale building_class_at_time_of_sale  \\\n",
      "4753          NaN                         1                             V0   \n",
      "7742          NaN                         4                             G7   \n",
      "7743          NaN                         4                             G7   \n",
      "75362         NaN                         1                             V0   \n",
      "75363         NaN                         1                             V0   \n",
      "75364         NaN                         1                             V0   \n",
      "75365         NaN                         1                             V0   \n",
      "\n",
      "                sale_price  sale_date  \n",
      "4753                  0.00 2022-11-10  \n",
      "7742          4,000,000.00 2022-07-18  \n",
      "7743          5,600,000.00 2023-02-02  \n",
      "75362           163,500.00 2022-10-06  \n",
      "75363           163,500.00 2022-10-06  \n",
      "75364            44,000.00 2022-06-28  \n",
      "75365           163,500.00 2022-10-06  \n"
     ]
    }
   ],
   "source": [
    "# Inspect rows with missing values for zip_code\n",
    "print(df_roll.loc[df_roll['zip_code'].isna()])"
   ]
  },
  {
   "cell_type": "markdown",
   "id": "6b974689",
   "metadata": {},
   "source": [
    "Full address is not available for rows with missing zip code, hence zip code cannot be deduced from address. To remain consistent in handling missing zip_codes, missing values will be imputed as 0 (same approach as for df_p1)."
   ]
  },
  {
   "cell_type": "code",
   "execution_count": 364,
   "id": "cb7b28a4",
   "metadata": {},
   "outputs": [],
   "source": [
    "# Imputing 0 for missing values in zip_code\n",
    "df_roll['zip_code'].fillna(0, inplace=True)"
   ]
  },
  {
   "cell_type": "code",
   "execution_count": 365,
   "id": "e9c8c106",
   "metadata": {},
   "outputs": [
    {
     "data": {
      "text/plain": [
       "0"
      ]
     },
     "execution_count": 365,
     "metadata": {},
     "output_type": "execute_result"
    }
   ],
   "source": [
    "# Check whether missing values were imputed\n",
    "df_roll['zip_code'].isna().sum()"
   ]
  },
  {
   "cell_type": "code",
   "execution_count": 366,
   "id": "e7cf260f",
   "metadata": {},
   "outputs": [
    {
     "data": {
      "text/plain": [
       "21247"
      ]
     },
     "execution_count": 366,
     "metadata": {},
     "output_type": "execute_result"
    }
   ],
   "source": [
    "# Check residential_units for missing values\n",
    "df_roll['residential_units'].isna().sum()"
   ]
  },
  {
   "cell_type": "code",
   "execution_count": 367,
   "id": "aa4d4c96",
   "metadata": {},
   "outputs": [
    {
     "name": "stdout",
     "output_type": "stream",
     "text": [
      "      borough          neighborhood         building_class_category  \\\n",
      "174         5              ANNADALE        46 CONDO STORE BUILDINGS   \n",
      "477         5  ARROCHAR-SHORE ACRES  10 COOPS - ELEVATOR APARTMENTS   \n",
      "478         5  ARROCHAR-SHORE ACRES  10 COOPS - ELEVATOR APARTMENTS   \n",
      "479         5  ARROCHAR-SHORE ACRES  10 COOPS - ELEVATOR APARTMENTS   \n",
      "480         5  ARROCHAR-SHORE ACRES  10 COOPS - ELEVATOR APARTMENTS   \n",
      "...       ...                   ...                             ...   \n",
      "84383       2              WOODLAWN  10 COOPS - ELEVATOR APARTMENTS   \n",
      "84384       2              WOODLAWN  10 COOPS - ELEVATOR APARTMENTS   \n",
      "84385       2              WOODLAWN  10 COOPS - ELEVATOR APARTMENTS   \n",
      "84386       2              WOODLAWN  10 COOPS - ELEVATOR APARTMENTS   \n",
      "84387       2              WOODLAWN  10 COOPS - ELEVATOR APARTMENTS   \n",
      "\n",
      "      tax_class_at_present block   lot easement building_class_at_present  \\\n",
      "174                      4  6244  1002        n                        RK   \n",
      "477                      2  2833    31        n                        D4   \n",
      "478                      2  2833    31        n                        D4   \n",
      "479                      2  2833    31        n                        D4   \n",
      "480                      2  2833    31        n                        D4   \n",
      "...                    ...   ...   ...      ...                       ...   \n",
      "84383                    2  3398    97        n                        D4   \n",
      "84384                    2  3398    97        n                        D4   \n",
      "84385                    2  3398    97        n                        D4   \n",
      "84386                    2  3398    97        n                        D4   \n",
      "84387                    2  3398    97        n                        D4   \n",
      "\n",
      "                       address apartment_number             zip_code  \\\n",
      "174       885 ANNADALE ROAD; 2                2            10,312.00   \n",
      "477        20 CLIFF STREET; 3F              nan            10,305.00   \n",
      "478        20 CLIFF STREET; 4N              nan            10,305.00   \n",
      "479       20 CLIFF STREET; 5-O              nan            10,305.00   \n",
      "480        20 CLIFF STREET; 7M              nan            10,305.00   \n",
      "...                        ...              ...                  ...   \n",
      "84383  4295 WEBSTER AVENUE; 4K              nan            10,470.00   \n",
      "84384  4295 WEBSTER AVENUE; 4K              nan            10,470.00   \n",
      "84385  4295 WEBSTER AVENUE; 5C              nan            10,470.00   \n",
      "84386  4295 WEBSTER AVENUE; 6K              nan            10,470.00   \n",
      "84387  4295 WEBSTER AVENUE; L4              nan            10,470.00   \n",
      "\n",
      "       residential_units     commercial_units          total_units  \\\n",
      "174                  NaN                 1.00                 1.00   \n",
      "477                  NaN                  NaN                  NaN   \n",
      "478                  NaN                  NaN                  NaN   \n",
      "479                  NaN                  NaN                  NaN   \n",
      "480                  NaN                  NaN                  NaN   \n",
      "...                  ...                  ...                  ...   \n",
      "84383                NaN                  NaN                  NaN   \n",
      "84384                NaN                  NaN                  NaN   \n",
      "84385                NaN                  NaN                  NaN   \n",
      "84386                NaN                  NaN                  NaN   \n",
      "84387                NaN                  NaN                  NaN   \n",
      "\n",
      "       land_square_feet  gross_square_feet           year_built  \\\n",
      "174                 NaN                NaN             1,975.00   \n",
      "477                 NaN                NaN             1,964.00   \n",
      "478                 NaN                NaN             1,964.00   \n",
      "479                 NaN                NaN             1,964.00   \n",
      "480                 NaN                NaN             1,964.00   \n",
      "...                 ...                ...                  ...   \n",
      "84383               NaN                NaN             1,957.00   \n",
      "84384               NaN                NaN             1,957.00   \n",
      "84385               NaN                NaN             1,957.00   \n",
      "84386               NaN                NaN             1,957.00   \n",
      "84387               NaN                NaN             1,957.00   \n",
      "\n",
      "      tax_class_at_time_of_sale building_class_at_time_of_sale  \\\n",
      "174                           4                             RK   \n",
      "477                           2                             D4   \n",
      "478                           2                             D4   \n",
      "479                           2                             D4   \n",
      "480                           2                             D4   \n",
      "...                         ...                            ...   \n",
      "84383                         2                             D4   \n",
      "84384                         2                             D4   \n",
      "84385                         2                             D4   \n",
      "84386                         2                             D4   \n",
      "84387                         2                             D4   \n",
      "\n",
      "                sale_price  sale_date  \n",
      "174             440,000.00 2022-10-24  \n",
      "477             251,500.00 2023-03-09  \n",
      "478                   0.00 2023-02-17  \n",
      "479             215,000.00 2023-01-25  \n",
      "480                  10.00 2022-07-08  \n",
      "...                    ...        ...  \n",
      "84383           114,500.00 2023-03-01  \n",
      "84384           904,225.00 2022-06-30  \n",
      "84385           904,225.00 2022-06-30  \n",
      "84386           904,225.00 2022-06-30  \n",
      "84387           904,225.00 2022-06-30  \n",
      "\n",
      "[21247 rows x 21 columns]\n"
     ]
    }
   ],
   "source": [
    "# Inspect some rows with missing values for residential_units\n",
    "print(df_roll.loc[df_roll['residential_units'].isna()])"
   ]
  },
  {
   "cell_type": "code",
   "execution_count": 368,
   "id": "4ae1fba5",
   "metadata": {},
   "outputs": [
    {
     "data": {
      "text/plain": [
       "count              63,144.00\n",
       "mean                    3.55\n",
       "std                    25.91\n",
       "min                     0.00\n",
       "25%                     1.00\n",
       "50%                     1.00\n",
       "75%                     2.00\n",
       "max                 2,039.00\n",
       "Name: residential_units, dtype: float64"
      ]
     },
     "execution_count": 368,
     "metadata": {},
     "output_type": "execute_result"
    }
   ],
   "source": [
    "# Get basic descriptive statistics on residential_units\n",
    "df_roll['residential_units'].describe()"
   ]
  },
  {
   "cell_type": "code",
   "execution_count": 369,
   "id": "550f69bb",
   "metadata": {},
   "outputs": [
    {
     "data": {
      "text/plain": [
       "22.95875394456787"
      ]
     },
     "execution_count": 369,
     "metadata": {},
     "output_type": "execute_result"
    }
   ],
   "source": [
    "# Check skewness of residential_units\n",
    "df_roll['residential_units'].skew()"
   ]
  },
  {
   "cell_type": "markdown",
   "id": "bf60d92e",
   "metadata": {},
   "source": [
    "As distribution in residential_units is skewed and the number of missing values is high (ca. 25% of all rows) and dropping them might delete valuable information in other columns, missing values will be imputed with median. "
   ]
  },
  {
   "cell_type": "code",
   "execution_count": 370,
   "id": "9b9211f1",
   "metadata": {},
   "outputs": [],
   "source": [
    "# Impute missing values in residential_units with median\n",
    "df_roll['residential_units'].fillna(df_roll['residential_units'].median(), inplace=True)"
   ]
  },
  {
   "cell_type": "code",
   "execution_count": 371,
   "id": "9f41f8c1",
   "metadata": {},
   "outputs": [
    {
     "data": {
      "text/plain": [
       "0"
      ]
     },
     "execution_count": 371,
     "metadata": {},
     "output_type": "execute_result"
    }
   ],
   "source": [
    "# Check whether missing values were imputed\n",
    "df_roll['residential_units'].isna().sum()"
   ]
  },
  {
   "cell_type": "code",
   "execution_count": 372,
   "id": "d8c3a678",
   "metadata": {},
   "outputs": [
    {
     "data": {
      "text/plain": [
       "37253"
      ]
     },
     "execution_count": 372,
     "metadata": {},
     "output_type": "execute_result"
    }
   ],
   "source": [
    "# Check commercial_units for missing values\n",
    "df_roll['commercial_units'].isna().sum()"
   ]
  },
  {
   "cell_type": "code",
   "execution_count": 373,
   "id": "7cc7c203",
   "metadata": {},
   "outputs": [
    {
     "name": "stdout",
     "output_type": "stream",
     "text": [
      "      borough   neighborhood         building_class_category  \\\n",
      "158         5       ANNADALE           04 TAX CLASS 1 CONDOS   \n",
      "395         5  ARDEN HEIGHTS           04 TAX CLASS 1 CONDOS   \n",
      "396         5  ARDEN HEIGHTS           04 TAX CLASS 1 CONDOS   \n",
      "397         5  ARDEN HEIGHTS           04 TAX CLASS 1 CONDOS   \n",
      "398         5  ARDEN HEIGHTS           04 TAX CLASS 1 CONDOS   \n",
      "...       ...            ...                             ...   \n",
      "84383       2       WOODLAWN  10 COOPS - ELEVATOR APARTMENTS   \n",
      "84384       2       WOODLAWN  10 COOPS - ELEVATOR APARTMENTS   \n",
      "84385       2       WOODLAWN  10 COOPS - ELEVATOR APARTMENTS   \n",
      "84386       2       WOODLAWN  10 COOPS - ELEVATOR APARTMENTS   \n",
      "84387       2       WOODLAWN  10 COOPS - ELEVATOR APARTMENTS   \n",
      "\n",
      "      tax_class_at_present block   lot easement building_class_at_present  \\\n",
      "158                     1A  6226  1002        n                        R3   \n",
      "395                     1A  5742  1006        n                        R3   \n",
      "396                     1A  6017  1037        n                        R3   \n",
      "397                     1A  6017  1053        n                        R3   \n",
      "398                     1A  6017  1085        n                        R3   \n",
      "...                    ...   ...   ...      ...                       ...   \n",
      "84383                    2  3398    97        n                        D4   \n",
      "84384                    2  3398    97        n                        D4   \n",
      "84385                    2  3398    97        n                        D4   \n",
      "84386                    2  3398    97        n                        D4   \n",
      "84387                    2  3398    97        n                        D4   \n",
      "\n",
      "                           address apartment_number             zip_code  \\\n",
      "158           740 ANNADALE ROAD; B                B            10,312.00   \n",
      "395       400 ASPEN KNOLLS WAY; B3               B3            10,312.00   \n",
      "396     60 ROLLING HILL GREEN; N/A              nan            10,312.00   \n",
      "397     96 ROLLING HILL GREEN; N/A              nan            10,312.00   \n",
      "398    221 ROLLING HILL GREEN; N/A              nan            10,312.00   \n",
      "...                            ...              ...                  ...   \n",
      "84383      4295 WEBSTER AVENUE; 4K              nan            10,470.00   \n",
      "84384      4295 WEBSTER AVENUE; 4K              nan            10,470.00   \n",
      "84385      4295 WEBSTER AVENUE; 5C              nan            10,470.00   \n",
      "84386      4295 WEBSTER AVENUE; 6K              nan            10,470.00   \n",
      "84387      4295 WEBSTER AVENUE; L4              nan            10,470.00   \n",
      "\n",
      "         residential_units  commercial_units          total_units  \\\n",
      "158                   1.00               NaN                 1.00   \n",
      "395                   1.00               NaN                 1.00   \n",
      "396                   1.00               NaN                 1.00   \n",
      "397                   1.00               NaN                 1.00   \n",
      "398                   1.00               NaN                 1.00   \n",
      "...                    ...               ...                  ...   \n",
      "84383                 1.00               NaN                  NaN   \n",
      "84384                 1.00               NaN                  NaN   \n",
      "84385                 1.00               NaN                  NaN   \n",
      "84386                 1.00               NaN                  NaN   \n",
      "84387                 1.00               NaN                  NaN   \n",
      "\n",
      "       land_square_feet  gross_square_feet           year_built  \\\n",
      "158                 NaN                NaN             2,012.00   \n",
      "395                 NaN                NaN             2,010.00   \n",
      "396                 NaN                NaN             1,979.00   \n",
      "397                 NaN                NaN             1,979.00   \n",
      "398                 NaN                NaN             1,979.00   \n",
      "...                 ...                ...                  ...   \n",
      "84383               NaN                NaN             1,957.00   \n",
      "84384               NaN                NaN             1,957.00   \n",
      "84385               NaN                NaN             1,957.00   \n",
      "84386               NaN                NaN             1,957.00   \n",
      "84387               NaN                NaN             1,957.00   \n",
      "\n",
      "      tax_class_at_time_of_sale building_class_at_time_of_sale  \\\n",
      "158                           1                             R3   \n",
      "395                           1                             R3   \n",
      "396                           1                             R3   \n",
      "397                           1                             R3   \n",
      "398                           1                             R3   \n",
      "...                         ...                            ...   \n",
      "84383                         2                             D4   \n",
      "84384                         2                             D4   \n",
      "84385                         2                             D4   \n",
      "84386                         2                             D4   \n",
      "84387                         2                             D4   \n",
      "\n",
      "                sale_price  sale_date  \n",
      "158                   0.00 2023-01-22  \n",
      "395             399,000.00 2023-01-17  \n",
      "396             480,000.00 2022-12-08  \n",
      "397             550,000.00 2022-06-29  \n",
      "398             454,272.00 2022-06-08  \n",
      "...                    ...        ...  \n",
      "84383           114,500.00 2023-03-01  \n",
      "84384           904,225.00 2022-06-30  \n",
      "84385           904,225.00 2022-06-30  \n",
      "84386           904,225.00 2022-06-30  \n",
      "84387           904,225.00 2022-06-30  \n",
      "\n",
      "[37253 rows x 21 columns]\n"
     ]
    }
   ],
   "source": [
    "# Inspect some rows with missing values for commercial_units\n",
    "print(df_roll.loc[df_roll['commercial_units'].isna()])"
   ]
  },
  {
   "cell_type": "code",
   "execution_count": 374,
   "id": "b42d0ef6",
   "metadata": {},
   "outputs": [
    {
     "data": {
      "text/plain": [
       "count              47,138.00\n",
       "mean                    0.31\n",
       "std                     6.51\n",
       "min                     0.00\n",
       "25%                     0.00\n",
       "50%                     0.00\n",
       "75%                     0.00\n",
       "max                 1,178.00\n",
       "Name: commercial_units, dtype: float64"
      ]
     },
     "execution_count": 374,
     "metadata": {},
     "output_type": "execute_result"
    }
   ],
   "source": [
    "# Get basic descriptive statistics on commercial_units\n",
    "df_roll['commercial_units'].describe()"
   ]
  },
  {
   "cell_type": "code",
   "execution_count": 375,
   "id": "cd655b92",
   "metadata": {},
   "outputs": [
    {
     "data": {
      "text/plain": [
       "137.25283940826756"
      ]
     },
     "execution_count": 375,
     "metadata": {},
     "output_type": "execute_result"
    }
   ],
   "source": [
    "# Check skewness of commercial_units\n",
    "df_roll['commercial_units'].skew()"
   ]
  },
  {
   "cell_type": "markdown",
   "id": "e6da81d0",
   "metadata": {},
   "source": [
    "As distribution in residential_units is highly skewed and the number of missing values is high (ca. 44% of all rows) and dropping them might delete valuable information in other columns, missing values will be imputed with median. "
   ]
  },
  {
   "cell_type": "code",
   "execution_count": 376,
   "id": "4429c595",
   "metadata": {},
   "outputs": [],
   "source": [
    "# Impute missing values in commercial_units with median\n",
    "df_roll['commercial_units'].fillna(df_roll['commercial_units'].median(), inplace=True)"
   ]
  },
  {
   "cell_type": "code",
   "execution_count": 377,
   "id": "6c6a8bc0",
   "metadata": {},
   "outputs": [
    {
     "data": {
      "text/plain": [
       "0"
      ]
     },
     "execution_count": 377,
     "metadata": {},
     "output_type": "execute_result"
    }
   ],
   "source": [
    "# Check whether missing values were imputed\n",
    "df_roll['commercial_units'].isna().sum()"
   ]
  },
  {
   "cell_type": "code",
   "execution_count": 378,
   "id": "5c7995b3",
   "metadata": {},
   "outputs": [
    {
     "data": {
      "text/plain": [
       "18514"
      ]
     },
     "execution_count": 378,
     "metadata": {},
     "output_type": "execute_result"
    }
   ],
   "source": [
    "# Check total_units for missing values\n",
    "df_roll['total_units'].isna().sum()"
   ]
  },
  {
   "cell_type": "code",
   "execution_count": 379,
   "id": "51423866",
   "metadata": {},
   "outputs": [
    {
     "name": "stdout",
     "output_type": "stream",
     "text": [
      "      borough          neighborhood         building_class_category  \\\n",
      "477         5  ARROCHAR-SHORE ACRES  10 COOPS - ELEVATOR APARTMENTS   \n",
      "478         5  ARROCHAR-SHORE ACRES  10 COOPS - ELEVATOR APARTMENTS   \n",
      "479         5  ARROCHAR-SHORE ACRES  10 COOPS - ELEVATOR APARTMENTS   \n",
      "480         5  ARROCHAR-SHORE ACRES  10 COOPS - ELEVATOR APARTMENTS   \n",
      "481         5  ARROCHAR-SHORE ACRES  10 COOPS - ELEVATOR APARTMENTS   \n",
      "...       ...                   ...                             ...   \n",
      "84383       2              WOODLAWN  10 COOPS - ELEVATOR APARTMENTS   \n",
      "84384       2              WOODLAWN  10 COOPS - ELEVATOR APARTMENTS   \n",
      "84385       2              WOODLAWN  10 COOPS - ELEVATOR APARTMENTS   \n",
      "84386       2              WOODLAWN  10 COOPS - ELEVATOR APARTMENTS   \n",
      "84387       2              WOODLAWN  10 COOPS - ELEVATOR APARTMENTS   \n",
      "\n",
      "      tax_class_at_present block lot easement building_class_at_present  \\\n",
      "477                      2  2833  31        n                        D4   \n",
      "478                      2  2833  31        n                        D4   \n",
      "479                      2  2833  31        n                        D4   \n",
      "480                      2  2833  31        n                        D4   \n",
      "481                      2  2833  31        n                        D4   \n",
      "...                    ...   ...  ..      ...                       ...   \n",
      "84383                    2  3398  97        n                        D4   \n",
      "84384                    2  3398  97        n                        D4   \n",
      "84385                    2  3398  97        n                        D4   \n",
      "84386                    2  3398  97        n                        D4   \n",
      "84387                    2  3398  97        n                        D4   \n",
      "\n",
      "                       address apartment_number             zip_code  \\\n",
      "477        20 CLIFF STREET; 3F              nan            10,305.00   \n",
      "478        20 CLIFF STREET; 4N              nan            10,305.00   \n",
      "479       20 CLIFF STREET; 5-O              nan            10,305.00   \n",
      "480        20 CLIFF STREET; 7M              nan            10,305.00   \n",
      "481        20 CLIFF STREET; 8D              nan            10,305.00   \n",
      "...                        ...              ...                  ...   \n",
      "84383  4295 WEBSTER AVENUE; 4K              nan            10,470.00   \n",
      "84384  4295 WEBSTER AVENUE; 4K              nan            10,470.00   \n",
      "84385  4295 WEBSTER AVENUE; 5C              nan            10,470.00   \n",
      "84386  4295 WEBSTER AVENUE; 6K              nan            10,470.00   \n",
      "84387  4295 WEBSTER AVENUE; L4              nan            10,470.00   \n",
      "\n",
      "         residential_units     commercial_units  total_units  \\\n",
      "477                   1.00                 0.00          NaN   \n",
      "478                   1.00                 0.00          NaN   \n",
      "479                   1.00                 0.00          NaN   \n",
      "480                   1.00                 0.00          NaN   \n",
      "481                   1.00                 0.00          NaN   \n",
      "...                    ...                  ...          ...   \n",
      "84383                 1.00                 0.00          NaN   \n",
      "84384                 1.00                 0.00          NaN   \n",
      "84385                 1.00                 0.00          NaN   \n",
      "84386                 1.00                 0.00          NaN   \n",
      "84387                 1.00                 0.00          NaN   \n",
      "\n",
      "       land_square_feet  gross_square_feet           year_built  \\\n",
      "477                 NaN                NaN             1,964.00   \n",
      "478                 NaN                NaN             1,964.00   \n",
      "479                 NaN                NaN             1,964.00   \n",
      "480                 NaN                NaN             1,964.00   \n",
      "481                 NaN                NaN             1,964.00   \n",
      "...                 ...                ...                  ...   \n",
      "84383               NaN                NaN             1,957.00   \n",
      "84384               NaN                NaN             1,957.00   \n",
      "84385               NaN                NaN             1,957.00   \n",
      "84386               NaN                NaN             1,957.00   \n",
      "84387               NaN                NaN             1,957.00   \n",
      "\n",
      "      tax_class_at_time_of_sale building_class_at_time_of_sale  \\\n",
      "477                           2                             D4   \n",
      "478                           2                             D4   \n",
      "479                           2                             D4   \n",
      "480                           2                             D4   \n",
      "481                           2                             D4   \n",
      "...                         ...                            ...   \n",
      "84383                         2                             D4   \n",
      "84384                         2                             D4   \n",
      "84385                         2                             D4   \n",
      "84386                         2                             D4   \n",
      "84387                         2                             D4   \n",
      "\n",
      "                sale_price  sale_date  \n",
      "477             251,500.00 2023-03-09  \n",
      "478                   0.00 2023-02-17  \n",
      "479             215,000.00 2023-01-25  \n",
      "480                  10.00 2022-07-08  \n",
      "481             249,900.00 2022-11-02  \n",
      "...                    ...        ...  \n",
      "84383           114,500.00 2023-03-01  \n",
      "84384           904,225.00 2022-06-30  \n",
      "84385           904,225.00 2022-06-30  \n",
      "84386           904,225.00 2022-06-30  \n",
      "84387           904,225.00 2022-06-30  \n",
      "\n",
      "[18514 rows x 21 columns]\n"
     ]
    }
   ],
   "source": [
    "# Inspect some rows with missing values for total_units\n",
    "print(df_roll.loc[df_roll['total_units'].isna()])"
   ]
  },
  {
   "cell_type": "markdown",
   "id": "4ecbd023",
   "metadata": {},
   "source": [
    "Missing values for total_units will be deduced from residential_units + commercial_units."
   ]
  },
  {
   "cell_type": "code",
   "execution_count": 380,
   "id": "0bf83494",
   "metadata": {},
   "outputs": [],
   "source": [
    "# Impute missing values in total_units\n",
    "df_roll['total_units'].fillna((df_roll['residential_units']+df_roll['commercial_units']), inplace=True)"
   ]
  },
  {
   "cell_type": "code",
   "execution_count": 381,
   "id": "b8a09012",
   "metadata": {},
   "outputs": [
    {
     "data": {
      "text/plain": [
       "0"
      ]
     },
     "execution_count": 381,
     "metadata": {},
     "output_type": "execute_result"
    }
   ],
   "source": [
    "# Check whether missing values were imputed\n",
    "df_roll['total_units'].isna().sum()"
   ]
  },
  {
   "cell_type": "code",
   "execution_count": 382,
   "id": "7bdeb43a",
   "metadata": {},
   "outputs": [
    {
     "name": "stdout",
     "output_type": "stream",
     "text": [
      "      borough neighborhood         building_class_category  \\\n",
      "84387       2     WOODLAWN  10 COOPS - ELEVATOR APARTMENTS   \n",
      "\n",
      "      tax_class_at_present block lot easement building_class_at_present  \\\n",
      "84387                    2  3398  97        n                        D4   \n",
      "\n",
      "                       address apartment_number             zip_code  \\\n",
      "84387  4295 WEBSTER AVENUE; L4              nan            10,470.00   \n",
      "\n",
      "         residential_units     commercial_units          total_units  \\\n",
      "84387                 1.00                 0.00                 1.00   \n",
      "\n",
      "       land_square_feet  gross_square_feet           year_built  \\\n",
      "84387               NaN                NaN             1,957.00   \n",
      "\n",
      "      tax_class_at_time_of_sale building_class_at_time_of_sale  \\\n",
      "84387                         2                             D4   \n",
      "\n",
      "                sale_price  sale_date  \n",
      "84387           904,225.00 2022-06-30  \n"
     ]
    }
   ],
   "source": [
    "# Print row at index 84387 to check whether correct value was imputed (expected value is 1.0)\n",
    "print(df_roll.iloc[[84387]])"
   ]
  },
  {
   "cell_type": "code",
   "execution_count": 383,
   "id": "1f58691e",
   "metadata": {},
   "outputs": [
    {
     "data": {
      "text/plain": [
       "5508"
      ]
     },
     "execution_count": 383,
     "metadata": {},
     "output_type": "execute_result"
    }
   ],
   "source": [
    "# Check year_built for missing values\n",
    "df_roll['year_built'].isna().sum()"
   ]
  },
  {
   "cell_type": "code",
   "execution_count": 384,
   "id": "6b9be9c5",
   "metadata": {},
   "outputs": [
    {
     "name": "stdout",
     "output_type": "stream",
     "text": [
      "      borough    neighborhood     building_class_category  \\\n",
      "159         5        ANNADALE  05 TAX CLASS 1 VACANT LAND   \n",
      "160         5        ANNADALE  05 TAX CLASS 1 VACANT LAND   \n",
      "162         5        ANNADALE  05 TAX CLASS 1 VACANT LAND   \n",
      "163         5        ANNADALE  05 TAX CLASS 1 VACANT LAND   \n",
      "165         5        ANNADALE  05 TAX CLASS 1 VACANT LAND   \n",
      "...       ...             ...                         ...   \n",
      "84271       2  WILLIAMSBRIDGE       29 COMMERCIAL GARAGES   \n",
      "84272       2  WILLIAMSBRIDGE       29 COMMERCIAL GARAGES   \n",
      "84274       2  WILLIAMSBRIDGE   31 COMMERCIAL VACANT LAND   \n",
      "84275       2  WILLIAMSBRIDGE   31 COMMERCIAL VACANT LAND   \n",
      "84340       2        WOODLAWN  05 TAX CLASS 1 VACANT LAND   \n",
      "\n",
      "      tax_class_at_present block lot easement building_class_at_present  \\\n",
      "159                     1B  6209  29        n                        V0   \n",
      "160                     1B  6242  17        n                        V0   \n",
      "162                     1B  6261  56        n                        V0   \n",
      "163                     1B  6273  30        n                        V0   \n",
      "165                     1B  6277  96        n                        V0   \n",
      "...                    ...   ...  ..      ...                       ...   \n",
      "84271                    4  4664  34        n                        G7   \n",
      "84272                    4  4825  12        n                        G7   \n",
      "84274                    4  4647  67        n                        V1   \n",
      "84275                    4  4831  11        n                        V1   \n",
      "84340                   1B  3378   5        n                        V0   \n",
      "\n",
      "                           address apartment_number             zip_code  \\\n",
      "159              N/A MOSELY AVENUE              nan            10,312.00   \n",
      "160              N/A MOSELY AVENUE              nan            10,312.00   \n",
      "162           N/A EDGEGROVE AVENUE              nan            10,312.00   \n",
      "163               N/A CROWN AVENUE              nan            10,312.00   \n",
      "165           N/A EDGEGROVE AVENUE              nan            10,312.00   \n",
      "...                            ...              ...                  ...   \n",
      "84271            727 EAST 216TH ST              nan            10,467.00   \n",
      "84272          689 EAST 223 STREET              nan            10,466.00   \n",
      "84274        N/A WHITE PLAINS ROAD              nan            10,467.00   \n",
      "84275  4051-4057 WHITE PLAINS ROAD              nan            10,466.00   \n",
      "84340              4316 KEPLER AVE              nan            10,470.00   \n",
      "\n",
      "         residential_units     commercial_units          total_units  \\\n",
      "159                   0.00                 0.00                 0.00   \n",
      "160                   0.00                 0.00                 0.00   \n",
      "162                   0.00                 0.00                 0.00   \n",
      "163                   0.00                 0.00                 0.00   \n",
      "165                   0.00                 0.00                 0.00   \n",
      "...                    ...                  ...                  ...   \n",
      "84271                 0.00                 0.00                 0.00   \n",
      "84272                 0.00                 0.00                 0.00   \n",
      "84274                 0.00                 0.00                 0.00   \n",
      "84275                 0.00                 0.00                 0.00   \n",
      "84340                 0.00                 0.00                 0.00   \n",
      "\n",
      "          land_square_feet    gross_square_feet  year_built  \\\n",
      "159              36,440.00                 0.00         NaN   \n",
      "160               5,500.00                 0.00         NaN   \n",
      "162               5,000.00                 0.00         NaN   \n",
      "163               6,000.00                 0.00         NaN   \n",
      "165               4,000.00                 0.00         NaN   \n",
      "...                    ...                  ...         ...   \n",
      "84271             2,854.00                 0.00         NaN   \n",
      "84272             2,856.00                 0.00         NaN   \n",
      "84274                66.00                 0.00         NaN   \n",
      "84275             5,625.00                 0.00         NaN   \n",
      "84340             2,200.00                 0.00         NaN   \n",
      "\n",
      "      tax_class_at_time_of_sale building_class_at_time_of_sale  \\\n",
      "159                           1                             V0   \n",
      "160                           1                             V0   \n",
      "162                           1                             V0   \n",
      "163                           1                             V0   \n",
      "165                           1                             V0   \n",
      "...                         ...                            ...   \n",
      "84271                         4                             G7   \n",
      "84272                         4                             G7   \n",
      "84274                         4                             V1   \n",
      "84275                         4                             V1   \n",
      "84340                         1                             V0   \n",
      "\n",
      "                sale_price  sale_date  \n",
      "159              50,000.00 2023-01-17  \n",
      "160             960,000.00 2022-09-07  \n",
      "162             435,000.00 2022-09-13  \n",
      "163                   0.00 2022-06-24  \n",
      "165                   0.00 2022-06-10  \n",
      "...                    ...        ...  \n",
      "84271           710,000.00 2022-08-31  \n",
      "84272         2,000,000.00 2022-06-16  \n",
      "84274         7,500,000.00 2022-10-18  \n",
      "84275         1,000,000.00 2022-11-02  \n",
      "84340                 0.00 2022-04-29  \n",
      "\n",
      "[5508 rows x 21 columns]\n"
     ]
    }
   ],
   "source": [
    "# Inspect some rows with missing values for year_built\n",
    "print(df_roll.loc[df_roll['year_built'].isna()])"
   ]
  },
  {
   "cell_type": "markdown",
   "id": "d3dc9412",
   "metadata": {},
   "source": [
    "To remain consistent with handling missing values in df_p1, rows with missing values for year_built will be dropped (ca. 6,5% of all rows)."
   ]
  },
  {
   "cell_type": "code",
   "execution_count": 385,
   "id": "5812382d",
   "metadata": {},
   "outputs": [],
   "source": [
    "# Drop rows with missing values in year_built\n",
    "df_roll.dropna(subset=['year_built'], inplace=True)"
   ]
  },
  {
   "cell_type": "code",
   "execution_count": 386,
   "id": "d99614b9",
   "metadata": {},
   "outputs": [
    {
     "data": {
      "text/plain": [
       "0"
      ]
     },
     "execution_count": 386,
     "metadata": {},
     "output_type": "execute_result"
    }
   ],
   "source": [
    "# Check whether missing values were dropped\n",
    "df_roll['year_built'].isna().sum()"
   ]
  },
  {
   "cell_type": "markdown",
   "id": "af267b62",
   "metadata": {},
   "source": [
    "No missing values remain in the columns not converted to integers. "
   ]
  },
  {
   "cell_type": "code",
   "execution_count": 387,
   "id": "3211190e",
   "metadata": {},
   "outputs": [],
   "source": [
    "# Convert zip_code to int\n",
    "df_roll['zip_code'] = df_roll['zip_code'].astype(int, errors='ignore')\n",
    "\n",
    "# Convert columns on numbers of units to int\n",
    "df_roll['residential_units'] = df_roll['residential_units'].astype(int, errors='ignore')\n",
    "df_roll['commercial_units'] = df_roll['commercial_units'].astype(int, errors='ignore')\n",
    "df_roll['total_units'] = df_roll['total_units'].astype(int, errors='ignore')\n",
    "\n",
    "# Convert year_built to int\n",
    "df_roll['year_built'] = df_roll['year_built'].astype(int, errors='ignore')"
   ]
  },
  {
   "cell_type": "code",
   "execution_count": 388,
   "id": "83695276",
   "metadata": {},
   "outputs": [
    {
     "data": {
      "text/plain": [
       "borough                                   object\n",
       "neighborhood                              object\n",
       "building_class_category                   object\n",
       "tax_class_at_present                      object\n",
       "block                                     object\n",
       "lot                                       object\n",
       "easement                                  object\n",
       "building_class_at_present                 object\n",
       "address                                   object\n",
       "apartment_number                          object\n",
       "zip_code                                   int64\n",
       "residential_units                          int64\n",
       "commercial_units                           int64\n",
       "total_units                                int64\n",
       "land_square_feet                         float64\n",
       "gross_square_feet                        float64\n",
       "year_built                                 int64\n",
       "tax_class_at_time_of_sale                 object\n",
       "building_class_at_time_of_sale            object\n",
       "sale_price                               float64\n",
       "sale_date                         datetime64[ns]\n",
       "dtype: object"
      ]
     },
     "execution_count": 388,
     "metadata": {},
     "output_type": "execute_result"
    }
   ],
   "source": [
    "# Check datatypes in df_roll\n",
    "df_roll.dtypes"
   ]
  },
  {
   "cell_type": "code",
   "execution_count": 389,
   "id": "c7bbdbf9",
   "metadata": {},
   "outputs": [
    {
     "data": {
      "text/html": [
       "<div>\n",
       "<style scoped>\n",
       "    .dataframe tbody tr th:only-of-type {\n",
       "        vertical-align: middle;\n",
       "    }\n",
       "\n",
       "    .dataframe tbody tr th {\n",
       "        vertical-align: top;\n",
       "    }\n",
       "\n",
       "    .dataframe thead th {\n",
       "        text-align: right;\n",
       "    }\n",
       "</style>\n",
       "<table border=\"1\" class=\"dataframe\">\n",
       "  <thead>\n",
       "    <tr style=\"text-align: right;\">\n",
       "      <th></th>\n",
       "      <th>borough</th>\n",
       "      <th>neighborhood</th>\n",
       "      <th>building_class_category</th>\n",
       "      <th>tax_class_at_present</th>\n",
       "      <th>block</th>\n",
       "      <th>lot</th>\n",
       "      <th>easement</th>\n",
       "      <th>building_class_at_present</th>\n",
       "      <th>address</th>\n",
       "      <th>apartment_number</th>\n",
       "      <th>zip_code</th>\n",
       "      <th>residential_units</th>\n",
       "      <th>commercial_units</th>\n",
       "      <th>total_units</th>\n",
       "      <th>land_square_feet</th>\n",
       "      <th>gross_square_feet</th>\n",
       "      <th>year_built</th>\n",
       "      <th>tax_class_at_time_of_sale</th>\n",
       "      <th>building_class_at_time_of_sale</th>\n",
       "      <th>sale_price</th>\n",
       "      <th>sale_date</th>\n",
       "    </tr>\n",
       "  </thead>\n",
       "  <tbody>\n",
       "    <tr>\n",
       "      <th>0</th>\n",
       "      <td>5</td>\n",
       "      <td>ANNADALE</td>\n",
       "      <td>01 ONE FAMILY DWELLINGS</td>\n",
       "      <td>1</td>\n",
       "      <td>5391</td>\n",
       "      <td>7</td>\n",
       "      <td>n</td>\n",
       "      <td>A5</td>\n",
       "      <td>4732 AMBOY ROAD</td>\n",
       "      <td>nan</td>\n",
       "      <td>10312</td>\n",
       "      <td>1</td>\n",
       "      <td>0</td>\n",
       "      <td>1</td>\n",
       "      <td>3,655.00</td>\n",
       "      <td>910.00</td>\n",
       "      <td>2002</td>\n",
       "      <td>1</td>\n",
       "      <td>A5</td>\n",
       "      <td>764,000.00</td>\n",
       "      <td>2022-06-30</td>\n",
       "    </tr>\n",
       "    <tr>\n",
       "      <th>1</th>\n",
       "      <td>5</td>\n",
       "      <td>ANNADALE</td>\n",
       "      <td>01 ONE FAMILY DWELLINGS</td>\n",
       "      <td>1</td>\n",
       "      <td>5395</td>\n",
       "      <td>4</td>\n",
       "      <td>n</td>\n",
       "      <td>A1</td>\n",
       "      <td>26 EDWIN STREET</td>\n",
       "      <td>nan</td>\n",
       "      <td>10312</td>\n",
       "      <td>1</td>\n",
       "      <td>0</td>\n",
       "      <td>1</td>\n",
       "      <td>7,654.00</td>\n",
       "      <td>2,277.00</td>\n",
       "      <td>1980</td>\n",
       "      <td>1</td>\n",
       "      <td>A1</td>\n",
       "      <td>1,098,000.00</td>\n",
       "      <td>2022-08-19</td>\n",
       "    </tr>\n",
       "    <tr>\n",
       "      <th>2</th>\n",
       "      <td>5</td>\n",
       "      <td>ANNADALE</td>\n",
       "      <td>01 ONE FAMILY DWELLINGS</td>\n",
       "      <td>1</td>\n",
       "      <td>5395</td>\n",
       "      <td>32</td>\n",
       "      <td>n</td>\n",
       "      <td>A1</td>\n",
       "      <td>541 SYCAMORE STREET</td>\n",
       "      <td>nan</td>\n",
       "      <td>10312</td>\n",
       "      <td>1</td>\n",
       "      <td>0</td>\n",
       "      <td>1</td>\n",
       "      <td>13,320.00</td>\n",
       "      <td>4,696.00</td>\n",
       "      <td>1985</td>\n",
       "      <td>1</td>\n",
       "      <td>A1</td>\n",
       "      <td>0.00</td>\n",
       "      <td>2022-04-20</td>\n",
       "    </tr>\n",
       "    <tr>\n",
       "      <th>3</th>\n",
       "      <td>5</td>\n",
       "      <td>ANNADALE</td>\n",
       "      <td>01 ONE FAMILY DWELLINGS</td>\n",
       "      <td>1</td>\n",
       "      <td>5396</td>\n",
       "      <td>41</td>\n",
       "      <td>n</td>\n",
       "      <td>A1</td>\n",
       "      <td>21 TALLMAN STREET</td>\n",
       "      <td>nan</td>\n",
       "      <td>10312</td>\n",
       "      <td>1</td>\n",
       "      <td>0</td>\n",
       "      <td>1</td>\n",
       "      <td>9,968.00</td>\n",
       "      <td>3,940.00</td>\n",
       "      <td>1990</td>\n",
       "      <td>1</td>\n",
       "      <td>A1</td>\n",
       "      <td>1,275,000.00</td>\n",
       "      <td>2023-03-17</td>\n",
       "    </tr>\n",
       "    <tr>\n",
       "      <th>4</th>\n",
       "      <td>5</td>\n",
       "      <td>ANNADALE</td>\n",
       "      <td>01 ONE FAMILY DWELLINGS</td>\n",
       "      <td>1</td>\n",
       "      <td>5401</td>\n",
       "      <td>42</td>\n",
       "      <td>n</td>\n",
       "      <td>A2</td>\n",
       "      <td>265 HAROLD AVENUE</td>\n",
       "      <td>nan</td>\n",
       "      <td>10312</td>\n",
       "      <td>1</td>\n",
       "      <td>0</td>\n",
       "      <td>1</td>\n",
       "      <td>8,190.00</td>\n",
       "      <td>2,100.00</td>\n",
       "      <td>1980</td>\n",
       "      <td>1</td>\n",
       "      <td>A2</td>\n",
       "      <td>385,000.00</td>\n",
       "      <td>2023-02-16</td>\n",
       "    </tr>\n",
       "  </tbody>\n",
       "</table>\n",
       "</div>"
      ],
      "text/plain": [
       "  borough neighborhood  building_class_category tax_class_at_present block  \\\n",
       "0       5     ANNADALE  01 ONE FAMILY DWELLINGS                    1  5391   \n",
       "1       5     ANNADALE  01 ONE FAMILY DWELLINGS                    1  5395   \n",
       "2       5     ANNADALE  01 ONE FAMILY DWELLINGS                    1  5395   \n",
       "3       5     ANNADALE  01 ONE FAMILY DWELLINGS                    1  5396   \n",
       "4       5     ANNADALE  01 ONE FAMILY DWELLINGS                    1  5401   \n",
       "\n",
       "  lot easement building_class_at_present              address  \\\n",
       "0   7        n                        A5      4732 AMBOY ROAD   \n",
       "1   4        n                        A1      26 EDWIN STREET   \n",
       "2  32        n                        A1  541 SYCAMORE STREET   \n",
       "3  41        n                        A1    21 TALLMAN STREET   \n",
       "4  42        n                        A2    265 HAROLD AVENUE   \n",
       "\n",
       "  apartment_number  zip_code  residential_units  commercial_units  \\\n",
       "0              nan     10312                  1                 0   \n",
       "1              nan     10312                  1                 0   \n",
       "2              nan     10312                  1                 0   \n",
       "3              nan     10312                  1                 0   \n",
       "4              nan     10312                  1                 0   \n",
       "\n",
       "   total_units     land_square_feet    gross_square_feet  year_built  \\\n",
       "0            1             3,655.00               910.00        2002   \n",
       "1            1             7,654.00             2,277.00        1980   \n",
       "2            1            13,320.00             4,696.00        1985   \n",
       "3            1             9,968.00             3,940.00        1990   \n",
       "4            1             8,190.00             2,100.00        1980   \n",
       "\n",
       "  tax_class_at_time_of_sale building_class_at_time_of_sale  \\\n",
       "0                         1                             A5   \n",
       "1                         1                             A1   \n",
       "2                         1                             A1   \n",
       "3                         1                             A1   \n",
       "4                         1                             A2   \n",
       "\n",
       "            sale_price  sale_date  \n",
       "0           764,000.00 2022-06-30  \n",
       "1         1,098,000.00 2022-08-19  \n",
       "2                 0.00 2022-04-20  \n",
       "3         1,275,000.00 2023-03-17  \n",
       "4           385,000.00 2023-02-16  "
      ]
     },
     "execution_count": 389,
     "metadata": {},
     "output_type": "execute_result"
    }
   ],
   "source": [
    "# Check head of df_roll\n",
    "df_roll.head()"
   ]
  },
  {
   "cell_type": "markdown",
   "id": "cc03e85c",
   "metadata": {},
   "source": [
    "# 04 Final check for mixed-type columns before merging"
   ]
  },
  {
   "cell_type": "code",
   "execution_count": 390,
   "id": "c30cd041",
   "metadata": {},
   "outputs": [],
   "source": [
    "# Check again for mixed-type columns in df_p1\n",
    "for col in df_p1.columns.tolist():\n",
    "  weird = (df_p1[[col]].applymap(type) != df_p1[[col]].iloc[0].apply(type)).any(axis = 1)\n",
    "  if len (df_p1[weird]) > 0:\n",
    "    print (col)"
   ]
  },
  {
   "cell_type": "code",
   "execution_count": 391,
   "id": "20eb0414",
   "metadata": {},
   "outputs": [],
   "source": [
    "# Check again for mixed-type columns in df_p2\n",
    "for col in df_p2.columns.tolist():\n",
    "  weird = (df_p2[[col]].applymap(type) != df_p2[[col]].iloc[0].apply(type)).any(axis = 1)\n",
    "  if len (df_p2[weird]) > 0:\n",
    "    print (col)"
   ]
  },
  {
   "cell_type": "code",
   "execution_count": 392,
   "id": "9168dd66",
   "metadata": {},
   "outputs": [],
   "source": [
    "# Check again for mixed-type columns in df_p3\n",
    "for col in df_p3.columns.tolist():\n",
    "  weird = (df_p3[[col]].applymap(type) != df_p3[[col]].iloc[0].apply(type)).any(axis = 1)\n",
    "  if len (df_p3[weird]) > 0:\n",
    "    print (col)"
   ]
  },
  {
   "cell_type": "code",
   "execution_count": 393,
   "id": "5676cc35",
   "metadata": {},
   "outputs": [],
   "source": [
    "# Check again for mixed-type columns in df_p4\n",
    "for col in df_p4.columns.tolist():\n",
    "  weird = (df_p4[[col]].applymap(type) != df_p4[[col]].iloc[0].apply(type)).any(axis = 1)\n",
    "  if len (df_p4[weird]) > 0:\n",
    "    print (col)"
   ]
  },
  {
   "cell_type": "code",
   "execution_count": 394,
   "id": "5ba58167",
   "metadata": {},
   "outputs": [],
   "source": [
    "# Check again for mixed-type columns in df_roll\n",
    "for col in df_roll.columns.tolist():\n",
    "  weird = (df_roll[[col]].applymap(type) != df_roll[[col]].iloc[0].apply(type)).any(axis = 1)\n",
    "  if len (df_roll[weird]) > 0:\n",
    "    print (col)"
   ]
  },
  {
   "cell_type": "markdown",
   "id": "ffeb7512",
   "metadata": {},
   "source": [
    "# 05 Merging all dataframes into one"
   ]
  },
  {
   "cell_type": "code",
   "execution_count": 395,
   "id": "3a40b9d9",
   "metadata": {},
   "outputs": [],
   "source": [
    "# Create list of dataframes\n",
    "list_dfs = [df_p1, df_p2, df_p3, df_p4, df_roll]\n",
    "\n",
    "# Concatenate dataframes\n",
    "df = pd.concat(list_dfs, ignore_index=True)"
   ]
  },
  {
   "cell_type": "code",
   "execution_count": 396,
   "id": "86b582ed",
   "metadata": {},
   "outputs": [
    {
     "data": {
      "text/html": [
       "<div>\n",
       "<style scoped>\n",
       "    .dataframe tbody tr th:only-of-type {\n",
       "        vertical-align: middle;\n",
       "    }\n",
       "\n",
       "    .dataframe tbody tr th {\n",
       "        vertical-align: top;\n",
       "    }\n",
       "\n",
       "    .dataframe thead th {\n",
       "        text-align: right;\n",
       "    }\n",
       "</style>\n",
       "<table border=\"1\" class=\"dataframe\">\n",
       "  <thead>\n",
       "    <tr style=\"text-align: right;\">\n",
       "      <th></th>\n",
       "      <th>borough</th>\n",
       "      <th>neighborhood</th>\n",
       "      <th>building_class_category</th>\n",
       "      <th>tax_class_at_present</th>\n",
       "      <th>block</th>\n",
       "      <th>lot</th>\n",
       "      <th>easement</th>\n",
       "      <th>building_class_at_present</th>\n",
       "      <th>address</th>\n",
       "      <th>apartment_number</th>\n",
       "      <th>zip_code</th>\n",
       "      <th>residential_units</th>\n",
       "      <th>commercial_units</th>\n",
       "      <th>total_units</th>\n",
       "      <th>land_square_feet</th>\n",
       "      <th>gross_square_feet</th>\n",
       "      <th>year_built</th>\n",
       "      <th>tax_class_at_time_of_sale</th>\n",
       "      <th>building_class_at_time_of_sale</th>\n",
       "      <th>sale_price</th>\n",
       "      <th>sale_date</th>\n",
       "    </tr>\n",
       "  </thead>\n",
       "  <tbody>\n",
       "    <tr>\n",
       "      <th>0</th>\n",
       "      <td>5</td>\n",
       "      <td>ANNADALE</td>\n",
       "      <td>01 ONE FAMILY DWELLINGS</td>\n",
       "      <td>1</td>\n",
       "      <td>5391</td>\n",
       "      <td>7</td>\n",
       "      <td>n</td>\n",
       "      <td>A5</td>\n",
       "      <td>4732 AMBOY ROAD</td>\n",
       "      <td>nan</td>\n",
       "      <td>10312</td>\n",
       "      <td>1</td>\n",
       "      <td>0</td>\n",
       "      <td>1</td>\n",
       "      <td>3,654.00</td>\n",
       "      <td>910.00</td>\n",
       "      <td>2002</td>\n",
       "      <td>1</td>\n",
       "      <td>A5</td>\n",
       "      <td>764,000.00</td>\n",
       "      <td>2022-06-30</td>\n",
       "    </tr>\n",
       "    <tr>\n",
       "      <th>1</th>\n",
       "      <td>5</td>\n",
       "      <td>ANNADALE</td>\n",
       "      <td>01 ONE FAMILY DWELLINGS</td>\n",
       "      <td>1</td>\n",
       "      <td>5395</td>\n",
       "      <td>4</td>\n",
       "      <td>n</td>\n",
       "      <td>A1</td>\n",
       "      <td>26 EDWIN STREET</td>\n",
       "      <td>nan</td>\n",
       "      <td>10312</td>\n",
       "      <td>1</td>\n",
       "      <td>0</td>\n",
       "      <td>1</td>\n",
       "      <td>7,654.00</td>\n",
       "      <td>2,277.00</td>\n",
       "      <td>1980</td>\n",
       "      <td>1</td>\n",
       "      <td>A1</td>\n",
       "      <td>1,098,000.00</td>\n",
       "      <td>2022-08-19</td>\n",
       "    </tr>\n",
       "    <tr>\n",
       "      <th>2</th>\n",
       "      <td>5</td>\n",
       "      <td>ANNADALE</td>\n",
       "      <td>01 ONE FAMILY DWELLINGS</td>\n",
       "      <td>1</td>\n",
       "      <td>5395</td>\n",
       "      <td>32</td>\n",
       "      <td>n</td>\n",
       "      <td>A1</td>\n",
       "      <td>541 SYCAMORE STREET</td>\n",
       "      <td>nan</td>\n",
       "      <td>10312</td>\n",
       "      <td>1</td>\n",
       "      <td>0</td>\n",
       "      <td>1</td>\n",
       "      <td>13,320.00</td>\n",
       "      <td>4,696.00</td>\n",
       "      <td>1985</td>\n",
       "      <td>1</td>\n",
       "      <td>A1</td>\n",
       "      <td>0.00</td>\n",
       "      <td>2022-04-20</td>\n",
       "    </tr>\n",
       "    <tr>\n",
       "      <th>3</th>\n",
       "      <td>5</td>\n",
       "      <td>ANNADALE</td>\n",
       "      <td>01 ONE FAMILY DWELLINGS</td>\n",
       "      <td>1</td>\n",
       "      <td>5399</td>\n",
       "      <td>37</td>\n",
       "      <td>n</td>\n",
       "      <td>A2</td>\n",
       "      <td>255 KOCH BOULEVARD</td>\n",
       "      <td>nan</td>\n",
       "      <td>10312</td>\n",
       "      <td>1</td>\n",
       "      <td>0</td>\n",
       "      <td>1</td>\n",
       "      <td>8,190.00</td>\n",
       "      <td>1,528.00</td>\n",
       "      <td>1970</td>\n",
       "      <td>1</td>\n",
       "      <td>A2</td>\n",
       "      <td>890,000.00</td>\n",
       "      <td>2022-01-03</td>\n",
       "    </tr>\n",
       "    <tr>\n",
       "      <th>4</th>\n",
       "      <td>5</td>\n",
       "      <td>ANNADALE</td>\n",
       "      <td>01 ONE FAMILY DWELLINGS</td>\n",
       "      <td>1</td>\n",
       "      <td>5402</td>\n",
       "      <td>17</td>\n",
       "      <td>n</td>\n",
       "      <td>A2</td>\n",
       "      <td>6 WEAVER STREET</td>\n",
       "      <td>nan</td>\n",
       "      <td>10312</td>\n",
       "      <td>1</td>\n",
       "      <td>0</td>\n",
       "      <td>1</td>\n",
       "      <td>10,500.00</td>\n",
       "      <td>2,278.00</td>\n",
       "      <td>1980</td>\n",
       "      <td>1</td>\n",
       "      <td>A2</td>\n",
       "      <td>0.00</td>\n",
       "      <td>2022-12-27</td>\n",
       "    </tr>\n",
       "  </tbody>\n",
       "</table>\n",
       "</div>"
      ],
      "text/plain": [
       "  borough neighborhood  building_class_category tax_class_at_present block  \\\n",
       "0       5     ANNADALE  01 ONE FAMILY DWELLINGS                    1  5391   \n",
       "1       5     ANNADALE  01 ONE FAMILY DWELLINGS                    1  5395   \n",
       "2       5     ANNADALE  01 ONE FAMILY DWELLINGS                    1  5395   \n",
       "3       5     ANNADALE  01 ONE FAMILY DWELLINGS                    1  5399   \n",
       "4       5     ANNADALE  01 ONE FAMILY DWELLINGS                    1  5402   \n",
       "\n",
       "  lot easement building_class_at_present              address  \\\n",
       "0   7        n                        A5      4732 AMBOY ROAD   \n",
       "1   4        n                        A1      26 EDWIN STREET   \n",
       "2  32        n                        A1  541 SYCAMORE STREET   \n",
       "3  37        n                        A2   255 KOCH BOULEVARD   \n",
       "4  17        n                        A2      6 WEAVER STREET   \n",
       "\n",
       "  apartment_number  zip_code  residential_units  commercial_units  \\\n",
       "0              nan     10312                  1                 0   \n",
       "1              nan     10312                  1                 0   \n",
       "2              nan     10312                  1                 0   \n",
       "3              nan     10312                  1                 0   \n",
       "4              nan     10312                  1                 0   \n",
       "\n",
       "   total_units     land_square_feet    gross_square_feet  year_built  \\\n",
       "0            1             3,654.00               910.00        2002   \n",
       "1            1             7,654.00             2,277.00        1980   \n",
       "2            1            13,320.00             4,696.00        1985   \n",
       "3            1             8,190.00             1,528.00        1970   \n",
       "4            1            10,500.00             2,278.00        1980   \n",
       "\n",
       "  tax_class_at_time_of_sale building_class_at_time_of_sale  \\\n",
       "0                         1                             A5   \n",
       "1                         1                             A1   \n",
       "2                         1                             A1   \n",
       "3                         1                             A2   \n",
       "4                         1                             A2   \n",
       "\n",
       "            sale_price  sale_date  \n",
       "0           764,000.00 2022-06-30  \n",
       "1         1,098,000.00 2022-08-19  \n",
       "2                 0.00 2022-04-20  \n",
       "3           890,000.00 2022-01-03  \n",
       "4                 0.00 2022-12-27  "
      ]
     },
     "execution_count": 396,
     "metadata": {},
     "output_type": "execute_result"
    }
   ],
   "source": [
    "# Check head of df\n",
    "df.head()"
   ]
  },
  {
   "cell_type": "code",
   "execution_count": 397,
   "id": "3f83fbea",
   "metadata": {},
   "outputs": [
    {
     "name": "stdout",
     "output_type": "stream",
     "text": [
      "<class 'pandas.core.frame.DataFrame'>\n",
      "RangeIndex: 1916261 entries, 0 to 1916260\n",
      "Data columns (total 21 columns):\n",
      " #   Column                          Dtype         \n",
      "---  ------                          -----         \n",
      " 0   borough                         object        \n",
      " 1   neighborhood                    object        \n",
      " 2   building_class_category         object        \n",
      " 3   tax_class_at_present            object        \n",
      " 4   block                           object        \n",
      " 5   lot                             object        \n",
      " 6   easement                        object        \n",
      " 7   building_class_at_present       object        \n",
      " 8   address                         object        \n",
      " 9   apartment_number                object        \n",
      " 10  zip_code                        int64         \n",
      " 11  residential_units               int64         \n",
      " 12  commercial_units                int64         \n",
      " 13  total_units                     int64         \n",
      " 14  land_square_feet                float64       \n",
      " 15  gross_square_feet               float64       \n",
      " 16  year_built                      int64         \n",
      " 17  tax_class_at_time_of_sale       object        \n",
      " 18  building_class_at_time_of_sale  object        \n",
      " 19  sale_price                      float64       \n",
      " 20  sale_date                       datetime64[ns]\n",
      "dtypes: datetime64[ns](1), float64(3), int64(5), object(12)\n",
      "memory usage: 307.0+ MB\n"
     ]
    }
   ],
   "source": [
    "# Get info on df\n",
    "df.info()"
   ]
  },
  {
   "cell_type": "code",
   "execution_count": 398,
   "id": "f76e53aa",
   "metadata": {},
   "outputs": [
    {
     "data": {
      "text/plain": [
       "True"
      ]
     },
     "execution_count": 398,
     "metadata": {},
     "output_type": "execute_result"
    }
   ],
   "source": [
    "# Double-check whether concatenation worked\n",
    "len(df) == len(df_p1) + len(df_p2) + len(df_p3) + len(df_p4) + len(df_roll)"
   ]
  },
  {
   "cell_type": "code",
   "execution_count": 399,
   "id": "d0f7198d",
   "metadata": {},
   "outputs": [],
   "source": [
    "# Double-check for mixed-type columns in df\n",
    "for col in df.columns.tolist():\n",
    "  weird = (df[[col]].applymap(type) != df[[col]].iloc[0].apply(type)).any(axis = 1)\n",
    "  if len (df[weird]) > 0:\n",
    "    print (col)"
   ]
  },
  {
   "cell_type": "markdown",
   "id": "1ee5c4c8",
   "metadata": {},
   "source": [
    "# 06 Data cleaning - merged dataframe"
   ]
  },
  {
   "cell_type": "markdown",
   "id": "e4b0e887",
   "metadata": {},
   "source": [
    "## 06.1 Address duplicates"
   ]
  },
  {
   "cell_type": "code",
   "execution_count": 400,
   "id": "b09f3a3a",
   "metadata": {},
   "outputs": [],
   "source": [
    "# Check for duplicates\n",
    "df_dups = df[df.duplicated()]"
   ]
  },
  {
   "cell_type": "code",
   "execution_count": 401,
   "id": "c0370ed6",
   "metadata": {},
   "outputs": [
    {
     "name": "stdout",
     "output_type": "stream",
     "text": [
      "<class 'pandas.core.frame.DataFrame'>\n",
      "Int64Index: 78621 entries, 243301 to 1916260\n",
      "Data columns (total 21 columns):\n",
      " #   Column                          Non-Null Count  Dtype         \n",
      "---  ------                          --------------  -----         \n",
      " 0   borough                         78621 non-null  object        \n",
      " 1   neighborhood                    78621 non-null  object        \n",
      " 2   building_class_category         78621 non-null  object        \n",
      " 3   tax_class_at_present            78621 non-null  object        \n",
      " 4   block                           78621 non-null  object        \n",
      " 5   lot                             78621 non-null  object        \n",
      " 6   easement                        78621 non-null  object        \n",
      " 7   building_class_at_present       78621 non-null  object        \n",
      " 8   address                         78621 non-null  object        \n",
      " 9   apartment_number                78621 non-null  object        \n",
      " 10  zip_code                        78621 non-null  int64         \n",
      " 11  residential_units               78621 non-null  int64         \n",
      " 12  commercial_units                78621 non-null  int64         \n",
      " 13  total_units                     78621 non-null  int64         \n",
      " 14  land_square_feet                49210 non-null  float64       \n",
      " 15  gross_square_feet               49210 non-null  float64       \n",
      " 16  year_built                      78621 non-null  int64         \n",
      " 17  tax_class_at_time_of_sale       78621 non-null  object        \n",
      " 18  building_class_at_time_of_sale  78621 non-null  object        \n",
      " 19  sale_price                      78621 non-null  float64       \n",
      " 20  sale_date                       78621 non-null  datetime64[ns]\n",
      "dtypes: datetime64[ns](1), float64(3), int64(5), object(12)\n",
      "memory usage: 13.2+ MB\n"
     ]
    }
   ],
   "source": [
    "# Check size of df_dups\n",
    "df_dups.info()"
   ]
  },
  {
   "cell_type": "markdown",
   "id": "c0eec12a",
   "metadata": {},
   "source": [
    "There are 78621 full duplicates in the dataframe which can be dropped."
   ]
  },
  {
   "cell_type": "code",
   "execution_count": 402,
   "id": "5bf33c59",
   "metadata": {},
   "outputs": [],
   "source": [
    "# Drop full duplicates from df_no_dups\n",
    "df_no_dups = df.drop_duplicates()"
   ]
  },
  {
   "cell_type": "code",
   "execution_count": 403,
   "id": "9921f66f",
   "metadata": {},
   "outputs": [
    {
     "data": {
      "text/plain": [
       "True"
      ]
     },
     "execution_count": 403,
     "metadata": {},
     "output_type": "execute_result"
    }
   ],
   "source": [
    "# Check for accuracy of dropping duplicates\n",
    "len(df) == len(df_dups) + len(df_no_dups)"
   ]
  },
  {
   "cell_type": "code",
   "execution_count": 404,
   "id": "91ec80f1",
   "metadata": {},
   "outputs": [
    {
     "name": "stdout",
     "output_type": "stream",
     "text": [
      "<class 'pandas.core.frame.DataFrame'>\n",
      "Int64Index: 1837640 entries, 0 to 1916259\n",
      "Data columns (total 21 columns):\n",
      " #   Column                          Dtype         \n",
      "---  ------                          -----         \n",
      " 0   borough                         object        \n",
      " 1   neighborhood                    object        \n",
      " 2   building_class_category         object        \n",
      " 3   tax_class_at_present            object        \n",
      " 4   block                           object        \n",
      " 5   lot                             object        \n",
      " 6   easement                        object        \n",
      " 7   building_class_at_present       object        \n",
      " 8   address                         object        \n",
      " 9   apartment_number                object        \n",
      " 10  zip_code                        int64         \n",
      " 11  residential_units               int64         \n",
      " 12  commercial_units                int64         \n",
      " 13  total_units                     int64         \n",
      " 14  land_square_feet                float64       \n",
      " 15  gross_square_feet               float64       \n",
      " 16  year_built                      int64         \n",
      " 17  tax_class_at_time_of_sale       object        \n",
      " 18  building_class_at_time_of_sale  object        \n",
      " 19  sale_price                      float64       \n",
      " 20  sale_date                       datetime64[ns]\n",
      "dtypes: datetime64[ns](1), float64(3), int64(5), object(12)\n",
      "memory usage: 308.4+ MB\n"
     ]
    }
   ],
   "source": [
    "# Get info on df_no_dups\n",
    "df_no_dups.info()"
   ]
  },
  {
   "cell_type": "markdown",
   "id": "bae69503",
   "metadata": {},
   "source": [
    "## 06.2 Check for missing values"
   ]
  },
  {
   "cell_type": "code",
   "execution_count": 405,
   "id": "9dddc74d",
   "metadata": {},
   "outputs": [
    {
     "data": {
      "text/plain": [
       "0"
      ]
     },
     "execution_count": 405,
     "metadata": {},
     "output_type": "execute_result"
    }
   ],
   "source": [
    "df_no_dups['borough'].isna().sum()"
   ]
  },
  {
   "cell_type": "code",
   "execution_count": 406,
   "id": "c55a8ebd",
   "metadata": {},
   "outputs": [
    {
     "data": {
      "text/plain": [
       "0"
      ]
     },
     "execution_count": 406,
     "metadata": {},
     "output_type": "execute_result"
    }
   ],
   "source": [
    "df_no_dups['neighborhood'].isna().sum()"
   ]
  },
  {
   "cell_type": "code",
   "execution_count": 407,
   "id": "108bfd2c",
   "metadata": {},
   "outputs": [
    {
     "data": {
      "text/plain": [
       "0"
      ]
     },
     "execution_count": 407,
     "metadata": {},
     "output_type": "execute_result"
    }
   ],
   "source": [
    "df_no_dups['building_class_category'].isna().sum()"
   ]
  },
  {
   "cell_type": "code",
   "execution_count": 408,
   "id": "62b7310b",
   "metadata": {},
   "outputs": [
    {
     "data": {
      "text/plain": [
       "0"
      ]
     },
     "execution_count": 408,
     "metadata": {},
     "output_type": "execute_result"
    }
   ],
   "source": [
    "df_no_dups['tax_class_at_present'].isna().sum()"
   ]
  },
  {
   "cell_type": "code",
   "execution_count": 409,
   "id": "5e39777a",
   "metadata": {},
   "outputs": [
    {
     "data": {
      "text/plain": [
       "0"
      ]
     },
     "execution_count": 409,
     "metadata": {},
     "output_type": "execute_result"
    }
   ],
   "source": [
    "df_no_dups['block'].isna().sum()"
   ]
  },
  {
   "cell_type": "code",
   "execution_count": 410,
   "id": "5317ff9b",
   "metadata": {},
   "outputs": [
    {
     "data": {
      "text/plain": [
       "0"
      ]
     },
     "execution_count": 410,
     "metadata": {},
     "output_type": "execute_result"
    }
   ],
   "source": [
    "df_no_dups['lot'].isna().sum()"
   ]
  },
  {
   "cell_type": "code",
   "execution_count": 411,
   "id": "c3b207d5",
   "metadata": {},
   "outputs": [
    {
     "data": {
      "text/plain": [
       "0"
      ]
     },
     "execution_count": 411,
     "metadata": {},
     "output_type": "execute_result"
    }
   ],
   "source": [
    "df_no_dups['easement'].isna().sum()"
   ]
  },
  {
   "cell_type": "code",
   "execution_count": 412,
   "id": "e733ea6b",
   "metadata": {},
   "outputs": [
    {
     "data": {
      "text/plain": [
       "0"
      ]
     },
     "execution_count": 412,
     "metadata": {},
     "output_type": "execute_result"
    }
   ],
   "source": [
    "df_no_dups['building_class_at_present'].isna().sum()"
   ]
  },
  {
   "cell_type": "code",
   "execution_count": 413,
   "id": "4135baab",
   "metadata": {},
   "outputs": [
    {
     "data": {
      "text/plain": [
       "0"
      ]
     },
     "execution_count": 413,
     "metadata": {},
     "output_type": "execute_result"
    }
   ],
   "source": [
    "df_no_dups['address'].isna().sum()"
   ]
  },
  {
   "cell_type": "code",
   "execution_count": 414,
   "id": "8aee4fc0",
   "metadata": {},
   "outputs": [
    {
     "data": {
      "text/plain": [
       "0"
      ]
     },
     "execution_count": 414,
     "metadata": {},
     "output_type": "execute_result"
    }
   ],
   "source": [
    "df_no_dups['apartment_number'].isna().sum()"
   ]
  },
  {
   "cell_type": "code",
   "execution_count": 415,
   "id": "fc366b64",
   "metadata": {},
   "outputs": [
    {
     "data": {
      "text/plain": [
       "0"
      ]
     },
     "execution_count": 415,
     "metadata": {},
     "output_type": "execute_result"
    }
   ],
   "source": [
    "df_no_dups['zip_code'].isna().sum()"
   ]
  },
  {
   "cell_type": "code",
   "execution_count": 416,
   "id": "0e0680e5",
   "metadata": {},
   "outputs": [
    {
     "data": {
      "text/plain": [
       "0"
      ]
     },
     "execution_count": 416,
     "metadata": {},
     "output_type": "execute_result"
    }
   ],
   "source": [
    "df_no_dups['year_built'].isna().sum()"
   ]
  },
  {
   "cell_type": "code",
   "execution_count": 417,
   "id": "357f8cba",
   "metadata": {},
   "outputs": [
    {
     "data": {
      "text/plain": [
       "0"
      ]
     },
     "execution_count": 417,
     "metadata": {},
     "output_type": "execute_result"
    }
   ],
   "source": [
    "df_no_dups['tax_class_at_time_of_sale'].isna().sum()"
   ]
  },
  {
   "cell_type": "code",
   "execution_count": 418,
   "id": "3ecb85ca",
   "metadata": {},
   "outputs": [
    {
     "data": {
      "text/plain": [
       "0"
      ]
     },
     "execution_count": 418,
     "metadata": {},
     "output_type": "execute_result"
    }
   ],
   "source": [
    "df_no_dups['building_class_at_time_of_sale'].isna().sum()"
   ]
  },
  {
   "cell_type": "code",
   "execution_count": 419,
   "id": "d1b69a3c",
   "metadata": {},
   "outputs": [
    {
     "data": {
      "text/plain": [
       "0"
      ]
     },
     "execution_count": 419,
     "metadata": {},
     "output_type": "execute_result"
    }
   ],
   "source": [
    "df_no_dups['sale_date'].isna().sum()"
   ]
  },
  {
   "cell_type": "code",
   "execution_count": 420,
   "id": "5748636b",
   "metadata": {},
   "outputs": [
    {
     "data": {
      "text/plain": [
       "0"
      ]
     },
     "execution_count": 420,
     "metadata": {},
     "output_type": "execute_result"
    }
   ],
   "source": [
    "df_no_dups['residential_units'].isna().sum()"
   ]
  },
  {
   "cell_type": "code",
   "execution_count": 421,
   "id": "c067fa60",
   "metadata": {},
   "outputs": [
    {
     "data": {
      "text/plain": [
       "0"
      ]
     },
     "execution_count": 421,
     "metadata": {},
     "output_type": "execute_result"
    }
   ],
   "source": [
    "df_no_dups['commercial_units'].isna().sum()"
   ]
  },
  {
   "cell_type": "code",
   "execution_count": 422,
   "id": "255c2cd8",
   "metadata": {},
   "outputs": [
    {
     "data": {
      "text/plain": [
       "0"
      ]
     },
     "execution_count": 422,
     "metadata": {},
     "output_type": "execute_result"
    }
   ],
   "source": [
    "df_no_dups['total_units'].isna().sum()"
   ]
  },
  {
   "cell_type": "code",
   "execution_count": 423,
   "id": "93b23b76",
   "metadata": {},
   "outputs": [
    {
     "data": {
      "text/plain": [
       "116061"
      ]
     },
     "execution_count": 423,
     "metadata": {},
     "output_type": "execute_result"
    }
   ],
   "source": [
    "df_no_dups['land_square_feet'].isna().sum()"
   ]
  },
  {
   "cell_type": "code",
   "execution_count": 424,
   "id": "90c0747e",
   "metadata": {},
   "outputs": [
    {
     "data": {
      "text/plain": [
       "116060"
      ]
     },
     "execution_count": 424,
     "metadata": {},
     "output_type": "execute_result"
    }
   ],
   "source": [
    "df_no_dups['gross_square_feet'].isna().sum()"
   ]
  },
  {
   "cell_type": "code",
   "execution_count": 425,
   "id": "a7b12892",
   "metadata": {},
   "outputs": [
    {
     "data": {
      "text/plain": [
       "0"
      ]
     },
     "execution_count": 425,
     "metadata": {},
     "output_type": "execute_result"
    }
   ],
   "source": [
    "df_no_dups['sale_price'].isna().sum()"
   ]
  },
  {
   "cell_type": "code",
   "execution_count": 426,
   "id": "feaf5a22",
   "metadata": {},
   "outputs": [
    {
     "data": {
      "text/plain": [
       "0"
      ]
     },
     "execution_count": 426,
     "metadata": {},
     "output_type": "execute_result"
    }
   ],
   "source": [
    "df_no_dups['sale_date'].isna().sum()"
   ]
  },
  {
   "cell_type": "markdown",
   "id": "44b6f62b",
   "metadata": {},
   "source": [
    "## 06.3 Get descriptive statistics for columns with missing values"
   ]
  },
  {
   "cell_type": "code",
   "execution_count": 427,
   "id": "9d6e71e4",
   "metadata": {},
   "outputs": [
    {
     "data": {
      "text/plain": [
       "count           1,721,579.00\n",
       "mean                3,694.01\n",
       "std               291,427.74\n",
       "min                     0.00\n",
       "25%                     0.00\n",
       "50%                 1,975.00\n",
       "75%                 2,900.00\n",
       "max           214,755,710.00\n",
       "Name: land_square_feet, dtype: float64"
      ]
     },
     "execution_count": 427,
     "metadata": {},
     "output_type": "execute_result"
    }
   ],
   "source": [
    "# Descriptive statistics for land_square_feet\n",
    "df_no_dups['land_square_feet'].describe()"
   ]
  },
  {
   "cell_type": "code",
   "execution_count": 428,
   "id": "709184e6",
   "metadata": {},
   "outputs": [
    {
     "data": {
      "text/plain": [
       "699.5853671838145"
      ]
     },
     "execution_count": 428,
     "metadata": {},
     "output_type": "execute_result"
    }
   ],
   "source": [
    "# Get skew for land_square_feet\n",
    "df_no_dups['land_square_feet'].skew()"
   ]
  },
  {
   "cell_type": "code",
   "execution_count": 429,
   "id": "cc57bc95",
   "metadata": {},
   "outputs": [
    {
     "data": {
      "text/plain": [
       "count           1,721,580.00\n",
       "mean                4,053.04\n",
       "std                41,801.49\n",
       "min                     0.00\n",
       "25%                     0.00\n",
       "50%                 1,346.00\n",
       "75%                 2,400.00\n",
       "max            14,962,152.00\n",
       "Name: gross_square_feet, dtype: float64"
      ]
     },
     "execution_count": 429,
     "metadata": {},
     "output_type": "execute_result"
    }
   ],
   "source": [
    "# Descriptive statistics for gross_square_feet\n",
    "df_no_dups['gross_square_feet'].describe()"
   ]
  },
  {
   "cell_type": "code",
   "execution_count": 430,
   "id": "b86a76d7",
   "metadata": {},
   "outputs": [
    {
     "data": {
      "text/plain": [
       "152.70894903047784"
      ]
     },
     "execution_count": 430,
     "metadata": {},
     "output_type": "execute_result"
    }
   ],
   "source": [
    "# Get skew for gross_square_feet\n",
    "df['gross_square_feet'].skew()"
   ]
  },
  {
   "cell_type": "markdown",
   "id": "41d345c4",
   "metadata": {},
   "source": [
    "## 06.7 Create subsets with missing values"
   ]
  },
  {
   "cell_type": "code",
   "execution_count": 431,
   "id": "3459d6e1",
   "metadata": {},
   "outputs": [],
   "source": [
    "# Create subsets\n",
    "df_nan_land_square = df_no_dups[df_no_dups['land_square_feet'].isna() == True]\n",
    "df_nan_gross_square = df_no_dups[df_no_dups['gross_square_feet'].isna() == True]"
   ]
  },
  {
   "cell_type": "code",
   "execution_count": 432,
   "id": "88ce39fa",
   "metadata": {},
   "outputs": [
    {
     "data": {
      "text/html": [
       "<div>\n",
       "<style scoped>\n",
       "    .dataframe tbody tr th:only-of-type {\n",
       "        vertical-align: middle;\n",
       "    }\n",
       "\n",
       "    .dataframe tbody tr th {\n",
       "        vertical-align: top;\n",
       "    }\n",
       "\n",
       "    .dataframe thead th {\n",
       "        text-align: right;\n",
       "    }\n",
       "</style>\n",
       "<table border=\"1\" class=\"dataframe\">\n",
       "  <thead>\n",
       "    <tr style=\"text-align: right;\">\n",
       "      <th></th>\n",
       "      <th>borough</th>\n",
       "      <th>neighborhood</th>\n",
       "      <th>building_class_category</th>\n",
       "      <th>tax_class_at_present</th>\n",
       "      <th>block</th>\n",
       "      <th>lot</th>\n",
       "      <th>easement</th>\n",
       "      <th>building_class_at_present</th>\n",
       "      <th>address</th>\n",
       "      <th>apartment_number</th>\n",
       "      <th>zip_code</th>\n",
       "      <th>residential_units</th>\n",
       "      <th>commercial_units</th>\n",
       "      <th>total_units</th>\n",
       "      <th>land_square_feet</th>\n",
       "      <th>gross_square_feet</th>\n",
       "      <th>year_built</th>\n",
       "      <th>tax_class_at_time_of_sale</th>\n",
       "      <th>building_class_at_time_of_sale</th>\n",
       "      <th>sale_price</th>\n",
       "      <th>sale_date</th>\n",
       "    </tr>\n",
       "  </thead>\n",
       "  <tbody>\n",
       "    <tr>\n",
       "      <th>180</th>\n",
       "      <td>5</td>\n",
       "      <td>ANNADALE</td>\n",
       "      <td>04 TAX CLASS 1 CONDOS</td>\n",
       "      <td>1C</td>\n",
       "      <td>6226</td>\n",
       "      <td>1101</td>\n",
       "      <td>n</td>\n",
       "      <td>R6</td>\n",
       "      <td>736 ANNADALE ROAD; B</td>\n",
       "      <td>B</td>\n",
       "      <td>10312</td>\n",
       "      <td>1</td>\n",
       "      <td>0</td>\n",
       "      <td>1</td>\n",
       "      <td>NaN</td>\n",
       "      <td>NaN</td>\n",
       "      <td>2012</td>\n",
       "      <td>1</td>\n",
       "      <td>R6</td>\n",
       "      <td>810,000.00</td>\n",
       "      <td>2022-01-12</td>\n",
       "    </tr>\n",
       "    <tr>\n",
       "      <th>185</th>\n",
       "      <td>5</td>\n",
       "      <td>ANNADALE</td>\n",
       "      <td>46 CONDO STORE BUILDINGS</td>\n",
       "      <td>4</td>\n",
       "      <td>6244</td>\n",
       "      <td>1001</td>\n",
       "      <td>n</td>\n",
       "      <td>RK</td>\n",
       "      <td>885 ANNADALE ROAD; 1</td>\n",
       "      <td>1</td>\n",
       "      <td>10312</td>\n",
       "      <td>1</td>\n",
       "      <td>1</td>\n",
       "      <td>1</td>\n",
       "      <td>NaN</td>\n",
       "      <td>NaN</td>\n",
       "      <td>1975</td>\n",
       "      <td>4</td>\n",
       "      <td>RK</td>\n",
       "      <td>150,000.00</td>\n",
       "      <td>2022-01-10</td>\n",
       "    </tr>\n",
       "    <tr>\n",
       "      <th>186</th>\n",
       "      <td>5</td>\n",
       "      <td>ANNADALE</td>\n",
       "      <td>46 CONDO STORE BUILDINGS</td>\n",
       "      <td>4</td>\n",
       "      <td>6244</td>\n",
       "      <td>1002</td>\n",
       "      <td>n</td>\n",
       "      <td>RK</td>\n",
       "      <td>885 ANNADALE ROAD; 2</td>\n",
       "      <td>2</td>\n",
       "      <td>10312</td>\n",
       "      <td>1</td>\n",
       "      <td>1</td>\n",
       "      <td>1</td>\n",
       "      <td>NaN</td>\n",
       "      <td>NaN</td>\n",
       "      <td>1975</td>\n",
       "      <td>4</td>\n",
       "      <td>RK</td>\n",
       "      <td>440,000.00</td>\n",
       "      <td>2022-10-24</td>\n",
       "    </tr>\n",
       "    <tr>\n",
       "      <th>454</th>\n",
       "      <td>5</td>\n",
       "      <td>ARDEN HEIGHTS</td>\n",
       "      <td>04 TAX CLASS 1 CONDOS</td>\n",
       "      <td>1A</td>\n",
       "      <td>6017</td>\n",
       "      <td>1003</td>\n",
       "      <td>n</td>\n",
       "      <td>R3</td>\n",
       "      <td>55 ROLLING HILL GREEN</td>\n",
       "      <td>nan</td>\n",
       "      <td>10312</td>\n",
       "      <td>1</td>\n",
       "      <td>0</td>\n",
       "      <td>1</td>\n",
       "      <td>NaN</td>\n",
       "      <td>NaN</td>\n",
       "      <td>1979</td>\n",
       "      <td>1</td>\n",
       "      <td>R3</td>\n",
       "      <td>0.00</td>\n",
       "      <td>2022-03-23</td>\n",
       "    </tr>\n",
       "    <tr>\n",
       "      <th>455</th>\n",
       "      <td>5</td>\n",
       "      <td>ARDEN HEIGHTS</td>\n",
       "      <td>04 TAX CLASS 1 CONDOS</td>\n",
       "      <td>1A</td>\n",
       "      <td>6017</td>\n",
       "      <td>1037</td>\n",
       "      <td>n</td>\n",
       "      <td>R3</td>\n",
       "      <td>60 ROLLING HILL GREEN; N/A</td>\n",
       "      <td>nan</td>\n",
       "      <td>10312</td>\n",
       "      <td>1</td>\n",
       "      <td>0</td>\n",
       "      <td>1</td>\n",
       "      <td>NaN</td>\n",
       "      <td>NaN</td>\n",
       "      <td>1979</td>\n",
       "      <td>1</td>\n",
       "      <td>R3</td>\n",
       "      <td>480,000.00</td>\n",
       "      <td>2022-12-08</td>\n",
       "    </tr>\n",
       "  </tbody>\n",
       "</table>\n",
       "</div>"
      ],
      "text/plain": [
       "    borough   neighborhood   building_class_category tax_class_at_present  \\\n",
       "180       5       ANNADALE     04 TAX CLASS 1 CONDOS                   1C   \n",
       "185       5       ANNADALE  46 CONDO STORE BUILDINGS                    4   \n",
       "186       5       ANNADALE  46 CONDO STORE BUILDINGS                    4   \n",
       "454       5  ARDEN HEIGHTS     04 TAX CLASS 1 CONDOS                   1A   \n",
       "455       5  ARDEN HEIGHTS     04 TAX CLASS 1 CONDOS                   1A   \n",
       "\n",
       "    block   lot easement building_class_at_present  \\\n",
       "180  6226  1101        n                        R6   \n",
       "185  6244  1001        n                        RK   \n",
       "186  6244  1002        n                        RK   \n",
       "454  6017  1003        n                        R3   \n",
       "455  6017  1037        n                        R3   \n",
       "\n",
       "                        address apartment_number  zip_code  residential_units  \\\n",
       "180        736 ANNADALE ROAD; B                B     10312                  1   \n",
       "185        885 ANNADALE ROAD; 1                1     10312                  1   \n",
       "186        885 ANNADALE ROAD; 2                2     10312                  1   \n",
       "454       55 ROLLING HILL GREEN              nan     10312                  1   \n",
       "455  60 ROLLING HILL GREEN; N/A              nan     10312                  1   \n",
       "\n",
       "     commercial_units  total_units  land_square_feet  gross_square_feet  \\\n",
       "180                 0            1               NaN                NaN   \n",
       "185                 1            1               NaN                NaN   \n",
       "186                 1            1               NaN                NaN   \n",
       "454                 0            1               NaN                NaN   \n",
       "455                 0            1               NaN                NaN   \n",
       "\n",
       "     year_built tax_class_at_time_of_sale building_class_at_time_of_sale  \\\n",
       "180        2012                         1                             R6   \n",
       "185        1975                         4                             RK   \n",
       "186        1975                         4                             RK   \n",
       "454        1979                         1                             R3   \n",
       "455        1979                         1                             R3   \n",
       "\n",
       "              sale_price  sale_date  \n",
       "180           810,000.00 2022-01-12  \n",
       "185           150,000.00 2022-01-10  \n",
       "186           440,000.00 2022-10-24  \n",
       "454                 0.00 2022-03-23  \n",
       "455           480,000.00 2022-12-08  "
      ]
     },
     "execution_count": 432,
     "metadata": {},
     "output_type": "execute_result"
    }
   ],
   "source": [
    "# Inspect head of subset I\n",
    "df_nan_land_square.head()"
   ]
  },
  {
   "cell_type": "code",
   "execution_count": 433,
   "id": "3e64bb67",
   "metadata": {},
   "outputs": [
    {
     "data": {
      "text/html": [
       "<div>\n",
       "<style scoped>\n",
       "    .dataframe tbody tr th:only-of-type {\n",
       "        vertical-align: middle;\n",
       "    }\n",
       "\n",
       "    .dataframe tbody tr th {\n",
       "        vertical-align: top;\n",
       "    }\n",
       "\n",
       "    .dataframe thead th {\n",
       "        text-align: right;\n",
       "    }\n",
       "</style>\n",
       "<table border=\"1\" class=\"dataframe\">\n",
       "  <thead>\n",
       "    <tr style=\"text-align: right;\">\n",
       "      <th></th>\n",
       "      <th>borough</th>\n",
       "      <th>neighborhood</th>\n",
       "      <th>building_class_category</th>\n",
       "      <th>tax_class_at_present</th>\n",
       "      <th>block</th>\n",
       "      <th>lot</th>\n",
       "      <th>easement</th>\n",
       "      <th>building_class_at_present</th>\n",
       "      <th>address</th>\n",
       "      <th>apartment_number</th>\n",
       "      <th>zip_code</th>\n",
       "      <th>residential_units</th>\n",
       "      <th>commercial_units</th>\n",
       "      <th>total_units</th>\n",
       "      <th>land_square_feet</th>\n",
       "      <th>gross_square_feet</th>\n",
       "      <th>year_built</th>\n",
       "      <th>tax_class_at_time_of_sale</th>\n",
       "      <th>building_class_at_time_of_sale</th>\n",
       "      <th>sale_price</th>\n",
       "      <th>sale_date</th>\n",
       "    </tr>\n",
       "  </thead>\n",
       "  <tbody>\n",
       "    <tr>\n",
       "      <th>180</th>\n",
       "      <td>5</td>\n",
       "      <td>ANNADALE</td>\n",
       "      <td>04 TAX CLASS 1 CONDOS</td>\n",
       "      <td>1C</td>\n",
       "      <td>6226</td>\n",
       "      <td>1101</td>\n",
       "      <td>n</td>\n",
       "      <td>R6</td>\n",
       "      <td>736 ANNADALE ROAD; B</td>\n",
       "      <td>B</td>\n",
       "      <td>10312</td>\n",
       "      <td>1</td>\n",
       "      <td>0</td>\n",
       "      <td>1</td>\n",
       "      <td>NaN</td>\n",
       "      <td>NaN</td>\n",
       "      <td>2012</td>\n",
       "      <td>1</td>\n",
       "      <td>R6</td>\n",
       "      <td>810,000.00</td>\n",
       "      <td>2022-01-12</td>\n",
       "    </tr>\n",
       "    <tr>\n",
       "      <th>185</th>\n",
       "      <td>5</td>\n",
       "      <td>ANNADALE</td>\n",
       "      <td>46 CONDO STORE BUILDINGS</td>\n",
       "      <td>4</td>\n",
       "      <td>6244</td>\n",
       "      <td>1001</td>\n",
       "      <td>n</td>\n",
       "      <td>RK</td>\n",
       "      <td>885 ANNADALE ROAD; 1</td>\n",
       "      <td>1</td>\n",
       "      <td>10312</td>\n",
       "      <td>1</td>\n",
       "      <td>1</td>\n",
       "      <td>1</td>\n",
       "      <td>NaN</td>\n",
       "      <td>NaN</td>\n",
       "      <td>1975</td>\n",
       "      <td>4</td>\n",
       "      <td>RK</td>\n",
       "      <td>150,000.00</td>\n",
       "      <td>2022-01-10</td>\n",
       "    </tr>\n",
       "    <tr>\n",
       "      <th>186</th>\n",
       "      <td>5</td>\n",
       "      <td>ANNADALE</td>\n",
       "      <td>46 CONDO STORE BUILDINGS</td>\n",
       "      <td>4</td>\n",
       "      <td>6244</td>\n",
       "      <td>1002</td>\n",
       "      <td>n</td>\n",
       "      <td>RK</td>\n",
       "      <td>885 ANNADALE ROAD; 2</td>\n",
       "      <td>2</td>\n",
       "      <td>10312</td>\n",
       "      <td>1</td>\n",
       "      <td>1</td>\n",
       "      <td>1</td>\n",
       "      <td>NaN</td>\n",
       "      <td>NaN</td>\n",
       "      <td>1975</td>\n",
       "      <td>4</td>\n",
       "      <td>RK</td>\n",
       "      <td>440,000.00</td>\n",
       "      <td>2022-10-24</td>\n",
       "    </tr>\n",
       "    <tr>\n",
       "      <th>454</th>\n",
       "      <td>5</td>\n",
       "      <td>ARDEN HEIGHTS</td>\n",
       "      <td>04 TAX CLASS 1 CONDOS</td>\n",
       "      <td>1A</td>\n",
       "      <td>6017</td>\n",
       "      <td>1003</td>\n",
       "      <td>n</td>\n",
       "      <td>R3</td>\n",
       "      <td>55 ROLLING HILL GREEN</td>\n",
       "      <td>nan</td>\n",
       "      <td>10312</td>\n",
       "      <td>1</td>\n",
       "      <td>0</td>\n",
       "      <td>1</td>\n",
       "      <td>NaN</td>\n",
       "      <td>NaN</td>\n",
       "      <td>1979</td>\n",
       "      <td>1</td>\n",
       "      <td>R3</td>\n",
       "      <td>0.00</td>\n",
       "      <td>2022-03-23</td>\n",
       "    </tr>\n",
       "    <tr>\n",
       "      <th>455</th>\n",
       "      <td>5</td>\n",
       "      <td>ARDEN HEIGHTS</td>\n",
       "      <td>04 TAX CLASS 1 CONDOS</td>\n",
       "      <td>1A</td>\n",
       "      <td>6017</td>\n",
       "      <td>1037</td>\n",
       "      <td>n</td>\n",
       "      <td>R3</td>\n",
       "      <td>60 ROLLING HILL GREEN; N/A</td>\n",
       "      <td>nan</td>\n",
       "      <td>10312</td>\n",
       "      <td>1</td>\n",
       "      <td>0</td>\n",
       "      <td>1</td>\n",
       "      <td>NaN</td>\n",
       "      <td>NaN</td>\n",
       "      <td>1979</td>\n",
       "      <td>1</td>\n",
       "      <td>R3</td>\n",
       "      <td>480,000.00</td>\n",
       "      <td>2022-12-08</td>\n",
       "    </tr>\n",
       "  </tbody>\n",
       "</table>\n",
       "</div>"
      ],
      "text/plain": [
       "    borough   neighborhood   building_class_category tax_class_at_present  \\\n",
       "180       5       ANNADALE     04 TAX CLASS 1 CONDOS                   1C   \n",
       "185       5       ANNADALE  46 CONDO STORE BUILDINGS                    4   \n",
       "186       5       ANNADALE  46 CONDO STORE BUILDINGS                    4   \n",
       "454       5  ARDEN HEIGHTS     04 TAX CLASS 1 CONDOS                   1A   \n",
       "455       5  ARDEN HEIGHTS     04 TAX CLASS 1 CONDOS                   1A   \n",
       "\n",
       "    block   lot easement building_class_at_present  \\\n",
       "180  6226  1101        n                        R6   \n",
       "185  6244  1001        n                        RK   \n",
       "186  6244  1002        n                        RK   \n",
       "454  6017  1003        n                        R3   \n",
       "455  6017  1037        n                        R3   \n",
       "\n",
       "                        address apartment_number  zip_code  residential_units  \\\n",
       "180        736 ANNADALE ROAD; B                B     10312                  1   \n",
       "185        885 ANNADALE ROAD; 1                1     10312                  1   \n",
       "186        885 ANNADALE ROAD; 2                2     10312                  1   \n",
       "454       55 ROLLING HILL GREEN              nan     10312                  1   \n",
       "455  60 ROLLING HILL GREEN; N/A              nan     10312                  1   \n",
       "\n",
       "     commercial_units  total_units  land_square_feet  gross_square_feet  \\\n",
       "180                 0            1               NaN                NaN   \n",
       "185                 1            1               NaN                NaN   \n",
       "186                 1            1               NaN                NaN   \n",
       "454                 0            1               NaN                NaN   \n",
       "455                 0            1               NaN                NaN   \n",
       "\n",
       "     year_built tax_class_at_time_of_sale building_class_at_time_of_sale  \\\n",
       "180        2012                         1                             R6   \n",
       "185        1975                         4                             RK   \n",
       "186        1975                         4                             RK   \n",
       "454        1979                         1                             R3   \n",
       "455        1979                         1                             R3   \n",
       "\n",
       "              sale_price  sale_date  \n",
       "180           810,000.00 2022-01-12  \n",
       "185           150,000.00 2022-01-10  \n",
       "186           440,000.00 2022-10-24  \n",
       "454                 0.00 2022-03-23  \n",
       "455           480,000.00 2022-12-08  "
      ]
     },
     "execution_count": 433,
     "metadata": {},
     "output_type": "execute_result"
    }
   ],
   "source": [
    "# Inspect head of subset II\n",
    "df_nan_gross_square.head()"
   ]
  },
  {
   "cell_type": "code",
   "execution_count": 434,
   "id": "ef9bd1f9",
   "metadata": {},
   "outputs": [
    {
     "data": {
      "text/html": [
       "<div>\n",
       "<style scoped>\n",
       "    .dataframe tbody tr th:only-of-type {\n",
       "        vertical-align: middle;\n",
       "    }\n",
       "\n",
       "    .dataframe tbody tr th {\n",
       "        vertical-align: top;\n",
       "    }\n",
       "\n",
       "    .dataframe thead th {\n",
       "        text-align: right;\n",
       "    }\n",
       "</style>\n",
       "<table border=\"1\" class=\"dataframe\">\n",
       "  <thead>\n",
       "    <tr style=\"text-align: right;\">\n",
       "      <th></th>\n",
       "      <th>borough</th>\n",
       "      <th>neighborhood</th>\n",
       "      <th>building_class_category</th>\n",
       "      <th>tax_class_at_present</th>\n",
       "      <th>block</th>\n",
       "      <th>lot</th>\n",
       "      <th>easement</th>\n",
       "      <th>building_class_at_present</th>\n",
       "      <th>address</th>\n",
       "      <th>apartment_number</th>\n",
       "      <th>zip_code</th>\n",
       "      <th>residential_units</th>\n",
       "      <th>commercial_units</th>\n",
       "      <th>total_units</th>\n",
       "      <th>land_square_feet</th>\n",
       "      <th>gross_square_feet</th>\n",
       "      <th>year_built</th>\n",
       "      <th>tax_class_at_time_of_sale</th>\n",
       "      <th>building_class_at_time_of_sale</th>\n",
       "      <th>sale_price</th>\n",
       "      <th>sale_date</th>\n",
       "    </tr>\n",
       "  </thead>\n",
       "  <tbody>\n",
       "    <tr>\n",
       "      <th>1916221</th>\n",
       "      <td>2</td>\n",
       "      <td>WOODLAWN</td>\n",
       "      <td>10 COOPS - ELEVATOR APARTMENTS</td>\n",
       "      <td>2</td>\n",
       "      <td>3368</td>\n",
       "      <td>10</td>\n",
       "      <td>n</td>\n",
       "      <td>D4</td>\n",
       "      <td>4320 VAN CORTLANDT PARK EAST; 4G</td>\n",
       "      <td>nan</td>\n",
       "      <td>10470</td>\n",
       "      <td>1</td>\n",
       "      <td>0</td>\n",
       "      <td>1</td>\n",
       "      <td>NaN</td>\n",
       "      <td>NaN</td>\n",
       "      <td>1958</td>\n",
       "      <td>2</td>\n",
       "      <td>D4</td>\n",
       "      <td>155,000.00</td>\n",
       "      <td>2023-03-03</td>\n",
       "    </tr>\n",
       "    <tr>\n",
       "      <th>1916225</th>\n",
       "      <td>2</td>\n",
       "      <td>WOODLAWN</td>\n",
       "      <td>10 COOPS - ELEVATOR APARTMENTS</td>\n",
       "      <td>2</td>\n",
       "      <td>3368</td>\n",
       "      <td>10</td>\n",
       "      <td>n</td>\n",
       "      <td>D4</td>\n",
       "      <td>4320 VAN CORTLANDT PARK EAST; 6N</td>\n",
       "      <td>nan</td>\n",
       "      <td>10470</td>\n",
       "      <td>1</td>\n",
       "      <td>0</td>\n",
       "      <td>1</td>\n",
       "      <td>NaN</td>\n",
       "      <td>NaN</td>\n",
       "      <td>1958</td>\n",
       "      <td>2</td>\n",
       "      <td>D4</td>\n",
       "      <td>195,000.00</td>\n",
       "      <td>2023-02-15</td>\n",
       "    </tr>\n",
       "    <tr>\n",
       "      <th>1916243</th>\n",
       "      <td>2</td>\n",
       "      <td>WOODLAWN</td>\n",
       "      <td>10 COOPS - ELEVATOR APARTMENTS</td>\n",
       "      <td>2</td>\n",
       "      <td>3398</td>\n",
       "      <td>87</td>\n",
       "      <td>n</td>\n",
       "      <td>D4</td>\n",
       "      <td>4315 WEBSTER AVE; 6M</td>\n",
       "      <td>nan</td>\n",
       "      <td>10470</td>\n",
       "      <td>1</td>\n",
       "      <td>0</td>\n",
       "      <td>1</td>\n",
       "      <td>NaN</td>\n",
       "      <td>NaN</td>\n",
       "      <td>1958</td>\n",
       "      <td>2</td>\n",
       "      <td>D4</td>\n",
       "      <td>220,000.00</td>\n",
       "      <td>2023-03-09</td>\n",
       "    </tr>\n",
       "    <tr>\n",
       "      <th>1916245</th>\n",
       "      <td>2</td>\n",
       "      <td>WOODLAWN</td>\n",
       "      <td>10 COOPS - ELEVATOR APARTMENTS</td>\n",
       "      <td>2</td>\n",
       "      <td>3398</td>\n",
       "      <td>97</td>\n",
       "      <td>n</td>\n",
       "      <td>D4</td>\n",
       "      <td>4295 WEBSTER AVE; 2F</td>\n",
       "      <td>nan</td>\n",
       "      <td>10470</td>\n",
       "      <td>1</td>\n",
       "      <td>0</td>\n",
       "      <td>1</td>\n",
       "      <td>NaN</td>\n",
       "      <td>NaN</td>\n",
       "      <td>1957</td>\n",
       "      <td>2</td>\n",
       "      <td>D4</td>\n",
       "      <td>250,000.00</td>\n",
       "      <td>2023-02-02</td>\n",
       "    </tr>\n",
       "    <tr>\n",
       "      <th>1916253</th>\n",
       "      <td>2</td>\n",
       "      <td>WOODLAWN</td>\n",
       "      <td>10 COOPS - ELEVATOR APARTMENTS</td>\n",
       "      <td>2</td>\n",
       "      <td>3398</td>\n",
       "      <td>97</td>\n",
       "      <td>n</td>\n",
       "      <td>D4</td>\n",
       "      <td>4295 WEBSTER AVENUE; 4K</td>\n",
       "      <td>nan</td>\n",
       "      <td>10470</td>\n",
       "      <td>1</td>\n",
       "      <td>0</td>\n",
       "      <td>1</td>\n",
       "      <td>NaN</td>\n",
       "      <td>NaN</td>\n",
       "      <td>1957</td>\n",
       "      <td>2</td>\n",
       "      <td>D4</td>\n",
       "      <td>114,500.00</td>\n",
       "      <td>2023-03-01</td>\n",
       "    </tr>\n",
       "  </tbody>\n",
       "</table>\n",
       "</div>"
      ],
      "text/plain": [
       "        borough neighborhood         building_class_category  \\\n",
       "1916221       2     WOODLAWN  10 COOPS - ELEVATOR APARTMENTS   \n",
       "1916225       2     WOODLAWN  10 COOPS - ELEVATOR APARTMENTS   \n",
       "1916243       2     WOODLAWN  10 COOPS - ELEVATOR APARTMENTS   \n",
       "1916245       2     WOODLAWN  10 COOPS - ELEVATOR APARTMENTS   \n",
       "1916253       2     WOODLAWN  10 COOPS - ELEVATOR APARTMENTS   \n",
       "\n",
       "        tax_class_at_present block lot easement building_class_at_present  \\\n",
       "1916221                    2  3368  10        n                        D4   \n",
       "1916225                    2  3368  10        n                        D4   \n",
       "1916243                    2  3398  87        n                        D4   \n",
       "1916245                    2  3398  97        n                        D4   \n",
       "1916253                    2  3398  97        n                        D4   \n",
       "\n",
       "                                  address apartment_number  zip_code  \\\n",
       "1916221  4320 VAN CORTLANDT PARK EAST; 4G              nan     10470   \n",
       "1916225  4320 VAN CORTLANDT PARK EAST; 6N              nan     10470   \n",
       "1916243              4315 WEBSTER AVE; 6M              nan     10470   \n",
       "1916245              4295 WEBSTER AVE; 2F              nan     10470   \n",
       "1916253           4295 WEBSTER AVENUE; 4K              nan     10470   \n",
       "\n",
       "         residential_units  commercial_units  total_units  land_square_feet  \\\n",
       "1916221                  1                 0            1               NaN   \n",
       "1916225                  1                 0            1               NaN   \n",
       "1916243                  1                 0            1               NaN   \n",
       "1916245                  1                 0            1               NaN   \n",
       "1916253                  1                 0            1               NaN   \n",
       "\n",
       "         gross_square_feet  year_built tax_class_at_time_of_sale  \\\n",
       "1916221                NaN        1958                         2   \n",
       "1916225                NaN        1958                         2   \n",
       "1916243                NaN        1958                         2   \n",
       "1916245                NaN        1957                         2   \n",
       "1916253                NaN        1957                         2   \n",
       "\n",
       "        building_class_at_time_of_sale           sale_price  sale_date  \n",
       "1916221                             D4           155,000.00 2023-03-03  \n",
       "1916225                             D4           195,000.00 2023-02-15  \n",
       "1916243                             D4           220,000.00 2023-03-09  \n",
       "1916245                             D4           250,000.00 2023-02-02  \n",
       "1916253                             D4           114,500.00 2023-03-01  "
      ]
     },
     "execution_count": 434,
     "metadata": {},
     "output_type": "execute_result"
    }
   ],
   "source": [
    "# Inspect tail of subset I\n",
    "df_nan_land_square.tail()"
   ]
  },
  {
   "cell_type": "code",
   "execution_count": 435,
   "id": "70e74443",
   "metadata": {},
   "outputs": [
    {
     "data": {
      "text/html": [
       "<div>\n",
       "<style scoped>\n",
       "    .dataframe tbody tr th:only-of-type {\n",
       "        vertical-align: middle;\n",
       "    }\n",
       "\n",
       "    .dataframe tbody tr th {\n",
       "        vertical-align: top;\n",
       "    }\n",
       "\n",
       "    .dataframe thead th {\n",
       "        text-align: right;\n",
       "    }\n",
       "</style>\n",
       "<table border=\"1\" class=\"dataframe\">\n",
       "  <thead>\n",
       "    <tr style=\"text-align: right;\">\n",
       "      <th></th>\n",
       "      <th>borough</th>\n",
       "      <th>neighborhood</th>\n",
       "      <th>building_class_category</th>\n",
       "      <th>tax_class_at_present</th>\n",
       "      <th>block</th>\n",
       "      <th>lot</th>\n",
       "      <th>easement</th>\n",
       "      <th>building_class_at_present</th>\n",
       "      <th>address</th>\n",
       "      <th>apartment_number</th>\n",
       "      <th>zip_code</th>\n",
       "      <th>residential_units</th>\n",
       "      <th>commercial_units</th>\n",
       "      <th>total_units</th>\n",
       "      <th>land_square_feet</th>\n",
       "      <th>gross_square_feet</th>\n",
       "      <th>year_built</th>\n",
       "      <th>tax_class_at_time_of_sale</th>\n",
       "      <th>building_class_at_time_of_sale</th>\n",
       "      <th>sale_price</th>\n",
       "      <th>sale_date</th>\n",
       "    </tr>\n",
       "  </thead>\n",
       "  <tbody>\n",
       "    <tr>\n",
       "      <th>1916221</th>\n",
       "      <td>2</td>\n",
       "      <td>WOODLAWN</td>\n",
       "      <td>10 COOPS - ELEVATOR APARTMENTS</td>\n",
       "      <td>2</td>\n",
       "      <td>3368</td>\n",
       "      <td>10</td>\n",
       "      <td>n</td>\n",
       "      <td>D4</td>\n",
       "      <td>4320 VAN CORTLANDT PARK EAST; 4G</td>\n",
       "      <td>nan</td>\n",
       "      <td>10470</td>\n",
       "      <td>1</td>\n",
       "      <td>0</td>\n",
       "      <td>1</td>\n",
       "      <td>NaN</td>\n",
       "      <td>NaN</td>\n",
       "      <td>1958</td>\n",
       "      <td>2</td>\n",
       "      <td>D4</td>\n",
       "      <td>155,000.00</td>\n",
       "      <td>2023-03-03</td>\n",
       "    </tr>\n",
       "    <tr>\n",
       "      <th>1916225</th>\n",
       "      <td>2</td>\n",
       "      <td>WOODLAWN</td>\n",
       "      <td>10 COOPS - ELEVATOR APARTMENTS</td>\n",
       "      <td>2</td>\n",
       "      <td>3368</td>\n",
       "      <td>10</td>\n",
       "      <td>n</td>\n",
       "      <td>D4</td>\n",
       "      <td>4320 VAN CORTLANDT PARK EAST; 6N</td>\n",
       "      <td>nan</td>\n",
       "      <td>10470</td>\n",
       "      <td>1</td>\n",
       "      <td>0</td>\n",
       "      <td>1</td>\n",
       "      <td>NaN</td>\n",
       "      <td>NaN</td>\n",
       "      <td>1958</td>\n",
       "      <td>2</td>\n",
       "      <td>D4</td>\n",
       "      <td>195,000.00</td>\n",
       "      <td>2023-02-15</td>\n",
       "    </tr>\n",
       "    <tr>\n",
       "      <th>1916243</th>\n",
       "      <td>2</td>\n",
       "      <td>WOODLAWN</td>\n",
       "      <td>10 COOPS - ELEVATOR APARTMENTS</td>\n",
       "      <td>2</td>\n",
       "      <td>3398</td>\n",
       "      <td>87</td>\n",
       "      <td>n</td>\n",
       "      <td>D4</td>\n",
       "      <td>4315 WEBSTER AVE; 6M</td>\n",
       "      <td>nan</td>\n",
       "      <td>10470</td>\n",
       "      <td>1</td>\n",
       "      <td>0</td>\n",
       "      <td>1</td>\n",
       "      <td>NaN</td>\n",
       "      <td>NaN</td>\n",
       "      <td>1958</td>\n",
       "      <td>2</td>\n",
       "      <td>D4</td>\n",
       "      <td>220,000.00</td>\n",
       "      <td>2023-03-09</td>\n",
       "    </tr>\n",
       "    <tr>\n",
       "      <th>1916245</th>\n",
       "      <td>2</td>\n",
       "      <td>WOODLAWN</td>\n",
       "      <td>10 COOPS - ELEVATOR APARTMENTS</td>\n",
       "      <td>2</td>\n",
       "      <td>3398</td>\n",
       "      <td>97</td>\n",
       "      <td>n</td>\n",
       "      <td>D4</td>\n",
       "      <td>4295 WEBSTER AVE; 2F</td>\n",
       "      <td>nan</td>\n",
       "      <td>10470</td>\n",
       "      <td>1</td>\n",
       "      <td>0</td>\n",
       "      <td>1</td>\n",
       "      <td>NaN</td>\n",
       "      <td>NaN</td>\n",
       "      <td>1957</td>\n",
       "      <td>2</td>\n",
       "      <td>D4</td>\n",
       "      <td>250,000.00</td>\n",
       "      <td>2023-02-02</td>\n",
       "    </tr>\n",
       "    <tr>\n",
       "      <th>1916253</th>\n",
       "      <td>2</td>\n",
       "      <td>WOODLAWN</td>\n",
       "      <td>10 COOPS - ELEVATOR APARTMENTS</td>\n",
       "      <td>2</td>\n",
       "      <td>3398</td>\n",
       "      <td>97</td>\n",
       "      <td>n</td>\n",
       "      <td>D4</td>\n",
       "      <td>4295 WEBSTER AVENUE; 4K</td>\n",
       "      <td>nan</td>\n",
       "      <td>10470</td>\n",
       "      <td>1</td>\n",
       "      <td>0</td>\n",
       "      <td>1</td>\n",
       "      <td>NaN</td>\n",
       "      <td>NaN</td>\n",
       "      <td>1957</td>\n",
       "      <td>2</td>\n",
       "      <td>D4</td>\n",
       "      <td>114,500.00</td>\n",
       "      <td>2023-03-01</td>\n",
       "    </tr>\n",
       "  </tbody>\n",
       "</table>\n",
       "</div>"
      ],
      "text/plain": [
       "        borough neighborhood         building_class_category  \\\n",
       "1916221       2     WOODLAWN  10 COOPS - ELEVATOR APARTMENTS   \n",
       "1916225       2     WOODLAWN  10 COOPS - ELEVATOR APARTMENTS   \n",
       "1916243       2     WOODLAWN  10 COOPS - ELEVATOR APARTMENTS   \n",
       "1916245       2     WOODLAWN  10 COOPS - ELEVATOR APARTMENTS   \n",
       "1916253       2     WOODLAWN  10 COOPS - ELEVATOR APARTMENTS   \n",
       "\n",
       "        tax_class_at_present block lot easement building_class_at_present  \\\n",
       "1916221                    2  3368  10        n                        D4   \n",
       "1916225                    2  3368  10        n                        D4   \n",
       "1916243                    2  3398  87        n                        D4   \n",
       "1916245                    2  3398  97        n                        D4   \n",
       "1916253                    2  3398  97        n                        D4   \n",
       "\n",
       "                                  address apartment_number  zip_code  \\\n",
       "1916221  4320 VAN CORTLANDT PARK EAST; 4G              nan     10470   \n",
       "1916225  4320 VAN CORTLANDT PARK EAST; 6N              nan     10470   \n",
       "1916243              4315 WEBSTER AVE; 6M              nan     10470   \n",
       "1916245              4295 WEBSTER AVE; 2F              nan     10470   \n",
       "1916253           4295 WEBSTER AVENUE; 4K              nan     10470   \n",
       "\n",
       "         residential_units  commercial_units  total_units  land_square_feet  \\\n",
       "1916221                  1                 0            1               NaN   \n",
       "1916225                  1                 0            1               NaN   \n",
       "1916243                  1                 0            1               NaN   \n",
       "1916245                  1                 0            1               NaN   \n",
       "1916253                  1                 0            1               NaN   \n",
       "\n",
       "         gross_square_feet  year_built tax_class_at_time_of_sale  \\\n",
       "1916221                NaN        1958                         2   \n",
       "1916225                NaN        1958                         2   \n",
       "1916243                NaN        1958                         2   \n",
       "1916245                NaN        1957                         2   \n",
       "1916253                NaN        1957                         2   \n",
       "\n",
       "        building_class_at_time_of_sale           sale_price  sale_date  \n",
       "1916221                             D4           155,000.00 2023-03-03  \n",
       "1916225                             D4           195,000.00 2023-02-15  \n",
       "1916243                             D4           220,000.00 2023-03-09  \n",
       "1916245                             D4           250,000.00 2023-02-02  \n",
       "1916253                             D4           114,500.00 2023-03-01  "
      ]
     },
     "execution_count": 435,
     "metadata": {},
     "output_type": "execute_result"
    }
   ],
   "source": [
    "# Inspect tail of subset II\n",
    "df_nan_gross_square.tail()"
   ]
  },
  {
   "cell_type": "markdown",
   "id": "fbd8f2ce",
   "metadata": {},
   "source": [
    "Rows with missing land and gross square feet are kept as some other columns in those rows contain valuable information. Missing values in land and gross square feet will be imputed with median as both have a highly skewed distribution."
   ]
  },
  {
   "cell_type": "markdown",
   "id": "9f4a5383",
   "metadata": {},
   "source": [
    "## 06.8 Address missing values"
   ]
  },
  {
   "cell_type": "code",
   "execution_count": 436,
   "id": "47feaf69",
   "metadata": {},
   "outputs": [
    {
     "name": "stderr",
     "output_type": "stream",
     "text": [
      "/var/folders/xf/prw7mx913rn2xzxlywvr1_jc0000gn/T/ipykernel_44932/3852708212.py:2: SettingWithCopyWarning: \n",
      "A value is trying to be set on a copy of a slice from a DataFrame\n",
      "\n",
      "See the caveats in the documentation: https://pandas.pydata.org/pandas-docs/stable/user_guide/indexing.html#returning-a-view-versus-a-copy\n",
      "  df_no_dups['land_square_feet'].fillna(df_no_dups['land_square_feet'].median(), inplace=True)\n"
     ]
    }
   ],
   "source": [
    "# Impute missing values in land_square_feet with median\n",
    "df_no_dups['land_square_feet'].fillna(df_no_dups['land_square_feet'].median(), inplace=True)"
   ]
  },
  {
   "cell_type": "code",
   "execution_count": 437,
   "id": "e42363a5",
   "metadata": {},
   "outputs": [
    {
     "name": "stderr",
     "output_type": "stream",
     "text": [
      "/var/folders/xf/prw7mx913rn2xzxlywvr1_jc0000gn/T/ipykernel_44932/3253382794.py:2: SettingWithCopyWarning: \n",
      "A value is trying to be set on a copy of a slice from a DataFrame\n",
      "\n",
      "See the caveats in the documentation: https://pandas.pydata.org/pandas-docs/stable/user_guide/indexing.html#returning-a-view-versus-a-copy\n",
      "  df_no_dups['gross_square_feet'].fillna(df_no_dups['gross_square_feet'].median(), inplace=True)\n"
     ]
    }
   ],
   "source": [
    "# Impute missing values in gross_square_feet with median\n",
    "df_no_dups['gross_square_feet'].fillna(df_no_dups['gross_square_feet'].median(), inplace=True)"
   ]
  },
  {
   "cell_type": "markdown",
   "id": "c59e7ddc",
   "metadata": {},
   "source": [
    "### Check whether missing values were filled"
   ]
  },
  {
   "cell_type": "code",
   "execution_count": 438,
   "id": "d03a2cbc",
   "metadata": {},
   "outputs": [
    {
     "data": {
      "text/plain": [
       "0"
      ]
     },
     "execution_count": 438,
     "metadata": {},
     "output_type": "execute_result"
    }
   ],
   "source": [
    "df_no_dups['land_square_feet'].isna().sum()"
   ]
  },
  {
   "cell_type": "code",
   "execution_count": 439,
   "id": "130b94a5",
   "metadata": {},
   "outputs": [
    {
     "data": {
      "text/plain": [
       "0"
      ]
     },
     "execution_count": 439,
     "metadata": {},
     "output_type": "execute_result"
    }
   ],
   "source": [
    "df_no_dups['gross_square_feet'].isna().sum()"
   ]
  },
  {
   "cell_type": "markdown",
   "id": "812d0446",
   "metadata": {},
   "source": [
    "# 07 Creating flags"
   ]
  },
  {
   "cell_type": "markdown",
   "id": "41990209",
   "metadata": {},
   "source": [
    "## 07.1 Sale prices == 0\n",
    "\n",
    "Cf. information from the NYC Department of Finance:\n",
    "\n",
    "A 0 dollar sale price indicates that there was a transfer of ownership without a cash consideration. There can be a number of reasons for a 0 dollar sale_price including transfers of ownership from parents to children."
   ]
  },
  {
   "cell_type": "code",
   "execution_count": 440,
   "id": "dbff0b04",
   "metadata": {},
   "outputs": [
    {
     "name": "stderr",
     "output_type": "stream",
     "text": [
      "/var/folders/xf/prw7mx913rn2xzxlywvr1_jc0000gn/T/ipykernel_44932/2928222934.py:2: SettingWithCopyWarning: \n",
      "A value is trying to be set on a copy of a slice from a DataFrame.\n",
      "Try using .loc[row_indexer,col_indexer] = value instead\n",
      "\n",
      "See the caveats in the documentation: https://pandas.pydata.org/pandas-docs/stable/user_guide/indexing.html#returning-a-view-versus-a-copy\n",
      "  df_no_dups.loc[df_no_dups['sale_price'] == 0, 'sale_price_flag'] = 'transf_ownership'\n"
     ]
    }
   ],
   "source": [
    "# Flag sale prices that are 0\n",
    "df_no_dups.loc[df_no_dups['sale_price'] == 0, 'sale_price_flag'] = 'transf_ownership'"
   ]
  },
  {
   "cell_type": "code",
   "execution_count": 441,
   "id": "e4bf73b5",
   "metadata": {},
   "outputs": [
    {
     "data": {
      "text/html": [
       "<div>\n",
       "<style scoped>\n",
       "    .dataframe tbody tr th:only-of-type {\n",
       "        vertical-align: middle;\n",
       "    }\n",
       "\n",
       "    .dataframe tbody tr th {\n",
       "        vertical-align: top;\n",
       "    }\n",
       "\n",
       "    .dataframe thead th {\n",
       "        text-align: right;\n",
       "    }\n",
       "</style>\n",
       "<table border=\"1\" class=\"dataframe\">\n",
       "  <thead>\n",
       "    <tr style=\"text-align: right;\">\n",
       "      <th></th>\n",
       "      <th>borough</th>\n",
       "      <th>neighborhood</th>\n",
       "      <th>building_class_category</th>\n",
       "      <th>tax_class_at_present</th>\n",
       "      <th>block</th>\n",
       "      <th>lot</th>\n",
       "      <th>easement</th>\n",
       "      <th>building_class_at_present</th>\n",
       "      <th>address</th>\n",
       "      <th>apartment_number</th>\n",
       "      <th>zip_code</th>\n",
       "      <th>residential_units</th>\n",
       "      <th>commercial_units</th>\n",
       "      <th>total_units</th>\n",
       "      <th>land_square_feet</th>\n",
       "      <th>gross_square_feet</th>\n",
       "      <th>year_built</th>\n",
       "      <th>tax_class_at_time_of_sale</th>\n",
       "      <th>building_class_at_time_of_sale</th>\n",
       "      <th>sale_price</th>\n",
       "      <th>sale_date</th>\n",
       "      <th>sale_price_flag</th>\n",
       "    </tr>\n",
       "  </thead>\n",
       "  <tbody>\n",
       "    <tr>\n",
       "      <th>0</th>\n",
       "      <td>5</td>\n",
       "      <td>ANNADALE</td>\n",
       "      <td>01 ONE FAMILY DWELLINGS</td>\n",
       "      <td>1</td>\n",
       "      <td>5391</td>\n",
       "      <td>7</td>\n",
       "      <td>n</td>\n",
       "      <td>A5</td>\n",
       "      <td>4732 AMBOY ROAD</td>\n",
       "      <td>nan</td>\n",
       "      <td>10312</td>\n",
       "      <td>1</td>\n",
       "      <td>0</td>\n",
       "      <td>1</td>\n",
       "      <td>3,654.00</td>\n",
       "      <td>910.00</td>\n",
       "      <td>2002</td>\n",
       "      <td>1</td>\n",
       "      <td>A5</td>\n",
       "      <td>764,000.00</td>\n",
       "      <td>2022-06-30</td>\n",
       "      <td>NaN</td>\n",
       "    </tr>\n",
       "    <tr>\n",
       "      <th>1</th>\n",
       "      <td>5</td>\n",
       "      <td>ANNADALE</td>\n",
       "      <td>01 ONE FAMILY DWELLINGS</td>\n",
       "      <td>1</td>\n",
       "      <td>5395</td>\n",
       "      <td>4</td>\n",
       "      <td>n</td>\n",
       "      <td>A1</td>\n",
       "      <td>26 EDWIN STREET</td>\n",
       "      <td>nan</td>\n",
       "      <td>10312</td>\n",
       "      <td>1</td>\n",
       "      <td>0</td>\n",
       "      <td>1</td>\n",
       "      <td>7,654.00</td>\n",
       "      <td>2,277.00</td>\n",
       "      <td>1980</td>\n",
       "      <td>1</td>\n",
       "      <td>A1</td>\n",
       "      <td>1,098,000.00</td>\n",
       "      <td>2022-08-19</td>\n",
       "      <td>NaN</td>\n",
       "    </tr>\n",
       "    <tr>\n",
       "      <th>2</th>\n",
       "      <td>5</td>\n",
       "      <td>ANNADALE</td>\n",
       "      <td>01 ONE FAMILY DWELLINGS</td>\n",
       "      <td>1</td>\n",
       "      <td>5395</td>\n",
       "      <td>32</td>\n",
       "      <td>n</td>\n",
       "      <td>A1</td>\n",
       "      <td>541 SYCAMORE STREET</td>\n",
       "      <td>nan</td>\n",
       "      <td>10312</td>\n",
       "      <td>1</td>\n",
       "      <td>0</td>\n",
       "      <td>1</td>\n",
       "      <td>13,320.00</td>\n",
       "      <td>4,696.00</td>\n",
       "      <td>1985</td>\n",
       "      <td>1</td>\n",
       "      <td>A1</td>\n",
       "      <td>0.00</td>\n",
       "      <td>2022-04-20</td>\n",
       "      <td>transf_ownership</td>\n",
       "    </tr>\n",
       "  </tbody>\n",
       "</table>\n",
       "</div>"
      ],
      "text/plain": [
       "  borough neighborhood  building_class_category tax_class_at_present block  \\\n",
       "0       5     ANNADALE  01 ONE FAMILY DWELLINGS                    1  5391   \n",
       "1       5     ANNADALE  01 ONE FAMILY DWELLINGS                    1  5395   \n",
       "2       5     ANNADALE  01 ONE FAMILY DWELLINGS                    1  5395   \n",
       "\n",
       "  lot easement building_class_at_present              address  \\\n",
       "0   7        n                        A5      4732 AMBOY ROAD   \n",
       "1   4        n                        A1      26 EDWIN STREET   \n",
       "2  32        n                        A1  541 SYCAMORE STREET   \n",
       "\n",
       "  apartment_number  zip_code  residential_units  commercial_units  \\\n",
       "0              nan     10312                  1                 0   \n",
       "1              nan     10312                  1                 0   \n",
       "2              nan     10312                  1                 0   \n",
       "\n",
       "   total_units     land_square_feet    gross_square_feet  year_built  \\\n",
       "0            1             3,654.00               910.00        2002   \n",
       "1            1             7,654.00             2,277.00        1980   \n",
       "2            1            13,320.00             4,696.00        1985   \n",
       "\n",
       "  tax_class_at_time_of_sale building_class_at_time_of_sale  \\\n",
       "0                         1                             A5   \n",
       "1                         1                             A1   \n",
       "2                         1                             A1   \n",
       "\n",
       "            sale_price  sale_date   sale_price_flag  \n",
       "0           764,000.00 2022-06-30               NaN  \n",
       "1         1,098,000.00 2022-08-19               NaN  \n",
       "2                 0.00 2022-04-20  transf_ownership  "
      ]
     },
     "execution_count": 441,
     "metadata": {},
     "output_type": "execute_result"
    }
   ],
   "source": [
    "# Check creation of flag column\n",
    "df_no_dups.head(3)"
   ]
  },
  {
   "cell_type": "code",
   "execution_count": 442,
   "id": "6495457b",
   "metadata": {},
   "outputs": [
    {
     "data": {
      "text/plain": [
       "True"
      ]
     },
     "execution_count": 442,
     "metadata": {},
     "output_type": "execute_result"
    }
   ],
   "source": [
    "# Check correct creation of flag\n",
    "(df_no_dups[df_no_dups['sale_price'] == 0].value_counts().sum()) == (df_no_dups[df_no_dups['sale_price_flag'] == 'transf_ownership'].value_counts().sum())"
   ]
  },
  {
   "cell_type": "markdown",
   "id": "ee52d3c1",
   "metadata": {},
   "source": [
    "## 07.2 Imputing borough names"
   ]
  },
  {
   "cell_type": "code",
   "execution_count": 443,
   "id": "0ba903a3",
   "metadata": {},
   "outputs": [],
   "source": [
    "# Rename column borough\n",
    "df_no_dups = df_no_dups.rename(columns={'borough': 'borough_code'})"
   ]
  },
  {
   "cell_type": "code",
   "execution_count": 444,
   "id": "f06c2f23",
   "metadata": {},
   "outputs": [
    {
     "data": {
      "text/html": [
       "<div>\n",
       "<style scoped>\n",
       "    .dataframe tbody tr th:only-of-type {\n",
       "        vertical-align: middle;\n",
       "    }\n",
       "\n",
       "    .dataframe tbody tr th {\n",
       "        vertical-align: top;\n",
       "    }\n",
       "\n",
       "    .dataframe thead th {\n",
       "        text-align: right;\n",
       "    }\n",
       "</style>\n",
       "<table border=\"1\" class=\"dataframe\">\n",
       "  <thead>\n",
       "    <tr style=\"text-align: right;\">\n",
       "      <th></th>\n",
       "      <th>borough_code</th>\n",
       "      <th>neighborhood</th>\n",
       "      <th>building_class_category</th>\n",
       "      <th>tax_class_at_present</th>\n",
       "      <th>block</th>\n",
       "      <th>lot</th>\n",
       "      <th>easement</th>\n",
       "      <th>building_class_at_present</th>\n",
       "      <th>address</th>\n",
       "      <th>apartment_number</th>\n",
       "      <th>zip_code</th>\n",
       "      <th>residential_units</th>\n",
       "      <th>commercial_units</th>\n",
       "      <th>total_units</th>\n",
       "      <th>land_square_feet</th>\n",
       "      <th>gross_square_feet</th>\n",
       "      <th>year_built</th>\n",
       "      <th>tax_class_at_time_of_sale</th>\n",
       "      <th>building_class_at_time_of_sale</th>\n",
       "      <th>sale_price</th>\n",
       "      <th>sale_date</th>\n",
       "      <th>sale_price_flag</th>\n",
       "    </tr>\n",
       "  </thead>\n",
       "  <tbody>\n",
       "    <tr>\n",
       "      <th>0</th>\n",
       "      <td>5</td>\n",
       "      <td>ANNADALE</td>\n",
       "      <td>01 ONE FAMILY DWELLINGS</td>\n",
       "      <td>1</td>\n",
       "      <td>5391</td>\n",
       "      <td>7</td>\n",
       "      <td>n</td>\n",
       "      <td>A5</td>\n",
       "      <td>4732 AMBOY ROAD</td>\n",
       "      <td>nan</td>\n",
       "      <td>10312</td>\n",
       "      <td>1</td>\n",
       "      <td>0</td>\n",
       "      <td>1</td>\n",
       "      <td>3,654.00</td>\n",
       "      <td>910.00</td>\n",
       "      <td>2002</td>\n",
       "      <td>1</td>\n",
       "      <td>A5</td>\n",
       "      <td>764,000.00</td>\n",
       "      <td>2022-06-30</td>\n",
       "      <td>NaN</td>\n",
       "    </tr>\n",
       "    <tr>\n",
       "      <th>1</th>\n",
       "      <td>5</td>\n",
       "      <td>ANNADALE</td>\n",
       "      <td>01 ONE FAMILY DWELLINGS</td>\n",
       "      <td>1</td>\n",
       "      <td>5395</td>\n",
       "      <td>4</td>\n",
       "      <td>n</td>\n",
       "      <td>A1</td>\n",
       "      <td>26 EDWIN STREET</td>\n",
       "      <td>nan</td>\n",
       "      <td>10312</td>\n",
       "      <td>1</td>\n",
       "      <td>0</td>\n",
       "      <td>1</td>\n",
       "      <td>7,654.00</td>\n",
       "      <td>2,277.00</td>\n",
       "      <td>1980</td>\n",
       "      <td>1</td>\n",
       "      <td>A1</td>\n",
       "      <td>1,098,000.00</td>\n",
       "      <td>2022-08-19</td>\n",
       "      <td>NaN</td>\n",
       "    </tr>\n",
       "  </tbody>\n",
       "</table>\n",
       "</div>"
      ],
      "text/plain": [
       "  borough_code neighborhood  building_class_category tax_class_at_present  \\\n",
       "0            5     ANNADALE  01 ONE FAMILY DWELLINGS                    1   \n",
       "1            5     ANNADALE  01 ONE FAMILY DWELLINGS                    1   \n",
       "\n",
       "  block lot easement building_class_at_present          address  \\\n",
       "0  5391   7        n                        A5  4732 AMBOY ROAD   \n",
       "1  5395   4        n                        A1  26 EDWIN STREET   \n",
       "\n",
       "  apartment_number  zip_code  residential_units  commercial_units  \\\n",
       "0              nan     10312                  1                 0   \n",
       "1              nan     10312                  1                 0   \n",
       "\n",
       "   total_units     land_square_feet    gross_square_feet  year_built  \\\n",
       "0            1             3,654.00               910.00        2002   \n",
       "1            1             7,654.00             2,277.00        1980   \n",
       "\n",
       "  tax_class_at_time_of_sale building_class_at_time_of_sale  \\\n",
       "0                         1                             A5   \n",
       "1                         1                             A1   \n",
       "\n",
       "            sale_price  sale_date sale_price_flag  \n",
       "0           764,000.00 2022-06-30             NaN  \n",
       "1         1,098,000.00 2022-08-19             NaN  "
      ]
     },
     "execution_count": 444,
     "metadata": {},
     "output_type": "execute_result"
    }
   ],
   "source": [
    "# Check renaming\n",
    "df_no_dups.head(2)"
   ]
  },
  {
   "cell_type": "code",
   "execution_count": 445,
   "id": "b7ee15d1",
   "metadata": {},
   "outputs": [],
   "source": [
    "# Create column with borough name\n",
    "df_no_dups.loc[df_no_dups['borough_code'] == '1', 'borough_name'] = 'Manhattan'\n",
    "df_no_dups.loc[df_no_dups['borough_code'] == '2', 'borough_name'] = 'Bronx'\n",
    "df_no_dups.loc[df_no_dups['borough_code'] == '3', 'borough_name'] = 'Brooklyn'\n",
    "df_no_dups.loc[df_no_dups['borough_code'] == '4', 'borough_name'] = 'Queens'\n",
    "df_no_dups.loc[df_no_dups['borough_code'] == '5', 'borough_name'] = 'Staten Island'"
   ]
  },
  {
   "cell_type": "code",
   "execution_count": 446,
   "id": "40b30926",
   "metadata": {},
   "outputs": [
    {
     "data": {
      "text/html": [
       "<div>\n",
       "<style scoped>\n",
       "    .dataframe tbody tr th:only-of-type {\n",
       "        vertical-align: middle;\n",
       "    }\n",
       "\n",
       "    .dataframe tbody tr th {\n",
       "        vertical-align: top;\n",
       "    }\n",
       "\n",
       "    .dataframe thead th {\n",
       "        text-align: right;\n",
       "    }\n",
       "</style>\n",
       "<table border=\"1\" class=\"dataframe\">\n",
       "  <thead>\n",
       "    <tr style=\"text-align: right;\">\n",
       "      <th></th>\n",
       "      <th>borough_code</th>\n",
       "      <th>neighborhood</th>\n",
       "      <th>building_class_category</th>\n",
       "      <th>tax_class_at_present</th>\n",
       "      <th>block</th>\n",
       "      <th>lot</th>\n",
       "      <th>easement</th>\n",
       "      <th>building_class_at_present</th>\n",
       "      <th>address</th>\n",
       "      <th>apartment_number</th>\n",
       "      <th>zip_code</th>\n",
       "      <th>residential_units</th>\n",
       "      <th>commercial_units</th>\n",
       "      <th>total_units</th>\n",
       "      <th>land_square_feet</th>\n",
       "      <th>gross_square_feet</th>\n",
       "      <th>year_built</th>\n",
       "      <th>tax_class_at_time_of_sale</th>\n",
       "      <th>building_class_at_time_of_sale</th>\n",
       "      <th>sale_price</th>\n",
       "      <th>sale_date</th>\n",
       "      <th>sale_price_flag</th>\n",
       "      <th>borough_name</th>\n",
       "    </tr>\n",
       "  </thead>\n",
       "  <tbody>\n",
       "    <tr>\n",
       "      <th>0</th>\n",
       "      <td>5</td>\n",
       "      <td>ANNADALE</td>\n",
       "      <td>01 ONE FAMILY DWELLINGS</td>\n",
       "      <td>1</td>\n",
       "      <td>5391</td>\n",
       "      <td>7</td>\n",
       "      <td>n</td>\n",
       "      <td>A5</td>\n",
       "      <td>4732 AMBOY ROAD</td>\n",
       "      <td>nan</td>\n",
       "      <td>10312</td>\n",
       "      <td>1</td>\n",
       "      <td>0</td>\n",
       "      <td>1</td>\n",
       "      <td>3,654.00</td>\n",
       "      <td>910.00</td>\n",
       "      <td>2002</td>\n",
       "      <td>1</td>\n",
       "      <td>A5</td>\n",
       "      <td>764,000.00</td>\n",
       "      <td>2022-06-30</td>\n",
       "      <td>NaN</td>\n",
       "      <td>Staten Island</td>\n",
       "    </tr>\n",
       "    <tr>\n",
       "      <th>1</th>\n",
       "      <td>5</td>\n",
       "      <td>ANNADALE</td>\n",
       "      <td>01 ONE FAMILY DWELLINGS</td>\n",
       "      <td>1</td>\n",
       "      <td>5395</td>\n",
       "      <td>4</td>\n",
       "      <td>n</td>\n",
       "      <td>A1</td>\n",
       "      <td>26 EDWIN STREET</td>\n",
       "      <td>nan</td>\n",
       "      <td>10312</td>\n",
       "      <td>1</td>\n",
       "      <td>0</td>\n",
       "      <td>1</td>\n",
       "      <td>7,654.00</td>\n",
       "      <td>2,277.00</td>\n",
       "      <td>1980</td>\n",
       "      <td>1</td>\n",
       "      <td>A1</td>\n",
       "      <td>1,098,000.00</td>\n",
       "      <td>2022-08-19</td>\n",
       "      <td>NaN</td>\n",
       "      <td>Staten Island</td>\n",
       "    </tr>\n",
       "    <tr>\n",
       "      <th>2</th>\n",
       "      <td>5</td>\n",
       "      <td>ANNADALE</td>\n",
       "      <td>01 ONE FAMILY DWELLINGS</td>\n",
       "      <td>1</td>\n",
       "      <td>5395</td>\n",
       "      <td>32</td>\n",
       "      <td>n</td>\n",
       "      <td>A1</td>\n",
       "      <td>541 SYCAMORE STREET</td>\n",
       "      <td>nan</td>\n",
       "      <td>10312</td>\n",
       "      <td>1</td>\n",
       "      <td>0</td>\n",
       "      <td>1</td>\n",
       "      <td>13,320.00</td>\n",
       "      <td>4,696.00</td>\n",
       "      <td>1985</td>\n",
       "      <td>1</td>\n",
       "      <td>A1</td>\n",
       "      <td>0.00</td>\n",
       "      <td>2022-04-20</td>\n",
       "      <td>transf_ownership</td>\n",
       "      <td>Staten Island</td>\n",
       "    </tr>\n",
       "  </tbody>\n",
       "</table>\n",
       "</div>"
      ],
      "text/plain": [
       "  borough_code neighborhood  building_class_category tax_class_at_present  \\\n",
       "0            5     ANNADALE  01 ONE FAMILY DWELLINGS                    1   \n",
       "1            5     ANNADALE  01 ONE FAMILY DWELLINGS                    1   \n",
       "2            5     ANNADALE  01 ONE FAMILY DWELLINGS                    1   \n",
       "\n",
       "  block lot easement building_class_at_present              address  \\\n",
       "0  5391   7        n                        A5      4732 AMBOY ROAD   \n",
       "1  5395   4        n                        A1      26 EDWIN STREET   \n",
       "2  5395  32        n                        A1  541 SYCAMORE STREET   \n",
       "\n",
       "  apartment_number  zip_code  residential_units  commercial_units  \\\n",
       "0              nan     10312                  1                 0   \n",
       "1              nan     10312                  1                 0   \n",
       "2              nan     10312                  1                 0   \n",
       "\n",
       "   total_units     land_square_feet    gross_square_feet  year_built  \\\n",
       "0            1             3,654.00               910.00        2002   \n",
       "1            1             7,654.00             2,277.00        1980   \n",
       "2            1            13,320.00             4,696.00        1985   \n",
       "\n",
       "  tax_class_at_time_of_sale building_class_at_time_of_sale  \\\n",
       "0                         1                             A5   \n",
       "1                         1                             A1   \n",
       "2                         1                             A1   \n",
       "\n",
       "            sale_price  sale_date   sale_price_flag   borough_name  \n",
       "0           764,000.00 2022-06-30               NaN  Staten Island  \n",
       "1         1,098,000.00 2022-08-19               NaN  Staten Island  \n",
       "2                 0.00 2022-04-20  transf_ownership  Staten Island  "
      ]
     },
     "execution_count": 446,
     "metadata": {},
     "output_type": "execute_result"
    }
   ],
   "source": [
    "# Check creation of borough name column\n",
    "df_no_dups.head(3)"
   ]
  },
  {
   "cell_type": "code",
   "execution_count": 447,
   "id": "440974ce",
   "metadata": {},
   "outputs": [
    {
     "data": {
      "text/plain": [
       "True"
      ]
     },
     "execution_count": 447,
     "metadata": {},
     "output_type": "execute_result"
    }
   ],
   "source": [
    "# Check correct creation of borogh name column for Manhattan\n",
    "(df_no_dups[df_no_dups['borough_code'] == '1'].value_counts().sum()) == (df_no_dups[df_no_dups['borough_name'] == 'Manhattan'].value_counts().sum())"
   ]
  },
  {
   "cell_type": "code",
   "execution_count": 448,
   "id": "f79d296e",
   "metadata": {},
   "outputs": [
    {
     "data": {
      "text/plain": [
       "True"
      ]
     },
     "execution_count": 448,
     "metadata": {},
     "output_type": "execute_result"
    }
   ],
   "source": [
    "# Check correct creation of borogh name column for Bronx\n",
    "(df_no_dups[df_no_dups['borough_code'] == '2'].value_counts().sum()) == (df_no_dups[df_no_dups['borough_name'] == 'Bronx'].value_counts().sum())"
   ]
  },
  {
   "cell_type": "code",
   "execution_count": 449,
   "id": "861fbec5",
   "metadata": {},
   "outputs": [
    {
     "data": {
      "text/plain": [
       "True"
      ]
     },
     "execution_count": 449,
     "metadata": {},
     "output_type": "execute_result"
    }
   ],
   "source": [
    "# Check correct creation of borogh name column for Brooklyn\n",
    "(df_no_dups[df_no_dups['borough_code'] == '3'].value_counts().sum()) == (df_no_dups[df_no_dups['borough_name'] == 'Brooklyn'].value_counts().sum())"
   ]
  },
  {
   "cell_type": "code",
   "execution_count": 450,
   "id": "15460d84",
   "metadata": {},
   "outputs": [
    {
     "data": {
      "text/plain": [
       "True"
      ]
     },
     "execution_count": 450,
     "metadata": {},
     "output_type": "execute_result"
    }
   ],
   "source": [
    "# Check correct creation of borogh name column for Queens\n",
    "(df_no_dups[df_no_dups['borough_code'] == '4'].value_counts().sum()) == (df_no_dups[df_no_dups['borough_name'] == 'Queens'].value_counts().sum())"
   ]
  },
  {
   "cell_type": "code",
   "execution_count": 451,
   "id": "9bd24364",
   "metadata": {},
   "outputs": [
    {
     "data": {
      "text/plain": [
       "True"
      ]
     },
     "execution_count": 451,
     "metadata": {},
     "output_type": "execute_result"
    }
   ],
   "source": [
    "# Check correct creation of borogh name column for Staten Island\n",
    "(df_no_dups[df_no_dups['borough_code'] == '5'].value_counts().sum()) == (df_no_dups[df_no_dups['borough_name'] == 'Staten Island'].value_counts().sum())"
   ]
  },
  {
   "cell_type": "code",
   "execution_count": 452,
   "id": "2a5a22f0",
   "metadata": {},
   "outputs": [
    {
     "data": {
      "text/plain": [
       "0"
      ]
     },
     "execution_count": 452,
     "metadata": {},
     "output_type": "execute_result"
    }
   ],
   "source": [
    "# Check for NaN in borough name\n",
    "df_no_dups['borough_name'].isna().sum()"
   ]
  },
  {
   "cell_type": "code",
   "execution_count": 453,
   "id": "9133af35",
   "metadata": {},
   "outputs": [
    {
     "name": "stdout",
     "output_type": "stream",
     "text": [
      "sale_price_flag\n"
     ]
    }
   ],
   "source": [
    "# Double-check for mixed-type columns in df_no_dups\n",
    "for col in df_no_dups.columns.tolist():\n",
    "  weird = (df_no_dups[[col]].applymap(type) != df_no_dups[[col]].iloc[0].apply(type)).any(axis = 1)\n",
    "  if len (df_no_dups[weird]) > 0:\n",
    "    print (col)"
   ]
  },
  {
   "cell_type": "code",
   "execution_count": 454,
   "id": "fa7aaae3",
   "metadata": {},
   "outputs": [],
   "source": [
    "# Convert sale_price_flag to str\n",
    "df_no_dups['sale_price_flag'] = df_no_dups['sale_price_flag'].astype('str')"
   ]
  },
  {
   "cell_type": "code",
   "execution_count": 455,
   "id": "37c67f46",
   "metadata": {},
   "outputs": [],
   "source": [
    "# Double-check for mixed-type columns in df_no_dups again\n",
    "for col in df_no_dups.columns.tolist():\n",
    "  weird = (df_no_dups[[col]].applymap(type) != df_no_dups[[col]].iloc[0].apply(type)).any(axis = 1)\n",
    "  if len (df_no_dups[weird]) > 0:\n",
    "    print (col)"
   ]
  },
  {
   "cell_type": "code",
   "execution_count": 456,
   "id": "711b32b6",
   "metadata": {},
   "outputs": [
    {
     "name": "stdout",
     "output_type": "stream",
     "text": [
      "<class 'pandas.core.frame.DataFrame'>\n",
      "Int64Index: 1837640 entries, 0 to 1916259\n",
      "Data columns (total 23 columns):\n",
      " #   Column                          Dtype         \n",
      "---  ------                          -----         \n",
      " 0   borough_code                    object        \n",
      " 1   neighborhood                    object        \n",
      " 2   building_class_category         object        \n",
      " 3   tax_class_at_present            object        \n",
      " 4   block                           object        \n",
      " 5   lot                             object        \n",
      " 6   easement                        object        \n",
      " 7   building_class_at_present       object        \n",
      " 8   address                         object        \n",
      " 9   apartment_number                object        \n",
      " 10  zip_code                        int64         \n",
      " 11  residential_units               int64         \n",
      " 12  commercial_units                int64         \n",
      " 13  total_units                     int64         \n",
      " 14  land_square_feet                float64       \n",
      " 15  gross_square_feet               float64       \n",
      " 16  year_built                      int64         \n",
      " 17  tax_class_at_time_of_sale       object        \n",
      " 18  building_class_at_time_of_sale  object        \n",
      " 19  sale_price                      float64       \n",
      " 20  sale_date                       datetime64[ns]\n",
      " 21  sale_price_flag                 object        \n",
      " 22  borough_name                    object        \n",
      "dtypes: datetime64[ns](1), float64(3), int64(5), object(14)\n",
      "memory usage: 336.5+ MB\n"
     ]
    }
   ],
   "source": [
    "df_no_dups.info()"
   ]
  },
  {
   "cell_type": "markdown",
   "id": "70663733",
   "metadata": {},
   "source": [
    "# 08 Data consistency checks"
   ]
  },
  {
   "cell_type": "code",
   "execution_count": 457,
   "id": "eb13c559",
   "metadata": {},
   "outputs": [
    {
     "data": {
      "text/plain": [
       "4    573572\n",
       "3    514912\n",
       "1    427278\n",
       "5    170192\n",
       "2    151686\n",
       "Name: borough_code, dtype: int64"
      ]
     },
     "execution_count": 457,
     "metadata": {},
     "output_type": "execute_result"
    }
   ],
   "source": [
    "# Unique values in borough_code\n",
    "df_no_dups['borough_code'].value_counts(dropna=False)"
   ]
  },
  {
   "cell_type": "code",
   "execution_count": 458,
   "id": "6dd053e0",
   "metadata": {},
   "outputs": [
    {
     "data": {
      "text/plain": [
       "MIDTOWN WEST                 51353\n",
       "FLUSHING-NORTH               38662\n",
       "UPPER EAST SIDE (59-79)      29724\n",
       "UPPER WEST SIDE (59-79)      27378\n",
       "BEDFORD STUYVESANT           25908\n",
       "                             ...  \n",
       "EAST RIVER                       2\n",
       "PELHAM BAY                       2\n",
       "3004                             2\n",
       "3019                             1\n",
       "1021                             1\n",
       "Name: neighborhood, Length: 516, dtype: int64"
      ]
     },
     "execution_count": 458,
     "metadata": {},
     "output_type": "execute_result"
    }
   ],
   "source": [
    "# Unique values in neighborhood\n",
    "df_no_dups['neighborhood'].value_counts(dropna=False)"
   ]
  },
  {
   "cell_type": "code",
   "execution_count": 459,
   "id": "54d1d258",
   "metadata": {},
   "outputs": [
    {
     "data": {
      "text/plain": [
       "01  ONE FAMILY HOMES                            207756\n",
       "02  TWO FAMILY HOMES                            192213\n",
       "10  COOPS - ELEVATOR APARTMENTS                 192181\n",
       "13  CONDOS - ELEVATOR APARTMENTS                177206\n",
       "01 ONE FAMILY DWELLINGS                         105143\n",
       "                                                 ...  \n",
       "40 SELECTED GOVERNMENTAL FACILITIES                  5\n",
       "39 TRANSPORTATION FACILITIES                         4\n",
       "40 SELECTED GOVERNMENTAL FACILITIES                  3\n",
       "39 TRANSPORTATION FACILITIES                         3\n",
       "11 SPECIAL CONDO BILLING LOTS                        1\n",
       "Name: building_class_category, Length: 145, dtype: int64"
      ]
     },
     "execution_count": 459,
     "metadata": {},
     "output_type": "execute_result"
    }
   ],
   "source": [
    "# Unique values in building_class_category\n",
    "df_no_dups['building_class_category'].value_counts(dropna=False)"
   ]
  },
  {
   "cell_type": "code",
   "execution_count": 460,
   "id": "3bfaeb65",
   "metadata": {},
   "outputs": [
    {
     "data": {
      "text/plain": [
       "1      862920\n",
       "2      635885\n",
       "4      155892\n",
       "2A      56813\n",
       "2C      36147\n",
       "1A      29433\n",
       "2B      18948\n",
       "1B      18620\n",
       "        17004\n",
       "1C       2567\n",
       "         1979\n",
       "1D        922\n",
       "nan       391\n",
       "3         119\n",
       "Name: tax_class_at_present, dtype: int64"
      ]
     },
     "execution_count": 460,
     "metadata": {},
     "output_type": "execute_result"
    }
   ],
   "source": [
    "# Unique values in tax_class_at_present\n",
    "df_no_dups['tax_class_at_present'].value_counts(dropna=False)"
   ]
  },
  {
   "cell_type": "code",
   "execution_count": 461,
   "id": "2ed0a624",
   "metadata": {},
   "outputs": [
    {
     "data": {
      "text/plain": [
       "1027     17823\n",
       "1009     10515\n",
       "1006      8523\n",
       "1171      5967\n",
       "16        4904\n",
       "         ...  \n",
       "16006        1\n",
       "16330        1\n",
       "9364         1\n",
       "7068         1\n",
       "4279         1\n",
       "Name: block, Length: 13628, dtype: int64"
      ]
     },
     "execution_count": 461,
     "metadata": {},
     "output_type": "execute_result"
    }
   ],
   "source": [
    "# Unique values in block\n",
    "df_no_dups['block'].value_counts(dropna=False)"
   ]
  },
  {
   "cell_type": "code",
   "execution_count": 462,
   "id": "4ad5c3a4",
   "metadata": {},
   "outputs": [
    {
     "data": {
      "text/plain": [
       "1       84687\n",
       "37      26652\n",
       "20      21060\n",
       "12      21037\n",
       "23      21002\n",
       "        ...  \n",
       "5774        1\n",
       "5129        1\n",
       "6103        1\n",
       "6117        1\n",
       "4963        1\n",
       "Name: lot, Length: 5888, dtype: int64"
      ]
     },
     "execution_count": 462,
     "metadata": {},
     "output_type": "execute_result"
    }
   ],
   "source": [
    "# Unique values in lot\n",
    "df_no_dups['lot'].value_counts(dropna=False)"
   ]
  },
  {
   "cell_type": "code",
   "execution_count": 463,
   "id": "4a84190d",
   "metadata": {},
   "outputs": [
    {
     "data": {
      "text/plain": [
       "     1404644\n",
       "n     432983\n",
       "E         13\n",
       "Name: easement, dtype: int64"
      ]
     },
     "execution_count": 463,
     "metadata": {},
     "output_type": "execute_result"
    }
   ],
   "source": [
    "# Unique values in easement\n",
    "df_no_dups['easement'].value_counts(dropna=False)"
   ]
  },
  {
   "cell_type": "code",
   "execution_count": 464,
   "id": "47048c39",
   "metadata": {},
   "outputs": [
    {
     "data": {
      "text/plain": [
       "D4    269286\n",
       "R4    244721\n",
       "A1    149540\n",
       "A5    121576\n",
       "B2    111693\n",
       "       ...  \n",
       "P4         2\n",
       "Y7         2\n",
       "I2         2\n",
       "CM         1\n",
       "U5         1\n",
       "Name: building_class_at_present, Length: 216, dtype: int64"
      ]
     },
     "execution_count": 464,
     "metadata": {},
     "output_type": "execute_result"
    }
   ],
   "source": [
    "# Unique values in building_class_at_present\n",
    "df_no_dups['building_class_at_present'].value_counts(dropna=False)"
   ]
  },
  {
   "cell_type": "code",
   "execution_count": 465,
   "id": "8ba49bcc",
   "metadata": {},
   "outputs": [
    {
     "data": {
      "text/plain": [
       "870 7 AVENUE                                 13510\n",
       "102 WEST 57TH STREET                          7496\n",
       "1335 AVENUE OF THE AMERIC                     3431\n",
       "200 WEST 56TH   STREET                        2705\n",
       "1335 6 AVENUE                                 2699\n",
       "                                             ...  \n",
       "80-51 233 STREET                                 1\n",
       "80-34 235TH   STREET                             1\n",
       "236-07 SEWARD AVE                                1\n",
       "234-08 SEWARD AVENUE                             1\n",
       "4295 WEBSTER AVE; 2F                             1\n",
       "Name: address, Length: 1206966, dtype: int64"
      ]
     },
     "execution_count": 465,
     "metadata": {},
     "output_type": "execute_result"
    }
   ],
   "source": [
    "# Unique values in address\n",
    "df_no_dups['address'].value_counts(dropna=False)"
   ]
  },
  {
   "cell_type": "code",
   "execution_count": 466,
   "id": "e2bcd80e",
   "metadata": {},
   "outputs": [
    {
     "data": {
      "text/plain": [
       "                1031279\n",
       "nan              345595\n",
       "                  69440\n",
       "TIMES              6614\n",
       "4                  5351\n",
       "                 ...   \n",
       "36 B                  1\n",
       "PH-AS                 1\n",
       "28 B                  1\n",
       "3RS                   1\n",
       "913A                  1\n",
       "Name: apartment_number, Length: 29370, dtype: int64"
      ]
     },
     "execution_count": 466,
     "metadata": {},
     "output_type": "execute_result"
    }
   ],
   "source": [
    "# Unique values in apartment_number\n",
    "df_no_dups['apartment_number'].value_counts(dropna=False)"
   ]
  },
  {
   "cell_type": "code",
   "execution_count": 467,
   "id": "90ba29f5",
   "metadata": {},
   "outputs": [
    {
     "data": {
      "text/plain": [
       "10019    54970\n",
       "10314    30459\n",
       "10023    28267\n",
       "11234    24841\n",
       "11375    24498\n",
       "         ...  \n",
       "10281        1\n",
       "11452        1\n",
       "11359        1\n",
       "11315        1\n",
       "10436        1\n",
       "Name: zip_code, Length: 248, dtype: int64"
      ]
     },
     "execution_count": 467,
     "metadata": {},
     "output_type": "execute_result"
    }
   ],
   "source": [
    "# Unique values in zip_code\n",
    "df_no_dups['zip_code'].value_counts(dropna=False)"
   ]
  },
  {
   "cell_type": "code",
   "execution_count": 468,
   "id": "b7c574b0",
   "metadata": {},
   "outputs": [
    {
     "data": {
      "text/plain": [
       "0       171904\n",
       "1920    138609\n",
       "1930    113022\n",
       "1925     98003\n",
       "1910     77412\n",
       "         ...  \n",
       "220          1\n",
       "1821         1\n",
       "1867         1\n",
       "1802         1\n",
       "1648         1\n",
       "Name: year_built, Length: 214, dtype: int64"
      ]
     },
     "execution_count": 468,
     "metadata": {},
     "output_type": "execute_result"
    }
   ],
   "source": [
    "# Unique values in year_built\n",
    "df_no_dups['year_built'].value_counts(dropna=False)"
   ]
  },
  {
   "cell_type": "code",
   "execution_count": 469,
   "id": "a3e98c26",
   "metadata": {},
   "outputs": [
    {
     "data": {
      "text/plain": [
       "1    922697\n",
       "2    752320\n",
       "4    162464\n",
       "3       159\n",
       "Name: tax_class_at_time_of_sale, dtype: int64"
      ]
     },
     "execution_count": 469,
     "metadata": {},
     "output_type": "execute_result"
    }
   ],
   "source": [
    "# Unique values in tax_class_at_time_of_sale\n",
    "df_no_dups['tax_class_at_time_of_sale'].value_counts(dropna=False)"
   ]
  },
  {
   "cell_type": "code",
   "execution_count": 470,
   "id": "59913b1a",
   "metadata": {},
   "outputs": [
    {
     "data": {
      "text/plain": [
       "D4    269559\n",
       "R4    247787\n",
       "A1    151673\n",
       "A5    121398\n",
       "B2    110206\n",
       "       ...  \n",
       "Y7         2\n",
       "N3         2\n",
       "CM         1\n",
       "Y9         1\n",
       "Y5         1\n",
       "Name: building_class_at_time_of_sale, Length: 215, dtype: int64"
      ]
     },
     "execution_count": 470,
     "metadata": {},
     "output_type": "execute_result"
    }
   ],
   "source": [
    "# Unique values in building_class_at_time_of_sale\n",
    "df_no_dups['building_class_at_time_of_sale'].value_counts(dropna=False)"
   ]
  },
  {
   "cell_type": "code",
   "execution_count": 471,
   "id": "c0f77909",
   "metadata": {},
   "outputs": [
    {
     "data": {
      "text/plain": [
       "2006-08-31    1629\n",
       "2003-02-20    1203\n",
       "2008-10-02     991\n",
       "2012-09-27     980\n",
       "2004-06-30     880\n",
       "              ... \n",
       "2020-04-19       1\n",
       "2016-11-27       1\n",
       "2017-06-04       1\n",
       "2019-10-13       1\n",
       "2020-07-05       1\n",
       "Name: sale_date, Length: 7393, dtype: int64"
      ]
     },
     "execution_count": 471,
     "metadata": {},
     "output_type": "execute_result"
    }
   ],
   "source": [
    "# Unique values in sale_date\n",
    "df_no_dups['sale_date'].value_counts(dropna=False)"
   ]
  },
  {
   "cell_type": "code",
   "execution_count": 472,
   "id": "4cf4cd53",
   "metadata": {},
   "outputs": [
    {
     "data": {
      "text/plain": [
       "1       788788\n",
       "0       464203\n",
       "2       370056\n",
       "3       109541\n",
       "4        29907\n",
       "         ...  \n",
       "550          1\n",
       "399          1\n",
       "1328         1\n",
       "635          1\n",
       "2039         1\n",
       "Name: residential_units, Length: 520, dtype: int64"
      ]
     },
     "execution_count": 472,
     "metadata": {},
     "output_type": "execute_result"
    }
   ],
   "source": [
    "# Unique values in residential_units\n",
    "df_no_dups['residential_units'].value_counts(dropna=False)"
   ]
  },
  {
   "cell_type": "code",
   "execution_count": 473,
   "id": "a439558f",
   "metadata": {},
   "outputs": [
    {
     "data": {
      "text/plain": [
       "0      1664927\n",
       "1       127399\n",
       "2        26771\n",
       "3         6327\n",
       "4         3383\n",
       "        ...   \n",
       "153          1\n",
       "730          1\n",
       "80           1\n",
       "92           1\n",
       "390          1\n",
       "Name: commercial_units, Length: 196, dtype: int64"
      ]
     },
     "execution_count": 473,
     "metadata": {},
     "output_type": "execute_result"
    }
   ],
   "source": [
    "# Unique values in commercial_units\n",
    "df_no_dups['commercial_units'].value_counts(dropna=False)"
   ]
  },
  {
   "cell_type": "code",
   "execution_count": 474,
   "id": "aea50433",
   "metadata": {},
   "outputs": [
    {
     "data": {
      "text/plain": [
       "1       877261\n",
       "2       373544\n",
       "0       336570\n",
       "3       128385\n",
       "4        32598\n",
       "         ...  \n",
       "551          1\n",
       "361          1\n",
       "955          1\n",
       "1091         1\n",
       "2039         1\n",
       "Name: total_units, Length: 547, dtype: int64"
      ]
     },
     "execution_count": 474,
     "metadata": {},
     "output_type": "execute_result"
    }
   ],
   "source": [
    "# Unique values in total_units\n",
    "df_no_dups['total_units'].value_counts(dropna=False)"
   ]
  },
  {
   "cell_type": "code",
   "execution_count": 475,
   "id": "b368835e",
   "metadata": {},
   "outputs": [
    {
     "data": {
      "text/plain": [
       "     0.00    638569\n",
       " 1,975.00    117150\n",
       " 2,000.00     86529\n",
       " 2,500.00     79017\n",
       " 4,000.00     64536\n",
       "              ...  \n",
       "23,294.00         1\n",
       "53,654.00         1\n",
       "29,107.00         1\n",
       "26,403.00         1\n",
       "28,165.00         1\n",
       "Name: land_square_feet, Length: 20159, dtype: int64"
      ]
     },
     "execution_count": 475,
     "metadata": {},
     "output_type": "execute_result"
    }
   ],
   "source": [
    "# Unique values in land_square_feet\n",
    "df_no_dups['land_square_feet'].value_counts(dropna=False)"
   ]
  },
  {
   "cell_type": "code",
   "execution_count": 476,
   "id": "f3f1a535",
   "metadata": {},
   "outputs": [
    {
     "data": {
      "text/plain": [
       "      0.00    667472\n",
       "  1,346.00    116247\n",
       "112,850.00      9221\n",
       "  2,400.00      9029\n",
       "  3,000.00      8058\n",
       "               ...  \n",
       "191,330.00         1\n",
       " 78,474.00         1\n",
       "158,456.00         1\n",
       " 23,870.00         1\n",
       "  7,318.00         1\n",
       "Name: gross_square_feet, Length: 23879, dtype: int64"
      ]
     },
     "execution_count": 476,
     "metadata": {},
     "output_type": "execute_result"
    }
   ],
   "source": [
    "# Unique values in gross_square_feet\n",
    "df_no_dups['gross_square_feet'].value_counts(dropna=False)"
   ]
  },
  {
   "cell_type": "code",
   "execution_count": 477,
   "id": "4f051919",
   "metadata": {},
   "outputs": [
    {
     "data": {
      "text/plain": [
       "         0.00    545197\n",
       "        10.00     14450\n",
       "   450,000.00      9580\n",
       "   400,000.00      9361\n",
       "   550,000.00      8717\n",
       "                  ...  \n",
       "   462,157.00         1\n",
       "   423,343.00         1\n",
       "20,863,475.00         1\n",
       "   172,996.00         1\n",
       "   226,173.00         1\n",
       "Name: sale_price, Length: 106971, dtype: int64"
      ]
     },
     "execution_count": 477,
     "metadata": {},
     "output_type": "execute_result"
    }
   ],
   "source": [
    "# Unique values in sale_price\n",
    "df_no_dups['sale_price'].value_counts(dropna=False)"
   ]
  },
  {
   "cell_type": "code",
   "execution_count": 478,
   "id": "fa0dedf2",
   "metadata": {},
   "outputs": [
    {
     "data": {
      "text/plain": [
       "nan                 1292443\n",
       "transf_ownership     545197\n",
       "Name: sale_price_flag, dtype: int64"
      ]
     },
     "execution_count": 478,
     "metadata": {},
     "output_type": "execute_result"
    }
   ],
   "source": [
    "# Unique values in sale_price_flag\n",
    "df_no_dups['sale_price_flag'].value_counts(dropna=False)"
   ]
  },
  {
   "cell_type": "code",
   "execution_count": 479,
   "id": "0dd327c8",
   "metadata": {},
   "outputs": [
    {
     "data": {
      "text/plain": [
       "Queens           573572\n",
       "Brooklyn         514912\n",
       "Manhattan        427278\n",
       "Staten Island    170192\n",
       "Bronx            151686\n",
       "Name: borough_name, dtype: int64"
      ]
     },
     "execution_count": 479,
     "metadata": {},
     "output_type": "execute_result"
    }
   ],
   "source": [
    "# Unique values in borough_name\n",
    "df_no_dups['borough_name'].value_counts(dropna=False)"
   ]
  },
  {
   "cell_type": "markdown",
   "id": "a8fb000c",
   "metadata": {},
   "source": [
    "## 08.1 Further cleaning to address inconsistencies"
   ]
  },
  {
   "cell_type": "markdown",
   "id": "66e37260",
   "metadata": {},
   "source": [
    "Inconsistencies in apartment_number will not be addressed as the column won't be relevant for the analysis.\n",
    "\n",
    "Further cleaning will be done on:\n",
    "\n",
    "tax_class_at present: nan, empty values and NaN will be merged to NaN. However, as the variable is time-variant and it cannot be guaranteed that the information provided is accurate at the time of the analysis, it is generally better not to work too much with this column, but with tax_class_at_time_of_sale instead as this variable is time-invariant.\n",
    "\n",
    "easement: values of n and empty values will be merged to NaN.\n",
    "\n",
    "year_built: To remain consistent with handling missing values in year_built earlier, rows with 0 for year_built will be dropped (ca. 9% of all rows)."
   ]
  },
  {
   "cell_type": "code",
   "execution_count": 480,
   "id": "40b7c581",
   "metadata": {},
   "outputs": [],
   "source": [
    "# In tax_class_at_present replace nan with NaN\n",
    "df_no_dups['tax_class_at_present'] = df_no_dups['tax_class_at_present'].replace('nan','NaN')"
   ]
  },
  {
   "cell_type": "code",
   "execution_count": 481,
   "id": "3875b9cb",
   "metadata": {},
   "outputs": [],
   "source": [
    "# In tax_class_at_present replace empty values with NaN\n",
    "df_no_dups['tax_class_at_present'] = df_no_dups['tax_class_at_present'].replace(r'^\\s*$','NaN', regex=True)"
   ]
  },
  {
   "cell_type": "code",
   "execution_count": 482,
   "id": "84e6c592",
   "metadata": {},
   "outputs": [
    {
     "data": {
      "text/plain": [
       "1      862920\n",
       "2      635885\n",
       "4      155892\n",
       "2A      56813\n",
       "2C      36147\n",
       "1A      29433\n",
       "NaN     19374\n",
       "2B      18948\n",
       "1B      18620\n",
       "1C       2567\n",
       "1D        922\n",
       "3         119\n",
       "Name: tax_class_at_present, dtype: int64"
      ]
     },
     "execution_count": 482,
     "metadata": {},
     "output_type": "execute_result"
    }
   ],
   "source": [
    "# Check unique values in tax_class_at_present again\n",
    "df_no_dups['tax_class_at_present'].value_counts(dropna=False)"
   ]
  },
  {
   "cell_type": "code",
   "execution_count": 483,
   "id": "52690422",
   "metadata": {},
   "outputs": [],
   "source": [
    "# In easement replace n with NaN\n",
    "df_no_dups['easement'] = df_no_dups['easement'].replace('n','NaN')"
   ]
  },
  {
   "cell_type": "code",
   "execution_count": 484,
   "id": "0d67da5d",
   "metadata": {},
   "outputs": [],
   "source": [
    "# In easement replace empty values with NaN\n",
    "df_no_dups['easement'] = df_no_dups['easement'].replace(r'^\\s*$','NaN', regex=True)"
   ]
  },
  {
   "cell_type": "code",
   "execution_count": 485,
   "id": "6cd12669",
   "metadata": {},
   "outputs": [
    {
     "data": {
      "text/plain": [
       "NaN    1837627\n",
       "E           13\n",
       "Name: easement, dtype: int64"
      ]
     },
     "execution_count": 485,
     "metadata": {},
     "output_type": "execute_result"
    }
   ],
   "source": [
    "# Check unique values in easement again\n",
    "df_no_dups['easement'].value_counts(dropna=False)"
   ]
  },
  {
   "cell_type": "code",
   "execution_count": 486,
   "id": "1a3c60df",
   "metadata": {},
   "outputs": [],
   "source": [
    "# Drop rows with year_built 0\n",
    "df_no_dups = df_no_dups.loc[df_no_dups['year_built'] !=0]"
   ]
  },
  {
   "cell_type": "code",
   "execution_count": 487,
   "id": "e8fbce51",
   "metadata": {},
   "outputs": [
    {
     "data": {
      "text/plain": [
       "1920    138609\n",
       "1930    113022\n",
       "1925     98003\n",
       "1910     77412\n",
       "1950     68378\n",
       "         ...  \n",
       "1821         1\n",
       "220          1\n",
       "1030         1\n",
       "1802         1\n",
       "1648         1\n",
       "Name: year_built, Length: 213, dtype: int64"
      ]
     },
     "execution_count": 487,
     "metadata": {},
     "output_type": "execute_result"
    }
   ],
   "source": [
    "# Check unique values in year_built again\n",
    "df_no_dups['year_built'].value_counts(dropna=False)"
   ]
  },
  {
   "cell_type": "code",
   "execution_count": 488,
   "id": "30dca20f",
   "metadata": {},
   "outputs": [
    {
     "name": "stdout",
     "output_type": "stream",
     "text": [
      "<class 'pandas.core.frame.DataFrame'>\n",
      "Int64Index: 1665736 entries, 0 to 1916259\n",
      "Data columns (total 23 columns):\n",
      " #   Column                          Non-Null Count    Dtype         \n",
      "---  ------                          --------------    -----         \n",
      " 0   borough_code                    1665736 non-null  object        \n",
      " 1   neighborhood                    1665736 non-null  object        \n",
      " 2   building_class_category         1665736 non-null  object        \n",
      " 3   tax_class_at_present            1665736 non-null  object        \n",
      " 4   block                           1665736 non-null  object        \n",
      " 5   lot                             1665736 non-null  object        \n",
      " 6   easement                        1665736 non-null  object        \n",
      " 7   building_class_at_present       1665736 non-null  object        \n",
      " 8   address                         1665736 non-null  object        \n",
      " 9   apartment_number                1665736 non-null  object        \n",
      " 10  zip_code                        1665736 non-null  int64         \n",
      " 11  residential_units               1665736 non-null  int64         \n",
      " 12  commercial_units                1665736 non-null  int64         \n",
      " 13  total_units                     1665736 non-null  int64         \n",
      " 14  land_square_feet                1665736 non-null  float64       \n",
      " 15  gross_square_feet               1665736 non-null  float64       \n",
      " 16  year_built                      1665736 non-null  int64         \n",
      " 17  tax_class_at_time_of_sale       1665736 non-null  object        \n",
      " 18  building_class_at_time_of_sale  1665736 non-null  object        \n",
      " 19  sale_price                      1665736 non-null  float64       \n",
      " 20  sale_date                       1665736 non-null  datetime64[ns]\n",
      " 21  sale_price_flag                 1665736 non-null  object        \n",
      " 22  borough_name                    1665736 non-null  object        \n",
      "dtypes: datetime64[ns](1), float64(3), int64(5), object(14)\n",
      "memory usage: 305.0+ MB\n"
     ]
    }
   ],
   "source": [
    "# Get shape of df_no_dups (expected no. of rows: 1665736)\n",
    "df_no_dups.info()"
   ]
  },
  {
   "cell_type": "markdown",
   "id": "ca5bdca4",
   "metadata": {},
   "source": [
    "# 09 Basic descriptive statistics I"
   ]
  },
  {
   "cell_type": "code",
   "execution_count": 489,
   "id": "8c4b3801",
   "metadata": {},
   "outputs": [],
   "source": [
    "# Change options for display of scientific notation\n",
    "pd.options.display.float_format = '{:20,.2f}'.format"
   ]
  },
  {
   "cell_type": "code",
   "execution_count": 490,
   "id": "4d198060",
   "metadata": {},
   "outputs": [
    {
     "data": {
      "text/html": [
       "<div>\n",
       "<style scoped>\n",
       "    .dataframe tbody tr th:only-of-type {\n",
       "        vertical-align: middle;\n",
       "    }\n",
       "\n",
       "    .dataframe tbody tr th {\n",
       "        vertical-align: top;\n",
       "    }\n",
       "\n",
       "    .dataframe thead th {\n",
       "        text-align: right;\n",
       "    }\n",
       "</style>\n",
       "<table border=\"1\" class=\"dataframe\">\n",
       "  <thead>\n",
       "    <tr style=\"text-align: right;\">\n",
       "      <th></th>\n",
       "      <th>zip_code</th>\n",
       "      <th>residential_units</th>\n",
       "      <th>commercial_units</th>\n",
       "      <th>total_units</th>\n",
       "      <th>land_square_feet</th>\n",
       "      <th>gross_square_feet</th>\n",
       "      <th>year_built</th>\n",
       "      <th>sale_price</th>\n",
       "    </tr>\n",
       "  </thead>\n",
       "  <tbody>\n",
       "    <tr>\n",
       "      <th>count</th>\n",
       "      <td>1,665,736.00</td>\n",
       "      <td>1,665,736.00</td>\n",
       "      <td>1,665,736.00</td>\n",
       "      <td>1,665,736.00</td>\n",
       "      <td>1,665,736.00</td>\n",
       "      <td>1,665,736.00</td>\n",
       "      <td>1,665,736.00</td>\n",
       "      <td>1,665,736.00</td>\n",
       "    </tr>\n",
       "    <tr>\n",
       "      <th>mean</th>\n",
       "      <td>10,863.51</td>\n",
       "      <td>2.51</td>\n",
       "      <td>0.24</td>\n",
       "      <td>2.76</td>\n",
       "      <td>3,710.35</td>\n",
       "      <td>4,272.09</td>\n",
       "      <td>1,948.71</td>\n",
       "      <td>943,824.98</td>\n",
       "    </tr>\n",
       "    <tr>\n",
       "      <th>std</th>\n",
       "      <td>594.52</td>\n",
       "      <td>34.43</td>\n",
       "      <td>7.74</td>\n",
       "      <td>35.39</td>\n",
       "      <td>295,916.55</td>\n",
       "      <td>42,464.03</td>\n",
       "      <td>33.78</td>\n",
       "      <td>11,588,090.64</td>\n",
       "    </tr>\n",
       "    <tr>\n",
       "      <th>min</th>\n",
       "      <td>0.00</td>\n",
       "      <td>0.00</td>\n",
       "      <td>0.00</td>\n",
       "      <td>0.00</td>\n",
       "      <td>0.00</td>\n",
       "      <td>0.00</td>\n",
       "      <td>220.00</td>\n",
       "      <td>0.00</td>\n",
       "    </tr>\n",
       "    <tr>\n",
       "      <th>25%</th>\n",
       "      <td>10,306.00</td>\n",
       "      <td>1.00</td>\n",
       "      <td>0.00</td>\n",
       "      <td>1.00</td>\n",
       "      <td>0.00</td>\n",
       "      <td>0.00</td>\n",
       "      <td>1,925.00</td>\n",
       "      <td>0.00</td>\n",
       "    </tr>\n",
       "    <tr>\n",
       "      <th>50%</th>\n",
       "      <td>11,211.00</td>\n",
       "      <td>1.00</td>\n",
       "      <td>0.00</td>\n",
       "      <td>1.00</td>\n",
       "      <td>1,980.00</td>\n",
       "      <td>1,404.00</td>\n",
       "      <td>1,940.00</td>\n",
       "      <td>350,000.00</td>\n",
       "    </tr>\n",
       "    <tr>\n",
       "      <th>75%</th>\n",
       "      <td>11,361.00</td>\n",
       "      <td>2.00</td>\n",
       "      <td>0.00</td>\n",
       "      <td>2.00</td>\n",
       "      <td>2,900.00</td>\n",
       "      <td>2,430.00</td>\n",
       "      <td>1,969.00</td>\n",
       "      <td>680,000.00</td>\n",
       "    </tr>\n",
       "    <tr>\n",
       "      <th>max</th>\n",
       "      <td>11,697.00</td>\n",
       "      <td>20,811.00</td>\n",
       "      <td>4,964.00</td>\n",
       "      <td>20,811.00</td>\n",
       "      <td>214,755,710.00</td>\n",
       "      <td>14,962,152.00</td>\n",
       "      <td>2,022.00</td>\n",
       "      <td>4,111,111,766.00</td>\n",
       "    </tr>\n",
       "  </tbody>\n",
       "</table>\n",
       "</div>"
      ],
      "text/plain": [
       "                  zip_code    residential_units     commercial_units  \\\n",
       "count         1,665,736.00         1,665,736.00         1,665,736.00   \n",
       "mean             10,863.51                 2.51                 0.24   \n",
       "std                 594.52                34.43                 7.74   \n",
       "min                   0.00                 0.00                 0.00   \n",
       "25%              10,306.00                 1.00                 0.00   \n",
       "50%              11,211.00                 1.00                 0.00   \n",
       "75%              11,361.00                 2.00                 0.00   \n",
       "max              11,697.00            20,811.00             4,964.00   \n",
       "\n",
       "               total_units     land_square_feet    gross_square_feet  \\\n",
       "count         1,665,736.00         1,665,736.00         1,665,736.00   \n",
       "mean                  2.76             3,710.35             4,272.09   \n",
       "std                  35.39           295,916.55            42,464.03   \n",
       "min                   0.00                 0.00                 0.00   \n",
       "25%                   1.00                 0.00                 0.00   \n",
       "50%                   1.00             1,980.00             1,404.00   \n",
       "75%                   2.00             2,900.00             2,430.00   \n",
       "max              20,811.00       214,755,710.00        14,962,152.00   \n",
       "\n",
       "                year_built           sale_price  \n",
       "count         1,665,736.00         1,665,736.00  \n",
       "mean              1,948.71           943,824.98  \n",
       "std                  33.78        11,588,090.64  \n",
       "min                 220.00                 0.00  \n",
       "25%               1,925.00                 0.00  \n",
       "50%               1,940.00           350,000.00  \n",
       "75%               1,969.00           680,000.00  \n",
       "max               2,022.00     4,111,111,766.00  "
      ]
     },
     "execution_count": 490,
     "metadata": {},
     "output_type": "execute_result"
    }
   ],
   "source": [
    "# Get minimum, maximum, mean and median for numeric columns\n",
    "df_no_dups.describe()"
   ]
  },
  {
   "cell_type": "markdown",
   "id": "82cb55a3",
   "metadata": {},
   "source": [
    "year_built cannot be 220, this is likely erroneous data. Therefore, the row with year_built 202 will be dropped. Furthermore, as the first settlements along the Hudson were established in 1624 year_built cannot be lower than that. This is the lowest possible minimum year_built. All values below 1624 will therefore be dropped, too.\n",
    "\n",
    "It is irritating that land_square_feet and gross_square_feet have minimum values of 0. The NYC Department of Finance glossary of terms says the following: \n",
    "\n",
    "Land square feet is \"the land area of the property listed in square feet\".\n",
    "Gross square feet is \"the total area of all the floors of a building as measured from the exterior surfaces of the outside walls of the building, including the land area and space within any building or structure on the property\".\n",
    "\n",
    "Hence, land_square_feet should always be greater than 0 and gross_square_feet should at minimum be equal to land_square_feet. This inconsistency is accepted for now, but will be further investigated at a later stage of the analysis."
   ]
  },
  {
   "cell_type": "code",
   "execution_count": 491,
   "id": "b4071826",
   "metadata": {},
   "outputs": [
    {
     "data": {
      "text/plain": [
       "Timestamp('2003-01-01 00:00:00')"
      ]
     },
     "execution_count": 491,
     "metadata": {},
     "output_type": "execute_result"
    }
   ],
   "source": [
    "# Get minimum sale_date\n",
    "df_no_dups['sale_date'].min()"
   ]
  },
  {
   "cell_type": "code",
   "execution_count": 492,
   "id": "6a44ca59",
   "metadata": {},
   "outputs": [
    {
     "data": {
      "text/plain": [
       "Timestamp('2023-03-31 00:00:00')"
      ]
     },
     "execution_count": 492,
     "metadata": {},
     "output_type": "execute_result"
    }
   ],
   "source": [
    "# Get maximum of sale_date\n",
    "df_no_dups['sale_date'].max()"
   ]
  },
  {
   "cell_type": "markdown",
   "id": "f2945713",
   "metadata": {},
   "source": [
    "## 09.1 Further cleaning I based on insights from descriptive statistics"
   ]
  },
  {
   "cell_type": "markdown",
   "id": "91b993fa",
   "metadata": {},
   "source": [
    "check how many rows with year below 1624; then create drop these rows if they're not too many; ensure resulting df has right shape"
   ]
  },
  {
   "cell_type": "code",
   "execution_count": 493,
   "id": "590bdcb8",
   "metadata": {},
   "outputs": [],
   "source": [
    "# Create df with year_built <1624\n",
    "df_bad_year = df_no_dups.loc[df_no_dups['year_built'] <1624]"
   ]
  },
  {
   "cell_type": "code",
   "execution_count": 494,
   "id": "4e3e5135",
   "metadata": {},
   "outputs": [
    {
     "data": {
      "text/plain": [
       "(14, 23)"
      ]
     },
     "execution_count": 494,
     "metadata": {},
     "output_type": "execute_result"
    }
   ],
   "source": [
    "# Get shape of df_bad_year\n",
    "df_bad_year.shape"
   ]
  },
  {
   "cell_type": "code",
   "execution_count": 495,
   "id": "596fdfe3",
   "metadata": {},
   "outputs": [],
   "source": [
    "# Drop rows with year_built <1624\n",
    "df_no_dups = df_no_dups.loc[df_no_dups['year_built'] >=1624]"
   ]
  },
  {
   "cell_type": "code",
   "execution_count": 496,
   "id": "399e47e8",
   "metadata": {},
   "outputs": [
    {
     "data": {
      "text/plain": [
       "(1665722, 23)"
      ]
     },
     "execution_count": 496,
     "metadata": {},
     "output_type": "execute_result"
    }
   ],
   "source": [
    "# Get shape of df_no_dups (expected no. of rows: 1665722)\n",
    "df_no_dups.shape"
   ]
  },
  {
   "cell_type": "markdown",
   "id": "0fa8093a",
   "metadata": {},
   "source": [
    "# 10 Basic descriptive statistics II"
   ]
  },
  {
   "cell_type": "code",
   "execution_count": 497,
   "id": "4bddfea7",
   "metadata": {},
   "outputs": [
    {
     "data": {
      "text/html": [
       "<div>\n",
       "<style scoped>\n",
       "    .dataframe tbody tr th:only-of-type {\n",
       "        vertical-align: middle;\n",
       "    }\n",
       "\n",
       "    .dataframe tbody tr th {\n",
       "        vertical-align: top;\n",
       "    }\n",
       "\n",
       "    .dataframe thead th {\n",
       "        text-align: right;\n",
       "    }\n",
       "</style>\n",
       "<table border=\"1\" class=\"dataframe\">\n",
       "  <thead>\n",
       "    <tr style=\"text-align: right;\">\n",
       "      <th></th>\n",
       "      <th>zip_code</th>\n",
       "      <th>residential_units</th>\n",
       "      <th>commercial_units</th>\n",
       "      <th>total_units</th>\n",
       "      <th>land_square_feet</th>\n",
       "      <th>gross_square_feet</th>\n",
       "      <th>year_built</th>\n",
       "      <th>sale_price</th>\n",
       "    </tr>\n",
       "  </thead>\n",
       "  <tbody>\n",
       "    <tr>\n",
       "      <th>count</th>\n",
       "      <td>1,665,722.00</td>\n",
       "      <td>1,665,722.00</td>\n",
       "      <td>1,665,722.00</td>\n",
       "      <td>1,665,722.00</td>\n",
       "      <td>1,665,722.00</td>\n",
       "      <td>1,665,722.00</td>\n",
       "      <td>1,665,722.00</td>\n",
       "      <td>1,665,722.00</td>\n",
       "    </tr>\n",
       "    <tr>\n",
       "      <th>mean</th>\n",
       "      <td>10,863.51</td>\n",
       "      <td>2.51</td>\n",
       "      <td>0.24</td>\n",
       "      <td>2.76</td>\n",
       "      <td>3,710.36</td>\n",
       "      <td>4,272.11</td>\n",
       "      <td>1,948.72</td>\n",
       "      <td>943,820.87</td>\n",
       "    </tr>\n",
       "    <tr>\n",
       "      <th>std</th>\n",
       "      <td>594.52</td>\n",
       "      <td>34.43</td>\n",
       "      <td>7.74</td>\n",
       "      <td>35.39</td>\n",
       "      <td>295,917.79</td>\n",
       "      <td>42,464.20</td>\n",
       "      <td>33.67</td>\n",
       "      <td>11,588,136.56</td>\n",
       "    </tr>\n",
       "    <tr>\n",
       "      <th>min</th>\n",
       "      <td>0.00</td>\n",
       "      <td>0.00</td>\n",
       "      <td>0.00</td>\n",
       "      <td>0.00</td>\n",
       "      <td>0.00</td>\n",
       "      <td>0.00</td>\n",
       "      <td>1,648.00</td>\n",
       "      <td>0.00</td>\n",
       "    </tr>\n",
       "    <tr>\n",
       "      <th>25%</th>\n",
       "      <td>10,306.00</td>\n",
       "      <td>1.00</td>\n",
       "      <td>0.00</td>\n",
       "      <td>1.00</td>\n",
       "      <td>0.00</td>\n",
       "      <td>0.00</td>\n",
       "      <td>1,925.00</td>\n",
       "      <td>0.00</td>\n",
       "    </tr>\n",
       "    <tr>\n",
       "      <th>50%</th>\n",
       "      <td>11,211.00</td>\n",
       "      <td>1.00</td>\n",
       "      <td>0.00</td>\n",
       "      <td>1.00</td>\n",
       "      <td>1,980.00</td>\n",
       "      <td>1,404.00</td>\n",
       "      <td>1,940.00</td>\n",
       "      <td>350,000.00</td>\n",
       "    </tr>\n",
       "    <tr>\n",
       "      <th>75%</th>\n",
       "      <td>11,361.00</td>\n",
       "      <td>2.00</td>\n",
       "      <td>0.00</td>\n",
       "      <td>2.00</td>\n",
       "      <td>2,900.00</td>\n",
       "      <td>2,430.00</td>\n",
       "      <td>1,969.00</td>\n",
       "      <td>680,000.00</td>\n",
       "    </tr>\n",
       "    <tr>\n",
       "      <th>max</th>\n",
       "      <td>11,697.00</td>\n",
       "      <td>20,811.00</td>\n",
       "      <td>4,964.00</td>\n",
       "      <td>20,811.00</td>\n",
       "      <td>214,755,710.00</td>\n",
       "      <td>14,962,152.00</td>\n",
       "      <td>2,022.00</td>\n",
       "      <td>4,111,111,766.00</td>\n",
       "    </tr>\n",
       "  </tbody>\n",
       "</table>\n",
       "</div>"
      ],
      "text/plain": [
       "                  zip_code    residential_units     commercial_units  \\\n",
       "count         1,665,722.00         1,665,722.00         1,665,722.00   \n",
       "mean             10,863.51                 2.51                 0.24   \n",
       "std                 594.52                34.43                 7.74   \n",
       "min                   0.00                 0.00                 0.00   \n",
       "25%              10,306.00                 1.00                 0.00   \n",
       "50%              11,211.00                 1.00                 0.00   \n",
       "75%              11,361.00                 2.00                 0.00   \n",
       "max              11,697.00            20,811.00             4,964.00   \n",
       "\n",
       "               total_units     land_square_feet    gross_square_feet  \\\n",
       "count         1,665,722.00         1,665,722.00         1,665,722.00   \n",
       "mean                  2.76             3,710.36             4,272.11   \n",
       "std                  35.39           295,917.79            42,464.20   \n",
       "min                   0.00                 0.00                 0.00   \n",
       "25%                   1.00                 0.00                 0.00   \n",
       "50%                   1.00             1,980.00             1,404.00   \n",
       "75%                   2.00             2,900.00             2,430.00   \n",
       "max              20,811.00       214,755,710.00        14,962,152.00   \n",
       "\n",
       "                year_built           sale_price  \n",
       "count         1,665,722.00         1,665,722.00  \n",
       "mean              1,948.72           943,820.87  \n",
       "std                  33.67        11,588,136.56  \n",
       "min               1,648.00                 0.00  \n",
       "25%               1,925.00                 0.00  \n",
       "50%               1,940.00           350,000.00  \n",
       "75%               1,969.00           680,000.00  \n",
       "max               2,022.00     4,111,111,766.00  "
      ]
     },
     "execution_count": 497,
     "metadata": {},
     "output_type": "execute_result"
    }
   ],
   "source": [
    "# Get minimum, maximum, mean and median for numeric columns again\n",
    "df_no_dups.describe()"
   ]
  },
  {
   "cell_type": "code",
   "execution_count": 498,
   "id": "1f1a398b",
   "metadata": {},
   "outputs": [
    {
     "name": "stdout",
     "output_type": "stream",
     "text": [
      "<class 'pandas.core.frame.DataFrame'>\n",
      "Int64Index: 1665722 entries, 0 to 1916259\n",
      "Data columns (total 23 columns):\n",
      " #   Column                          Non-Null Count    Dtype         \n",
      "---  ------                          --------------    -----         \n",
      " 0   borough_code                    1665722 non-null  object        \n",
      " 1   neighborhood                    1665722 non-null  object        \n",
      " 2   building_class_category         1665722 non-null  object        \n",
      " 3   tax_class_at_present            1665722 non-null  object        \n",
      " 4   block                           1665722 non-null  object        \n",
      " 5   lot                             1665722 non-null  object        \n",
      " 6   easement                        1665722 non-null  object        \n",
      " 7   building_class_at_present       1665722 non-null  object        \n",
      " 8   address                         1665722 non-null  object        \n",
      " 9   apartment_number                1665722 non-null  object        \n",
      " 10  zip_code                        1665722 non-null  int64         \n",
      " 11  residential_units               1665722 non-null  int64         \n",
      " 12  commercial_units                1665722 non-null  int64         \n",
      " 13  total_units                     1665722 non-null  int64         \n",
      " 14  land_square_feet                1665722 non-null  float64       \n",
      " 15  gross_square_feet               1665722 non-null  float64       \n",
      " 16  year_built                      1665722 non-null  int64         \n",
      " 17  tax_class_at_time_of_sale       1665722 non-null  object        \n",
      " 18  building_class_at_time_of_sale  1665722 non-null  object        \n",
      " 19  sale_price                      1665722 non-null  float64       \n",
      " 20  sale_date                       1665722 non-null  datetime64[ns]\n",
      " 21  sale_price_flag                 1665722 non-null  object        \n",
      " 22  borough_name                    1665722 non-null  object        \n",
      "dtypes: datetime64[ns](1), float64(3), int64(5), object(14)\n",
      "memory usage: 305.0+ MB\n"
     ]
    }
   ],
   "source": [
    "# Get info on df_no_dups\n",
    "df_no_dups.info()"
   ]
  },
  {
   "cell_type": "markdown",
   "id": "6d6638a7",
   "metadata": {},
   "source": [
    "# 11 Drop columns that are irrelevant for the analysis"
   ]
  },
  {
   "cell_type": "code",
   "execution_count": 499,
   "id": "96aa9985",
   "metadata": {},
   "outputs": [],
   "source": [
    "# Drop all columns irrelevant to the ensuing analysis\n",
    "df_no_dups_final = df_no_dups.drop(columns = ['block', 'lot', 'address', 'apartment_number', 'zip_code'])"
   ]
  },
  {
   "cell_type": "code",
   "execution_count": 500,
   "id": "87d15f33",
   "metadata": {},
   "outputs": [
    {
     "name": "stdout",
     "output_type": "stream",
     "text": [
      "<class 'pandas.core.frame.DataFrame'>\n",
      "Int64Index: 1665722 entries, 0 to 1916259\n",
      "Data columns (total 18 columns):\n",
      " #   Column                          Non-Null Count    Dtype         \n",
      "---  ------                          --------------    -----         \n",
      " 0   borough_code                    1665722 non-null  object        \n",
      " 1   neighborhood                    1665722 non-null  object        \n",
      " 2   building_class_category         1665722 non-null  object        \n",
      " 3   tax_class_at_present            1665722 non-null  object        \n",
      " 4   easement                        1665722 non-null  object        \n",
      " 5   building_class_at_present       1665722 non-null  object        \n",
      " 6   residential_units               1665722 non-null  int64         \n",
      " 7   commercial_units                1665722 non-null  int64         \n",
      " 8   total_units                     1665722 non-null  int64         \n",
      " 9   land_square_feet                1665722 non-null  float64       \n",
      " 10  gross_square_feet               1665722 non-null  float64       \n",
      " 11  year_built                      1665722 non-null  int64         \n",
      " 12  tax_class_at_time_of_sale       1665722 non-null  object        \n",
      " 13  building_class_at_time_of_sale  1665722 non-null  object        \n",
      " 14  sale_price                      1665722 non-null  float64       \n",
      " 15  sale_date                       1665722 non-null  datetime64[ns]\n",
      " 16  sale_price_flag                 1665722 non-null  object        \n",
      " 17  borough_name                    1665722 non-null  object        \n",
      "dtypes: datetime64[ns](1), float64(3), int64(4), object(10)\n",
      "memory usage: 241.5+ MB\n"
     ]
    }
   ],
   "source": [
    "# Get info on df_no_dups_final\n",
    "df_no_dups_final.info()"
   ]
  },
  {
   "cell_type": "markdown",
   "id": "757f61aa",
   "metadata": {},
   "source": [
    "# 12 Export dataframes"
   ]
  },
  {
   "cell_type": "code",
   "execution_count": 501,
   "id": "ceecdd2e",
   "metadata": {},
   "outputs": [],
   "source": [
    "# Define path2 for exporting\n",
    "path2 = r'/Users/DanielaDietmayr/Library/CloudStorage/OneDrive-Personal/2023-05-07_NYC property sales/02_Data/02_Prepared data'"
   ]
  },
  {
   "cell_type": "code",
   "execution_count": 502,
   "id": "080e4dbf",
   "metadata": {},
   "outputs": [],
   "source": [
    "# Export df_no_dups_final as csv file\n",
    "df_no_dups_final.to_csv(os.path.join(path2, '2023-05-14_df.csv'), index=False)"
   ]
  },
  {
   "cell_type": "code",
   "execution_count": 503,
   "id": "0db0dbea",
   "metadata": {},
   "outputs": [],
   "source": [
    "# Export df_no_dups_final as pickle file\n",
    "df_no_dups_final.to_pickle(os.path.join(path2, '2023-05-14_df.pkl'))"
   ]
  },
  {
   "cell_type": "code",
   "execution_count": null,
   "id": "c89369c2",
   "metadata": {},
   "outputs": [],
   "source": []
  }
 ],
 "metadata": {
  "kernelspec": {
   "display_name": "Python 3 (ipykernel)",
   "language": "python",
   "name": "python3"
  },
  "language_info": {
   "codemirror_mode": {
    "name": "ipython",
    "version": 3
   },
   "file_extension": ".py",
   "mimetype": "text/x-python",
   "name": "python",
   "nbconvert_exporter": "python",
   "pygments_lexer": "ipython3",
   "version": "3.9.13"
  },
  "varInspector": {
   "cols": {
    "lenName": 16,
    "lenType": 16,
    "lenVar": 40
   },
   "kernels_config": {
    "python": {
     "delete_cmd_postfix": "",
     "delete_cmd_prefix": "del ",
     "library": "var_list.py",
     "varRefreshCmd": "print(var_dic_list())"
    },
    "r": {
     "delete_cmd_postfix": ") ",
     "delete_cmd_prefix": "rm(",
     "library": "var_list.r",
     "varRefreshCmd": "cat(var_dic_list()) "
    }
   },
   "types_to_exclude": [
    "module",
    "function",
    "builtin_function_or_method",
    "instance",
    "_Feature"
   ],
   "window_display": false
  }
 },
 "nbformat": 4,
 "nbformat_minor": 5
}
