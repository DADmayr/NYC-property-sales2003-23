{
 "cells": [
  {
   "cell_type": "markdown",
   "id": "13d31aba",
   "metadata": {},
   "source": [
    "# Contents\n",
    "\n",
    "## 01 Import libraries and data\n",
    "\n",
    "## 02 Data inspection and cleaning\n",
    "\n",
    "### 02.1 Dimensions and descriptive statistics\n",
    "\n",
    "### 02.2 Data cleaning\n",
    "\n",
    "### 02.3 Exploring relationships\n",
    "\n",
    "## 03 Regression analysis to predict sale prices\n",
    "\n",
    "### 03.1 Regression analysis incl. extreme values\n",
    "\n",
    "### 03.2 Regression analysis excl. extreme values\n",
    "\n",
    "### 03.3 Regression analysis for residential unit-only sales\n",
    "\n",
    "### 03.4 Regression analysis for sales incl. commercial units\n",
    "\n",
    "### 03.5 Regression analysis for segment of datapoints with max. number of total units 100 and max. sale price 250,000,000\n",
    "\n",
    "### 03.6 Regression analysis for segment of datapoints with max. number of total units 50 and max. sale price 100,000,000\n",
    "\n",
    "### 03.7 Regression analysis for segment of datapoints with max. number of total units 50, minimum number of total units 2, and max. sale price 100,000,000"
   ]
  },
  {
   "cell_type": "markdown",
   "id": "f8b63d12",
   "metadata": {},
   "source": [
    "# 01 Import libraries and data"
   ]
  },
  {
   "cell_type": "code",
   "execution_count": 1,
   "id": "2b75344d",
   "metadata": {},
   "outputs": [],
   "source": [
    "# Import libraries\n",
    "import pandas as pd\n",
    "import numpy as np\n",
    "import seaborn as sns\n",
    "import matplotlib\n",
    "import matplotlib.pyplot as plt\n",
    "import os\n",
    "import sklearn\n",
    "from sklearn.model_selection import train_test_split\n",
    "from sklearn.linear_model import LinearRegression\n",
    "from sklearn.metrics import mean_squared_error, r2_score"
   ]
  },
  {
   "cell_type": "code",
   "execution_count": 2,
   "id": "3b9e0b2f",
   "metadata": {},
   "outputs": [],
   "source": [
    "# Ensure graphs are displayes without needing to call them\n",
    "%matplotlib inline"
   ]
  },
  {
   "cell_type": "code",
   "execution_count": 3,
   "id": "fa475b4f",
   "metadata": {},
   "outputs": [],
   "source": [
    "# Define path in preparation of data import\n",
    "path = r'/Users/DanielaDietmayr/Library/CloudStorage/OneDrive-Personal/2023-05-07_NYC property sales/02_Data/02_Prepared data'"
   ]
  },
  {
   "cell_type": "code",
   "execution_count": 4,
   "id": "3e44c1a9",
   "metadata": {},
   "outputs": [],
   "source": [
    "# Import data data \n",
    "df = pd.read_pickle(os.path.join(path, '2023-05-28_df.pkl'))"
   ]
  },
  {
   "cell_type": "markdown",
   "id": "afe3d8e6",
   "metadata": {},
   "source": [
    "# 02 Data inspection and cleaning"
   ]
  },
  {
   "cell_type": "markdown",
   "id": "b9fb3e2f",
   "metadata": {},
   "source": [
    "## 02.1 Dimensions and descriptive statistics"
   ]
  },
  {
   "cell_type": "code",
   "execution_count": 5,
   "id": "c4076bdf",
   "metadata": {},
   "outputs": [
    {
     "data": {
      "text/plain": [
       "(1665722, 19)"
      ]
     },
     "execution_count": 5,
     "metadata": {},
     "output_type": "execute_result"
    }
   ],
   "source": [
    "# Get dimensions of df\n",
    "df.shape"
   ]
  },
  {
   "cell_type": "code",
   "execution_count": 6,
   "id": "f4c39946",
   "metadata": {},
   "outputs": [
    {
     "data": {
      "text/plain": [
       "borough_code                              object\n",
       "neighborhood                              object\n",
       "building_class_category                   object\n",
       "tax_class_at_present                      object\n",
       "easement                                  object\n",
       "building_class_at_present                 object\n",
       "residential_units                          int64\n",
       "commercial_units                           int64\n",
       "total_units                                int64\n",
       "land_square_feet                         float64\n",
       "gross_square_feet                        float64\n",
       "year_built                                 int64\n",
       "tax_class_at_time_of_sale                 object\n",
       "building_class_at_time_of_sale            object\n",
       "sale_price                               float64\n",
       "sale_date                         datetime64[ns]\n",
       "sale_price_flag                           object\n",
       "borough_name                              object\n",
       "sale_price_cat                            object\n",
       "dtype: object"
      ]
     },
     "execution_count": 6,
     "metadata": {},
     "output_type": "execute_result"
    }
   ],
   "source": [
    "# Get variables and datatypes in df\n",
    "df.dtypes"
   ]
  },
  {
   "cell_type": "code",
   "execution_count": 7,
   "id": "4436c84a",
   "metadata": {},
   "outputs": [
    {
     "data": {
      "text/html": [
       "<div>\n",
       "<style scoped>\n",
       "    .dataframe tbody tr th:only-of-type {\n",
       "        vertical-align: middle;\n",
       "    }\n",
       "\n",
       "    .dataframe tbody tr th {\n",
       "        vertical-align: top;\n",
       "    }\n",
       "\n",
       "    .dataframe thead th {\n",
       "        text-align: right;\n",
       "    }\n",
       "</style>\n",
       "<table border=\"1\" class=\"dataframe\">\n",
       "  <thead>\n",
       "    <tr style=\"text-align: right;\">\n",
       "      <th></th>\n",
       "      <th>borough_code</th>\n",
       "      <th>neighborhood</th>\n",
       "      <th>building_class_category</th>\n",
       "      <th>tax_class_at_present</th>\n",
       "      <th>easement</th>\n",
       "      <th>building_class_at_present</th>\n",
       "      <th>residential_units</th>\n",
       "      <th>commercial_units</th>\n",
       "      <th>total_units</th>\n",
       "      <th>land_square_feet</th>\n",
       "      <th>gross_square_feet</th>\n",
       "      <th>year_built</th>\n",
       "      <th>tax_class_at_time_of_sale</th>\n",
       "      <th>building_class_at_time_of_sale</th>\n",
       "      <th>sale_price</th>\n",
       "      <th>sale_date</th>\n",
       "      <th>sale_price_flag</th>\n",
       "      <th>borough_name</th>\n",
       "      <th>sale_price_cat</th>\n",
       "    </tr>\n",
       "  </thead>\n",
       "  <tbody>\n",
       "    <tr>\n",
       "      <th>0</th>\n",
       "      <td>5</td>\n",
       "      <td>ANNADALE</td>\n",
       "      <td>01 ONE FAMILY DWELLINGS</td>\n",
       "      <td>1</td>\n",
       "      <td>NaN</td>\n",
       "      <td>A5</td>\n",
       "      <td>1</td>\n",
       "      <td>0</td>\n",
       "      <td>1</td>\n",
       "      <td>3654.0</td>\n",
       "      <td>910.0</td>\n",
       "      <td>2002</td>\n",
       "      <td>1</td>\n",
       "      <td>A5</td>\n",
       "      <td>764000.0</td>\n",
       "      <td>2022-06-30</td>\n",
       "      <td>nan</td>\n",
       "      <td>Staten Island</td>\n",
       "      <td>medium</td>\n",
       "    </tr>\n",
       "    <tr>\n",
       "      <th>1</th>\n",
       "      <td>5</td>\n",
       "      <td>ANNADALE</td>\n",
       "      <td>01 ONE FAMILY DWELLINGS</td>\n",
       "      <td>1</td>\n",
       "      <td>NaN</td>\n",
       "      <td>A1</td>\n",
       "      <td>1</td>\n",
       "      <td>0</td>\n",
       "      <td>1</td>\n",
       "      <td>7654.0</td>\n",
       "      <td>2277.0</td>\n",
       "      <td>1980</td>\n",
       "      <td>1</td>\n",
       "      <td>A1</td>\n",
       "      <td>1098000.0</td>\n",
       "      <td>2022-08-19</td>\n",
       "      <td>nan</td>\n",
       "      <td>Staten Island</td>\n",
       "      <td>high</td>\n",
       "    </tr>\n",
       "    <tr>\n",
       "      <th>2</th>\n",
       "      <td>5</td>\n",
       "      <td>ANNADALE</td>\n",
       "      <td>01 ONE FAMILY DWELLINGS</td>\n",
       "      <td>1</td>\n",
       "      <td>NaN</td>\n",
       "      <td>A1</td>\n",
       "      <td>1</td>\n",
       "      <td>0</td>\n",
       "      <td>1</td>\n",
       "      <td>13320.0</td>\n",
       "      <td>4696.0</td>\n",
       "      <td>1985</td>\n",
       "      <td>1</td>\n",
       "      <td>A1</td>\n",
       "      <td>0.0</td>\n",
       "      <td>2022-04-20</td>\n",
       "      <td>transf_ownership</td>\n",
       "      <td>Staten Island</td>\n",
       "      <td>zero</td>\n",
       "    </tr>\n",
       "    <tr>\n",
       "      <th>3</th>\n",
       "      <td>5</td>\n",
       "      <td>ANNADALE</td>\n",
       "      <td>01 ONE FAMILY DWELLINGS</td>\n",
       "      <td>1</td>\n",
       "      <td>NaN</td>\n",
       "      <td>A2</td>\n",
       "      <td>1</td>\n",
       "      <td>0</td>\n",
       "      <td>1</td>\n",
       "      <td>8190.0</td>\n",
       "      <td>1528.0</td>\n",
       "      <td>1970</td>\n",
       "      <td>1</td>\n",
       "      <td>A2</td>\n",
       "      <td>890000.0</td>\n",
       "      <td>2022-01-03</td>\n",
       "      <td>nan</td>\n",
       "      <td>Staten Island</td>\n",
       "      <td>high</td>\n",
       "    </tr>\n",
       "    <tr>\n",
       "      <th>4</th>\n",
       "      <td>5</td>\n",
       "      <td>ANNADALE</td>\n",
       "      <td>01 ONE FAMILY DWELLINGS</td>\n",
       "      <td>1</td>\n",
       "      <td>NaN</td>\n",
       "      <td>A2</td>\n",
       "      <td>1</td>\n",
       "      <td>0</td>\n",
       "      <td>1</td>\n",
       "      <td>10500.0</td>\n",
       "      <td>2278.0</td>\n",
       "      <td>1980</td>\n",
       "      <td>1</td>\n",
       "      <td>A2</td>\n",
       "      <td>0.0</td>\n",
       "      <td>2022-12-27</td>\n",
       "      <td>transf_ownership</td>\n",
       "      <td>Staten Island</td>\n",
       "      <td>zero</td>\n",
       "    </tr>\n",
       "  </tbody>\n",
       "</table>\n",
       "</div>"
      ],
      "text/plain": [
       "  borough_code neighborhood  building_class_category tax_class_at_present  \\\n",
       "0            5     ANNADALE  01 ONE FAMILY DWELLINGS                    1   \n",
       "1            5     ANNADALE  01 ONE FAMILY DWELLINGS                    1   \n",
       "2            5     ANNADALE  01 ONE FAMILY DWELLINGS                    1   \n",
       "3            5     ANNADALE  01 ONE FAMILY DWELLINGS                    1   \n",
       "4            5     ANNADALE  01 ONE FAMILY DWELLINGS                    1   \n",
       "\n",
       "  easement building_class_at_present  residential_units  commercial_units  \\\n",
       "0      NaN                        A5                  1                 0   \n",
       "1      NaN                        A1                  1                 0   \n",
       "2      NaN                        A1                  1                 0   \n",
       "3      NaN                        A2                  1                 0   \n",
       "4      NaN                        A2                  1                 0   \n",
       "\n",
       "   total_units  land_square_feet  gross_square_feet  year_built  \\\n",
       "0            1            3654.0              910.0        2002   \n",
       "1            1            7654.0             2277.0        1980   \n",
       "2            1           13320.0             4696.0        1985   \n",
       "3            1            8190.0             1528.0        1970   \n",
       "4            1           10500.0             2278.0        1980   \n",
       "\n",
       "  tax_class_at_time_of_sale building_class_at_time_of_sale  sale_price  \\\n",
       "0                         1                             A5    764000.0   \n",
       "1                         1                             A1   1098000.0   \n",
       "2                         1                             A1         0.0   \n",
       "3                         1                             A2    890000.0   \n",
       "4                         1                             A2         0.0   \n",
       "\n",
       "   sale_date   sale_price_flag   borough_name sale_price_cat  \n",
       "0 2022-06-30               nan  Staten Island         medium  \n",
       "1 2022-08-19               nan  Staten Island           high  \n",
       "2 2022-04-20  transf_ownership  Staten Island           zero  \n",
       "3 2022-01-03               nan  Staten Island           high  \n",
       "4 2022-12-27  transf_ownership  Staten Island           zero  "
      ]
     },
     "execution_count": 7,
     "metadata": {},
     "output_type": "execute_result"
    }
   ],
   "source": [
    "# Inspect head of df\n",
    "df.head(5)"
   ]
  },
  {
   "cell_type": "code",
   "execution_count": 8,
   "id": "506f22cc",
   "metadata": {},
   "outputs": [
    {
     "data": {
      "text/html": [
       "<div>\n",
       "<style scoped>\n",
       "    .dataframe tbody tr th:only-of-type {\n",
       "        vertical-align: middle;\n",
       "    }\n",
       "\n",
       "    .dataframe tbody tr th {\n",
       "        vertical-align: top;\n",
       "    }\n",
       "\n",
       "    .dataframe thead th {\n",
       "        text-align: right;\n",
       "    }\n",
       "</style>\n",
       "<table border=\"1\" class=\"dataframe\">\n",
       "  <thead>\n",
       "    <tr style=\"text-align: right;\">\n",
       "      <th></th>\n",
       "      <th>borough_code</th>\n",
       "      <th>neighborhood</th>\n",
       "      <th>building_class_category</th>\n",
       "      <th>tax_class_at_present</th>\n",
       "      <th>easement</th>\n",
       "      <th>building_class_at_present</th>\n",
       "      <th>residential_units</th>\n",
       "      <th>commercial_units</th>\n",
       "      <th>total_units</th>\n",
       "      <th>land_square_feet</th>\n",
       "      <th>gross_square_feet</th>\n",
       "      <th>year_built</th>\n",
       "      <th>tax_class_at_time_of_sale</th>\n",
       "      <th>building_class_at_time_of_sale</th>\n",
       "      <th>sale_price</th>\n",
       "      <th>sale_date</th>\n",
       "      <th>sale_price_flag</th>\n",
       "      <th>borough_name</th>\n",
       "      <th>sale_price_cat</th>\n",
       "    </tr>\n",
       "  </thead>\n",
       "  <tbody>\n",
       "    <tr>\n",
       "      <th>1916225</th>\n",
       "      <td>2</td>\n",
       "      <td>WOODLAWN</td>\n",
       "      <td>10 COOPS - ELEVATOR APARTMENTS</td>\n",
       "      <td>2</td>\n",
       "      <td>NaN</td>\n",
       "      <td>D4</td>\n",
       "      <td>1</td>\n",
       "      <td>0</td>\n",
       "      <td>1</td>\n",
       "      <td>1975.0</td>\n",
       "      <td>1346.0</td>\n",
       "      <td>1958</td>\n",
       "      <td>2</td>\n",
       "      <td>D4</td>\n",
       "      <td>195000.0</td>\n",
       "      <td>2023-02-15</td>\n",
       "      <td>nan</td>\n",
       "      <td>Bronx</td>\n",
       "      <td>low</td>\n",
       "    </tr>\n",
       "    <tr>\n",
       "      <th>1916243</th>\n",
       "      <td>2</td>\n",
       "      <td>WOODLAWN</td>\n",
       "      <td>10 COOPS - ELEVATOR APARTMENTS</td>\n",
       "      <td>2</td>\n",
       "      <td>NaN</td>\n",
       "      <td>D4</td>\n",
       "      <td>1</td>\n",
       "      <td>0</td>\n",
       "      <td>1</td>\n",
       "      <td>1975.0</td>\n",
       "      <td>1346.0</td>\n",
       "      <td>1958</td>\n",
       "      <td>2</td>\n",
       "      <td>D4</td>\n",
       "      <td>220000.0</td>\n",
       "      <td>2023-03-09</td>\n",
       "      <td>nan</td>\n",
       "      <td>Bronx</td>\n",
       "      <td>low</td>\n",
       "    </tr>\n",
       "    <tr>\n",
       "      <th>1916245</th>\n",
       "      <td>2</td>\n",
       "      <td>WOODLAWN</td>\n",
       "      <td>10 COOPS - ELEVATOR APARTMENTS</td>\n",
       "      <td>2</td>\n",
       "      <td>NaN</td>\n",
       "      <td>D4</td>\n",
       "      <td>1</td>\n",
       "      <td>0</td>\n",
       "      <td>1</td>\n",
       "      <td>1975.0</td>\n",
       "      <td>1346.0</td>\n",
       "      <td>1957</td>\n",
       "      <td>2</td>\n",
       "      <td>D4</td>\n",
       "      <td>250000.0</td>\n",
       "      <td>2023-02-02</td>\n",
       "      <td>nan</td>\n",
       "      <td>Bronx</td>\n",
       "      <td>low</td>\n",
       "    </tr>\n",
       "    <tr>\n",
       "      <th>1916253</th>\n",
       "      <td>2</td>\n",
       "      <td>WOODLAWN</td>\n",
       "      <td>10 COOPS - ELEVATOR APARTMENTS</td>\n",
       "      <td>2</td>\n",
       "      <td>NaN</td>\n",
       "      <td>D4</td>\n",
       "      <td>1</td>\n",
       "      <td>0</td>\n",
       "      <td>1</td>\n",
       "      <td>1975.0</td>\n",
       "      <td>1346.0</td>\n",
       "      <td>1957</td>\n",
       "      <td>2</td>\n",
       "      <td>D4</td>\n",
       "      <td>114500.0</td>\n",
       "      <td>2023-03-01</td>\n",
       "      <td>nan</td>\n",
       "      <td>Bronx</td>\n",
       "      <td>low</td>\n",
       "    </tr>\n",
       "    <tr>\n",
       "      <th>1916259</th>\n",
       "      <td>2</td>\n",
       "      <td>WOODLAWN</td>\n",
       "      <td>22 STORE BUILDINGS</td>\n",
       "      <td>4</td>\n",
       "      <td>NaN</td>\n",
       "      <td>K1</td>\n",
       "      <td>0</td>\n",
       "      <td>1</td>\n",
       "      <td>1</td>\n",
       "      <td>9699.0</td>\n",
       "      <td>3400.0</td>\n",
       "      <td>1970</td>\n",
       "      <td>4</td>\n",
       "      <td>K1</td>\n",
       "      <td>0.0</td>\n",
       "      <td>2022-12-12</td>\n",
       "      <td>transf_ownership</td>\n",
       "      <td>Bronx</td>\n",
       "      <td>zero</td>\n",
       "    </tr>\n",
       "  </tbody>\n",
       "</table>\n",
       "</div>"
      ],
      "text/plain": [
       "        borough_code neighborhood         building_class_category  \\\n",
       "1916225            2     WOODLAWN  10 COOPS - ELEVATOR APARTMENTS   \n",
       "1916243            2     WOODLAWN  10 COOPS - ELEVATOR APARTMENTS   \n",
       "1916245            2     WOODLAWN  10 COOPS - ELEVATOR APARTMENTS   \n",
       "1916253            2     WOODLAWN  10 COOPS - ELEVATOR APARTMENTS   \n",
       "1916259            2     WOODLAWN              22 STORE BUILDINGS   \n",
       "\n",
       "        tax_class_at_present easement building_class_at_present  \\\n",
       "1916225                    2      NaN                        D4   \n",
       "1916243                    2      NaN                        D4   \n",
       "1916245                    2      NaN                        D4   \n",
       "1916253                    2      NaN                        D4   \n",
       "1916259                    4      NaN                        K1   \n",
       "\n",
       "         residential_units  commercial_units  total_units  land_square_feet  \\\n",
       "1916225                  1                 0            1            1975.0   \n",
       "1916243                  1                 0            1            1975.0   \n",
       "1916245                  1                 0            1            1975.0   \n",
       "1916253                  1                 0            1            1975.0   \n",
       "1916259                  0                 1            1            9699.0   \n",
       "\n",
       "         gross_square_feet  year_built tax_class_at_time_of_sale  \\\n",
       "1916225             1346.0        1958                         2   \n",
       "1916243             1346.0        1958                         2   \n",
       "1916245             1346.0        1957                         2   \n",
       "1916253             1346.0        1957                         2   \n",
       "1916259             3400.0        1970                         4   \n",
       "\n",
       "        building_class_at_time_of_sale  sale_price  sale_date  \\\n",
       "1916225                             D4    195000.0 2023-02-15   \n",
       "1916243                             D4    220000.0 2023-03-09   \n",
       "1916245                             D4    250000.0 2023-02-02   \n",
       "1916253                             D4    114500.0 2023-03-01   \n",
       "1916259                             K1         0.0 2022-12-12   \n",
       "\n",
       "          sale_price_flag borough_name sale_price_cat  \n",
       "1916225               nan        Bronx            low  \n",
       "1916243               nan        Bronx            low  \n",
       "1916245               nan        Bronx            low  \n",
       "1916253               nan        Bronx            low  \n",
       "1916259  transf_ownership        Bronx           zero  "
      ]
     },
     "execution_count": 8,
     "metadata": {},
     "output_type": "execute_result"
    }
   ],
   "source": [
    "# Inspect tail of df\n",
    "df.tail(5)"
   ]
  },
  {
   "cell_type": "code",
   "execution_count": 9,
   "id": "0918b86c",
   "metadata": {},
   "outputs": [
    {
     "data": {
      "text/html": [
       "<div>\n",
       "<style scoped>\n",
       "    .dataframe tbody tr th:only-of-type {\n",
       "        vertical-align: middle;\n",
       "    }\n",
       "\n",
       "    .dataframe tbody tr th {\n",
       "        vertical-align: top;\n",
       "    }\n",
       "\n",
       "    .dataframe thead th {\n",
       "        text-align: right;\n",
       "    }\n",
       "</style>\n",
       "<table border=\"1\" class=\"dataframe\">\n",
       "  <thead>\n",
       "    <tr style=\"text-align: right;\">\n",
       "      <th></th>\n",
       "      <th>residential_units</th>\n",
       "      <th>commercial_units</th>\n",
       "      <th>total_units</th>\n",
       "      <th>land_square_feet</th>\n",
       "      <th>gross_square_feet</th>\n",
       "      <th>year_built</th>\n",
       "      <th>sale_price</th>\n",
       "    </tr>\n",
       "  </thead>\n",
       "  <tbody>\n",
       "    <tr>\n",
       "      <th>count</th>\n",
       "      <td>1.665722e+06</td>\n",
       "      <td>1.665722e+06</td>\n",
       "      <td>1.665722e+06</td>\n",
       "      <td>1.665722e+06</td>\n",
       "      <td>1.665722e+06</td>\n",
       "      <td>1.665722e+06</td>\n",
       "      <td>1.665722e+06</td>\n",
       "    </tr>\n",
       "    <tr>\n",
       "      <th>mean</th>\n",
       "      <td>2.509923e+00</td>\n",
       "      <td>2.403853e-01</td>\n",
       "      <td>2.759210e+00</td>\n",
       "      <td>3.710365e+03</td>\n",
       "      <td>4.272111e+03</td>\n",
       "      <td>1.948715e+03</td>\n",
       "      <td>9.438209e+05</td>\n",
       "    </tr>\n",
       "    <tr>\n",
       "      <th>std</th>\n",
       "      <td>3.442822e+01</td>\n",
       "      <td>7.740843e+00</td>\n",
       "      <td>3.538551e+01</td>\n",
       "      <td>2.959178e+05</td>\n",
       "      <td>4.246420e+04</td>\n",
       "      <td>3.367233e+01</td>\n",
       "      <td>1.158814e+07</td>\n",
       "    </tr>\n",
       "    <tr>\n",
       "      <th>min</th>\n",
       "      <td>0.000000e+00</td>\n",
       "      <td>0.000000e+00</td>\n",
       "      <td>0.000000e+00</td>\n",
       "      <td>0.000000e+00</td>\n",
       "      <td>0.000000e+00</td>\n",
       "      <td>1.648000e+03</td>\n",
       "      <td>0.000000e+00</td>\n",
       "    </tr>\n",
       "    <tr>\n",
       "      <th>25%</th>\n",
       "      <td>1.000000e+00</td>\n",
       "      <td>0.000000e+00</td>\n",
       "      <td>1.000000e+00</td>\n",
       "      <td>0.000000e+00</td>\n",
       "      <td>0.000000e+00</td>\n",
       "      <td>1.925000e+03</td>\n",
       "      <td>0.000000e+00</td>\n",
       "    </tr>\n",
       "    <tr>\n",
       "      <th>50%</th>\n",
       "      <td>1.000000e+00</td>\n",
       "      <td>0.000000e+00</td>\n",
       "      <td>1.000000e+00</td>\n",
       "      <td>1.980000e+03</td>\n",
       "      <td>1.404000e+03</td>\n",
       "      <td>1.940000e+03</td>\n",
       "      <td>3.500000e+05</td>\n",
       "    </tr>\n",
       "    <tr>\n",
       "      <th>75%</th>\n",
       "      <td>2.000000e+00</td>\n",
       "      <td>0.000000e+00</td>\n",
       "      <td>2.000000e+00</td>\n",
       "      <td>2.900000e+03</td>\n",
       "      <td>2.430000e+03</td>\n",
       "      <td>1.969000e+03</td>\n",
       "      <td>6.800000e+05</td>\n",
       "    </tr>\n",
       "    <tr>\n",
       "      <th>max</th>\n",
       "      <td>2.081100e+04</td>\n",
       "      <td>4.964000e+03</td>\n",
       "      <td>2.081100e+04</td>\n",
       "      <td>2.147557e+08</td>\n",
       "      <td>1.496215e+07</td>\n",
       "      <td>2.022000e+03</td>\n",
       "      <td>4.111112e+09</td>\n",
       "    </tr>\n",
       "  </tbody>\n",
       "</table>\n",
       "</div>"
      ],
      "text/plain": [
       "       residential_units  commercial_units   total_units  land_square_feet  \\\n",
       "count       1.665722e+06      1.665722e+06  1.665722e+06      1.665722e+06   \n",
       "mean        2.509923e+00      2.403853e-01  2.759210e+00      3.710365e+03   \n",
       "std         3.442822e+01      7.740843e+00  3.538551e+01      2.959178e+05   \n",
       "min         0.000000e+00      0.000000e+00  0.000000e+00      0.000000e+00   \n",
       "25%         1.000000e+00      0.000000e+00  1.000000e+00      0.000000e+00   \n",
       "50%         1.000000e+00      0.000000e+00  1.000000e+00      1.980000e+03   \n",
       "75%         2.000000e+00      0.000000e+00  2.000000e+00      2.900000e+03   \n",
       "max         2.081100e+04      4.964000e+03  2.081100e+04      2.147557e+08   \n",
       "\n",
       "       gross_square_feet    year_built    sale_price  \n",
       "count       1.665722e+06  1.665722e+06  1.665722e+06  \n",
       "mean        4.272111e+03  1.948715e+03  9.438209e+05  \n",
       "std         4.246420e+04  3.367233e+01  1.158814e+07  \n",
       "min         0.000000e+00  1.648000e+03  0.000000e+00  \n",
       "25%         0.000000e+00  1.925000e+03  0.000000e+00  \n",
       "50%         1.404000e+03  1.940000e+03  3.500000e+05  \n",
       "75%         2.430000e+03  1.969000e+03  6.800000e+05  \n",
       "max         1.496215e+07  2.022000e+03  4.111112e+09  "
      ]
     },
     "execution_count": 9,
     "metadata": {},
     "output_type": "execute_result"
    }
   ],
   "source": [
    "# Get descriptive statistics on variables in df\n",
    "df.describe()"
   ]
  },
  {
   "cell_type": "markdown",
   "id": "0054f213",
   "metadata": {},
   "source": [
    "## 02.2 Data cleaning"
   ]
  },
  {
   "cell_type": "code",
   "execution_count": 10,
   "id": "4bc78909",
   "metadata": {},
   "outputs": [
    {
     "data": {
      "text/plain": [
       "483934"
      ]
     },
     "execution_count": 10,
     "metadata": {},
     "output_type": "execute_result"
    }
   ],
   "source": [
    "# Get number of rows with sale_price = 0\n",
    "len(df[df['sale_price']==0])"
   ]
  },
  {
   "cell_type": "code",
   "execution_count": 11,
   "id": "d51208b8",
   "metadata": {},
   "outputs": [],
   "source": [
    "# Remove ownership transfers with sale_price = 0 in preparation of building a model to predict sale prices\n",
    "df = df[df['sale_price']!=0]"
   ]
  },
  {
   "cell_type": "code",
   "execution_count": 12,
   "id": "1eb7ea1e",
   "metadata": {},
   "outputs": [
    {
     "data": {
      "text/plain": [
       "(1181788, 19)"
      ]
     },
     "execution_count": 12,
     "metadata": {},
     "output_type": "execute_result"
    }
   ],
   "source": [
    "# Get shape of df after dropping ownership transfers\n",
    "df.shape"
   ]
  },
  {
   "cell_type": "code",
   "execution_count": 13,
   "id": "9d9e4c60",
   "metadata": {},
   "outputs": [
    {
     "data": {
      "text/html": [
       "<div>\n",
       "<style scoped>\n",
       "    .dataframe tbody tr th:only-of-type {\n",
       "        vertical-align: middle;\n",
       "    }\n",
       "\n",
       "    .dataframe tbody tr th {\n",
       "        vertical-align: top;\n",
       "    }\n",
       "\n",
       "    .dataframe thead th {\n",
       "        text-align: right;\n",
       "    }\n",
       "</style>\n",
       "<table border=\"1\" class=\"dataframe\">\n",
       "  <thead>\n",
       "    <tr style=\"text-align: right;\">\n",
       "      <th></th>\n",
       "      <th>residential_units</th>\n",
       "      <th>commercial_units</th>\n",
       "      <th>total_units</th>\n",
       "      <th>land_square_feet</th>\n",
       "      <th>gross_square_feet</th>\n",
       "      <th>year_built</th>\n",
       "      <th>sale_price</th>\n",
       "    </tr>\n",
       "  </thead>\n",
       "  <tbody>\n",
       "    <tr>\n",
       "      <th>count</th>\n",
       "      <td>1.181788e+06</td>\n",
       "      <td>1.181788e+06</td>\n",
       "      <td>1.181788e+06</td>\n",
       "      <td>1.181788e+06</td>\n",
       "      <td>1.181788e+06</td>\n",
       "      <td>1.181788e+06</td>\n",
       "      <td>1.181788e+06</td>\n",
       "    </tr>\n",
       "    <tr>\n",
       "      <th>mean</th>\n",
       "      <td>2.283821e+00</td>\n",
       "      <td>1.958304e-01</td>\n",
       "      <td>2.485898e+00</td>\n",
       "      <td>3.431981e+03</td>\n",
       "      <td>3.894395e+03</td>\n",
       "      <td>1.949820e+03</td>\n",
       "      <td>1.330309e+06</td>\n",
       "    </tr>\n",
       "    <tr>\n",
       "      <th>std</th>\n",
       "      <td>3.111323e+01</td>\n",
       "      <td>7.304392e+00</td>\n",
       "      <td>3.206491e+01</td>\n",
       "      <td>2.866194e+05</td>\n",
       "      <td>3.934287e+04</td>\n",
       "      <td>3.374881e+01</td>\n",
       "      <td>1.373898e+07</td>\n",
       "    </tr>\n",
       "    <tr>\n",
       "      <th>min</th>\n",
       "      <td>0.000000e+00</td>\n",
       "      <td>0.000000e+00</td>\n",
       "      <td>0.000000e+00</td>\n",
       "      <td>0.000000e+00</td>\n",
       "      <td>0.000000e+00</td>\n",
       "      <td>1.648000e+03</td>\n",
       "      <td>1.000000e+00</td>\n",
       "    </tr>\n",
       "    <tr>\n",
       "      <th>25%</th>\n",
       "      <td>0.000000e+00</td>\n",
       "      <td>0.000000e+00</td>\n",
       "      <td>1.000000e+00</td>\n",
       "      <td>0.000000e+00</td>\n",
       "      <td>0.000000e+00</td>\n",
       "      <td>1.925000e+03</td>\n",
       "      <td>3.125000e+05</td>\n",
       "    </tr>\n",
       "    <tr>\n",
       "      <th>50%</th>\n",
       "      <td>1.000000e+00</td>\n",
       "      <td>0.000000e+00</td>\n",
       "      <td>1.000000e+00</td>\n",
       "      <td>1.975000e+03</td>\n",
       "      <td>1.346000e+03</td>\n",
       "      <td>1.945000e+03</td>\n",
       "      <td>5.200000e+05</td>\n",
       "    </tr>\n",
       "    <tr>\n",
       "      <th>75%</th>\n",
       "      <td>2.000000e+00</td>\n",
       "      <td>0.000000e+00</td>\n",
       "      <td>2.000000e+00</td>\n",
       "      <td>2.600000e+03</td>\n",
       "      <td>2.176000e+03</td>\n",
       "      <td>1.970000e+03</td>\n",
       "      <td>8.566870e+05</td>\n",
       "    </tr>\n",
       "    <tr>\n",
       "      <th>max</th>\n",
       "      <td>2.081100e+04</td>\n",
       "      <td>4.964000e+03</td>\n",
       "      <td>2.081100e+04</td>\n",
       "      <td>2.147557e+08</td>\n",
       "      <td>1.496215e+07</td>\n",
       "      <td>2.022000e+03</td>\n",
       "      <td>4.111112e+09</td>\n",
       "    </tr>\n",
       "  </tbody>\n",
       "</table>\n",
       "</div>"
      ],
      "text/plain": [
       "       residential_units  commercial_units   total_units  land_square_feet  \\\n",
       "count       1.181788e+06      1.181788e+06  1.181788e+06      1.181788e+06   \n",
       "mean        2.283821e+00      1.958304e-01  2.485898e+00      3.431981e+03   \n",
       "std         3.111323e+01      7.304392e+00  3.206491e+01      2.866194e+05   \n",
       "min         0.000000e+00      0.000000e+00  0.000000e+00      0.000000e+00   \n",
       "25%         0.000000e+00      0.000000e+00  1.000000e+00      0.000000e+00   \n",
       "50%         1.000000e+00      0.000000e+00  1.000000e+00      1.975000e+03   \n",
       "75%         2.000000e+00      0.000000e+00  2.000000e+00      2.600000e+03   \n",
       "max         2.081100e+04      4.964000e+03  2.081100e+04      2.147557e+08   \n",
       "\n",
       "       gross_square_feet    year_built    sale_price  \n",
       "count       1.181788e+06  1.181788e+06  1.181788e+06  \n",
       "mean        3.894395e+03  1.949820e+03  1.330309e+06  \n",
       "std         3.934287e+04  3.374881e+01  1.373898e+07  \n",
       "min         0.000000e+00  1.648000e+03  1.000000e+00  \n",
       "25%         0.000000e+00  1.925000e+03  3.125000e+05  \n",
       "50%         1.346000e+03  1.945000e+03  5.200000e+05  \n",
       "75%         2.176000e+03  1.970000e+03  8.566870e+05  \n",
       "max         1.496215e+07  2.022000e+03  4.111112e+09  "
      ]
     },
     "execution_count": 13,
     "metadata": {},
     "output_type": "execute_result"
    }
   ],
   "source": [
    "# Get new descriptive statistics\n",
    "df.describe()"
   ]
  },
  {
   "cell_type": "code",
   "execution_count": 14,
   "id": "e20b7d55",
   "metadata": {},
   "outputs": [
    {
     "data": {
      "text/plain": [
       "309295"
      ]
     },
     "execution_count": 14,
     "metadata": {},
     "output_type": "execute_result"
    }
   ],
   "source": [
    "# Check number of rows with residential_units = 0\n",
    "len(df[df['residential_units']==0])"
   ]
  },
  {
   "cell_type": "code",
   "execution_count": 15,
   "id": "dd3c9f3b",
   "metadata": {},
   "outputs": [
    {
     "data": {
      "text/plain": [
       "1098321"
      ]
     },
     "execution_count": 15,
     "metadata": {},
     "output_type": "execute_result"
    }
   ],
   "source": [
    "# Check number of rows with commercial_units = 0\n",
    "len(df[df['commercial_units']==0])"
   ]
  },
  {
   "cell_type": "code",
   "execution_count": 16,
   "id": "51b68266",
   "metadata": {},
   "outputs": [
    {
     "data": {
      "text/plain": [
       "260008"
      ]
     },
     "execution_count": 16,
     "metadata": {},
     "output_type": "execute_result"
    }
   ],
   "source": [
    "# Check number of rows with total_units = 0\n",
    "len(df[df['total_units']==0])"
   ]
  },
  {
   "cell_type": "markdown",
   "id": "48fd1dba",
   "metadata": {},
   "source": [
    "With total_units having the fewest number of rows with a value of 0, this seems to be the most suitable variable to use in a model to predict sale prices (as it keeps the number of observations high)."
   ]
  },
  {
   "cell_type": "code",
   "execution_count": 17,
   "id": "c0d5dac6",
   "metadata": {},
   "outputs": [],
   "source": [
    "# Keep only rows with values !=0 in total_units\n",
    "df=df[df['total_units']!=0]"
   ]
  },
  {
   "cell_type": "code",
   "execution_count": 18,
   "id": "1c1ebe99",
   "metadata": {},
   "outputs": [
    {
     "data": {
      "text/plain": [
       "(921780, 19)"
      ]
     },
     "execution_count": 18,
     "metadata": {},
     "output_type": "execute_result"
    }
   ],
   "source": [
    "# Get dimensions of df after dropping rows\n",
    "df.shape"
   ]
  },
  {
   "cell_type": "code",
   "execution_count": 19,
   "id": "49fcd0b7",
   "metadata": {},
   "outputs": [
    {
     "data": {
      "text/plain": [
       "<AxesSubplot:xlabel='sale_price', ylabel='Count'>"
      ]
     },
     "execution_count": 19,
     "metadata": {},
     "output_type": "execute_result"
    },
    {
     "data": {
      "image/png": "[encoded data removed]",
      "text/plain": [
       "<Figure size 640x480 with 1 Axes>"
      ]
     },
     "metadata": {},
     "output_type": "display_data"
    }
   ],
   "source": [
    "# Check distribution of sale_price\n",
    "sns.histplot(df['sale_price'], bins=25)"
   ]
  },
  {
   "cell_type": "code",
   "execution_count": 20,
   "id": "d25a4859",
   "metadata": {},
   "outputs": [
    {
     "data": {
      "text/plain": [
       "<AxesSubplot:xlabel='total_units', ylabel='Count'>"
      ]
     },
     "execution_count": 20,
     "metadata": {},
     "output_type": "execute_result"
    },
    {
     "data": {
      "image/png": "[encoded data removed]",
      "text/plain": [
       "<Figure size 640x480 with 1 Axes>"
      ]
     },
     "metadata": {},
     "output_type": "display_data"
    }
   ],
   "source": [
    "# Check distribution of total_units\n",
    "sns.histplot(df['total_units'], bins=25)"
   ]
  },
  {
   "cell_type": "code",
   "execution_count": 21,
   "id": "a7e9dfb3",
   "metadata": {},
   "outputs": [],
   "source": [
    "# Define function identifying outliers based on empirical rule\n",
    "def find_outliers_std(df):\n",
    "    two_std = df.std()*2\n",
    "    outliers = df[(df<(np.mean(df)-two_std)) | (df>(np.mean(df)+two_std))]\n",
    "    return outliers"
   ]
  },
  {
   "cell_type": "code",
   "execution_count": 22,
   "id": "c5915c2c",
   "metadata": {},
   "outputs": [
    {
     "data": {
      "text/plain": [
       "4225       51000000.0\n",
       "6346       45600000.0\n",
       "6347       45600000.0\n",
       "6348       45600000.0\n",
       "6834       57000000.0\n",
       "              ...    \n",
       "1914615    57044793.0\n",
       "1914616    57044793.0\n",
       "1914617    57044793.0\n",
       "1915659    32300524.0\n",
       "1915663    32300524.0\n",
       "Name: sale_price, Length: 3465, dtype: float64"
      ]
     },
     "execution_count": 22,
     "metadata": {},
     "output_type": "execute_result"
    }
   ],
   "source": [
    "# Get outliers in sale_price\n",
    "find_outliers_std(df['sale_price'])"
   ]
  },
  {
   "cell_type": "code",
   "execution_count": 23,
   "id": "bfb0ee08",
   "metadata": {},
   "outputs": [
    {
     "data": {
      "text/plain": [
       "14164       83\n",
       "14912      153\n",
       "14933      110\n",
       "14934      115\n",
       "14935      117\n",
       "          ... \n",
       "1911854     76\n",
       "1912070    111\n",
       "1912494     81\n",
       "1912495     81\n",
       "1915662     78\n",
       "Name: total_units, Length: 3687, dtype: int64"
      ]
     },
     "execution_count": 23,
     "metadata": {},
     "output_type": "execute_result"
    }
   ],
   "source": [
    "# Get outliers in total_units\n",
    "find_outliers_std(df['total_units'])"
   ]
  },
  {
   "cell_type": "code",
   "execution_count": 24,
   "id": "67311ae1",
   "metadata": {},
   "outputs": [],
   "source": [
    "# Define outliers for sale_price\n",
    "two_std = df['sale_price'].std()*2\n",
    "# Store outliers in df_outl_sale_price\n",
    "df_outl_sale_price = df[((df['sale_price']<(np.mean(df['sale_price'])-two_std)) | (df['sale_price']>(np.mean(df['sale_price'])+two_std)))]\n",
    "\n",
    "# Define outliers for total_units\n",
    "two_std = df['total_units'].std()*2\n",
    "# Store outliers in df_outl_tot_units\n",
    "df_outl_tot_units = df[((df['total_units']<(np.mean(df['total_units'])-two_std)) | (df['total_units']>(np.mean(df['total_units'])+two_std)))]"
   ]
  },
  {
   "cell_type": "code",
   "execution_count": 25,
   "id": "2c75fb89",
   "metadata": {},
   "outputs": [],
   "source": [
    "# Create list of outlier dfs\n",
    "outlier_list = [df_outl_sale_price, df_outl_tot_units]\n",
    "\n",
    "# Concatenate outlier dfs\n",
    "outliers = pd.concat(outlier_list)"
   ]
  },
  {
   "cell_type": "code",
   "execution_count": 26,
   "id": "b883dbc5",
   "metadata": {},
   "outputs": [
    {
     "data": {
      "text/plain": [
       "(7152, 19)"
      ]
     },
     "execution_count": 26,
     "metadata": {},
     "output_type": "execute_result"
    }
   ],
   "source": [
    "# Get shape of outlier df\n",
    "outliers.shape"
   ]
  },
  {
   "cell_type": "code",
   "execution_count": 27,
   "id": "45da31f6",
   "metadata": {},
   "outputs": [
    {
     "data": {
      "text/plain": [
       "(6067, 19)"
      ]
     },
     "execution_count": 27,
     "metadata": {},
     "output_type": "execute_result"
    }
   ],
   "source": [
    "# Drop duplicates from outliers\n",
    "outliers.drop_duplicates(inplace=True)\n",
    "\n",
    "# Get dimensions of outliers\n",
    "outliers.shape"
   ]
  },
  {
   "cell_type": "code",
   "execution_count": 28,
   "id": "3af50ffc",
   "metadata": {},
   "outputs": [
    {
     "data": {
      "text/plain": [
       "(921780, 19)"
      ]
     },
     "execution_count": 28,
     "metadata": {},
     "output_type": "execute_result"
    }
   ],
   "source": [
    "# Get dimensions of df before dropping\n",
    "df.shape"
   ]
  },
  {
   "cell_type": "code",
   "execution_count": 29,
   "id": "a1b0c901",
   "metadata": {},
   "outputs": [
    {
     "data": {
      "text/plain": [
       "(915713, 19)"
      ]
     },
     "execution_count": 29,
     "metadata": {},
     "output_type": "execute_result"
    }
   ],
   "source": [
    "# Drop outliers from df\n",
    "df.drop(outliers.index, axis=0, inplace=True)\n",
    "\n",
    "# Get dimensions of df after dropping\n",
    "df.shape"
   ]
  },
  {
   "cell_type": "code",
   "execution_count": 30,
   "id": "076267d7",
   "metadata": {},
   "outputs": [
    {
     "data": {
      "text/plain": [
       "<AxesSubplot:xlabel='sale_price', ylabel='Count'>"
      ]
     },
     "execution_count": 30,
     "metadata": {},
     "output_type": "execute_result"
    },
    {
     "data": {
      "image/png": "[encoded data removed]",
      "text/plain": [
       "<Figure size 640x480 with 1 Axes>"
      ]
     },
     "metadata": {},
     "output_type": "display_data"
    }
   ],
   "source": [
    "# Check distribution of sale_price again\n",
    "sns.histplot(df['sale_price'], bins=25)"
   ]
  },
  {
   "cell_type": "code",
   "execution_count": 31,
   "id": "fc83ef5e",
   "metadata": {},
   "outputs": [
    {
     "data": {
      "text/plain": [
       "<AxesSubplot:xlabel='total_units', ylabel='Count'>"
      ]
     },
     "execution_count": 31,
     "metadata": {},
     "output_type": "execute_result"
    },
    {
     "data": {
      "image/png": "[encoded data removed]",
      "text/plain": [
       "<Figure size 640x480 with 1 Axes>"
      ]
     },
     "metadata": {},
     "output_type": "display_data"
    }
   ],
   "source": [
    "# Check distribution of total_units again\n",
    "sns.histplot(df['total_units'], bins=25)"
   ]
  },
  {
   "cell_type": "markdown",
   "id": "41a74417",
   "metadata": {},
   "source": [
    "The histograms show that removing outliers based on empirical rule has left many extreme values in the dataset. It may turn out to be necessary to remove outliers with a stricter approach, e.g. based on IQR instead of empirical rule. "
   ]
  },
  {
   "cell_type": "markdown",
   "id": "24379473",
   "metadata": {},
   "source": [
    "## 02.3 Exploring relationships"
   ]
  },
  {
   "cell_type": "code",
   "execution_count": 32,
   "id": "b71697bb",
   "metadata": {},
   "outputs": [
    {
     "data": {
      "text/plain": [
       "Text(0, 0.5, 'Sale price')"
      ]
     },
     "execution_count": 32,
     "metadata": {},
     "output_type": "execute_result"
    },
    {
     "data": {
      "image/png": "[encoded data removed]",
      "text/plain": [
       "<Figure size 640x480 with 1 Axes>"
      ]
     },
     "metadata": {},
     "output_type": "display_data"
    }
   ],
   "source": [
    "# Create scatterplot of total_units against sale_price\n",
    "# Create plot\n",
    "sns.scatterplot(data=df, x='total_units', y='sale_price')\n",
    "\n",
    "# Add title\n",
    "plt.title('Scatterplot of total no. of units and sale price')\n",
    "# Add x-axis label\n",
    "plt.xlabel('Total no. of units')\n",
    "# Add y-axis label\n",
    "plt.ylabel('Sale price')"
   ]
  },
  {
   "cell_type": "markdown",
   "id": "d34f5eca",
   "metadata": {},
   "source": [
    "The scatterplot confirms what the histograms showed: there are still many extreme values in the dataset. Against this background, I'll first train a model on the dataset in its current shape. Then, I'll clean the dataset with a stricter approach (based on IQR instead of empirical rule) and train a second model to see whether it performs better. \n",
    "\n",
    "My hypothesis is as follows:\n",
    "The higher the total number of units in a building, the higher its price. "
   ]
  },
  {
   "cell_type": "markdown",
   "id": "656e8adb",
   "metadata": {},
   "source": [
    "# 03 Regression analysis to predict sale prices"
   ]
  },
  {
   "cell_type": "markdown",
   "id": "c1547eb2",
   "metadata": {},
   "source": [
    "## 03.1 Regression analysis incl. extreme values"
   ]
  },
  {
   "cell_type": "code",
   "execution_count": 33,
   "id": "9543b516",
   "metadata": {},
   "outputs": [],
   "source": [
    "# Reshape variables into arrays\n",
    "X = df['total_units'].values.reshape(-1,1)\n",
    "y = df['sale_price'].values.reshape(-1,1)"
   ]
  },
  {
   "cell_type": "code",
   "execution_count": 34,
   "id": "579f015f",
   "metadata": {},
   "outputs": [],
   "source": [
    "# Split data into train and test sets\n",
    "X_train, X_test, y_train, y_test = train_test_split(X, y, test_size=0.3, random_state=0)"
   ]
  },
  {
   "cell_type": "code",
   "execution_count": 35,
   "id": "fedd5b63",
   "metadata": {},
   "outputs": [],
   "source": [
    "# Create regression object\n",
    "regression = LinearRegression()"
   ]
  },
  {
   "cell_type": "code",
   "execution_count": 36,
   "id": "eef2aefb",
   "metadata": {},
   "outputs": [
    {
     "data": {
      "text/plain": [
       "LinearRegression()"
      ]
     },
     "execution_count": 36,
     "metadata": {},
     "output_type": "execute_result"
    }
   ],
   "source": [
    "# Fit regression object onto train sets\n",
    "regression.fit(X_train, y_train)"
   ]
  },
  {
   "cell_type": "code",
   "execution_count": 37,
   "id": "b846a7d5",
   "metadata": {},
   "outputs": [],
   "source": [
    "# Predict sale_prices from test set\n",
    "y_predicted = regression.predict(X_test)"
   ]
  },
  {
   "cell_type": "code",
   "execution_count": 38,
   "id": "d1e2a957",
   "metadata": {},
   "outputs": [
    {
     "data": {
      "text/plain": [
       "Text(0, 0.5, 'Sale price')"
      ]
     },
     "execution_count": 38,
     "metadata": {},
     "output_type": "execute_result"
    },
    {
     "data": {
      "image/png": "[encoded data removed]",
      "text/plain": [
       "<Figure size 640x480 with 1 Axes>"
      ]
     },
     "metadata": {},
     "output_type": "display_data"
    }
   ],
   "source": [
    "# Create scatterplot to visualise accuracy of regression model\n",
    "# Create scatterplot with test data\n",
    "plt.scatter(X_test, y_test, color='gray', s=15)\n",
    "\n",
    "# Create regression line with predicted values\n",
    "plt.plot(X_test, y_predicted, color='red', linewidth=3)\n",
    "\n",
    "# Add title \n",
    "plt.title('Accuracy of linear regression model')\n",
    "# Add x-axis label\n",
    "plt.xlabel('Total no. of units')\n",
    "# Add y-axis label\n",
    "plt.ylabel('Sale price')"
   ]
  },
  {
   "cell_type": "markdown",
   "id": "25e586cf",
   "metadata": {},
   "source": [
    "The regression line does not fit the datapoints of the scatterplot very well. Not only does it fail to predict some very high prices for buildings with a low number of units, it also fails to accurately predict lower prices towards the lower end of the total number of units."
   ]
  },
  {
   "cell_type": "code",
   "execution_count": 39,
   "id": "3c3c09df",
   "metadata": {},
   "outputs": [],
   "source": [
    "# Get model performance statistics\n",
    "rmse = mean_squared_error(y_test, y_predicted)\n",
    "r2 = r2_score(y_test, y_predicted)"
   ]
  },
  {
   "cell_type": "code",
   "execution_count": 40,
   "id": "98a10526",
   "metadata": {},
   "outputs": [
    {
     "name": "stdout",
     "output_type": "stream",
     "text": [
      "Slope : [[93932.54385089]]\n",
      "Root mean squared error : 12156666802317.541\n",
      "R2 score : 0.022330870170154893\n"
     ]
    }
   ],
   "source": [
    "# Print model performance statistics\n",
    "print('Slope :', regression.coef_)\n",
    "print('Root mean squared error :', rmse)\n",
    "print('R2 score :', r2)"
   ]
  },
  {
   "cell_type": "code",
   "execution_count": 41,
   "id": "75f2b288",
   "metadata": {},
   "outputs": [
    {
     "data": {
      "text/html": [
       "<div>\n",
       "<style scoped>\n",
       "    .dataframe tbody tr th:only-of-type {\n",
       "        vertical-align: middle;\n",
       "    }\n",
       "\n",
       "    .dataframe tbody tr th {\n",
       "        vertical-align: top;\n",
       "    }\n",
       "\n",
       "    .dataframe thead th {\n",
       "        text-align: right;\n",
       "    }\n",
       "</style>\n",
       "<table border=\"1\" class=\"dataframe\">\n",
       "  <thead>\n",
       "    <tr style=\"text-align: right;\">\n",
       "      <th></th>\n",
       "      <th>Actual sale_price</th>\n",
       "      <th>Predicted sale_price</th>\n",
       "    </tr>\n",
       "  </thead>\n",
       "  <tbody>\n",
       "    <tr>\n",
       "      <th>0</th>\n",
       "      <td>950000.0</td>\n",
       "      <td>1.057441e+06</td>\n",
       "    </tr>\n",
       "    <tr>\n",
       "      <th>1</th>\n",
       "      <td>920000.0</td>\n",
       "      <td>9.635090e+05</td>\n",
       "    </tr>\n",
       "    <tr>\n",
       "      <th>2</th>\n",
       "      <td>440000.0</td>\n",
       "      <td>1.057441e+06</td>\n",
       "    </tr>\n",
       "    <tr>\n",
       "      <th>3</th>\n",
       "      <td>740000.0</td>\n",
       "      <td>9.635090e+05</td>\n",
       "    </tr>\n",
       "    <tr>\n",
       "      <th>4</th>\n",
       "      <td>284000.0</td>\n",
       "      <td>9.635090e+05</td>\n",
       "    </tr>\n",
       "    <tr>\n",
       "      <th>5</th>\n",
       "      <td>1128000.0</td>\n",
       "      <td>9.635090e+05</td>\n",
       "    </tr>\n",
       "    <tr>\n",
       "      <th>6</th>\n",
       "      <td>12000.0</td>\n",
       "      <td>9.635090e+05</td>\n",
       "    </tr>\n",
       "    <tr>\n",
       "      <th>7</th>\n",
       "      <td>1315000.0</td>\n",
       "      <td>9.635090e+05</td>\n",
       "    </tr>\n",
       "    <tr>\n",
       "      <th>8</th>\n",
       "      <td>175000.0</td>\n",
       "      <td>9.635090e+05</td>\n",
       "    </tr>\n",
       "    <tr>\n",
       "      <th>9</th>\n",
       "      <td>314240.0</td>\n",
       "      <td>9.635090e+05</td>\n",
       "    </tr>\n",
       "    <tr>\n",
       "      <th>10</th>\n",
       "      <td>404586.0</td>\n",
       "      <td>9.635090e+05</td>\n",
       "    </tr>\n",
       "    <tr>\n",
       "      <th>11</th>\n",
       "      <td>678000.0</td>\n",
       "      <td>1.057441e+06</td>\n",
       "    </tr>\n",
       "    <tr>\n",
       "      <th>12</th>\n",
       "      <td>470000.0</td>\n",
       "      <td>9.635090e+05</td>\n",
       "    </tr>\n",
       "    <tr>\n",
       "      <th>13</th>\n",
       "      <td>250000.0</td>\n",
       "      <td>9.635090e+05</td>\n",
       "    </tr>\n",
       "    <tr>\n",
       "      <th>14</th>\n",
       "      <td>996867.0</td>\n",
       "      <td>9.635090e+05</td>\n",
       "    </tr>\n",
       "  </tbody>\n",
       "</table>\n",
       "</div>"
      ],
      "text/plain": [
       "    Actual sale_price  Predicted sale_price\n",
       "0            950000.0          1.057441e+06\n",
       "1            920000.0          9.635090e+05\n",
       "2            440000.0          1.057441e+06\n",
       "3            740000.0          9.635090e+05\n",
       "4            284000.0          9.635090e+05\n",
       "5           1128000.0          9.635090e+05\n",
       "6             12000.0          9.635090e+05\n",
       "7           1315000.0          9.635090e+05\n",
       "8            175000.0          9.635090e+05\n",
       "9            314240.0          9.635090e+05\n",
       "10           404586.0          9.635090e+05\n",
       "11           678000.0          1.057441e+06\n",
       "12           470000.0          9.635090e+05\n",
       "13           250000.0          9.635090e+05\n",
       "14           996867.0          9.635090e+05"
      ]
     },
     "execution_count": 41,
     "metadata": {},
     "output_type": "execute_result"
    }
   ],
   "source": [
    "# Compare y_test to y_predicted\n",
    "data = pd.DataFrame({'Actual sale_price' : y_test.flatten(), 'Predicted sale_price' : y_predicted.flatten()})\n",
    "data.head(15)"
   ]
  },
  {
   "cell_type": "markdown",
   "id": "74c1b951",
   "metadata": {},
   "source": [
    "The model performs very badly. While the high slope does confirm that generally, prices increase as the total number of units increases, the very high root mean squared error shows that the difference between actual and predicted values is immense. The relatively low R2 score of the model that there's a high variance in the data, and that the model fits the data poorly (only ca. 2% of the data is accurately predicted). Lastly, by purely comparing actual sale prices with predicted sale prices, one can see that the model does not predict prices very well. "
   ]
  },
  {
   "cell_type": "markdown",
   "id": "eae5d747",
   "metadata": {},
   "source": [
    "## 03.2 Regression analysis excl. extreme values"
   ]
  },
  {
   "cell_type": "code",
   "execution_count": 42,
   "id": "a53059e5",
   "metadata": {},
   "outputs": [],
   "source": [
    "# Re-import original data\n",
    "df2 = pd.read_pickle(os.path.join(path, '2023-05-28_df.pkl'))"
   ]
  },
  {
   "cell_type": "code",
   "execution_count": 43,
   "id": "9471049f",
   "metadata": {},
   "outputs": [
    {
     "data": {
      "text/plain": [
       "(1665722, 19)"
      ]
     },
     "execution_count": 43,
     "metadata": {},
     "output_type": "execute_result"
    }
   ],
   "source": [
    "# Get dimensions of df2\n",
    "df2.shape"
   ]
  },
  {
   "cell_type": "code",
   "execution_count": 44,
   "id": "140f1a70",
   "metadata": {},
   "outputs": [
    {
     "data": {
      "text/plain": [
       "483934"
      ]
     },
     "execution_count": 44,
     "metadata": {},
     "output_type": "execute_result"
    }
   ],
   "source": [
    "# Get number of rows with sale_price = 0\n",
    "len(df2[df2['sale_price']==0])"
   ]
  },
  {
   "cell_type": "code",
   "execution_count": 45,
   "id": "9cd623b3",
   "metadata": {},
   "outputs": [],
   "source": [
    "# Remove ownership transfers with sale_price = 0 in preparation of building a model to predict sale prices\n",
    "df2 = df2[df2['sale_price']!=0]"
   ]
  },
  {
   "cell_type": "code",
   "execution_count": 46,
   "id": "8be72d5c",
   "metadata": {},
   "outputs": [
    {
     "data": {
      "text/plain": [
       "(1181788, 19)"
      ]
     },
     "execution_count": 46,
     "metadata": {},
     "output_type": "execute_result"
    }
   ],
   "source": [
    "# Get shape of df2 after dropping ownership transfers\n",
    "df2.shape"
   ]
  },
  {
   "cell_type": "code",
   "execution_count": 47,
   "id": "330b1a9e",
   "metadata": {},
   "outputs": [
    {
     "data": {
      "text/plain": [
       "260008"
      ]
     },
     "execution_count": 47,
     "metadata": {},
     "output_type": "execute_result"
    }
   ],
   "source": [
    "# Check number of rows with total_units = 0\n",
    "len(df2[df2['total_units']==0])"
   ]
  },
  {
   "cell_type": "code",
   "execution_count": 48,
   "id": "56e08188",
   "metadata": {},
   "outputs": [],
   "source": [
    "# Keep only rows with values !=0 in total_units\n",
    "df2 = df2[df2['total_units']!=0]"
   ]
  },
  {
   "cell_type": "code",
   "execution_count": 49,
   "id": "c8485286",
   "metadata": {},
   "outputs": [
    {
     "data": {
      "text/plain": [
       "(921780, 19)"
      ]
     },
     "execution_count": 49,
     "metadata": {},
     "output_type": "execute_result"
    }
   ],
   "source": [
    "# Get shape of df2 after dropping\n",
    "df2.shape"
   ]
  },
  {
   "cell_type": "code",
   "execution_count": 50,
   "id": "2e7de73c",
   "metadata": {},
   "outputs": [],
   "source": [
    "# Identify outliers based on IQR\n",
    "def find_outliers_IQR(df):\n",
    "    q1 = df.quantile(0.25)\n",
    "    q3 = df.quantile(0.75)\n",
    "    IQR = q3 - q1\n",
    "    outliers = df[((df<(q1-1.5*IQR)) | (df>(q3+1.5*IQR)))]\n",
    "    return outliers"
   ]
  },
  {
   "cell_type": "code",
   "execution_count": 51,
   "id": "e8e2654f",
   "metadata": {},
   "outputs": [
    {
     "data": {
      "text/plain": [
       "90         1952799.0\n",
       "115        2250000.0\n",
       "116        2025000.0\n",
       "117        2300000.0\n",
       "118        2585000.0\n",
       "             ...    \n",
       "1915806    3900000.0\n",
       "1916147    7500000.0\n",
       "1916150    4947000.0\n",
       "1916151    4947000.0\n",
       "1916211    1800000.0\n",
       "Name: sale_price, Length: 101652, dtype: float64"
      ]
     },
     "execution_count": 51,
     "metadata": {},
     "output_type": "execute_result"
    }
   ],
   "source": [
    "# Identify outliers in sale_price\n",
    "find_outliers_IQR(df2['sale_price'])"
   ]
  },
  {
   "cell_type": "code",
   "execution_count": 52,
   "id": "82ddc85e",
   "metadata": {},
   "outputs": [
    {
     "data": {
      "text/plain": [
       "527         8\n",
       "529         4\n",
       "530         4\n",
       "929        72\n",
       "932         5\n",
       "           ..\n",
       "1916111     6\n",
       "1916118     4\n",
       "1916120     5\n",
       "1916137     5\n",
       "1916211     9\n",
       "Name: total_units, Length: 67601, dtype: int64"
      ]
     },
     "execution_count": 52,
     "metadata": {},
     "output_type": "execute_result"
    }
   ],
   "source": [
    "# Identify outliers in total_units\n",
    "find_outliers_IQR(df2['total_units'])"
   ]
  },
  {
   "cell_type": "code",
   "execution_count": 53,
   "id": "5bc146a0",
   "metadata": {},
   "outputs": [
    {
     "data": {
      "text/plain": [
       "(101652, 19)"
      ]
     },
     "execution_count": 53,
     "metadata": {},
     "output_type": "execute_result"
    }
   ],
   "source": [
    "# Define outliers for sale_price\n",
    "q1 = df2['sale_price'].quantile(0.25)\n",
    "q3 = df2['sale_price'].quantile(0.75)\n",
    "IQR = q3-q1\n",
    "\n",
    "# Store outliers in df2_outl_sale_price\n",
    "df2_outl_sale_price = df2[((df2['sale_price']<(q1-1.5*IQR)) | (df2['sale_price']>(q3+1.5*IQR)))]\n",
    "\n",
    "# Get dimensions of df2_outl_sale_price\n",
    "df2_outl_sale_price.shape"
   ]
  },
  {
   "cell_type": "code",
   "execution_count": 54,
   "id": "6e1166fe",
   "metadata": {},
   "outputs": [
    {
     "data": {
      "text/plain": [
       "(67601, 19)"
      ]
     },
     "execution_count": 54,
     "metadata": {},
     "output_type": "execute_result"
    }
   ],
   "source": [
    "# Define outliers for total_units\n",
    "q1 = df2['total_units'].quantile(0.25)\n",
    "q3 = df2['total_units'].quantile(0.75)\n",
    "IQR = q3-q1\n",
    "\n",
    "# Store outliers in df2_outl_tot_units\n",
    "df2_outl_tot_units = df2[((df2['total_units']<(q1-1.5*IQR)) | (df2['total_units']>(q3+1.5*IQR)))]\n",
    "\n",
    "# Get dimensions of df2_outl_tot_units\n",
    "df2_outl_tot_units.shape"
   ]
  },
  {
   "cell_type": "code",
   "execution_count": 55,
   "id": "d801a70e",
   "metadata": {},
   "outputs": [
    {
     "data": {
      "text/plain": [
       "(169253, 19)"
      ]
     },
     "execution_count": 55,
     "metadata": {},
     "output_type": "execute_result"
    }
   ],
   "source": [
    "# Create list of oulier dfs\n",
    "outlier_list2 = [df2_outl_sale_price, df2_outl_tot_units]\n",
    "\n",
    "# Concatenate outlier dfs\n",
    "outliers2 = pd.concat(outlier_list2)\n",
    "\n",
    "# Get dimensions of outlier df\n",
    "outliers2.shape"
   ]
  },
  {
   "cell_type": "code",
   "execution_count": 56,
   "id": "85e90bab",
   "metadata": {},
   "outputs": [
    {
     "data": {
      "text/plain": [
       "(138616, 19)"
      ]
     },
     "execution_count": 56,
     "metadata": {},
     "output_type": "execute_result"
    }
   ],
   "source": [
    "# Drop duplicates from outliers2\n",
    "outliers2.drop_duplicates(inplace=True)\n",
    "\n",
    "# Get dimensions of outliers2 after dropping\n",
    "outliers2.shape"
   ]
  },
  {
   "cell_type": "code",
   "execution_count": 57,
   "id": "425d9f8f",
   "metadata": {},
   "outputs": [
    {
     "data": {
      "text/plain": [
       "(783164, 19)"
      ]
     },
     "execution_count": 57,
     "metadata": {},
     "output_type": "execute_result"
    }
   ],
   "source": [
    "# Drop outliers from df2\n",
    "df2.drop(outliers2.index, axis=0, inplace=True)\n",
    "\n",
    "# Get dimensions of df2 after dropping\n",
    "df2.shape"
   ]
  },
  {
   "cell_type": "code",
   "execution_count": 58,
   "id": "12df70fe",
   "metadata": {},
   "outputs": [
    {
     "data": {
      "text/plain": [
       "<AxesSubplot:xlabel='sale_price', ylabel='Count'>"
      ]
     },
     "execution_count": 58,
     "metadata": {},
     "output_type": "execute_result"
    },
    {
     "data": {
      "image/png": "[encoded data removed]",
      "text/plain": [
       "<Figure size 640x480 with 1 Axes>"
      ]
     },
     "metadata": {},
     "output_type": "display_data"
    }
   ],
   "source": [
    "# Check distribution of sale_price\n",
    "sns.histplot(df2['sale_price'], bins=25)"
   ]
  },
  {
   "cell_type": "code",
   "execution_count": 59,
   "id": "89101013",
   "metadata": {},
   "outputs": [
    {
     "data": {
      "text/plain": [
       "<AxesSubplot:xlabel='total_units', ylabel='Count'>"
      ]
     },
     "execution_count": 59,
     "metadata": {},
     "output_type": "execute_result"
    },
    {
     "data": {
      "image/png": "[encoded data removed]",
      "text/plain": [
       "<Figure size 640x480 with 1 Axes>"
      ]
     },
     "metadata": {},
     "output_type": "display_data"
    }
   ],
   "source": [
    "# Check distribution of total_units\n",
    "sns.histplot(df2['total_units'], bins=25)"
   ]
  },
  {
   "cell_type": "code",
   "execution_count": 60,
   "id": "ffc88a14",
   "metadata": {},
   "outputs": [
    {
     "data": {
      "text/plain": [
       "Text(0, 0.5, 'Sale price')"
      ]
     },
     "execution_count": 60,
     "metadata": {},
     "output_type": "execute_result"
    },
    {
     "data": {
      "image/png": "[encoded data removed]",
      "text/plain": [
       "<Figure size 640x480 with 1 Axes>"
      ]
     },
     "metadata": {},
     "output_type": "display_data"
    }
   ],
   "source": [
    "# Create scatterplot of total_units against sale_price\n",
    "# Create plot\n",
    "sns.scatterplot(data=df2, x='total_units', y='sale_price')\n",
    "\n",
    "# Add title\n",
    "plt.title('Scatterplot of total no. of units and sale price')\n",
    "# Add x-axis label\n",
    "plt.xlabel('Total no. of units')\n",
    "# Add y-axis label\n",
    "plt.ylabel('Sale price')"
   ]
  },
  {
   "cell_type": "markdown",
   "id": "6961ee5e",
   "metadata": {},
   "source": [
    "From looking at the histograms and scatterplot it is highly doubtful that this second model will perform better than the first one. I'll still give it a try with the same hypothesis: The higher the total number of units in a building, the higher its price."
   ]
  },
  {
   "cell_type": "code",
   "execution_count": 61,
   "id": "a1bda1a7",
   "metadata": {},
   "outputs": [],
   "source": [
    "# Reshape variables into arrays\n",
    "X2 = df2['total_units'].values.reshape(-1,1)\n",
    "y2 = df2['sale_price'].values.reshape(-1,1)"
   ]
  },
  {
   "cell_type": "code",
   "execution_count": 62,
   "id": "1376dec0",
   "metadata": {},
   "outputs": [],
   "source": [
    "# Split data into train and test sets\n",
    "X2_train, X2_test, y2_train, y2_test = train_test_split(X2, y2, test_size=0.3, random_state=0)"
   ]
  },
  {
   "cell_type": "code",
   "execution_count": 63,
   "id": "980b28a8",
   "metadata": {},
   "outputs": [],
   "source": [
    "# Create regression object\n",
    "regression = LinearRegression()"
   ]
  },
  {
   "cell_type": "code",
   "execution_count": 64,
   "id": "4d29e8c4",
   "metadata": {},
   "outputs": [
    {
     "data": {
      "text/plain": [
       "LinearRegression()"
      ]
     },
     "execution_count": 64,
     "metadata": {},
     "output_type": "execute_result"
    }
   ],
   "source": [
    "# Fit regression object onto train sets\n",
    "regression.fit(X2_train, y2_train)"
   ]
  },
  {
   "cell_type": "code",
   "execution_count": 65,
   "id": "5cc1ca79",
   "metadata": {},
   "outputs": [],
   "source": [
    "# Predict sale_prices from test set\n",
    "y2_predicted = regression.predict(X2_test)"
   ]
  },
  {
   "cell_type": "code",
   "execution_count": 66,
   "id": "24568aee",
   "metadata": {},
   "outputs": [
    {
     "data": {
      "text/plain": [
       "Text(0, 0.5, 'Sale price')"
      ]
     },
     "execution_count": 66,
     "metadata": {},
     "output_type": "execute_result"
    },
    {
     "data": {
      "image/png": "[encoded data removed]",
      "text/plain": [
       "<Figure size 640x480 with 1 Axes>"
      ]
     },
     "metadata": {},
     "output_type": "display_data"
    }
   ],
   "source": [
    "# Create scatterplot to visualise accuracy of regression model\n",
    "# Create scatterplot with test data\n",
    "plt.scatter(X2_test, y2_test, color='gray', s=15)\n",
    "\n",
    "# Create regression line with predicted values\n",
    "plt.plot(X2_test, y2_predicted, color='red', linewidth=3)\n",
    "\n",
    "# Add title \n",
    "plt.title('Accuracy of linear regression model II')\n",
    "# Add x-axis label\n",
    "plt.xlabel('Total no. of units')\n",
    "# Add y-axis label\n",
    "plt.ylabel('Sale price')"
   ]
  },
  {
   "cell_type": "markdown",
   "id": "0aadccd2",
   "metadata": {},
   "source": [
    "The regression line of the second model does not fit the datapoints of the scatterplot any better than the first model. "
   ]
  },
  {
   "cell_type": "code",
   "execution_count": 67,
   "id": "eb3a8fe0",
   "metadata": {},
   "outputs": [],
   "source": [
    "# Get model performance statistics\n",
    "rmse = mean_squared_error(y2_test, y2_predicted)\n",
    "r2 = r2_score(y2_test, y2_predicted)"
   ]
  },
  {
   "cell_type": "code",
   "execution_count": 68,
   "id": "ff1d205c",
   "metadata": {},
   "outputs": [
    {
     "name": "stdout",
     "output_type": "stream",
     "text": [
      "Slope : [[3454.04678536]]\n",
      "Root mean squared error : 15574008229626.447\n",
      "R2 score : -9.853809900928212e-06\n"
     ]
    }
   ],
   "source": [
    "# Print model performance statistics\n",
    "print('Slope :', regression.coef_)\n",
    "print('Root mean squared error :', rmse)\n",
    "print('R2 score :', r2)"
   ]
  },
  {
   "cell_type": "code",
   "execution_count": 69,
   "id": "6f2a14ac",
   "metadata": {},
   "outputs": [
    {
     "data": {
      "text/html": [
       "<div>\n",
       "<style scoped>\n",
       "    .dataframe tbody tr th:only-of-type {\n",
       "        vertical-align: middle;\n",
       "    }\n",
       "\n",
       "    .dataframe tbody tr th {\n",
       "        vertical-align: top;\n",
       "    }\n",
       "\n",
       "    .dataframe thead th {\n",
       "        text-align: right;\n",
       "    }\n",
       "</style>\n",
       "<table border=\"1\" class=\"dataframe\">\n",
       "  <thead>\n",
       "    <tr style=\"text-align: right;\">\n",
       "      <th></th>\n",
       "      <th>Actual sale_price</th>\n",
       "      <th>Predicted sale_price</th>\n",
       "    </tr>\n",
       "  </thead>\n",
       "  <tbody>\n",
       "    <tr>\n",
       "      <th>0</th>\n",
       "      <td>650000.0</td>\n",
       "      <td>668072.342348</td>\n",
       "    </tr>\n",
       "    <tr>\n",
       "      <th>1</th>\n",
       "      <td>580000.0</td>\n",
       "      <td>664618.295563</td>\n",
       "    </tr>\n",
       "    <tr>\n",
       "      <th>2</th>\n",
       "      <td>900000.0</td>\n",
       "      <td>671526.389133</td>\n",
       "    </tr>\n",
       "    <tr>\n",
       "      <th>3</th>\n",
       "      <td>395000.0</td>\n",
       "      <td>664618.295563</td>\n",
       "    </tr>\n",
       "    <tr>\n",
       "      <th>4</th>\n",
       "      <td>650000.0</td>\n",
       "      <td>668072.342348</td>\n",
       "    </tr>\n",
       "    <tr>\n",
       "      <th>5</th>\n",
       "      <td>407000.0</td>\n",
       "      <td>664618.295563</td>\n",
       "    </tr>\n",
       "    <tr>\n",
       "      <th>6</th>\n",
       "      <td>520000.0</td>\n",
       "      <td>668072.342348</td>\n",
       "    </tr>\n",
       "    <tr>\n",
       "      <th>7</th>\n",
       "      <td>1250000.0</td>\n",
       "      <td>664618.295563</td>\n",
       "    </tr>\n",
       "    <tr>\n",
       "      <th>8</th>\n",
       "      <td>525000.0</td>\n",
       "      <td>664618.295563</td>\n",
       "    </tr>\n",
       "    <tr>\n",
       "      <th>9</th>\n",
       "      <td>500000.0</td>\n",
       "      <td>664618.295563</td>\n",
       "    </tr>\n",
       "    <tr>\n",
       "      <th>10</th>\n",
       "      <td>605000.0</td>\n",
       "      <td>668072.342348</td>\n",
       "    </tr>\n",
       "    <tr>\n",
       "      <th>11</th>\n",
       "      <td>210000.0</td>\n",
       "      <td>664618.295563</td>\n",
       "    </tr>\n",
       "    <tr>\n",
       "      <th>12</th>\n",
       "      <td>305000.0</td>\n",
       "      <td>664618.295563</td>\n",
       "    </tr>\n",
       "    <tr>\n",
       "      <th>13</th>\n",
       "      <td>1500000.0</td>\n",
       "      <td>664618.295563</td>\n",
       "    </tr>\n",
       "    <tr>\n",
       "      <th>14</th>\n",
       "      <td>490000.0</td>\n",
       "      <td>664618.295563</td>\n",
       "    </tr>\n",
       "  </tbody>\n",
       "</table>\n",
       "</div>"
      ],
      "text/plain": [
       "    Actual sale_price  Predicted sale_price\n",
       "0            650000.0         668072.342348\n",
       "1            580000.0         664618.295563\n",
       "2            900000.0         671526.389133\n",
       "3            395000.0         664618.295563\n",
       "4            650000.0         668072.342348\n",
       "5            407000.0         664618.295563\n",
       "6            520000.0         668072.342348\n",
       "7           1250000.0         664618.295563\n",
       "8            525000.0         664618.295563\n",
       "9            500000.0         664618.295563\n",
       "10           605000.0         668072.342348\n",
       "11           210000.0         664618.295563\n",
       "12           305000.0         664618.295563\n",
       "13          1500000.0         664618.295563\n",
       "14           490000.0         664618.295563"
      ]
     },
     "execution_count": 69,
     "metadata": {},
     "output_type": "execute_result"
    }
   ],
   "source": [
    "# Compare y_test to y_predicted\n",
    "data = pd.DataFrame({'Actual sale_price' : y2_test.flatten(), 'Predicted sale_price' : y2_predicted.flatten()})\n",
    "data.head(15)"
   ]
  },
  {
   "cell_type": "markdown",
   "id": "a7fb5e7e",
   "metadata": {},
   "source": [
    "The second model performs even worse than the first one. While the slope indicates that there sale prices increase with higher total numbers of units, the root mean squared error of the second model is even higher pointing to a bad fit of the model. The negative R2 score is definitve proof of the model's unfitness.\n",
    "\n",
    "I will make a third attempt to train a model that is better at predicting prices. For this purpose, I'll exclude commercial unit-sales. For this purpose, I adapt my hypothesis as follows:\n",
    "\n",
    "The higher the number of residential units, the higher the sale price."
   ]
  },
  {
   "cell_type": "markdown",
   "id": "c4c64dae",
   "metadata": {},
   "source": [
    "## 03.3 Regression analysis for residential unit-only sales"
   ]
  },
  {
   "cell_type": "code",
   "execution_count": 70,
   "id": "964f6c0e",
   "metadata": {},
   "outputs": [],
   "source": [
    "# Re-import original data\n",
    "df3 = pd.read_pickle(os.path.join(path, '2023-05-28_df.pkl'))"
   ]
  },
  {
   "cell_type": "code",
   "execution_count": 71,
   "id": "fe8daaaa",
   "metadata": {},
   "outputs": [
    {
     "data": {
      "text/plain": [
       "(1665722, 19)"
      ]
     },
     "execution_count": 71,
     "metadata": {},
     "output_type": "execute_result"
    }
   ],
   "source": [
    "# Get dimensions of df3\n",
    "df3.shape"
   ]
  },
  {
   "cell_type": "code",
   "execution_count": 72,
   "id": "d7f31c8f",
   "metadata": {},
   "outputs": [
    {
     "data": {
      "text/plain": [
       "483934"
      ]
     },
     "execution_count": 72,
     "metadata": {},
     "output_type": "execute_result"
    }
   ],
   "source": [
    "# Get number of rows with sale_price = 0\n",
    "len(df3[df3['sale_price']==0])"
   ]
  },
  {
   "cell_type": "code",
   "execution_count": 73,
   "id": "abd296ea",
   "metadata": {},
   "outputs": [],
   "source": [
    "# Remove ownership transfers with sale_price = 0 in preparation of building a model to predict sale prices\n",
    "df3 = df3[df3['sale_price']!=0]"
   ]
  },
  {
   "cell_type": "code",
   "execution_count": 74,
   "id": "7d30ec19",
   "metadata": {},
   "outputs": [
    {
     "data": {
      "text/plain": [
       "(1181788, 19)"
      ]
     },
     "execution_count": 74,
     "metadata": {},
     "output_type": "execute_result"
    }
   ],
   "source": [
    "# Get shape of df3 after dropping ownership transfers\n",
    "df3.shape"
   ]
  },
  {
   "cell_type": "code",
   "execution_count": 75,
   "id": "3b1b48c4",
   "metadata": {},
   "outputs": [
    {
     "data": {
      "text/plain": [
       "309295"
      ]
     },
     "execution_count": 75,
     "metadata": {},
     "output_type": "execute_result"
    }
   ],
   "source": [
    "# Check number of rows with residential_units = 0\n",
    "len(df3[df3['residential_units']==0])"
   ]
  },
  {
   "cell_type": "code",
   "execution_count": 76,
   "id": "5898ddb6",
   "metadata": {},
   "outputs": [],
   "source": [
    "# Keep only rows with values !=0 in residential_units\n",
    "df3 = df3[df3['residential_units']!=0]"
   ]
  },
  {
   "cell_type": "code",
   "execution_count": 77,
   "id": "07703248",
   "metadata": {},
   "outputs": [
    {
     "data": {
      "text/plain": [
       "(872493, 19)"
      ]
     },
     "execution_count": 77,
     "metadata": {},
     "output_type": "execute_result"
    }
   ],
   "source": [
    "# Get shape of df3 after dropping\n",
    "df3.shape"
   ]
  },
  {
   "cell_type": "code",
   "execution_count": 78,
   "id": "c7e0b2f4",
   "metadata": {},
   "outputs": [],
   "source": [
    "# Identify outliers based on IQR\n",
    "def find_outliers_IQR(df):\n",
    "    q1 = df.quantile(0.25)\n",
    "    q3 = df.quantile(0.75)\n",
    "    IQR = q3 - q1\n",
    "    outliers = df[((df<(q1-1.5*IQR)) | (df>(q3+1.5*IQR)))]\n",
    "    return outliers"
   ]
  },
  {
   "cell_type": "code",
   "execution_count": 79,
   "id": "15dc1ee6",
   "metadata": {},
   "outputs": [
    {
     "data": {
      "text/plain": [
       "90          1952799.0\n",
       "115         2250000.0\n",
       "116         2025000.0\n",
       "117         2300000.0\n",
       "118         2585000.0\n",
       "              ...    \n",
       "1915514     2058200.0\n",
       "1915659    32300524.0\n",
       "1915662     6950000.0\n",
       "1915663    32300524.0\n",
       "1916211     1800000.0\n",
       "Name: sale_price, Length: 90340, dtype: float64"
      ]
     },
     "execution_count": 79,
     "metadata": {},
     "output_type": "execute_result"
    }
   ],
   "source": [
    "# Identify outliers in sale_price\n",
    "find_outliers_IQR(df3['sale_price'])"
   ]
  },
  {
   "cell_type": "code",
   "execution_count": 80,
   "id": "b4923246",
   "metadata": {},
   "outputs": [
    {
     "data": {
      "text/plain": [
       "527         8\n",
       "529         4\n",
       "929        72\n",
       "1113        4\n",
       "1114        4\n",
       "           ..\n",
       "1916111     6\n",
       "1916118     4\n",
       "1916120     5\n",
       "1916137     4\n",
       "1916211     9\n",
       "Name: residential_units, Length: 58437, dtype: int64"
      ]
     },
     "execution_count": 80,
     "metadata": {},
     "output_type": "execute_result"
    }
   ],
   "source": [
    "# Identify outliers in total_units\n",
    "find_outliers_IQR(df3['residential_units'])"
   ]
  },
  {
   "cell_type": "code",
   "execution_count": 81,
   "id": "ad3282e3",
   "metadata": {},
   "outputs": [
    {
     "data": {
      "text/plain": [
       "(90340, 19)"
      ]
     },
     "execution_count": 81,
     "metadata": {},
     "output_type": "execute_result"
    }
   ],
   "source": [
    "# Define outliers for sale_price\n",
    "q1 = df3['sale_price'].quantile(0.25)\n",
    "q3 = df3['sale_price'].quantile(0.75)\n",
    "IQR = q3-q1\n",
    "\n",
    "# Store outliers in df3_outl_sale_price\n",
    "df3_outl_sale_price = df3[((df3['sale_price']<(q1-1.5*IQR)) | (df3['sale_price']>(q3+1.5*IQR)))]\n",
    "\n",
    "# Get dimensions of df3_outl_sale_price\n",
    "df3_outl_sale_price.shape"
   ]
  },
  {
   "cell_type": "code",
   "execution_count": 82,
   "id": "254b0081",
   "metadata": {},
   "outputs": [
    {
     "data": {
      "text/plain": [
       "(58437, 19)"
      ]
     },
     "execution_count": 82,
     "metadata": {},
     "output_type": "execute_result"
    }
   ],
   "source": [
    "# Define outliers for residential_units\n",
    "q1 = df3['residential_units'].quantile(0.25)\n",
    "q3 = df3['residential_units'].quantile(0.75)\n",
    "IQR = q3-q1\n",
    "\n",
    "# Store outliers in df3_outl_resid_units\n",
    "df3_outl_resid_units = df3[((df3['residential_units']<(q1-1.5*IQR)) | (df3['residential_units']>(q3+1.5*IQR)))]\n",
    "\n",
    "# Get dimensions of df3_outl_resid_units\n",
    "df3_outl_resid_units.shape"
   ]
  },
  {
   "cell_type": "code",
   "execution_count": 83,
   "id": "e9c70369",
   "metadata": {},
   "outputs": [
    {
     "data": {
      "text/plain": [
       "(148777, 19)"
      ]
     },
     "execution_count": 83,
     "metadata": {},
     "output_type": "execute_result"
    }
   ],
   "source": [
    "# Create list of oulier dfs\n",
    "outlier_list3 = [df3_outl_sale_price, df3_outl_resid_units]\n",
    "\n",
    "# Concatenate outlier dfs\n",
    "outliers3 = pd.concat(outlier_list3)\n",
    "\n",
    "# Get dimensions of outlier df\n",
    "outliers3.shape"
   ]
  },
  {
   "cell_type": "code",
   "execution_count": 84,
   "id": "4c6354ee",
   "metadata": {},
   "outputs": [
    {
     "data": {
      "text/plain": [
       "(122268, 19)"
      ]
     },
     "execution_count": 84,
     "metadata": {},
     "output_type": "execute_result"
    }
   ],
   "source": [
    "# Drop duplicates from outliers3\n",
    "outliers3.drop_duplicates(inplace=True)\n",
    "\n",
    "# Get dimensions of outliers3 after dropping\n",
    "outliers3.shape"
   ]
  },
  {
   "cell_type": "code",
   "execution_count": 85,
   "id": "606c0aec",
   "metadata": {},
   "outputs": [
    {
     "data": {
      "text/plain": [
       "(750225, 19)"
      ]
     },
     "execution_count": 85,
     "metadata": {},
     "output_type": "execute_result"
    }
   ],
   "source": [
    "# Drop outliers from df3\n",
    "df3.drop(outliers3.index, axis=0, inplace=True)\n",
    "\n",
    "# Get dimensions of df3 after dropping\n",
    "df3.shape"
   ]
  },
  {
   "cell_type": "code",
   "execution_count": 86,
   "id": "88048b47",
   "metadata": {},
   "outputs": [
    {
     "data": {
      "text/plain": [
       "<AxesSubplot:xlabel='sale_price', ylabel='Count'>"
      ]
     },
     "execution_count": 86,
     "metadata": {},
     "output_type": "execute_result"
    },
    {
     "data": {
      "image/png": "[encoded data removed]",
      "text/plain": [
       "<Figure size 640x480 with 1 Axes>"
      ]
     },
     "metadata": {},
     "output_type": "display_data"
    }
   ],
   "source": [
    "# Check distribution of sale_price\n",
    "sns.histplot(df3['sale_price'], bins=25)"
   ]
  },
  {
   "cell_type": "code",
   "execution_count": 87,
   "id": "abcc4573",
   "metadata": {},
   "outputs": [
    {
     "data": {
      "text/plain": [
       "<AxesSubplot:xlabel='residential_units', ylabel='Count'>"
      ]
     },
     "execution_count": 87,
     "metadata": {},
     "output_type": "execute_result"
    },
    {
     "data": {
      "image/png": "[encoded data removed]",
      "text/plain": [
       "<Figure size 640x480 with 1 Axes>"
      ]
     },
     "metadata": {},
     "output_type": "display_data"
    }
   ],
   "source": [
    "# Check distribution of residential_units\n",
    "sns.histplot(df3['residential_units'], bins=25)"
   ]
  },
  {
   "cell_type": "code",
   "execution_count": 88,
   "id": "be8fd7f7",
   "metadata": {},
   "outputs": [
    {
     "data": {
      "text/plain": [
       "Text(0, 0.5, 'Sale price')"
      ]
     },
     "execution_count": 88,
     "metadata": {},
     "output_type": "execute_result"
    },
    {
     "data": {
      "image/png": "[encoded data removed]",
      "text/plain": [
       "<Figure size 640x480 with 1 Axes>"
      ]
     },
     "metadata": {},
     "output_type": "display_data"
    }
   ],
   "source": [
    "# Create scatterplot of residential_units against sale_price\n",
    "# Create plot\n",
    "sns.scatterplot(data=df3, x='residential_units', y='sale_price')\n",
    "\n",
    "# Add title\n",
    "plt.title('Scatterplot of no. of residential units and sale price')\n",
    "# Add x-axis label\n",
    "plt.xlabel('No. of residential units')\n",
    "# Add y-axis label\n",
    "plt.ylabel('Sale price')"
   ]
  },
  {
   "cell_type": "markdown",
   "id": "42aeef4c",
   "metadata": {},
   "source": [
    "From looking at the histograms and scatterplot it is highly doubtful that this third model will perform better than the first two. I'll still give it a try with the hypothesis stated above: The higher the number of residential units in a building, the higher its price."
   ]
  },
  {
   "cell_type": "code",
   "execution_count": 89,
   "id": "cd791b1a",
   "metadata": {},
   "outputs": [],
   "source": [
    "# Reshape variables into arrays\n",
    "X3 = df3['residential_units'].values.reshape(-1,1)\n",
    "y3 = df3['sale_price'].values.reshape(-1,1)"
   ]
  },
  {
   "cell_type": "code",
   "execution_count": 90,
   "id": "d891bed0",
   "metadata": {},
   "outputs": [],
   "source": [
    "# Split data into train and test sets\n",
    "X3_train, X3_test, y3_train, y3_test = train_test_split(X3, y3, test_size=0.3, random_state=0)"
   ]
  },
  {
   "cell_type": "code",
   "execution_count": 91,
   "id": "fd2fa93c",
   "metadata": {},
   "outputs": [],
   "source": [
    "# Create regression object\n",
    "regression = LinearRegression()"
   ]
  },
  {
   "cell_type": "code",
   "execution_count": 92,
   "id": "cbe03afc",
   "metadata": {},
   "outputs": [
    {
     "data": {
      "text/plain": [
       "LinearRegression()"
      ]
     },
     "execution_count": 92,
     "metadata": {},
     "output_type": "execute_result"
    }
   ],
   "source": [
    "# Fit regression object onto train sets\n",
    "regression.fit(X3_train, y3_train)"
   ]
  },
  {
   "cell_type": "code",
   "execution_count": 93,
   "id": "8c22d334",
   "metadata": {},
   "outputs": [],
   "source": [
    "# Predict sale_prices from test set\n",
    "y3_predicted = regression.predict(X3_test)"
   ]
  },
  {
   "cell_type": "code",
   "execution_count": 94,
   "id": "e77a5888",
   "metadata": {},
   "outputs": [
    {
     "data": {
      "text/plain": [
       "Text(0, 0.5, 'Sale price')"
      ]
     },
     "execution_count": 94,
     "metadata": {},
     "output_type": "execute_result"
    },
    {
     "data": {
      "image/png": "[encoded data removed]",
      "text/plain": [
       "<Figure size 640x480 with 1 Axes>"
      ]
     },
     "metadata": {},
     "output_type": "display_data"
    }
   ],
   "source": [
    "# Create scatterplot to visualise accuracy of regression model\n",
    "# Create scatterplot with test data\n",
    "plt.scatter(X3_test, y3_test, color='gray', s=15)\n",
    "\n",
    "# Create regression line with predicted values\n",
    "plt.plot(X3_test, y3_predicted, color='red', linewidth=3)\n",
    "\n",
    "# Add title \n",
    "plt.title('Accuracy of linear regression model III')\n",
    "# Add x-axis label\n",
    "plt.xlabel('No. of residential units')\n",
    "# Add y-axis label\n",
    "plt.ylabel('Sale price')"
   ]
  },
  {
   "cell_type": "markdown",
   "id": "97442cda",
   "metadata": {},
   "source": [
    "The regression line of the third model does not fit the datapoints of the scatterplot any better than the first two models. "
   ]
  },
  {
   "cell_type": "code",
   "execution_count": 95,
   "id": "a09e2aa9",
   "metadata": {},
   "outputs": [],
   "source": [
    "# Get model performance statistics\n",
    "rmse = mean_squared_error(y3_test, y3_predicted)\n",
    "r2 = r2_score(y3_test, y3_predicted)"
   ]
  },
  {
   "cell_type": "code",
   "execution_count": 96,
   "id": "f5fc755a",
   "metadata": {},
   "outputs": [
    {
     "name": "stdout",
     "output_type": "stream",
     "text": [
      "Slope : [[5278.78102168]]\n",
      "Root mean squared error : 13680979068085.621\n",
      "R2 score : -2.4129196762423533e-05\n"
     ]
    }
   ],
   "source": [
    "# Print model performance statistics\n",
    "print('Slope :', regression.coef_)\n",
    "print('Root mean squared error :', rmse)\n",
    "print('R2 score :', r2)"
   ]
  },
  {
   "cell_type": "code",
   "execution_count": 97,
   "id": "6b4fef47",
   "metadata": {},
   "outputs": [
    {
     "data": {
      "text/html": [
       "<div>\n",
       "<style scoped>\n",
       "    .dataframe tbody tr th:only-of-type {\n",
       "        vertical-align: middle;\n",
       "    }\n",
       "\n",
       "    .dataframe tbody tr th {\n",
       "        vertical-align: top;\n",
       "    }\n",
       "\n",
       "    .dataframe thead th {\n",
       "        text-align: right;\n",
       "    }\n",
       "</style>\n",
       "<table border=\"1\" class=\"dataframe\">\n",
       "  <thead>\n",
       "    <tr style=\"text-align: right;\">\n",
       "      <th></th>\n",
       "      <th>Actual sale_price</th>\n",
       "      <th>Predicted sale_price</th>\n",
       "    </tr>\n",
       "  </thead>\n",
       "  <tbody>\n",
       "    <tr>\n",
       "      <th>0</th>\n",
       "      <td>350000.0</td>\n",
       "      <td>664419.290653</td>\n",
       "    </tr>\n",
       "    <tr>\n",
       "      <th>1</th>\n",
       "      <td>399080.0</td>\n",
       "      <td>664419.290653</td>\n",
       "    </tr>\n",
       "    <tr>\n",
       "      <th>2</th>\n",
       "      <td>865000.0</td>\n",
       "      <td>664419.290653</td>\n",
       "    </tr>\n",
       "    <tr>\n",
       "      <th>3</th>\n",
       "      <td>650000.0</td>\n",
       "      <td>669698.071675</td>\n",
       "    </tr>\n",
       "    <tr>\n",
       "      <th>4</th>\n",
       "      <td>325000.0</td>\n",
       "      <td>659140.509631</td>\n",
       "    </tr>\n",
       "    <tr>\n",
       "      <th>5</th>\n",
       "      <td>613000.0</td>\n",
       "      <td>659140.509631</td>\n",
       "    </tr>\n",
       "    <tr>\n",
       "      <th>6</th>\n",
       "      <td>250000.0</td>\n",
       "      <td>659140.509631</td>\n",
       "    </tr>\n",
       "    <tr>\n",
       "      <th>7</th>\n",
       "      <td>530000.0</td>\n",
       "      <td>659140.509631</td>\n",
       "    </tr>\n",
       "    <tr>\n",
       "      <th>8</th>\n",
       "      <td>570000.0</td>\n",
       "      <td>664419.290653</td>\n",
       "    </tr>\n",
       "    <tr>\n",
       "      <th>9</th>\n",
       "      <td>436000.0</td>\n",
       "      <td>664419.290653</td>\n",
       "    </tr>\n",
       "    <tr>\n",
       "      <th>10</th>\n",
       "      <td>1350000.0</td>\n",
       "      <td>664419.290653</td>\n",
       "    </tr>\n",
       "    <tr>\n",
       "      <th>11</th>\n",
       "      <td>900000.0</td>\n",
       "      <td>669698.071675</td>\n",
       "    </tr>\n",
       "    <tr>\n",
       "      <th>12</th>\n",
       "      <td>577500.0</td>\n",
       "      <td>659140.509631</td>\n",
       "    </tr>\n",
       "    <tr>\n",
       "      <th>13</th>\n",
       "      <td>285000.0</td>\n",
       "      <td>659140.509631</td>\n",
       "    </tr>\n",
       "    <tr>\n",
       "      <th>14</th>\n",
       "      <td>380000.0</td>\n",
       "      <td>659140.509631</td>\n",
       "    </tr>\n",
       "  </tbody>\n",
       "</table>\n",
       "</div>"
      ],
      "text/plain": [
       "    Actual sale_price  Predicted sale_price\n",
       "0            350000.0         664419.290653\n",
       "1            399080.0         664419.290653\n",
       "2            865000.0         664419.290653\n",
       "3            650000.0         669698.071675\n",
       "4            325000.0         659140.509631\n",
       "5            613000.0         659140.509631\n",
       "6            250000.0         659140.509631\n",
       "7            530000.0         659140.509631\n",
       "8            570000.0         664419.290653\n",
       "9            436000.0         664419.290653\n",
       "10          1350000.0         664419.290653\n",
       "11           900000.0         669698.071675\n",
       "12           577500.0         659140.509631\n",
       "13           285000.0         659140.509631\n",
       "14           380000.0         659140.509631"
      ]
     },
     "execution_count": 97,
     "metadata": {},
     "output_type": "execute_result"
    }
   ],
   "source": [
    "# Compare y_test to y_predicted\n",
    "data = pd.DataFrame({'Actual sale_price' : y3_test.flatten(), 'Predicted sale_price' : y3_predicted.flatten()})\n",
    "data.head(15)"
   ]
  },
  {
   "cell_type": "markdown",
   "id": "e8a897dd",
   "metadata": {},
   "source": [
    "The third model performs a bit better than the second one, but overall it remains totally unfit to accurately predict sale prices. \n",
    "\n",
    "Out of curiosity, I'll make a forth attempt at training a model for sales incl. commercial units (i.e. I'll exclude any sales that do not cover at least 1 commercial unit). For this purpose, I adapt my hypothesis as follows:\n",
    "\n",
    "For sales that include at least one commercial unit, the higher total number of units, the higher the sale price."
   ]
  },
  {
   "cell_type": "markdown",
   "id": "771a9bfd",
   "metadata": {},
   "source": [
    "## 03.4 Regression analysis for sales incl. commercial units"
   ]
  },
  {
   "cell_type": "code",
   "execution_count": 98,
   "id": "0853b634",
   "metadata": {},
   "outputs": [],
   "source": [
    "# Re-import original data\n",
    "df4 = pd.read_pickle(os.path.join(path, '2023-05-28_df.pkl'))"
   ]
  },
  {
   "cell_type": "code",
   "execution_count": 99,
   "id": "3e841e01",
   "metadata": {},
   "outputs": [
    {
     "data": {
      "text/plain": [
       "(1665722, 19)"
      ]
     },
     "execution_count": 99,
     "metadata": {},
     "output_type": "execute_result"
    }
   ],
   "source": [
    "# Get dimensions of df4\n",
    "df4.shape"
   ]
  },
  {
   "cell_type": "code",
   "execution_count": 100,
   "id": "d7277cf0",
   "metadata": {},
   "outputs": [
    {
     "data": {
      "text/plain": [
       "483934"
      ]
     },
     "execution_count": 100,
     "metadata": {},
     "output_type": "execute_result"
    }
   ],
   "source": [
    "# Get number of rows with sale_price = 0\n",
    "len(df4[df4['sale_price']==0])"
   ]
  },
  {
   "cell_type": "code",
   "execution_count": 101,
   "id": "d14cd7b3",
   "metadata": {},
   "outputs": [],
   "source": [
    "# Remove ownership transfers with sale_price = 0 in preparation of building a model to predict sale prices\n",
    "df4 = df4[df4['sale_price']!=0]"
   ]
  },
  {
   "cell_type": "code",
   "execution_count": 102,
   "id": "251b6ec6",
   "metadata": {},
   "outputs": [
    {
     "data": {
      "text/plain": [
       "(1181788, 19)"
      ]
     },
     "execution_count": 102,
     "metadata": {},
     "output_type": "execute_result"
    }
   ],
   "source": [
    "# Get shape of df4 after dropping ownership transfers\n",
    "df4.shape"
   ]
  },
  {
   "cell_type": "code",
   "execution_count": 103,
   "id": "0a156329",
   "metadata": {},
   "outputs": [
    {
     "data": {
      "text/plain": [
       "1098321"
      ]
     },
     "execution_count": 103,
     "metadata": {},
     "output_type": "execute_result"
    }
   ],
   "source": [
    "# Check number of rows with commercial_units = 0\n",
    "len(df4[df4['commercial_units']==0])"
   ]
  },
  {
   "cell_type": "code",
   "execution_count": 104,
   "id": "99c140e3",
   "metadata": {},
   "outputs": [],
   "source": [
    "# Keep only rows with values !=0 in commercial_units\n",
    "df4 = df4[df4['commercial_units']!=0]"
   ]
  },
  {
   "cell_type": "code",
   "execution_count": 105,
   "id": "b07e2987",
   "metadata": {},
   "outputs": [
    {
     "data": {
      "text/plain": [
       "(83467, 19)"
      ]
     },
     "execution_count": 105,
     "metadata": {},
     "output_type": "execute_result"
    }
   ],
   "source": [
    "# Get shape of df4 after dropping\n",
    "df4.shape"
   ]
  },
  {
   "cell_type": "code",
   "execution_count": 106,
   "id": "91cc6474",
   "metadata": {},
   "outputs": [],
   "source": [
    "# Identify outliers based on IQR\n",
    "def find_outliers_IQR(df):\n",
    "    q1 = df.quantile(0.25)\n",
    "    q3 = df.quantile(0.75)\n",
    "    IQR = q3 - q1\n",
    "    outliers = df[((df<(q1-1.5*IQR)) | (df>(q3+1.5*IQR)))]\n",
    "    return outliers"
   ]
  },
  {
   "cell_type": "code",
   "execution_count": 107,
   "id": "fc564073",
   "metadata": {},
   "outputs": [
    {
     "data": {
      "text/plain": [
       "4224        6225000.0\n",
       "4225       51000000.0\n",
       "5427        7000000.0\n",
       "6137        5800000.0\n",
       "6346       45600000.0\n",
       "              ...    \n",
       "1914615    57044793.0\n",
       "1914616    57044793.0\n",
       "1914617    57044793.0\n",
       "1915659    32300524.0\n",
       "1916147     7500000.0\n",
       "Name: sale_price, Length: 11263, dtype: float64"
      ]
     },
     "execution_count": 107,
     "metadata": {},
     "output_type": "execute_result"
    }
   ],
   "source": [
    "# Identify outliers in sale_price\n",
    "find_outliers_IQR(df4['sale_price'])"
   ]
  },
  {
   "cell_type": "code",
   "execution_count": 108,
   "id": "f4dfc7a3",
   "metadata": {},
   "outputs": [
    {
     "data": {
      "text/plain": [
       "6346       28\n",
       "6350       15\n",
       "6358        9\n",
       "7298       12\n",
       "7299       14\n",
       "           ..\n",
       "1913177    41\n",
       "1914597    23\n",
       "1914615    23\n",
       "1915659    55\n",
       "1915806     9\n",
       "Name: total_units, Length: 10088, dtype: int64"
      ]
     },
     "execution_count": 108,
     "metadata": {},
     "output_type": "execute_result"
    }
   ],
   "source": [
    "# Identify outliers in total_units\n",
    "find_outliers_IQR(df4['total_units'])"
   ]
  },
  {
   "cell_type": "code",
   "execution_count": 109,
   "id": "a034edf3",
   "metadata": {},
   "outputs": [
    {
     "data": {
      "text/plain": [
       "(11263, 19)"
      ]
     },
     "execution_count": 109,
     "metadata": {},
     "output_type": "execute_result"
    }
   ],
   "source": [
    "# Define outliers for sale_price\n",
    "q1 = df4['sale_price'].quantile(0.25)\n",
    "q3 = df4['sale_price'].quantile(0.75)\n",
    "IQR = q3-q1\n",
    "\n",
    "# Store outliers in df4_outl_sale_price\n",
    "df4_outl_sale_price = df4[((df4['sale_price']<(q1-1.5*IQR)) | (df4['sale_price']>(q3+1.5*IQR)))]\n",
    "\n",
    "# Get dimensions of df4_outl_sale_price\n",
    "df4_outl_sale_price.shape"
   ]
  },
  {
   "cell_type": "code",
   "execution_count": 110,
   "id": "d35abb1b",
   "metadata": {},
   "outputs": [
    {
     "data": {
      "text/plain": [
       "(10088, 19)"
      ]
     },
     "execution_count": 110,
     "metadata": {},
     "output_type": "execute_result"
    }
   ],
   "source": [
    "# Define outliers for total_units\n",
    "q1 = df4['total_units'].quantile(0.25)\n",
    "q3 = df4['total_units'].quantile(0.75)\n",
    "IQR = q3-q1\n",
    "\n",
    "# Store outliers in df4_outl_total_units\n",
    "df4_outl_total_units = df4[((df4['total_units']<(q1-1.5*IQR)) | (df4['total_units']>(q3+1.5*IQR)))]\n",
    "\n",
    "# Get dimensions of df4_outl_total_units\n",
    "df4_outl_total_units.shape"
   ]
  },
  {
   "cell_type": "code",
   "execution_count": 111,
   "id": "6692b077",
   "metadata": {},
   "outputs": [
    {
     "data": {
      "text/plain": [
       "(21351, 19)"
      ]
     },
     "execution_count": 111,
     "metadata": {},
     "output_type": "execute_result"
    }
   ],
   "source": [
    "# Create list of oulier dfs\n",
    "outlier_list4 = [df4_outl_sale_price, df4_outl_total_units]\n",
    "\n",
    "# Concatenate outlier dfs\n",
    "outliers4 = pd.concat(outlier_list4)\n",
    "\n",
    "# Get dimensions of outlier df\n",
    "outliers4.shape"
   ]
  },
  {
   "cell_type": "code",
   "execution_count": 112,
   "id": "b44f3dbe",
   "metadata": {},
   "outputs": [
    {
     "data": {
      "text/plain": [
       "(16814, 19)"
      ]
     },
     "execution_count": 112,
     "metadata": {},
     "output_type": "execute_result"
    }
   ],
   "source": [
    "# Drop duplicates from outliers4\n",
    "outliers4.drop_duplicates(inplace=True)\n",
    "\n",
    "# Get dimensions of outliers4 after dropping\n",
    "outliers4.shape"
   ]
  },
  {
   "cell_type": "code",
   "execution_count": 113,
   "id": "93771f3a",
   "metadata": {},
   "outputs": [
    {
     "data": {
      "text/plain": [
       "(66653, 19)"
      ]
     },
     "execution_count": 113,
     "metadata": {},
     "output_type": "execute_result"
    }
   ],
   "source": [
    "# Drop outliers from df4\n",
    "df4.drop(outliers4.index, axis=0, inplace=True)\n",
    "\n",
    "# Get dimensions of df4 after dropping\n",
    "df4.shape"
   ]
  },
  {
   "cell_type": "code",
   "execution_count": 114,
   "id": "ef459777",
   "metadata": {},
   "outputs": [
    {
     "data": {
      "text/plain": [
       "<AxesSubplot:xlabel='sale_price', ylabel='Count'>"
      ]
     },
     "execution_count": 114,
     "metadata": {},
     "output_type": "execute_result"
    },
    {
     "data": {
      "image/png": "[encoded data removed]",
      "text/plain": [
       "<Figure size 640x480 with 1 Axes>"
      ]
     },
     "metadata": {},
     "output_type": "display_data"
    }
   ],
   "source": [
    "# Check distribution of sale_price\n",
    "sns.histplot(df4['sale_price'], bins=25)"
   ]
  },
  {
   "cell_type": "code",
   "execution_count": 115,
   "id": "eeb65c30",
   "metadata": {},
   "outputs": [
    {
     "data": {
      "text/plain": [
       "<AxesSubplot:xlabel='total_units', ylabel='Count'>"
      ]
     },
     "execution_count": 115,
     "metadata": {},
     "output_type": "execute_result"
    },
    {
     "data": {
      "image/png": "[encoded data removed]",
      "text/plain": [
       "<Figure size 640x480 with 1 Axes>"
      ]
     },
     "metadata": {},
     "output_type": "display_data"
    }
   ],
   "source": [
    "# Check distribution of residential_units\n",
    "sns.histplot(df4['total_units'], bins=25)"
   ]
  },
  {
   "cell_type": "code",
   "execution_count": 116,
   "id": "dab4eed8",
   "metadata": {},
   "outputs": [
    {
     "data": {
      "text/plain": [
       "Text(0, 0.5, 'Sale price')"
      ]
     },
     "execution_count": 116,
     "metadata": {},
     "output_type": "execute_result"
    },
    {
     "data": {
      "image/png": "[encoded data removed]",
      "text/plain": [
       "<Figure size 640x480 with 1 Axes>"
      ]
     },
     "metadata": {},
     "output_type": "display_data"
    }
   ],
   "source": [
    "# Create scatterplot of total_units against sale_price\n",
    "# Create plot\n",
    "sns.scatterplot(data=df4, x='total_units', y='sale_price')\n",
    "\n",
    "# Add title\n",
    "plt.title('Scatterplot of total no. of units and sale price')\n",
    "# Add x-axis label\n",
    "plt.xlabel('Total no. of units')\n",
    "# Add y-axis label\n",
    "plt.ylabel('Sale price')"
   ]
  },
  {
   "cell_type": "markdown",
   "id": "8b2c79e9",
   "metadata": {},
   "source": [
    "From looking at the histograms and scatterplot it is highly doubtful that this forth model will perform better than the first two. I'll still give it a try with the hypothesis stated above: For sales that include at least one commercial unit, the higher total number of units, the higher the sale price."
   ]
  },
  {
   "cell_type": "code",
   "execution_count": 117,
   "id": "768167b2",
   "metadata": {},
   "outputs": [],
   "source": [
    "# Reshape variables into arrays\n",
    "X4 = df4['total_units'].values.reshape(-1,1)\n",
    "y4 = df4['sale_price'].values.reshape(-1,1)"
   ]
  },
  {
   "cell_type": "code",
   "execution_count": 118,
   "id": "59250d0c",
   "metadata": {},
   "outputs": [],
   "source": [
    "# Split data into train and test sets\n",
    "X4_train, X4_test, y4_train, y4_test = train_test_split(X4, y4, test_size=0.3, random_state=0)"
   ]
  },
  {
   "cell_type": "code",
   "execution_count": 119,
   "id": "5f9f06c5",
   "metadata": {},
   "outputs": [],
   "source": [
    "# Create regression object\n",
    "regression = LinearRegression()"
   ]
  },
  {
   "cell_type": "code",
   "execution_count": 120,
   "id": "e3fdd34c",
   "metadata": {},
   "outputs": [
    {
     "data": {
      "text/plain": [
       "LinearRegression()"
      ]
     },
     "execution_count": 120,
     "metadata": {},
     "output_type": "execute_result"
    }
   ],
   "source": [
    "# Fit regression object onto train sets\n",
    "regression.fit(X4_train, y4_train)"
   ]
  },
  {
   "cell_type": "code",
   "execution_count": 121,
   "id": "115f03fe",
   "metadata": {},
   "outputs": [],
   "source": [
    "# Predict sale_prices from test set\n",
    "y4_predicted = regression.predict(X4_test)"
   ]
  },
  {
   "cell_type": "code",
   "execution_count": 122,
   "id": "3bd865d3",
   "metadata": {},
   "outputs": [
    {
     "data": {
      "text/plain": [
       "Text(0, 0.5, 'Sale price')"
      ]
     },
     "execution_count": 122,
     "metadata": {},
     "output_type": "execute_result"
    },
    {
     "data": {
      "image/png": "[encoded data removed]",
      "text/plain": [
       "<Figure size 640x480 with 1 Axes>"
      ]
     },
     "metadata": {},
     "output_type": "display_data"
    }
   ],
   "source": [
    "# Create scatterplot to visualise accuracy of regression model\n",
    "# Create scatterplot with test data\n",
    "plt.scatter(X4_test, y4_test, color='gray', s=15)\n",
    "\n",
    "# Create regression line with predicted values\n",
    "plt.plot(X4_test, y4_predicted, color='red', linewidth=3)\n",
    "\n",
    "# Add title \n",
    "plt.title('Accuracy of linear regression model IV')\n",
    "# Add x-axis label\n",
    "plt.xlabel('Total no. of units')\n",
    "# Add y-axis label\n",
    "plt.ylabel('Sale price')"
   ]
  },
  {
   "cell_type": "markdown",
   "id": "be9fbbc2",
   "metadata": {},
   "source": [
    "The regression line of the forth model does not fit the datapoints of the scatterplot any better than the first three models. "
   ]
  },
  {
   "cell_type": "code",
   "execution_count": 123,
   "id": "9e77f370",
   "metadata": {},
   "outputs": [],
   "source": [
    "# Get model performance statistics\n",
    "rmse = mean_squared_error(y4_test, y4_predicted)\n",
    "r2 = r2_score(y4_test, y4_predicted)"
   ]
  },
  {
   "cell_type": "code",
   "execution_count": 124,
   "id": "0f4148cd",
   "metadata": {},
   "outputs": [
    {
     "name": "stdout",
     "output_type": "stream",
     "text": [
      "Slope : [[-1730.4820169]]\n",
      "Root mean squared error : 67414860478713.55\n",
      "R2 score : 8.681504426677478e-06\n"
     ]
    }
   ],
   "source": [
    "# Print model performance statistics\n",
    "print('Slope :', regression.coef_)\n",
    "print('Root mean squared error :', rmse)\n",
    "print('R2 score :', r2)"
   ]
  },
  {
   "cell_type": "code",
   "execution_count": 125,
   "id": "9c331087",
   "metadata": {},
   "outputs": [
    {
     "data": {
      "text/html": [
       "<div>\n",
       "<style scoped>\n",
       "    .dataframe tbody tr th:only-of-type {\n",
       "        vertical-align: middle;\n",
       "    }\n",
       "\n",
       "    .dataframe tbody tr th {\n",
       "        vertical-align: top;\n",
       "    }\n",
       "\n",
       "    .dataframe thead th {\n",
       "        text-align: right;\n",
       "    }\n",
       "</style>\n",
       "<table border=\"1\" class=\"dataframe\">\n",
       "  <thead>\n",
       "    <tr style=\"text-align: right;\">\n",
       "      <th></th>\n",
       "      <th>Actual sale_price</th>\n",
       "      <th>Predicted sale_price</th>\n",
       "    </tr>\n",
       "  </thead>\n",
       "  <tbody>\n",
       "    <tr>\n",
       "      <th>0</th>\n",
       "      <td>1227429.0</td>\n",
       "      <td>1.338199e+06</td>\n",
       "    </tr>\n",
       "    <tr>\n",
       "      <th>1</th>\n",
       "      <td>1400000.0</td>\n",
       "      <td>1.338199e+06</td>\n",
       "    </tr>\n",
       "    <tr>\n",
       "      <th>2</th>\n",
       "      <td>10.0</td>\n",
       "      <td>1.338199e+06</td>\n",
       "    </tr>\n",
       "    <tr>\n",
       "      <th>3</th>\n",
       "      <td>2750000.0</td>\n",
       "      <td>1.338199e+06</td>\n",
       "    </tr>\n",
       "    <tr>\n",
       "      <th>4</th>\n",
       "      <td>1410000.0</td>\n",
       "      <td>1.336468e+06</td>\n",
       "    </tr>\n",
       "    <tr>\n",
       "      <th>5</th>\n",
       "      <td>43995.0</td>\n",
       "      <td>1.336468e+06</td>\n",
       "    </tr>\n",
       "    <tr>\n",
       "      <th>6</th>\n",
       "      <td>127281.0</td>\n",
       "      <td>1.336468e+06</td>\n",
       "    </tr>\n",
       "    <tr>\n",
       "      <th>7</th>\n",
       "      <td>1000000.0</td>\n",
       "      <td>1.338199e+06</td>\n",
       "    </tr>\n",
       "    <tr>\n",
       "      <th>8</th>\n",
       "      <td>720000.0</td>\n",
       "      <td>1.334738e+06</td>\n",
       "    </tr>\n",
       "    <tr>\n",
       "      <th>9</th>\n",
       "      <td>825000.0</td>\n",
       "      <td>1.334738e+06</td>\n",
       "    </tr>\n",
       "    <tr>\n",
       "      <th>10</th>\n",
       "      <td>200000.0</td>\n",
       "      <td>1.338199e+06</td>\n",
       "    </tr>\n",
       "    <tr>\n",
       "      <th>11</th>\n",
       "      <td>4904250.0</td>\n",
       "      <td>1.338199e+06</td>\n",
       "    </tr>\n",
       "    <tr>\n",
       "      <th>12</th>\n",
       "      <td>1100000.0</td>\n",
       "      <td>1.334738e+06</td>\n",
       "    </tr>\n",
       "    <tr>\n",
       "      <th>13</th>\n",
       "      <td>1200000.0</td>\n",
       "      <td>1.329546e+06</td>\n",
       "    </tr>\n",
       "    <tr>\n",
       "      <th>14</th>\n",
       "      <td>675000.0</td>\n",
       "      <td>1.336468e+06</td>\n",
       "    </tr>\n",
       "  </tbody>\n",
       "</table>\n",
       "</div>"
      ],
      "text/plain": [
       "    Actual sale_price  Predicted sale_price\n",
       "0           1227429.0          1.338199e+06\n",
       "1           1400000.0          1.338199e+06\n",
       "2                10.0          1.338199e+06\n",
       "3           2750000.0          1.338199e+06\n",
       "4           1410000.0          1.336468e+06\n",
       "5             43995.0          1.336468e+06\n",
       "6            127281.0          1.336468e+06\n",
       "7           1000000.0          1.338199e+06\n",
       "8            720000.0          1.334738e+06\n",
       "9            825000.0          1.334738e+06\n",
       "10           200000.0          1.338199e+06\n",
       "11          4904250.0          1.338199e+06\n",
       "12          1100000.0          1.334738e+06\n",
       "13          1200000.0          1.329546e+06\n",
       "14           675000.0          1.336468e+06"
      ]
     },
     "execution_count": 125,
     "metadata": {},
     "output_type": "execute_result"
    }
   ],
   "source": [
    "# Compare y_test to y_predicted\n",
    "data = pd.DataFrame({'Actual sale_price' : y4_test.flatten(), 'Predicted sale_price' : y4_predicted.flatten()})\n",
    "data.head(15)"
   ]
  },
  {
   "cell_type": "markdown",
   "id": "2bfeb656",
   "metadata": {},
   "source": [
    "The forth model does not perform any better than the previous one. The slope this time suggests that the higher the total number of units, the lower the price. This is highly doubtful. \n",
    "The root mean squared error for the forth model is higher than for any of the previous models indicating that the regression line does not fit the datapoints well. While the R2 score for this model is no longer negative, it is extremely small, showing that the model fails to predict more than 99% of the values accurately.\n",
    "\n",
    "In conclusion, the number of units in a building, irrespective of residential or commercial, does not make for a good predictor of sale prices when removing outliers only based on statistical concepts such as IQR or empirical rule. This can be due to missing data (many zero values which could point to missing data had to be excluded), but it can also mean that the number of units really has a much lesser effect on sale prices than other factors such as a buildings location or its tax class.\n",
    "\n",
    "To see whether the number of units can perform well as a predictor of sale prices, only the segment of data points will be used that has a maximum total number of units of 100."
   ]
  },
  {
   "cell_type": "markdown",
   "id": "bf90044c",
   "metadata": {},
   "source": [
    "## 03.5 Regression analysis for segment of datapoints with max. number of total units 100 and max. sale price 250,000,000"
   ]
  },
  {
   "cell_type": "code",
   "execution_count": 126,
   "id": "22aea62f",
   "metadata": {},
   "outputs": [],
   "source": [
    "# Re-import original data\n",
    "df5 = pd.read_pickle(os.path.join(path, '2023-05-28_df.pkl'))"
   ]
  },
  {
   "cell_type": "code",
   "execution_count": 127,
   "id": "1830dc48",
   "metadata": {},
   "outputs": [
    {
     "data": {
      "text/plain": [
       "(1665722, 19)"
      ]
     },
     "execution_count": 127,
     "metadata": {},
     "output_type": "execute_result"
    }
   ],
   "source": [
    "# Get dimensions of df5\n",
    "df5.shape"
   ]
  },
  {
   "cell_type": "code",
   "execution_count": 128,
   "id": "4214b365",
   "metadata": {},
   "outputs": [
    {
     "data": {
      "text/plain": [
       "483934"
      ]
     },
     "execution_count": 128,
     "metadata": {},
     "output_type": "execute_result"
    }
   ],
   "source": [
    "# Get number of rows with sale_price = 0\n",
    "len(df5[df5['sale_price']==0])"
   ]
  },
  {
   "cell_type": "code",
   "execution_count": 129,
   "id": "32703c0a",
   "metadata": {},
   "outputs": [],
   "source": [
    "# Remove ownership transfers with sale_price = 0 in preparation of building a model to predict sale prices\n",
    "df5 = df5[df5['sale_price']!=0]"
   ]
  },
  {
   "cell_type": "code",
   "execution_count": 130,
   "id": "fae29727",
   "metadata": {},
   "outputs": [
    {
     "data": {
      "text/plain": [
       "(1181788, 19)"
      ]
     },
     "execution_count": 130,
     "metadata": {},
     "output_type": "execute_result"
    }
   ],
   "source": [
    "# Get shape of df5 after dropping ownership transfers\n",
    "df5.shape"
   ]
  },
  {
   "cell_type": "code",
   "execution_count": 131,
   "id": "832cc582",
   "metadata": {},
   "outputs": [
    {
     "data": {
      "text/plain": [
       "260008"
      ]
     },
     "execution_count": 131,
     "metadata": {},
     "output_type": "execute_result"
    }
   ],
   "source": [
    "# Check number of rows with total_units = 0\n",
    "len(df5[df5['total_units']==0])"
   ]
  },
  {
   "cell_type": "code",
   "execution_count": 132,
   "id": "0b23e7c8",
   "metadata": {},
   "outputs": [],
   "source": [
    "# Keep only rows with values !=0 in total_units\n",
    "df5 = df5[df5['total_units']!=0]"
   ]
  },
  {
   "cell_type": "code",
   "execution_count": 133,
   "id": "87ac9d86",
   "metadata": {},
   "outputs": [
    {
     "data": {
      "text/plain": [
       "(921780, 19)"
      ]
     },
     "execution_count": 133,
     "metadata": {},
     "output_type": "execute_result"
    }
   ],
   "source": [
    "# Get shape of df5 after dropping\n",
    "df5.shape"
   ]
  },
  {
   "cell_type": "code",
   "execution_count": 134,
   "id": "339369e6",
   "metadata": {},
   "outputs": [
    {
     "data": {
      "text/plain": [
       "Text(0, 0.5, 'Sale price')"
      ]
     },
     "execution_count": 134,
     "metadata": {},
     "output_type": "execute_result"
    },
    {
     "data": {
      "image/png": "[encoded data removed]",
      "text/plain": [
       "<Figure size 640x480 with 1 Axes>"
      ]
     },
     "metadata": {},
     "output_type": "display_data"
    }
   ],
   "source": [
    "# Create scatterplot of total_units against sale_price to confirm segment maximum\n",
    "# Create plot\n",
    "sns.scatterplot(data=df5, x='total_units', y='sale_price')\n",
    "\n",
    "# Add title\n",
    "plt.title('Scatterplot of total no. of units and sale price')\n",
    "# Add x-axis label\n",
    "plt.xlabel('Total no. of units')\n",
    "# Add y-axis label\n",
    "plt.ylabel('Sale price')"
   ]
  },
  {
   "cell_type": "markdown",
   "id": "dac849e8",
   "metadata": {},
   "source": [
    "This scatterplot does not allow for confirmation of of a maximum value of 100 as good maximum value to define the segment of datapoints to be used for the regression analysis. Outliers will be removed based on IQR before a second scatterplot is created to confirm the maximum valus of total units for the datapoint segment."
   ]
  },
  {
   "cell_type": "code",
   "execution_count": 135,
   "id": "04279848",
   "metadata": {},
   "outputs": [],
   "source": [
    "# Identify outliers based on IQR\n",
    "def find_outliers_IQR(df):\n",
    "    q1 = df.quantile(0.25)\n",
    "    q3 = df.quantile(0.75)\n",
    "    IQR = q3 - q1\n",
    "    outliers = df[((df<(q1-1.5*IQR)) | (df>(q3+1.5*IQR)))]\n",
    "    return outliers"
   ]
  },
  {
   "cell_type": "code",
   "execution_count": 136,
   "id": "8d551572",
   "metadata": {},
   "outputs": [
    {
     "data": {
      "text/plain": [
       "90         1952799.0\n",
       "115        2250000.0\n",
       "116        2025000.0\n",
       "117        2300000.0\n",
       "118        2585000.0\n",
       "             ...    \n",
       "1915806    3900000.0\n",
       "1916147    7500000.0\n",
       "1916150    4947000.0\n",
       "1916151    4947000.0\n",
       "1916211    1800000.0\n",
       "Name: sale_price, Length: 101652, dtype: float64"
      ]
     },
     "execution_count": 136,
     "metadata": {},
     "output_type": "execute_result"
    }
   ],
   "source": [
    "# Identify outliers in sale_price\n",
    "find_outliers_IQR(df5['sale_price'])"
   ]
  },
  {
   "cell_type": "code",
   "execution_count": 137,
   "id": "a0a26bf1",
   "metadata": {},
   "outputs": [
    {
     "data": {
      "text/plain": [
       "527         8\n",
       "529         4\n",
       "530         4\n",
       "929        72\n",
       "932         5\n",
       "           ..\n",
       "1916111     6\n",
       "1916118     4\n",
       "1916120     5\n",
       "1916137     5\n",
       "1916211     9\n",
       "Name: total_units, Length: 67601, dtype: int64"
      ]
     },
     "execution_count": 137,
     "metadata": {},
     "output_type": "execute_result"
    }
   ],
   "source": [
    "# Identify outliers in total_units\n",
    "find_outliers_IQR(df5['total_units'])"
   ]
  },
  {
   "cell_type": "code",
   "execution_count": 138,
   "id": "e48a2ced",
   "metadata": {},
   "outputs": [
    {
     "data": {
      "text/plain": [
       "(101652, 19)"
      ]
     },
     "execution_count": 138,
     "metadata": {},
     "output_type": "execute_result"
    }
   ],
   "source": [
    "# Define outliers for sale_price\n",
    "q1 = df5['sale_price'].quantile(0.25)\n",
    "q3 = df5['sale_price'].quantile(0.75)\n",
    "IQR = q3-q1\n",
    "\n",
    "# Store outliers in df5_outl_sale_price\n",
    "df5_outl_sale_price = df5[((df5['sale_price']<(q1-1.5*IQR)) | (df5['sale_price']>(q3+1.5*IQR)))]\n",
    "\n",
    "# Get dimensions of df5_outl_sale_price\n",
    "df5_outl_sale_price.shape"
   ]
  },
  {
   "cell_type": "code",
   "execution_count": 139,
   "id": "bfb1b399",
   "metadata": {},
   "outputs": [
    {
     "data": {
      "text/plain": [
       "(67601, 19)"
      ]
     },
     "execution_count": 139,
     "metadata": {},
     "output_type": "execute_result"
    }
   ],
   "source": [
    "# Define outliers for total_units\n",
    "q1 = df5['total_units'].quantile(0.25)\n",
    "q3 = df5['total_units'].quantile(0.75)\n",
    "IQR = q3-q1\n",
    "\n",
    "# Store outliers in df5_outl_tot_units\n",
    "df5_outl_tot_units = df5[((df5['total_units']<(q1-1.5*IQR)) | (df5['total_units']>(q3+1.5*IQR)))]\n",
    "\n",
    "# Get dimensions of df5_outl_tot_units\n",
    "df5_outl_tot_units.shape"
   ]
  },
  {
   "cell_type": "code",
   "execution_count": 140,
   "id": "0a14ab25",
   "metadata": {},
   "outputs": [
    {
     "data": {
      "text/plain": [
       "(169253, 19)"
      ]
     },
     "execution_count": 140,
     "metadata": {},
     "output_type": "execute_result"
    }
   ],
   "source": [
    "# Create list of oulier dfs\n",
    "outlier_list5 = [df5_outl_sale_price, df5_outl_tot_units]\n",
    "\n",
    "# Concatenate outlier dfs\n",
    "outliers5 = pd.concat(outlier_list5)\n",
    "\n",
    "# Get dimensions of outlier df\n",
    "outliers5.shape"
   ]
  },
  {
   "cell_type": "code",
   "execution_count": 141,
   "id": "0d8980a7",
   "metadata": {},
   "outputs": [
    {
     "data": {
      "text/plain": [
       "(138616, 19)"
      ]
     },
     "execution_count": 141,
     "metadata": {},
     "output_type": "execute_result"
    }
   ],
   "source": [
    "# Drop duplicates from outliers5\n",
    "outliers5.drop_duplicates(inplace=True)\n",
    "\n",
    "# Get dimensions of outliers5 after dropping\n",
    "outliers5.shape"
   ]
  },
  {
   "cell_type": "code",
   "execution_count": 142,
   "id": "47ff0309",
   "metadata": {},
   "outputs": [
    {
     "data": {
      "text/plain": [
       "(783164, 19)"
      ]
     },
     "execution_count": 142,
     "metadata": {},
     "output_type": "execute_result"
    }
   ],
   "source": [
    "# Drop outliers from df5\n",
    "df5.drop(outliers5.index, axis=0, inplace=True)\n",
    "\n",
    "# Get dimensions of df5 after dropping\n",
    "df5.shape"
   ]
  },
  {
   "cell_type": "code",
   "execution_count": 143,
   "id": "a508db7e",
   "metadata": {},
   "outputs": [
    {
     "data": {
      "text/plain": [
       "<AxesSubplot:xlabel='sale_price', ylabel='Count'>"
      ]
     },
     "execution_count": 143,
     "metadata": {},
     "output_type": "execute_result"
    },
    {
     "data": {
      "image/png": "[encoded data removed]",
      "text/plain": [
       "<Figure size 640x480 with 1 Axes>"
      ]
     },
     "metadata": {},
     "output_type": "display_data"
    }
   ],
   "source": [
    "# Check distribution of sale_price\n",
    "sns.histplot(df5['sale_price'], bins=25)"
   ]
  },
  {
   "cell_type": "code",
   "execution_count": 144,
   "id": "79878864",
   "metadata": {},
   "outputs": [
    {
     "data": {
      "text/plain": [
       "<AxesSubplot:xlabel='total_units', ylabel='Count'>"
      ]
     },
     "execution_count": 144,
     "metadata": {},
     "output_type": "execute_result"
    },
    {
     "data": {
      "image/png": "[encoded data removed]",
      "text/plain": [
       "<Figure size 640x480 with 1 Axes>"
      ]
     },
     "metadata": {},
     "output_type": "display_data"
    }
   ],
   "source": [
    "# Check distribution of total_units\n",
    "sns.histplot(df5['total_units'], bins=25)"
   ]
  },
  {
   "cell_type": "code",
   "execution_count": 145,
   "id": "c4b72bd6",
   "metadata": {},
   "outputs": [
    {
     "data": {
      "text/plain": [
       "Text(0, 0.5, 'Sale price')"
      ]
     },
     "execution_count": 145,
     "metadata": {},
     "output_type": "execute_result"
    },
    {
     "data": {
      "image/png": "[encoded data removed]",
      "text/plain": [
       "<Figure size 640x480 with 1 Axes>"
      ]
     },
     "metadata": {},
     "output_type": "display_data"
    }
   ],
   "source": [
    "# Create scatterplot of total_units against sale_price to confirm segment maximum\n",
    "# Create plot\n",
    "sns.scatterplot(data=df5, x='total_units', y='sale_price')\n",
    "\n",
    "# Add title\n",
    "plt.title('Scatterplot of total no. of units and sale price')\n",
    "# Add x-axis label\n",
    "plt.xlabel('Total no. of units')\n",
    "# Add y-axis label\n",
    "plt.ylabel('Sale price')"
   ]
  },
  {
   "cell_type": "markdown",
   "id": "d4b43c03",
   "metadata": {},
   "source": [
    "The scatterplot confirms that a maximum number of total units of 100 is a good value to look at a segment of the dataframes with a high density of datapoints. However, the scatterplot shows that it may also be necessary to identify a maximum sale price to receive a functioning model. The maximum sale price will be set to 250,000,000 US$."
   ]
  },
  {
   "cell_type": "code",
   "execution_count": 146,
   "id": "ddce80a5",
   "metadata": {},
   "outputs": [
    {
     "data": {
      "text/plain": [
       "(783164, 19)"
      ]
     },
     "execution_count": 146,
     "metadata": {},
     "output_type": "execute_result"
    }
   ],
   "source": [
    "# Get shape of df5 before removal of values >100 for total number of units and >250,000,000 for sale price\n",
    "df5.shape"
   ]
  },
  {
   "cell_type": "code",
   "execution_count": 147,
   "id": "b386a68b",
   "metadata": {},
   "outputs": [
    {
     "data": {
      "text/plain": [
       "58"
      ]
     },
     "execution_count": 147,
     "metadata": {},
     "output_type": "execute_result"
    }
   ],
   "source": [
    "# Get number of observations with total_units >100\n",
    "len(df5[df5['total_units']>100])"
   ]
  },
  {
   "cell_type": "code",
   "execution_count": 149,
   "id": "376447da",
   "metadata": {},
   "outputs": [
    {
     "data": {
      "text/plain": [
       "40"
      ]
     },
     "execution_count": 149,
     "metadata": {},
     "output_type": "execute_result"
    }
   ],
   "source": [
    "# Get number of observations with sale_price >250,000,000\n",
    "len(df5[df5['sale_price']>250000000])"
   ]
  },
  {
   "cell_type": "code",
   "execution_count": 150,
   "id": "c9a63e45",
   "metadata": {},
   "outputs": [],
   "source": [
    "# Drop observations with total_units >100\n",
    "df5 = df5[df5['total_units']<= 100]"
   ]
  },
  {
   "cell_type": "code",
   "execution_count": 151,
   "id": "dc8c20c3",
   "metadata": {},
   "outputs": [],
   "source": [
    "# Drop observations with sale_price >250,000,000\n",
    "df5 = df5[df5['sale_price'] <= 250000000]"
   ]
  },
  {
   "cell_type": "code",
   "execution_count": 152,
   "id": "8d3bd4d2",
   "metadata": {},
   "outputs": [
    {
     "data": {
      "text/plain": [
       "(783066, 19)"
      ]
     },
     "execution_count": 152,
     "metadata": {},
     "output_type": "execute_result"
    }
   ],
   "source": [
    "# Get shape of df5 after dropping \n",
    "df5.shape"
   ]
  },
  {
   "cell_type": "code",
   "execution_count": 153,
   "id": "4f54cd3e",
   "metadata": {},
   "outputs": [],
   "source": [
    "# Reshape variables into arrays\n",
    "X5 = df5['total_units'].values.reshape(-1,1)\n",
    "y5 = df5['sale_price'].values.reshape(-1,1)"
   ]
  },
  {
   "cell_type": "code",
   "execution_count": 154,
   "id": "32c62cd8",
   "metadata": {},
   "outputs": [],
   "source": [
    "# Split data into train and test sets\n",
    "X5_train, X5_test, y5_train, y5_test = train_test_split(X5, y5, test_size=0.3, random_state=0)"
   ]
  },
  {
   "cell_type": "code",
   "execution_count": 155,
   "id": "71474dd3",
   "metadata": {},
   "outputs": [],
   "source": [
    "# Create regression object\n",
    "regression = LinearRegression()"
   ]
  },
  {
   "cell_type": "code",
   "execution_count": 156,
   "id": "cb47316e",
   "metadata": {},
   "outputs": [
    {
     "data": {
      "text/plain": [
       "LinearRegression()"
      ]
     },
     "execution_count": 156,
     "metadata": {},
     "output_type": "execute_result"
    }
   ],
   "source": [
    "# Fit regression object onto train sets\n",
    "regression.fit(X5_train, y5_train)"
   ]
  },
  {
   "cell_type": "code",
   "execution_count": 157,
   "id": "1678b12c",
   "metadata": {},
   "outputs": [],
   "source": [
    "# Predict sale_prices from test set\n",
    "y5_predicted = regression.predict(X5_test)"
   ]
  },
  {
   "cell_type": "code",
   "execution_count": 158,
   "id": "380493ef",
   "metadata": {},
   "outputs": [
    {
     "data": {
      "text/plain": [
       "Text(0, 0.5, 'Sale price')"
      ]
     },
     "execution_count": 158,
     "metadata": {},
     "output_type": "execute_result"
    },
    {
     "data": {
      "image/png": "[encoded data removed]",
      "text/plain": [
       "<Figure size 640x480 with 1 Axes>"
      ]
     },
     "metadata": {},
     "output_type": "display_data"
    }
   ],
   "source": [
    "# Create scatterplot to visualise accuracy of regression model\n",
    "# Create scatterplot with test data\n",
    "plt.scatter(X5_test, y5_test, color='gray', s=15)\n",
    "\n",
    "# Create regression line with predicted values\n",
    "plt.plot(X5_test, y5_predicted, color='red', linewidth=3)\n",
    "\n",
    "# Add title \n",
    "plt.title('Accuracy of linear regression model V')\n",
    "# Add x-axis label\n",
    "plt.xlabel('Total no. of units')\n",
    "# Add y-axis label\n",
    "plt.ylabel('Sale price')"
   ]
  },
  {
   "cell_type": "markdown",
   "id": "ca62009a",
   "metadata": {},
   "source": [
    "The regression line of the fifth model does not fit the datapoints of the scatterplot a lot better. It may be worth another try with a stricter segment of datapoints such as maximum total_units 50 and maximum sale_price 100,000,000."
   ]
  },
  {
   "cell_type": "code",
   "execution_count": 159,
   "id": "aa831ad3",
   "metadata": {},
   "outputs": [],
   "source": [
    "# Get model performance statistics\n",
    "rmse = mean_squared_error(y5_test, y5_predicted)\n",
    "r2 = r2_score(y5_test, y5_predicted)"
   ]
  },
  {
   "cell_type": "code",
   "execution_count": 160,
   "id": "af3b08b2",
   "metadata": {},
   "outputs": [
    {
     "name": "stdout",
     "output_type": "stream",
     "text": [
      "Slope : [[9174.84890323]]\n",
      "Root mean squared error : 5895485391284.941\n",
      "R2 score : -2.9738990357186523e-05\n"
     ]
    }
   ],
   "source": [
    "# Print model performance statistics\n",
    "print('Slope :', regression.coef_)\n",
    "print('Root mean squared error :', rmse)\n",
    "print('R2 score :', r2)"
   ]
  },
  {
   "cell_type": "code",
   "execution_count": 161,
   "id": "7c6138b0",
   "metadata": {},
   "outputs": [
    {
     "data": {
      "text/html": [
       "<div>\n",
       "<style scoped>\n",
       "    .dataframe tbody tr th:only-of-type {\n",
       "        vertical-align: middle;\n",
       "    }\n",
       "\n",
       "    .dataframe tbody tr th {\n",
       "        vertical-align: top;\n",
       "    }\n",
       "\n",
       "    .dataframe thead th {\n",
       "        text-align: right;\n",
       "    }\n",
       "</style>\n",
       "<table border=\"1\" class=\"dataframe\">\n",
       "  <thead>\n",
       "    <tr style=\"text-align: right;\">\n",
       "      <th></th>\n",
       "      <th>Actual sale_price</th>\n",
       "      <th>Predicted sale_price</th>\n",
       "    </tr>\n",
       "  </thead>\n",
       "  <tbody>\n",
       "    <tr>\n",
       "      <th>0</th>\n",
       "      <td>250000.0</td>\n",
       "      <td>649643.189818</td>\n",
       "    </tr>\n",
       "    <tr>\n",
       "      <th>1</th>\n",
       "      <td>715000.0</td>\n",
       "      <td>658818.038721</td>\n",
       "    </tr>\n",
       "    <tr>\n",
       "      <th>2</th>\n",
       "      <td>738271.0</td>\n",
       "      <td>649643.189818</td>\n",
       "    </tr>\n",
       "    <tr>\n",
       "      <th>3</th>\n",
       "      <td>10.0</td>\n",
       "      <td>667992.887625</td>\n",
       "    </tr>\n",
       "    <tr>\n",
       "      <th>4</th>\n",
       "      <td>536000.0</td>\n",
       "      <td>649643.189818</td>\n",
       "    </tr>\n",
       "    <tr>\n",
       "      <th>5</th>\n",
       "      <td>165000.0</td>\n",
       "      <td>649643.189818</td>\n",
       "    </tr>\n",
       "    <tr>\n",
       "      <th>6</th>\n",
       "      <td>1650000.0</td>\n",
       "      <td>658818.038721</td>\n",
       "    </tr>\n",
       "    <tr>\n",
       "      <th>7</th>\n",
       "      <td>712367.0</td>\n",
       "      <td>658818.038721</td>\n",
       "    </tr>\n",
       "    <tr>\n",
       "      <th>8</th>\n",
       "      <td>1365000.0</td>\n",
       "      <td>649643.189818</td>\n",
       "    </tr>\n",
       "    <tr>\n",
       "      <th>9</th>\n",
       "      <td>461370.0</td>\n",
       "      <td>649643.189818</td>\n",
       "    </tr>\n",
       "    <tr>\n",
       "      <th>10</th>\n",
       "      <td>430000.0</td>\n",
       "      <td>649643.189818</td>\n",
       "    </tr>\n",
       "    <tr>\n",
       "      <th>11</th>\n",
       "      <td>386841.0</td>\n",
       "      <td>649643.189818</td>\n",
       "    </tr>\n",
       "    <tr>\n",
       "      <th>12</th>\n",
       "      <td>40000.0</td>\n",
       "      <td>649643.189818</td>\n",
       "    </tr>\n",
       "    <tr>\n",
       "      <th>13</th>\n",
       "      <td>455000.0</td>\n",
       "      <td>649643.189818</td>\n",
       "    </tr>\n",
       "    <tr>\n",
       "      <th>14</th>\n",
       "      <td>715000.0</td>\n",
       "      <td>667992.887625</td>\n",
       "    </tr>\n",
       "  </tbody>\n",
       "</table>\n",
       "</div>"
      ],
      "text/plain": [
       "    Actual sale_price  Predicted sale_price\n",
       "0            250000.0         649643.189818\n",
       "1            715000.0         658818.038721\n",
       "2            738271.0         649643.189818\n",
       "3                10.0         667992.887625\n",
       "4            536000.0         649643.189818\n",
       "5            165000.0         649643.189818\n",
       "6           1650000.0         658818.038721\n",
       "7            712367.0         658818.038721\n",
       "8           1365000.0         649643.189818\n",
       "9            461370.0         649643.189818\n",
       "10           430000.0         649643.189818\n",
       "11           386841.0         649643.189818\n",
       "12            40000.0         649643.189818\n",
       "13           455000.0         649643.189818\n",
       "14           715000.0         667992.887625"
      ]
     },
     "execution_count": 161,
     "metadata": {},
     "output_type": "execute_result"
    }
   ],
   "source": [
    "# Compare y_test to y_predicted\n",
    "data = pd.DataFrame({'Actual sale_price' : y5_test.flatten(), 'Predicted sale_price' : y5_predicted.flatten()})\n",
    "\n",
    "\n",
    "data.head(15)"
   ]
  },
  {
   "cell_type": "markdown",
   "id": "422dcf59",
   "metadata": {},
   "source": [
    "The fifth model does not perform well either. While the slope indicates that sale prices increase with higher total numbers of units, the root mean squared error is very high, pointing to a bad fit of the model. The negative R2 score confirms this. \n",
    "\n",
    "As stated above, another attempt will be made with a segment of datapoints reduced to a maximum value for total_units of 50 and a maximum sale_price of 100,000,000. The hypothesis remains unchanged: The higher the total number of units, the higher the sale price. "
   ]
  },
  {
   "cell_type": "markdown",
   "id": "ac461de2",
   "metadata": {},
   "source": [
    "## 03.6 Regression analysis for segment of datapoints with max. number of total units 50 and max. sale price 100,000,000"
   ]
  },
  {
   "cell_type": "code",
   "execution_count": 162,
   "id": "e1d6ce82",
   "metadata": {},
   "outputs": [],
   "source": [
    "# Define df for ensuing regression analysis\n",
    "df6 = df5"
   ]
  },
  {
   "cell_type": "code",
   "execution_count": 163,
   "id": "ed89f9a8",
   "metadata": {},
   "outputs": [
    {
     "data": {
      "text/plain": [
       "(783066, 19)"
      ]
     },
     "execution_count": 163,
     "metadata": {},
     "output_type": "execute_result"
    }
   ],
   "source": [
    "# Get dimensions of df6\n",
    "df6.shape"
   ]
  },
  {
   "cell_type": "code",
   "execution_count": 165,
   "id": "f4745e24",
   "metadata": {},
   "outputs": [
    {
     "data": {
      "text/plain": [
       "39"
      ]
     },
     "execution_count": 165,
     "metadata": {},
     "output_type": "execute_result"
    }
   ],
   "source": [
    "# Get number of observations with total_units > 50\n",
    "len(df6[df6['total_units']>50])"
   ]
  },
  {
   "cell_type": "code",
   "execution_count": 166,
   "id": "51b47587",
   "metadata": {},
   "outputs": [
    {
     "data": {
      "text/plain": [
       "129"
      ]
     },
     "execution_count": 166,
     "metadata": {},
     "output_type": "execute_result"
    }
   ],
   "source": [
    "# Get number of observations with sale_price > 100,000,000\n",
    "len(df6[df6['sale_price']>100000000])"
   ]
  },
  {
   "cell_type": "code",
   "execution_count": 167,
   "id": "0f0f9b12",
   "metadata": {},
   "outputs": [],
   "source": [
    "# Drop observations with total_units > 50\n",
    "df6 = df6[df6['total_units']<= 50]"
   ]
  },
  {
   "cell_type": "code",
   "execution_count": 168,
   "id": "7cd68dff",
   "metadata": {},
   "outputs": [],
   "source": [
    "# Drop observations with sale_price > 100,000,000\n",
    "df6 = df6[df6['sale_price']<100000000]"
   ]
  },
  {
   "cell_type": "code",
   "execution_count": 169,
   "id": "accc4245",
   "metadata": {},
   "outputs": [
    {
     "data": {
      "text/plain": [
       "(782898, 19)"
      ]
     },
     "execution_count": 169,
     "metadata": {},
     "output_type": "execute_result"
    }
   ],
   "source": [
    "# Get dimensions of df6 after dropping\n",
    "df6.shape"
   ]
  },
  {
   "cell_type": "code",
   "execution_count": 170,
   "id": "0dd34e67",
   "metadata": {},
   "outputs": [],
   "source": [
    "# Reshape variables into arrays\n",
    "X6 = df6['total_units'].values.reshape(-1,1)\n",
    "y6 = df6['sale_price'].values.reshape(-1,1)"
   ]
  },
  {
   "cell_type": "code",
   "execution_count": 171,
   "id": "14e11199",
   "metadata": {},
   "outputs": [],
   "source": [
    "# Split data into train and test sets\n",
    "X6_train, X6_test, y6_train, y6_test = train_test_split(X6, y6, test_size=0.3, random_state=0)"
   ]
  },
  {
   "cell_type": "code",
   "execution_count": 172,
   "id": "d99e688b",
   "metadata": {},
   "outputs": [],
   "source": [
    "# Create regression object\n",
    "regression = LinearRegression()"
   ]
  },
  {
   "cell_type": "code",
   "execution_count": 173,
   "id": "b3ae6446",
   "metadata": {},
   "outputs": [
    {
     "data": {
      "text/plain": [
       "LinearRegression()"
      ]
     },
     "execution_count": 173,
     "metadata": {},
     "output_type": "execute_result"
    }
   ],
   "source": [
    "# Fit regression object onto train sets\n",
    "regression.fit(X6_train, y6_train)"
   ]
  },
  {
   "cell_type": "code",
   "execution_count": 174,
   "id": "2684797b",
   "metadata": {},
   "outputs": [],
   "source": [
    "# Predict sale_prices from test set\n",
    "y6_predicted = regression.predict(X6_test)"
   ]
  },
  {
   "cell_type": "code",
   "execution_count": 175,
   "id": "5dedc548",
   "metadata": {},
   "outputs": [
    {
     "data": {
      "text/plain": [
       "Text(0, 0.5, 'Sale price')"
      ]
     },
     "execution_count": 175,
     "metadata": {},
     "output_type": "execute_result"
    },
    {
     "data": {
      "image/png": "[encoded data removed]",
      "text/plain": [
       "<Figure size 640x480 with 1 Axes>"
      ]
     },
     "metadata": {},
     "output_type": "display_data"
    }
   ],
   "source": [
    "# Create scatterplot to visualise accuracy of regression model\n",
    "# Create scatterplot with test data\n",
    "plt.scatter(X6_test, y6_test, color='gray', s=15)\n",
    "\n",
    "# Create regression line with predicted values\n",
    "plt.plot(X6_test, y6_predicted, color='red', linewidth=3)\n",
    "\n",
    "# Add title \n",
    "plt.title('Accuracy of linear regression model VI')\n",
    "# Add x-axis label\n",
    "plt.xlabel('Total no. of units')\n",
    "# Add y-axis label\n",
    "plt.ylabel('Sale price')"
   ]
  },
  {
   "cell_type": "markdown",
   "id": "3bf002b8",
   "metadata": {},
   "source": [
    "The regression line of the sixth model does not really fit the datapoints of the scatterplot a lot better. It may be worth another try with an even stricter segment of datapoints for which the maximum total_units remains 50 and the maximum sale_price remains 100,000,000, but additionally, there is a mimimum number of units set to 2 (i.e. excluding any properties with only one unit)."
   ]
  },
  {
   "cell_type": "code",
   "execution_count": 176,
   "id": "e3ab1f30",
   "metadata": {},
   "outputs": [],
   "source": [
    "# Get model performance statistics\n",
    "rmse = mean_squared_error(y6_test, y6_predicted)\n",
    "r2 = r2_score(y6_test, y6_predicted)"
   ]
  },
  {
   "cell_type": "code",
   "execution_count": 177,
   "id": "9776be7c",
   "metadata": {},
   "outputs": [
    {
     "name": "stdout",
     "output_type": "stream",
     "text": [
      "Slope : [[26675.78434801]]\n",
      "Root mean squared error : 1875547431948.5825\n",
      "R2 score : -0.0002460299733342275\n"
     ]
    }
   ],
   "source": [
    "# Print model performance statistics\n",
    "print('Slope :', regression.coef_)\n",
    "print('Root mean squared error :', rmse)\n",
    "print('R2 score :', r2)"
   ]
  },
  {
   "cell_type": "code",
   "execution_count": 178,
   "id": "fefaef19",
   "metadata": {},
   "outputs": [
    {
     "data": {
      "text/html": [
       "<div>\n",
       "<style scoped>\n",
       "    .dataframe tbody tr th:only-of-type {\n",
       "        vertical-align: middle;\n",
       "    }\n",
       "\n",
       "    .dataframe tbody tr th {\n",
       "        vertical-align: top;\n",
       "    }\n",
       "\n",
       "    .dataframe thead th {\n",
       "        text-align: right;\n",
       "    }\n",
       "</style>\n",
       "<table border=\"1\" class=\"dataframe\">\n",
       "  <thead>\n",
       "    <tr style=\"text-align: right;\">\n",
       "      <th></th>\n",
       "      <th>Actual sale_price</th>\n",
       "      <th>Predicted sale_price</th>\n",
       "    </tr>\n",
       "  </thead>\n",
       "  <tbody>\n",
       "    <tr>\n",
       "      <th>0</th>\n",
       "      <td>225000.0</td>\n",
       "      <td>612946.614361</td>\n",
       "    </tr>\n",
       "    <tr>\n",
       "      <th>1</th>\n",
       "      <td>870000.0</td>\n",
       "      <td>612946.614361</td>\n",
       "    </tr>\n",
       "    <tr>\n",
       "      <th>2</th>\n",
       "      <td>700000.0</td>\n",
       "      <td>612946.614361</td>\n",
       "    </tr>\n",
       "    <tr>\n",
       "      <th>3</th>\n",
       "      <td>90000.0</td>\n",
       "      <td>639622.398709</td>\n",
       "    </tr>\n",
       "    <tr>\n",
       "      <th>4</th>\n",
       "      <td>330274.0</td>\n",
       "      <td>612946.614361</td>\n",
       "    </tr>\n",
       "    <tr>\n",
       "      <th>5</th>\n",
       "      <td>990000.0</td>\n",
       "      <td>639622.398709</td>\n",
       "    </tr>\n",
       "    <tr>\n",
       "      <th>6</th>\n",
       "      <td>1680000.0</td>\n",
       "      <td>666298.183057</td>\n",
       "    </tr>\n",
       "    <tr>\n",
       "      <th>7</th>\n",
       "      <td>257800.0</td>\n",
       "      <td>612946.614361</td>\n",
       "    </tr>\n",
       "    <tr>\n",
       "      <th>8</th>\n",
       "      <td>380200.0</td>\n",
       "      <td>612946.614361</td>\n",
       "    </tr>\n",
       "    <tr>\n",
       "      <th>9</th>\n",
       "      <td>275000.0</td>\n",
       "      <td>639622.398709</td>\n",
       "    </tr>\n",
       "    <tr>\n",
       "      <th>10</th>\n",
       "      <td>448000.0</td>\n",
       "      <td>612946.614361</td>\n",
       "    </tr>\n",
       "    <tr>\n",
       "      <th>11</th>\n",
       "      <td>480000.0</td>\n",
       "      <td>639622.398709</td>\n",
       "    </tr>\n",
       "    <tr>\n",
       "      <th>12</th>\n",
       "      <td>275000.0</td>\n",
       "      <td>639622.398709</td>\n",
       "    </tr>\n",
       "    <tr>\n",
       "      <th>13</th>\n",
       "      <td>125000.0</td>\n",
       "      <td>612946.614361</td>\n",
       "    </tr>\n",
       "    <tr>\n",
       "      <th>14</th>\n",
       "      <td>178000.0</td>\n",
       "      <td>639622.398709</td>\n",
       "    </tr>\n",
       "  </tbody>\n",
       "</table>\n",
       "</div>"
      ],
      "text/plain": [
       "    Actual sale_price  Predicted sale_price\n",
       "0            225000.0         612946.614361\n",
       "1            870000.0         612946.614361\n",
       "2            700000.0         612946.614361\n",
       "3             90000.0         639622.398709\n",
       "4            330274.0         612946.614361\n",
       "5            990000.0         639622.398709\n",
       "6           1680000.0         666298.183057\n",
       "7            257800.0         612946.614361\n",
       "8            380200.0         612946.614361\n",
       "9            275000.0         639622.398709\n",
       "10           448000.0         612946.614361\n",
       "11           480000.0         639622.398709\n",
       "12           275000.0         639622.398709\n",
       "13           125000.0         612946.614361\n",
       "14           178000.0         639622.398709"
      ]
     },
     "execution_count": 178,
     "metadata": {},
     "output_type": "execute_result"
    }
   ],
   "source": [
    "# Compare y_test to y_predicted\n",
    "data = pd.DataFrame({'Actual sale_price' : y6_test.flatten(), 'Predicted sale_price' : y6_predicted.flatten()})\n",
    "\n",
    "# Print head of data\n",
    "data.head(15)"
   ]
  },
  {
   "cell_type": "markdown",
   "id": "1093b0fa",
   "metadata": {},
   "source": [
    "Even though the sixth model does perform a bit better than the previous one, it does not perform well either. While the slope indicates that sale prices increase with higher total numbers of units, the root mean squared error is still very high, pointing to a bad fit of the model. The negative R2 score confirms this. \n",
    "\n",
    "As stated above, another attempt will be made with a segment of datapoints reduced to a maximum value for total_units of 50 and a maximum sale_price of 100,000,000, and additionally a minimum value of total_units of 2. The hypothesis remains unchanged: The higher the total number of units, the higher the sale price. "
   ]
  },
  {
   "cell_type": "markdown",
   "id": "bf8dd9b8",
   "metadata": {},
   "source": [
    "## 03.7 Regresstion analysis for segment of datapoints with max. number of total units 50, minimum number of total units 2, and max. sale price 100,000,000"
   ]
  },
  {
   "cell_type": "code",
   "execution_count": 179,
   "id": "6f31d1cf",
   "metadata": {},
   "outputs": [],
   "source": [
    "# Define df for ensuing regression analysis\n",
    "df7 = df6"
   ]
  },
  {
   "cell_type": "code",
   "execution_count": 180,
   "id": "5eeb7d48",
   "metadata": {},
   "outputs": [
    {
     "data": {
      "text/plain": [
       "(782898, 19)"
      ]
     },
     "execution_count": 180,
     "metadata": {},
     "output_type": "execute_result"
    }
   ],
   "source": [
    "# Get dimensions of df7\n",
    "df7.shape"
   ]
  },
  {
   "cell_type": "code",
   "execution_count": 182,
   "id": "145a04e2",
   "metadata": {},
   "outputs": [
    {
     "data": {
      "text/plain": [
       "488591"
      ]
     },
     "execution_count": 182,
     "metadata": {},
     "output_type": "execute_result"
    }
   ],
   "source": [
    "# Get number of observations with total_units <2\n",
    "len(df7[df7['total_units']<2])"
   ]
  },
  {
   "cell_type": "code",
   "execution_count": 183,
   "id": "c2bdaa60",
   "metadata": {},
   "outputs": [],
   "source": [
    "# Drop observations with total_units <2\n",
    "df7 = df7[df7['total_units']>=2]"
   ]
  },
  {
   "cell_type": "code",
   "execution_count": 184,
   "id": "852fd0c5",
   "metadata": {},
   "outputs": [
    {
     "data": {
      "text/plain": [
       "(294307, 19)"
      ]
     },
     "execution_count": 184,
     "metadata": {},
     "output_type": "execute_result"
    }
   ],
   "source": [
    "# Get dimensions of df7 after dropping\n",
    "df7.shape"
   ]
  },
  {
   "cell_type": "code",
   "execution_count": 185,
   "id": "c0a1922c",
   "metadata": {},
   "outputs": [],
   "source": [
    "# Reshape variables into arrays\n",
    "X7 = df7['total_units'].values.reshape(-1,1)\n",
    "y7 = df7['sale_price'].values.reshape(-1,1)"
   ]
  },
  {
   "cell_type": "code",
   "execution_count": 186,
   "id": "39570aed",
   "metadata": {},
   "outputs": [],
   "source": [
    "# Split data into train and test sets\n",
    "X7_train, X7_test, y7_train, y7_test = train_test_split(X7, y7, test_size=0.3, random_state=0)"
   ]
  },
  {
   "cell_type": "code",
   "execution_count": 187,
   "id": "9925bd10",
   "metadata": {},
   "outputs": [],
   "source": [
    "# Create regression object\n",
    "regression = LinearRegression()"
   ]
  },
  {
   "cell_type": "code",
   "execution_count": 188,
   "id": "27470024",
   "metadata": {},
   "outputs": [
    {
     "data": {
      "text/plain": [
       "LinearRegression()"
      ]
     },
     "execution_count": 188,
     "metadata": {},
     "output_type": "execute_result"
    }
   ],
   "source": [
    "# Fit regression object onto train sets\n",
    "regression.fit(X7_train, y7_train)"
   ]
  },
  {
   "cell_type": "code",
   "execution_count": 189,
   "id": "6b932664",
   "metadata": {},
   "outputs": [],
   "source": [
    "# Predict sale_prices from test set\n",
    "y7_predicted = regression.predict(X7_test)"
   ]
  },
  {
   "cell_type": "code",
   "execution_count": 190,
   "id": "f0a078c1",
   "metadata": {},
   "outputs": [
    {
     "data": {
      "text/plain": [
       "Text(0, 0.5, 'Sale price')"
      ]
     },
     "execution_count": 190,
     "metadata": {},
     "output_type": "execute_result"
    },
    {
     "data": {
      "image/png": "[encoded data removed]",
      "text/plain": [
       "<Figure size 640x480 with 1 Axes>"
      ]
     },
     "metadata": {},
     "output_type": "display_data"
    }
   ],
   "source": [
    "# Create scatterplot to visualise accuracy of regression model\n",
    "# Create scatterplot with test data\n",
    "plt.scatter(X7_test, y7_test, color='gray', s=15)\n",
    "\n",
    "# Create regression line with predicted values\n",
    "plt.plot(X7_test, y7_predicted, color='red', linewidth=3)\n",
    "\n",
    "# Add title \n",
    "plt.title('Accuracy of linear regression model VII')\n",
    "# Add x-axis label\n",
    "plt.xlabel('Total no. of units')\n",
    "# Add y-axis label\n",
    "plt.ylabel('Sale price')"
   ]
  },
  {
   "cell_type": "markdown",
   "id": "e952159e",
   "metadata": {},
   "source": [
    "The regression line of the seventh model does not fit the datapoints of the scatterplot very well, but from purely looking at its visualisation, it seems to perform a lot better than any of the previous models. "
   ]
  },
  {
   "cell_type": "code",
   "execution_count": 191,
   "id": "86b861c1",
   "metadata": {},
   "outputs": [],
   "source": [
    "# Get model performance statistics\n",
    "rmse = mean_squared_error(y7_test, y7_predicted)\n",
    "r2 = r2_score(y7_test, y7_predicted)"
   ]
  },
  {
   "cell_type": "code",
   "execution_count": 192,
   "id": "b9ffe5ed",
   "metadata": {},
   "outputs": [
    {
     "name": "stdout",
     "output_type": "stream",
     "text": [
      "Slope : [[165820.72097384]]\n",
      "Root mean squared error : 310975745746.95917\n",
      "R2 score : 0.030297795713527642\n"
     ]
    }
   ],
   "source": [
    "# Print model performance statistics\n",
    "print('Slope :', regression.coef_)\n",
    "print('Root mean squared error :', rmse)\n",
    "print('R2 score :', r2)"
   ]
  },
  {
   "cell_type": "code",
   "execution_count": 193,
   "id": "4d308cad",
   "metadata": {},
   "outputs": [
    {
     "data": {
      "text/html": [
       "<div>\n",
       "<style scoped>\n",
       "    .dataframe tbody tr th:only-of-type {\n",
       "        vertical-align: middle;\n",
       "    }\n",
       "\n",
       "    .dataframe tbody tr th {\n",
       "        vertical-align: top;\n",
       "    }\n",
       "\n",
       "    .dataframe thead th {\n",
       "        text-align: right;\n",
       "    }\n",
       "</style>\n",
       "<table border=\"1\" class=\"dataframe\">\n",
       "  <thead>\n",
       "    <tr style=\"text-align: right;\">\n",
       "      <th></th>\n",
       "      <th>Actual sale_price</th>\n",
       "      <th>Predicted sale_price</th>\n",
       "    </tr>\n",
       "  </thead>\n",
       "  <tbody>\n",
       "    <tr>\n",
       "      <th>0</th>\n",
       "      <td>1150000.0</td>\n",
       "      <td>708104.573173</td>\n",
       "    </tr>\n",
       "    <tr>\n",
       "      <th>1</th>\n",
       "      <td>496954.0</td>\n",
       "      <td>708104.573173</td>\n",
       "    </tr>\n",
       "    <tr>\n",
       "      <th>2</th>\n",
       "      <td>46000.0</td>\n",
       "      <td>542283.852199</td>\n",
       "    </tr>\n",
       "    <tr>\n",
       "      <th>3</th>\n",
       "      <td>650000.0</td>\n",
       "      <td>708104.573173</td>\n",
       "    </tr>\n",
       "    <tr>\n",
       "      <th>4</th>\n",
       "      <td>200000.0</td>\n",
       "      <td>708104.573173</td>\n",
       "    </tr>\n",
       "    <tr>\n",
       "      <th>5</th>\n",
       "      <td>242100.0</td>\n",
       "      <td>708104.573173</td>\n",
       "    </tr>\n",
       "    <tr>\n",
       "      <th>6</th>\n",
       "      <td>489000.0</td>\n",
       "      <td>542283.852199</td>\n",
       "    </tr>\n",
       "    <tr>\n",
       "      <th>7</th>\n",
       "      <td>166666.0</td>\n",
       "      <td>542283.852199</td>\n",
       "    </tr>\n",
       "    <tr>\n",
       "      <th>8</th>\n",
       "      <td>585000.0</td>\n",
       "      <td>542283.852199</td>\n",
       "    </tr>\n",
       "    <tr>\n",
       "      <th>9</th>\n",
       "      <td>498000.0</td>\n",
       "      <td>542283.852199</td>\n",
       "    </tr>\n",
       "    <tr>\n",
       "      <th>10</th>\n",
       "      <td>920000.0</td>\n",
       "      <td>708104.573173</td>\n",
       "    </tr>\n",
       "    <tr>\n",
       "      <th>11</th>\n",
       "      <td>1.0</td>\n",
       "      <td>542283.852199</td>\n",
       "    </tr>\n",
       "    <tr>\n",
       "      <th>12</th>\n",
       "      <td>600000.0</td>\n",
       "      <td>542283.852199</td>\n",
       "    </tr>\n",
       "    <tr>\n",
       "      <th>13</th>\n",
       "      <td>370000.0</td>\n",
       "      <td>542283.852199</td>\n",
       "    </tr>\n",
       "    <tr>\n",
       "      <th>14</th>\n",
       "      <td>380000.0</td>\n",
       "      <td>708104.573173</td>\n",
       "    </tr>\n",
       "  </tbody>\n",
       "</table>\n",
       "</div>"
      ],
      "text/plain": [
       "    Actual sale_price  Predicted sale_price\n",
       "0           1150000.0         708104.573173\n",
       "1            496954.0         708104.573173\n",
       "2             46000.0         542283.852199\n",
       "3            650000.0         708104.573173\n",
       "4            200000.0         708104.573173\n",
       "5            242100.0         708104.573173\n",
       "6            489000.0         542283.852199\n",
       "7            166666.0         542283.852199\n",
       "8            585000.0         542283.852199\n",
       "9            498000.0         542283.852199\n",
       "10           920000.0         708104.573173\n",
       "11                1.0         542283.852199\n",
       "12           600000.0         542283.852199\n",
       "13           370000.0         542283.852199\n",
       "14           380000.0         708104.573173"
      ]
     },
     "execution_count": 193,
     "metadata": {},
     "output_type": "execute_result"
    }
   ],
   "source": [
    "# Compare y_test to y_predicted\n",
    "data = pd.DataFrame({'Actual sale_price' : y7_test.flatten(), 'Predicted sale_price' : y7_predicted.flatten()})\n",
    "\n",
    "# Print head of data\n",
    "data.head(15)"
   ]
  },
  {
   "cell_type": "markdown",
   "id": "6c131b3d",
   "metadata": {},
   "source": [
    "The seventh model performs best compared to all previous models. The slope indicates that there is a positive relationship between total number of units and sale price. However, the root mean squared error remains large and the R2 score is still reltively close to 0, both indicating a poor fit of the model. \n",
    "\n",
    "In conclusion, it can be stated that while the number of units could be one aspect defining sale prices, there must be other aspects that contribute to a property's sale prices. This could be a property's location, its age, its tax class etc. A good model would have to take them into account in order to accurately predict sale prices. \n",
    "\n",
    "Also, it must be noted that there are significant gaps in the data which make it difficult to come up with a good, functioning model to accurately predict sale prices. For many sales, the number of units is indicated as zero (residential, commercial or total), and the size in gross square feet is often below the size in land square feet despite the glossary defining gross square feet as “the total area of all the floors of a building as measured from the exterior surfaces of the outside walls of the building, including the land area and space within any building or structure on the property.”"
   ]
  },
  {
   "cell_type": "code",
   "execution_count": null,
   "id": "7c44b44f",
   "metadata": {},
   "outputs": [],
   "source": []
  }
 ],
 "metadata": {
  "kernelspec": {
   "display_name": "Python 3 (ipykernel)",
   "language": "python",
   "name": "python3"
  },
  "language_info": {
   "codemirror_mode": {
    "name": "ipython",
    "version": 3
   },
   "file_extension": ".py",
   "mimetype": "text/x-python",
   "name": "python",
   "nbconvert_exporter": "python",
   "pygments_lexer": "ipython3",
   "version": "3.9.13"
  },
  "varInspector": {
   "cols": {
    "lenName": 16,
    "lenType": 16,
    "lenVar": 40
   },
   "kernels_config": {
    "python": {
     "delete_cmd_postfix": "",
     "delete_cmd_prefix": "del ",
     "library": "var_list.py",
     "varRefreshCmd": "print(var_dic_list())"
    },
    "r": {
     "delete_cmd_postfix": ") ",
     "delete_cmd_prefix": "rm(",
     "library": "var_list.r",
     "varRefreshCmd": "cat(var_dic_list()) "
    }
   },
   "types_to_exclude": [
    "module",
    "function",
    "builtin_function_or_method",
    "instance",
    "_Feature"
   ],
   "window_display": false
  }
 },
 "nbformat": 4,
 "nbformat_minor": 5
}
